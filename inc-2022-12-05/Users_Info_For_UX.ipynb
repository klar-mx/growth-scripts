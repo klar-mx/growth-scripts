{
 "cells": [
  {
   "cell_type": "code",
   "execution_count": 1,
   "metadata": {
    "collapsed": true
   },
   "outputs": [],
   "source": [
    "import pandas as pd\n",
    "from sqlalchemy import create_engine\n",
    "import sqlalchemy"
   ]
  },
  {
   "cell_type": "code",
   "execution_count": 2,
   "outputs": [],
   "source": [
    "# Redshift connection\n",
    "f = open('/Users/gabrielreynoso/Documents/Queries/db_klarprod_connection.txt', 'r')\n",
    "postgres_str = f.read()\n",
    "f.close()\n",
    "cnx = create_engine(postgres_str)"
   ],
   "metadata": {
    "collapsed": false
   }
  },
  {
   "cell_type": "code",
   "execution_count": 6,
   "outputs": [],
   "source": [
    "query_ux = '''\n",
    "select\n",
    "    kyc.id as user_id,\n",
    "    concat(kyc.first_name, kyc.first_surname) as name,\n",
    "    kyc.email,\n",
    "    kyc.phone_number,\n",
    "    dfv.sms_confirmed_mx::date\n",
    "from is_pii_kyc.user_kyc as kyc\n",
    "join klar.cck_funnel as dfv on kyc.id = dfv.user_id\n",
    "where kyc.id in {}\n",
    "'''"
   ],
   "metadata": {
    "collapsed": false
   }
  },
  {
   "cell_type": "code",
   "execution_count": 4,
   "outputs": [],
   "source": [
    "users_for_interview = pd.read_csv('./Data/Users_For_Interview.csv')"
   ],
   "metadata": {
    "collapsed": false
   }
  },
  {
   "cell_type": "code",
   "execution_count": 5,
   "outputs": [
    {
     "data": {
      "text/plain": "(8552, 1)"
     },
     "execution_count": 5,
     "metadata": {},
     "output_type": "execute_result"
    }
   ],
   "source": [
    "users_for_interview.shape"
   ],
   "metadata": {
    "collapsed": false
   }
  },
  {
   "cell_type": "code",
   "execution_count": 7,
   "outputs": [],
   "source": [
    "users_info = pd.read_sql_query(sqlalchemy.text(query_ux.format(tuple(users_for_interview.user_id.to_list()))),cnx)"
   ],
   "metadata": {
    "collapsed": false
   }
  },
  {
   "cell_type": "code",
   "execution_count": 9,
   "outputs": [
    {
     "data": {
      "text/plain": "                                 user_id             name  \\\n0   022515aa-e131-4458-b32e-50bf2bfa2bcc      LauraVargas   \n1   0261bcb2-cdf5-4346-9b25-2f163edae8ce   EduardoArteaga   \n2   058f0078-3399-4a03-a2cc-e678cce71ade    MelbaCarbajal   \n3   07b431a9-bec3-47af-8768-959eda830657       YANETLEMUS   \n4   07ea0b31-a814-4a89-85de-5ffcb63f222f     ARNULFOGOMEZ   \n5   08ca8168-81f8-4466-a81b-b6d257ea0af7   ARCELIABACILIO   \n6   0b66e815-72c0-44e4-82de-34e45f10f5e0      JoseMontaño   \n7   0cb78505-b230-4247-aa8e-4d8815cd72cb  GuadalupeOsorio   \n8   0e8b8445-1259-41ca-8e20-c846ac135d2d      GabinoOrtiz   \n9   0e93bca5-62ff-4035-92d8-49e18cd706c6   LiliaMaldonado   \n10  120f25c0-7993-4bc2-b509-08cb56e8c234       MaxRobledo   \n11  15713e79-ff3a-45fb-8a89-97eb9f8d53c2   LourdesJiménez   \n12  15a47bc7-46cf-4d52-a2a3-8e26eff114c0       BrendaPeña   \n13  16868851-8f35-42de-a565-d619d82faebb         AylaLuna   \n14  17c84e24-947e-4c4f-9aca-b1db310bb9ca       JOSEGARCIA   \n\n                               email   phone_number sms_confirmed_mx  \n0              lauvaga.119@gmail.com  +527341120914       2023-01-03  \n1    eduardoarteagajuarez2@gmail.com  +525572312697       2023-01-02  \n2                  whaffly@gmail.com  +526611470943       2022-12-30  \n3              yanet.klc@hotmail.com  +529995700310       2022-12-28  \n4               apiol000@yopmail.com  +573182040469       2023-01-02  \n5           bacilionayely6@gmail.com  +523329844952       2022-10-30  \n6   montano.castro.marcelo@gmail.com  +528115720039       2022-10-14  \n7              hdezlupitha@gmail.com  +529933294592       2023-01-03  \n8        gabinoortiztapia5@gmail.com  +526634437158       2023-01-04  \n9        lillyaleman200615@gmail.com  +528126644556       2022-11-05  \n10           max.robledo14@gmail.com  +526371095653       2022-11-21  \n11             luujg7694@outlook.com  +527222402151       2022-10-25  \n12          karencita.bkpa@gmail.com  +527224113678       2022-10-14  \n13           dany.kiedis@hotmail.com  +529381831433       2022-11-01  \n14     amarantahernandez37@gmail.com  +523344041290       2023-01-03  ",
      "text/html": "<div>\n<style scoped>\n    .dataframe tbody tr th:only-of-type {\n        vertical-align: middle;\n    }\n\n    .dataframe tbody tr th {\n        vertical-align: top;\n    }\n\n    .dataframe thead th {\n        text-align: right;\n    }\n</style>\n<table border=\"1\" class=\"dataframe\">\n  <thead>\n    <tr style=\"text-align: right;\">\n      <th></th>\n      <th>user_id</th>\n      <th>name</th>\n      <th>email</th>\n      <th>phone_number</th>\n      <th>sms_confirmed_mx</th>\n    </tr>\n  </thead>\n  <tbody>\n    <tr>\n      <th>0</th>\n      <td>022515aa-e131-4458-b32e-50bf2bfa2bcc</td>\n      <td>LauraVargas</td>\n      <td>lauvaga.119@gmail.com</td>\n      <td>+527341120914</td>\n      <td>2023-01-03</td>\n    </tr>\n    <tr>\n      <th>1</th>\n      <td>0261bcb2-cdf5-4346-9b25-2f163edae8ce</td>\n      <td>EduardoArteaga</td>\n      <td>eduardoarteagajuarez2@gmail.com</td>\n      <td>+525572312697</td>\n      <td>2023-01-02</td>\n    </tr>\n    <tr>\n      <th>2</th>\n      <td>058f0078-3399-4a03-a2cc-e678cce71ade</td>\n      <td>MelbaCarbajal</td>\n      <td>whaffly@gmail.com</td>\n      <td>+526611470943</td>\n      <td>2022-12-30</td>\n    </tr>\n    <tr>\n      <th>3</th>\n      <td>07b431a9-bec3-47af-8768-959eda830657</td>\n      <td>YANETLEMUS</td>\n      <td>yanet.klc@hotmail.com</td>\n      <td>+529995700310</td>\n      <td>2022-12-28</td>\n    </tr>\n    <tr>\n      <th>4</th>\n      <td>07ea0b31-a814-4a89-85de-5ffcb63f222f</td>\n      <td>ARNULFOGOMEZ</td>\n      <td>apiol000@yopmail.com</td>\n      <td>+573182040469</td>\n      <td>2023-01-02</td>\n    </tr>\n    <tr>\n      <th>5</th>\n      <td>08ca8168-81f8-4466-a81b-b6d257ea0af7</td>\n      <td>ARCELIABACILIO</td>\n      <td>bacilionayely6@gmail.com</td>\n      <td>+523329844952</td>\n      <td>2022-10-30</td>\n    </tr>\n    <tr>\n      <th>6</th>\n      <td>0b66e815-72c0-44e4-82de-34e45f10f5e0</td>\n      <td>JoseMontaño</td>\n      <td>montano.castro.marcelo@gmail.com</td>\n      <td>+528115720039</td>\n      <td>2022-10-14</td>\n    </tr>\n    <tr>\n      <th>7</th>\n      <td>0cb78505-b230-4247-aa8e-4d8815cd72cb</td>\n      <td>GuadalupeOsorio</td>\n      <td>hdezlupitha@gmail.com</td>\n      <td>+529933294592</td>\n      <td>2023-01-03</td>\n    </tr>\n    <tr>\n      <th>8</th>\n      <td>0e8b8445-1259-41ca-8e20-c846ac135d2d</td>\n      <td>GabinoOrtiz</td>\n      <td>gabinoortiztapia5@gmail.com</td>\n      <td>+526634437158</td>\n      <td>2023-01-04</td>\n    </tr>\n    <tr>\n      <th>9</th>\n      <td>0e93bca5-62ff-4035-92d8-49e18cd706c6</td>\n      <td>LiliaMaldonado</td>\n      <td>lillyaleman200615@gmail.com</td>\n      <td>+528126644556</td>\n      <td>2022-11-05</td>\n    </tr>\n    <tr>\n      <th>10</th>\n      <td>120f25c0-7993-4bc2-b509-08cb56e8c234</td>\n      <td>MaxRobledo</td>\n      <td>max.robledo14@gmail.com</td>\n      <td>+526371095653</td>\n      <td>2022-11-21</td>\n    </tr>\n    <tr>\n      <th>11</th>\n      <td>15713e79-ff3a-45fb-8a89-97eb9f8d53c2</td>\n      <td>LourdesJiménez</td>\n      <td>luujg7694@outlook.com</td>\n      <td>+527222402151</td>\n      <td>2022-10-25</td>\n    </tr>\n    <tr>\n      <th>12</th>\n      <td>15a47bc7-46cf-4d52-a2a3-8e26eff114c0</td>\n      <td>BrendaPeña</td>\n      <td>karencita.bkpa@gmail.com</td>\n      <td>+527224113678</td>\n      <td>2022-10-14</td>\n    </tr>\n    <tr>\n      <th>13</th>\n      <td>16868851-8f35-42de-a565-d619d82faebb</td>\n      <td>AylaLuna</td>\n      <td>dany.kiedis@hotmail.com</td>\n      <td>+529381831433</td>\n      <td>2022-11-01</td>\n    </tr>\n    <tr>\n      <th>14</th>\n      <td>17c84e24-947e-4c4f-9aca-b1db310bb9ca</td>\n      <td>JOSEGARCIA</td>\n      <td>amarantahernandez37@gmail.com</td>\n      <td>+523344041290</td>\n      <td>2023-01-03</td>\n    </tr>\n  </tbody>\n</table>\n</div>"
     },
     "execution_count": 9,
     "metadata": {},
     "output_type": "execute_result"
    }
   ],
   "source": [
    "users_info.head(15)"
   ],
   "metadata": {
    "collapsed": false
   }
  },
  {
   "cell_type": "code",
   "execution_count": 10,
   "outputs": [],
   "source": [
    "users_info.to_csv('./Data/UX_users_info.csv',index=False)"
   ],
   "metadata": {
    "collapsed": false
   }
  },
  {
   "cell_type": "code",
   "execution_count": null,
   "outputs": [],
   "source": [],
   "metadata": {
    "collapsed": false
   }
  }
 ],
 "metadata": {
  "kernelspec": {
   "display_name": "Python 3",
   "language": "python",
   "name": "python3"
  },
  "language_info": {
   "codemirror_mode": {
    "name": "ipython",
    "version": 2
   },
   "file_extension": ".py",
   "mimetype": "text/x-python",
   "name": "python",
   "nbconvert_exporter": "python",
   "pygments_lexer": "ipython2",
   "version": "2.7.6"
  }
 },
 "nbformat": 4,
 "nbformat_minor": 0
}
