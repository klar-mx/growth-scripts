{
 "cells": [
  {
   "cell_type": "code",
   "execution_count": 2,
   "metadata": {
    "collapsed": true,
    "pycharm": {
     "name": "#%%\n"
    }
   },
   "outputs": [],
   "source": [
    "import pandas as pd\n",
    "import numpy as np"
   ]
  },
  {
   "cell_type": "code",
   "execution_count": 3,
   "outputs": [],
   "source": [
    "info = pd.read_csv('./Data/CrativeTagInfo_14092022.csv')"
   ],
   "metadata": {
    "collapsed": false,
    "pycharm": {
     "name": "#%%\n"
    }
   }
  },
  {
   "cell_type": "code",
   "execution_count": 4,
   "outputs": [
    {
     "data": {
      "text/plain": "                Ad Name         Ad ID  \\\n0  Adelanto_Interest_v2  2.385120e+16   \n1      CrediKlar_v2_OOH  2.385110e+16   \n2       Respaldo_v2_OOH  2.385110e+16   \n3       Respaldo_v1_OOH  2.385110e+16   \n4       Adelanto_v1_OOH  2.385110e+16   \n\n                                       Campaign Name   Campaign ID  \\\n0  New Structure | Convertion Campaign | Klar | RMKT  2.385120e+16   \n1          New Structure | Awareness Campaign | Klar  2.385110e+16   \n2          New Structure | Awareness Campaign | Klar  2.385110e+16   \n3          New Structure | Awareness Campaign | Klar  2.385110e+16   \n4          New Structure | Awareness Campaign | Klar  2.385110e+16   \n\n                                          Adset Name      Adset ID Campaign  \\\n0  New Structure | Convertion Campaign | Klar | R...  2.385120e+16      NaN   \n1  New Structure | Awareness Campaign | Klar - FB...  2.385110e+16      OOH   \n2  New Structure | Awareness Campaign | Klar - FB...  2.385110e+16      OOH   \n3  New Structure | Awareness Campaign | Klar - FB...  2.385110e+16      OOH   \n4  New Structure | Awareness Campaign | Klar - FB...  2.385110e+16      OOH   \n\n        Cards               Color Creative Type  ...    Product Impressions  \\\n0  Black Card  White (Background)    App Screen  ...   Adelanto      87,415   \n1         NaN                 Mix         Video  ...  Crediklar   2,812,561   \n2         NaN                 Mix         Video  ...   Respaldo   1,813,339   \n3         NaN                 Mix         Video  ...   Respaldo   1,385,845   \n4  Black Card                 Mix         Video  ...   Adelanto     896,496   \n\n  Link Clicks    CTR     Spends Installs    CPI FT    CPFT Performance  \n0         243  0.28%    $103.45        0  $0.00   0  $0.00           1  \n1          29  0.00%  $4,989.78        0  $0.00   0  $0.00           1  \n2          25  0.00%  $3,119.67        0  $0.00   0  $0.00           1  \n3           8  0.00%  $2,544.94        0  $0.00   0  $0.00           1  \n4          10  0.00%  $1,636.64        0  $0.00   0  $0.00           1  \n\n[5 rows x 23 columns]",
      "text/html": "<div>\n<style scoped>\n    .dataframe tbody tr th:only-of-type {\n        vertical-align: middle;\n    }\n\n    .dataframe tbody tr th {\n        vertical-align: top;\n    }\n\n    .dataframe thead th {\n        text-align: right;\n    }\n</style>\n<table border=\"1\" class=\"dataframe\">\n  <thead>\n    <tr style=\"text-align: right;\">\n      <th></th>\n      <th>Ad Name</th>\n      <th>Ad ID</th>\n      <th>Campaign Name</th>\n      <th>Campaign ID</th>\n      <th>Adset Name</th>\n      <th>Adset ID</th>\n      <th>Campaign</th>\n      <th>Cards</th>\n      <th>Color</th>\n      <th>Creative Type</th>\n      <th>...</th>\n      <th>Product</th>\n      <th>Impressions</th>\n      <th>Link Clicks</th>\n      <th>CTR</th>\n      <th>Spends</th>\n      <th>Installs</th>\n      <th>CPI</th>\n      <th>FT</th>\n      <th>CPFT</th>\n      <th>Performance</th>\n    </tr>\n  </thead>\n  <tbody>\n    <tr>\n      <th>0</th>\n      <td>Adelanto_Interest_v2</td>\n      <td>2.385120e+16</td>\n      <td>New Structure | Convertion Campaign | Klar | RMKT</td>\n      <td>2.385120e+16</td>\n      <td>New Structure | Convertion Campaign | Klar | R...</td>\n      <td>2.385120e+16</td>\n      <td>NaN</td>\n      <td>Black Card</td>\n      <td>White (Background)</td>\n      <td>App Screen</td>\n      <td>...</td>\n      <td>Adelanto</td>\n      <td>87,415</td>\n      <td>243</td>\n      <td>0.28%</td>\n      <td>$103.45</td>\n      <td>0</td>\n      <td>$0.00</td>\n      <td>0</td>\n      <td>$0.00</td>\n      <td>1</td>\n    </tr>\n    <tr>\n      <th>1</th>\n      <td>CrediKlar_v2_OOH</td>\n      <td>2.385110e+16</td>\n      <td>New Structure | Awareness Campaign | Klar</td>\n      <td>2.385110e+16</td>\n      <td>New Structure | Awareness Campaign | Klar - FB...</td>\n      <td>2.385110e+16</td>\n      <td>OOH</td>\n      <td>NaN</td>\n      <td>Mix</td>\n      <td>Video</td>\n      <td>...</td>\n      <td>Crediklar</td>\n      <td>2,812,561</td>\n      <td>29</td>\n      <td>0.00%</td>\n      <td>$4,989.78</td>\n      <td>0</td>\n      <td>$0.00</td>\n      <td>0</td>\n      <td>$0.00</td>\n      <td>1</td>\n    </tr>\n    <tr>\n      <th>2</th>\n      <td>Respaldo_v2_OOH</td>\n      <td>2.385110e+16</td>\n      <td>New Structure | Awareness Campaign | Klar</td>\n      <td>2.385110e+16</td>\n      <td>New Structure | Awareness Campaign | Klar - FB...</td>\n      <td>2.385110e+16</td>\n      <td>OOH</td>\n      <td>NaN</td>\n      <td>Mix</td>\n      <td>Video</td>\n      <td>...</td>\n      <td>Respaldo</td>\n      <td>1,813,339</td>\n      <td>25</td>\n      <td>0.00%</td>\n      <td>$3,119.67</td>\n      <td>0</td>\n      <td>$0.00</td>\n      <td>0</td>\n      <td>$0.00</td>\n      <td>1</td>\n    </tr>\n    <tr>\n      <th>3</th>\n      <td>Respaldo_v1_OOH</td>\n      <td>2.385110e+16</td>\n      <td>New Structure | Awareness Campaign | Klar</td>\n      <td>2.385110e+16</td>\n      <td>New Structure | Awareness Campaign | Klar - FB...</td>\n      <td>2.385110e+16</td>\n      <td>OOH</td>\n      <td>NaN</td>\n      <td>Mix</td>\n      <td>Video</td>\n      <td>...</td>\n      <td>Respaldo</td>\n      <td>1,385,845</td>\n      <td>8</td>\n      <td>0.00%</td>\n      <td>$2,544.94</td>\n      <td>0</td>\n      <td>$0.00</td>\n      <td>0</td>\n      <td>$0.00</td>\n      <td>1</td>\n    </tr>\n    <tr>\n      <th>4</th>\n      <td>Adelanto_v1_OOH</td>\n      <td>2.385110e+16</td>\n      <td>New Structure | Awareness Campaign | Klar</td>\n      <td>2.385110e+16</td>\n      <td>New Structure | Awareness Campaign | Klar - FB...</td>\n      <td>2.385110e+16</td>\n      <td>OOH</td>\n      <td>Black Card</td>\n      <td>Mix</td>\n      <td>Video</td>\n      <td>...</td>\n      <td>Adelanto</td>\n      <td>896,496</td>\n      <td>10</td>\n      <td>0.00%</td>\n      <td>$1,636.64</td>\n      <td>0</td>\n      <td>$0.00</td>\n      <td>0</td>\n      <td>$0.00</td>\n      <td>1</td>\n    </tr>\n  </tbody>\n</table>\n<p>5 rows × 23 columns</p>\n</div>"
     },
     "execution_count": 4,
     "metadata": {},
     "output_type": "execute_result"
    }
   ],
   "source": [
    "info.head()"
   ],
   "metadata": {
    "collapsed": false,
    "pycharm": {
     "name": "#%%\n"
    }
   }
  },
  {
   "cell_type": "markdown",
   "source": [
    " Columns for the ads, included Naming, categories and KPIs"
   ],
   "metadata": {
    "collapsed": false
   }
  },
  {
   "cell_type": "code",
   "execution_count": 5,
   "outputs": [
    {
     "name": "stdout",
     "output_type": "stream",
     "text": [
      "Ad Name\n",
      "Ad ID\n",
      "Campaign Name\n",
      "Campaign ID\n",
      "Adset Name\n",
      "Adset ID\n",
      "Campaign\n",
      "Cards\n",
      "Color\n",
      "Creative Type\n",
      "CTA\n",
      "Funnel Campaign\n",
      "Logo\n",
      "Product\n",
      "Impressions\n",
      "Link Clicks\n",
      "CTR\n",
      "Spends\n",
      "Installs\n",
      "CPI\n",
      "FT \n",
      "CPFT\n",
      "Performance\n"
     ]
    }
   ],
   "source": [
    "for col in info.columns:\n",
    "    print(col)"
   ],
   "metadata": {
    "collapsed": false,
    "pycharm": {
     "name": "#%%\n"
    }
   }
  },
  {
   "cell_type": "markdown",
   "source": [
    "Columns of tags"
   ],
   "metadata": {
    "collapsed": false,
    "pycharm": {
     "name": "#%% md\n"
    }
   }
  },
  {
   "cell_type": "code",
   "execution_count": 6,
   "outputs": [],
   "source": [
    "dimensions = ['Campaign','Cards','Color','Creative Type','CTA','Funnel Campaign','Logo', 'Product']"
   ],
   "metadata": {
    "collapsed": false,
    "pycharm": {
     "name": "#%%\n"
    }
   }
  },
  {
   "cell_type": "markdown",
   "source": [
    "Different values for each Dimension"
   ],
   "metadata": {
    "collapsed": false,
    "pycharm": {
     "name": "#%% md\n"
    }
   }
  },
  {
   "cell_type": "code",
   "execution_count": 8,
   "outputs": [
    {
     "name": "stdout",
     "output_type": "stream",
     "text": [
      "Campaign\n",
      "OOH    10\n",
      "Name: Campaign, dtype: int64\n",
      "Cards\n",
      "Black Card    35\n",
      "Green Card    22\n",
      "Name: Cards, dtype: int64\n",
      "Color\n",
      "White (Background)           26\n",
      "Mix                          16\n",
      "Cream (Background)           10\n",
      "Light Green (Background)      9\n",
      "Light Blue (Background)       4\n",
      "Grey (Background)             3\n",
      "Blue (Background)             2\n",
      "Brown (Background)            1\n",
      "Light Purple (Background)     1\n",
      "Name: Color, dtype: int64\n",
      "Creative Type\n",
      "App Screen         40\n",
      "Infografía         10\n",
      "Video               7\n",
      "Credit Bars         6\n",
      "UGC                 5\n",
      "Credit Cylinder     2\n",
      "Influencers         2\n",
      "Name: Creative Type, dtype: int64\n",
      "CTA\n",
      "Download    49\n",
      "Use app     18\n",
      "Name: CTA, dtype: int64\n",
      "Funnel Campaign\n",
      "Conversion       67\n",
      "Awareness         5\n",
      "Consideration     1\n",
      "Name: Funnel Campaign, dtype: int64\n",
      "Logo\n",
      "Klar Credito (Black)           35\n",
      "Klar (White)                    7\n",
      "Klar (Green)                    4\n",
      "Klar Pago (Black and Green)     1\n",
      "Name: Logo, dtype: int64\n",
      "Product\n",
      "Crediklar       30\n",
      "Respaldo        17\n",
      "Klar Credito    13\n",
      "Adelanto         4\n",
      "Klar             4\n",
      "Klar Pago        4\n",
      "Name: Product, dtype: int64\n"
     ]
    }
   ],
   "source": [
    "for dim in dimensions:\n",
    "    print(dim)\n",
    "    print(info[dim].value_counts())"
   ],
   "metadata": {
    "collapsed": false,
    "pycharm": {
     "name": "#%%\n"
    }
   }
  },
  {
   "cell_type": "code",
   "execution_count": 11,
   "outputs": [],
   "source": [
    "info[dimensions] = info[dimensions].fillna('NA')"
   ],
   "metadata": {
    "collapsed": false,
    "pycharm": {
     "name": "#%%\n"
    }
   }
  },
  {
   "cell_type": "code",
   "execution_count": 12,
   "outputs": [],
   "source": [
    "color_cat = {\n",
    "    'White (Background)' : 'White',\n",
    "    'Mix' : 'Mix',\n",
    "    'Cream (Background)' : 'Light',\n",
    "    'Grey (Background)' : 'Dark',\n",
    "    'Light Green (Background)' : 'Light',\n",
    "    'Blue (Background)' : 'Light',\n",
    "    'Light Blue (Background)' : 'Light',\n",
    "    'NA': 'Na',\n",
    "    'Brown (Background)' : 'Dark',\n",
    "    'Light Purple (Background)' : 'Light'\n",
    "}\n",
    "info['background'] = info.Color.map(color_cat)"
   ],
   "metadata": {
    "collapsed": false,
    "pycharm": {
     "name": "#%%\n"
    }
   }
  },
  {
   "cell_type": "code",
   "execution_count": 14,
   "outputs": [
    {
     "data": {
      "text/plain": "White    26\nLight    26\nMix      16\nDark      4\nNa        1\nName: background, dtype: int64"
     },
     "execution_count": 14,
     "metadata": {},
     "output_type": "execute_result"
    }
   ],
   "source": [
    "info.background.value_counts()"
   ],
   "metadata": {
    "collapsed": false,
    "pycharm": {
     "name": "#%%\n"
    }
   }
  },
  {
   "cell_type": "markdown",
   "source": [
    "Group by relevant dimensions"
   ],
   "metadata": {
    "collapsed": false,
    "pycharm": {
     "name": "#%% md\n"
    }
   }
  },
  {
   "cell_type": "code",
   "execution_count": 15,
   "outputs": [],
   "source": [
    "top_ads = info[info.Performance == 1]\n",
    "top_ads"
   ],
   "metadata": {
    "collapsed": false,
    "pycharm": {
     "name": "#%%\n"
    }
   }
  },
  {
   "cell_type": "code",
   "execution_count": 25,
   "outputs": [
    {
     "name": "stderr",
     "output_type": "stream",
     "text": [
      "c:\\users\\gabri\\pycharmprojects\\klar\\venv\\lib\\site-packages\\pandas\\core\\generic.py:5516: SettingWithCopyWarning: \n",
      "A value is trying to be set on a copy of a slice from a DataFrame.\n",
      "Try using .loc[row_indexer,col_indexer] = value instead\n",
      "\n",
      "See the caveats in the documentation: https://pandas.pydata.org/pandas-docs/stable/user_guide/indexing.html#returning-a-view-versus-a-copy\n",
      "  self[name] = value\n"
     ]
    }
   ],
   "source": [
    "top_ads.CPI = top_ads.CPI.apply(lambda x: x.split('$')[1])"
   ],
   "metadata": {
    "collapsed": false,
    "pycharm": {
     "name": "#%%\n"
    }
   }
  },
  {
   "cell_type": "code",
   "execution_count": 33,
   "outputs": [
    {
     "name": "stderr",
     "output_type": "stream",
     "text": [
      "C:\\Users\\gabri\\AppData\\Local\\Temp/ipykernel_6788/1127555046.py:1: SettingWithCopyWarning: \n",
      "A value is trying to be set on a copy of a slice from a DataFrame.\n",
      "Try using .loc[row_indexer,col_indexer] = value instead\n",
      "\n",
      "See the caveats in the documentation: https://pandas.pydata.org/pandas-docs/stable/user_guide/indexing.html#returning-a-view-versus-a-copy\n",
      "  top_ads['CPI'] = top_ads['CPI'].astype(float)\n"
     ]
    }
   ],
   "source": [
    "top_ads['CPI'] = top_ads['CPI'].astype(float)"
   ],
   "metadata": {
    "collapsed": false,
    "pycharm": {
     "name": "#%%\n"
    }
   }
  },
  {
   "cell_type": "code",
   "execution_count": 41,
   "outputs": [],
   "source": [
    "cpi_grouped = top_ads.groupby(['Creative Type', 'background', 'Logo', 'Cards']).agg({'CPI':['mean','median'], 'Ad Name': 'count'})"
   ],
   "metadata": {
    "collapsed": false,
    "pycharm": {
     "name": "#%%\n"
    }
   }
  },
  {
   "cell_type": "code",
   "execution_count": 42,
   "outputs": [],
   "source": [
    "cpi_grouped.to_clipboard()"
   ],
   "metadata": {
    "collapsed": false,
    "pycharm": {
     "name": "#%%\n"
    }
   }
  },
  {
   "cell_type": "code",
   "execution_count": 40,
   "outputs": [],
   "source": [
    "only_creative_types = top_ads.groupby(['Creative Type']).agg({'CPI':['mean','median']})\n",
    "only_creative_types.to_clipboard()"
   ],
   "metadata": {
    "collapsed": false,
    "pycharm": {
     "name": "#%%\n"
    }
   }
  }
 ],
 "metadata": {
  "kernelspec": {
   "display_name": "Python 3",
   "language": "python",
   "name": "python3"
  },
  "language_info": {
   "codemirror_mode": {
    "name": "ipython",
    "version": 2
   },
   "file_extension": ".py",
   "mimetype": "text/x-python",
   "name": "python",
   "nbconvert_exporter": "python",
   "pygments_lexer": "ipython2",
   "version": "2.7.6"
  }
 },
 "nbformat": 4,
 "nbformat_minor": 0
}