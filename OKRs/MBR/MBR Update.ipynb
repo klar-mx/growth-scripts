{
 "cells": [
  {
   "cell_type": "code",
   "execution_count": 4,
   "metadata": {
    "collapsed": true
   },
   "outputs": [],
   "source": [
    "import pandas as pd\n",
    "import plotly.express as px\n",
    "import plotly.graph_objects as go\n",
    "from sqlalchemy import create_engine\n",
    "import gspread\n",
    "from oauth2client.service_account import ServiceAccountCredentials\n",
    "import gspread_dataframe as gd\n",
    "import p"
   ]
  },
  {
   "cell_type": "code",
   "execution_count": 2,
   "outputs": [],
   "source": [
    "pd.options.plotting.backend = \"plotly\""
   ],
   "metadata": {
    "collapsed": false
   }
  },
  {
   "cell_type": "markdown",
   "source": [
    "## Connection to the Google Sheet"
   ],
   "metadata": {
    "collapsed": false
   }
  },
  {
   "cell_type": "code",
   "execution_count": null,
   "outputs": [],
   "source": [
    "# Read and Load Credentials\n",
    "credentials = ServiceAccountCredentials.from_json_keyfile_name('/Users/gabrielreynoso/Documents/GoogleCredentials/gabo_credentials.json')\n",
    "gc = gspread.authorize(credentials)"
   ],
   "metadata": {
    "collapsed": false
   }
  },
  {
   "cell_type": "markdown",
   "source": [
    "## Connection to the DB"
   ],
   "metadata": {
    "collapsed": false
   }
  },
  {
   "cell_type": "code",
   "execution_count": 6,
   "outputs": [],
   "source": [
    "# DB Information\n",
    "db_credentials = open('/Users/gabrielreynoso/Documents/Queries/db_klarprod_connection.txt', 'r')\n",
    "# Read file\n",
    "postgres_str = db_credentials.read()\n",
    "# Close file\n",
    "db_credentials.close()\n",
    "cnx = create_engine(postgres_str)"
   ],
   "metadata": {
    "collapsed": false
   }
  },
  {
   "cell_type": "markdown",
   "source": [
    "## Read queries function"
   ],
   "metadata": {
    "collapsed": false
   }
  },
  {
   "cell_type": "code",
   "execution_count": 49,
   "outputs": [],
   "source": [
    "def read_queries_from_file(filename) -> list:\n",
    "    \"\"\"\n",
    "    Open and read the file as a single buffer and returns a list of Dataframes with all the queries\n",
    "    :param filename: Name of the file with the queries\n",
    "    :return: List with Dataframes of executed queries\n",
    "    \"\"\"\n",
    "    queries = {}\n",
    "    fd = open(filename, 'r')\n",
    "    sqlFile = fd.read()\n",
    "    fd.close()\n",
    "\n",
    "    # All SQL commands (split on ';')\n",
    "    queries_aux = sqlFile.split(';')\n",
    "    num = len(queries_aux)//2\n",
    "    for idx in range(num):\n",
    "        name = queries_aux[idx].split(\"--\")[1]\n",
    "        queries[name] = queries_aux[idx+1]\n",
    "    return queries"
   ],
   "metadata": {
    "collapsed": false
   }
  },
  {
   "cell_type": "code",
   "execution_count": 50,
   "outputs": [],
   "source": [
    "queries = read_queries_from_file('MBR_queries.sql')"
   ],
   "metadata": {
    "collapsed": false
   }
  },
  {
   "cell_type": "code",
   "execution_count": 47,
   "outputs": [
    {
     "data": {
      "text/plain": "{'Funnel View': \"\\nwith started_signup as (\\n\\twith started_signups as (\\n\\t select date_trunc('month', started_web_signup_mx) as mes,\\n\\t count(user_id) as started_signup\\n\\t from klar.cck_funnel cf\\n\\t where started_web_signup_mx notnull\\n\\t and started_web_signup_mx > '2021-04-01'\\n\\t group by mes\\n\\t order by 1 asc\\n),\\n\\tnot_completed_signup as (\\n\\t     select date_trunc('month', signup_created_timestamp) as day_notC,\\n\\t           count(email) as not_c_signup\\n\\t     from klar.signup_not_completed\\n\\t     where signup_created_timestamp notnull\\n\\t     group by day_notC\\n)\\nselect day_notC as fecha,\\n           not_c_signup + started_signup as signups_started\\n    from not_completed_signup\\n             left join started_signups on not_completed_signup.day_notC = started_signups.mes\\n    order by fecha asc\\n),\\n\\tcompleted_signup as (\\n\\tselect date_trunc('month', ended_web_signup_mx) as fecha,\\n\\tcount(user_id) as completed_signup\\n\\tfrom klar.cck_funnel cf2\\n\\twhere ended_web_signup_mx notnull\\n\\tgroup by fecha\\n\\torder by fecha asc\\n),\\n\\tsms_confirm as (\\n\\tselect date_trunc('month', sms_confirmed_mx) as fecha,\\n\\tcount(user_id) as sms_confirmed\\n\\tfrom klar.cck_funnel cf3\\n\\twhere sms_confirmed_mx notnull\\n\\tgroup by fecha\\n\\torder by fecha asc\\n),\\n\\tfta as (\\n\\tselect date_trunc('month', least(credit_first_purchase_timestamp_mx, first_deposit_mx, first_cash_installment_loan_timestamp_mx)) as fecha,\\n\\tcount(user_id) as fta\\n\\tfrom klar.cck_funnel cf4\\n\\tgroup by fecha\\n\\torder by fecha asc\\n),\\n\\tFirst_Credit_Eligible as (\\n\\tselect date_trunc('month', first_cck_line_timestamp_mx) as fecha,\\n\\tcount(user_id) as first_credit\\n\\tfrom klar.cck_funnel\\n\\twhere migrated_user = 0\\n\\tand first_cck_line_timestamp_mx notnull\\n\\tand saca_risk_band_timestamp_mx notnull\\n\\tgroup by fecha\\n\\torder by fecha asc\\n),\\nfta_credit as (\\n\\twith ftas as (\\n\\tselect date_trunc('month', least(credit_first_purchase_timestamp_mx, first_deposit_mx, first_cash_installment_loan_timestamp_mx)) as fecha,\\n\\t-- Credit SMS Flag\\n   case when (first_cck_line_timestamp_mx notnull\\n        and not (datediff(day, saca_risk_band_timestamp_mx, first_cck_line_timestamp_mx) > 5\\n        and origination_campaign like '%Foundational Test _K%')) then 1 else 0 end as credit_sms,\\n\\tuser_id as fta_c\\n\\tfrom klar.cck_funnel\\n\\twhere first_cck_line_timestamp_mx notnull\\n\\tand fecha >= '2022-10-01'\\n\\tand credit_sms = 1\\n\\torder by fecha asc\\n\\t)\\n\\tselect fecha,\\n\\t\\t\\tcount(fta_c) as ftas_cred\\n\\tfrom ftas\\n\\tgroup by fecha\\n\\torder by fecha asc\\n),\\nftas_debit as (\\n\\twith ftas as (\\n          select date_trunc('month', first_deposit_mx) as fecha,\\n          -- Credit SMS Flag\\n   case when (first_cck_line_timestamp_mx notnull\\n        and not (datediff(day, saca_risk_band_timestamp_mx, first_cck_line_timestamp_mx) > 5\\n        and origination_campaign like '%Foundational Test _K%')) then 1 else 0 end as credit_sms,\\n                    user_id as debit_ftas\\n             from klar.cck_funnel\\n          where first_deposit_mx notnull\\n          and first_cck_line_timestamp_mx is null\\n          and credit_sms = 0\\n          )\\n   select fecha,\\n   \\t\\tcount(debit_ftas) as fta_deb\\n   \\tfrom ftas\\n   \\tgroup by 1\\n   \\torder by 1\\n)\\nselect started_signup.fecha as fecha, started_signup.signups_started as signups_started,\\n\\t\\tcompleted_signup.completed_signup as signups_completed, sms_confirm.sms_confirmed as sms_confirmed,\\n\\t\\tfta.fta as ftas, First_Credit_Eligible.first_credit as first_credit_eligible, fta_credit.ftas_cred as fta_from_credit,\\n\\t\\tftas_debit.fta_deb as debit_fta\\nfrom started_signup\\nleft join completed_signup on completed_signup.fecha = started_signup.fecha\\nleft join sms_confirm on sms_confirm.fecha = started_signup.fecha\\nleft join fta on fta.fecha = started_signup.fecha\\nleft join First_Credit_Eligible on First_Credit_Eligible.fecha = started_signup.fecha\\nleft join fta_credit on fta_credit.fecha = started_signup.fecha\\nleft join ftas_debit on ftas_debit.fecha = started_signup.fecha\\nwhere started_signup.fecha > '2021-03-01'\\nand started_signup.fecha < date_trunc('month', current_date)\\norder by started_signup.fecha asc\"}"
     },
     "execution_count": 47,
     "metadata": {},
     "output_type": "execute_result"
    }
   ],
   "source": [],
   "metadata": {
    "collapsed": false
   }
  },
  {
   "cell_type": "code",
   "execution_count": null,
   "outputs": [],
   "source": [],
   "metadata": {
    "collapsed": false
   }
  }
 ],
 "metadata": {
  "kernelspec": {
   "display_name": "Python 3",
   "language": "python",
   "name": "python3"
  },
  "language_info": {
   "codemirror_mode": {
    "name": "ipython",
    "version": 2
   },
   "file_extension": ".py",
   "mimetype": "text/x-python",
   "name": "python",
   "nbconvert_exporter": "python",
   "pygments_lexer": "ipython2",
   "version": "2.7.6"
  }
 },
 "nbformat": 4,
 "nbformat_minor": 0
}
