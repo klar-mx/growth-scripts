{
 "cells": [
  {
   "cell_type": "code",
   "execution_count": 5,
   "metadata": {
    "collapsed": true
   },
   "outputs": [],
   "source": [
    "import pandas as pd\n",
    "from sqlalchemy import create_engine\n",
    "import sqlalchemy\n",
    "from datetime import datetime\n",
    "from oauth2client.service_account import ServiceAccountCredentials\n",
    "from gspread import SpreadsheetNotFound\n",
    "import gspread_dataframe as gd\n",
    "import gspread"
   ]
  },
  {
   "cell_type": "markdown",
   "source": [
    "## Connect to redshift"
   ],
   "metadata": {
    "collapsed": false
   }
  },
  {
   "cell_type": "code",
   "execution_count": 6,
   "outputs": [],
   "source": [
    "# Redshift connection\n",
    "f = open('/Users/gabrielreynoso/Documents/Queries/db_klarprod_connection.txt', 'r')\n",
    "postgres_str = f.read()\n",
    "f.close()\n",
    "cnx = create_engine(postgres_str)"
   ],
   "metadata": {
    "collapsed": false
   }
  },
  {
   "cell_type": "markdown",
   "source": [
    "## Google Credentials"
   ],
   "metadata": {
    "collapsed": false
   }
  },
  {
   "cell_type": "code",
   "execution_count": 9,
   "outputs": [],
   "source": [
    "# Read and Load Credentials\n",
    "credentials = ServiceAccountCredentials.from_json_keyfile_name('/Users/gabrielreynoso/Documents/GoogleCredentials/gabo_credentials.json')\n",
    "gc = gspread.authorize(credentials)\n",
    "migration_survey_sheet = gc.open('CCK Migration')"
   ],
   "metadata": {
    "collapsed": false
   }
  },
  {
   "cell_type": "markdown",
   "source": [
    "## Read Survey"
   ],
   "metadata": {
    "collapsed": false
   }
  },
  {
   "cell_type": "code",
   "execution_count": 14,
   "outputs": [],
   "source": [
    "# Read a worksheet into a Dataframe\n",
    "survey_answers = pd.DataFrame(migration_survey_sheet.worksheet(\"Form Responses\").get_all_records())"
   ],
   "metadata": {
    "collapsed": false
   }
  },
  {
   "cell_type": "code",
   "execution_count": 41,
   "outputs": [],
   "source": [
    "survey_answers = survey_answers.drop_duplicates(['referral'])"
   ],
   "metadata": {
    "collapsed": false
   }
  },
  {
   "cell_type": "markdown",
   "source": [
    "## Referral_Info"
   ],
   "metadata": {
    "collapsed": false
   }
  },
  {
   "cell_type": "code",
   "execution_count": 20,
   "outputs": [],
   "source": [
    "referral_code_query = '''\n",
    "select\n",
    "    id as user_id,\n",
    "    referral_code\n",
    "from is_kyc.user_kyc\n",
    "where referral_code in {}\n",
    "'''"
   ],
   "metadata": {
    "collapsed": false
   }
  },
  {
   "cell_type": "code",
   "execution_count": 21,
   "outputs": [],
   "source": [
    "users_ids = pd.read_sql_query(referral_code_query.format(tuple(survey_answers.referral.drop_duplicates().to_list())), cnx)"
   ],
   "metadata": {
    "collapsed": false
   }
  },
  {
   "cell_type": "code",
   "execution_count": 25,
   "outputs": [],
   "source": [
    "users_ids = users_ids.drop_duplicates(['user_id'])\n"
   ],
   "metadata": {
    "collapsed": false
   }
  },
  {
   "cell_type": "markdown",
   "source": [
    "## Migration Info"
   ],
   "metadata": {
    "collapsed": false
   }
  },
  {
   "cell_type": "code",
   "execution_count": 44,
   "outputs": [],
   "source": [
    "migration_query = '''\n",
    "select\n",
    "    *\n",
    "from analytics_models.cck_migration_scores\n",
    "where user_id in {}\n",
    "'''"
   ],
   "metadata": {
    "collapsed": false
   }
  },
  {
   "cell_type": "code",
   "execution_count": 45,
   "outputs": [],
   "source": [
    "migration_info = pd.read_sql_query(migration_query.format(tuple(users_ids.user_id.to_list())), cnx)"
   ],
   "metadata": {
    "collapsed": false
   }
  },
  {
   "cell_type": "code",
   "execution_count": 47,
   "outputs": [],
   "source": [
    "migration_info = migration_info[['user_id', 'offer_amount', 'migration_reason']]"
   ],
   "metadata": {
    "collapsed": false
   }
  },
  {
   "cell_type": "markdown",
   "source": [
    "## Funnel_info"
   ],
   "metadata": {
    "collapsed": false
   }
  },
  {
   "cell_type": "code",
   "execution_count": 26,
   "outputs": [],
   "source": [
    "funnel_query = '''\n",
    "select\n",
    "    *\n",
    "from klar.cck_funnel\n",
    "where user_id in {}\n",
    "'''"
   ],
   "metadata": {
    "collapsed": false,
    "pycharm": {
     "name": "#%%`\n"
    }
   }
  },
  {
   "cell_type": "code",
   "execution_count": 28,
   "outputs": [],
   "source": [
    "funnel_info = pd.read_sql_query(funnel_query.format(tuple(users_ids.user_id.to_list())), cnx)"
   ],
   "metadata": {
    "collapsed": false
   }
  },
  {
   "cell_type": "code",
   "execution_count": 32,
   "outputs": [],
   "source": [
    "funnel_info = funnel_info.drop(['email','phone_number'], axis=1)"
   ],
   "metadata": {
    "collapsed": false
   }
  },
  {
   "cell_type": "code",
   "execution_count": 70,
   "outputs": [],
   "source": [
    "survey_answers.columns = survey_answers.columns.str.replace('referral', 'referral_code')"
   ],
   "metadata": {
    "collapsed": false
   }
  },
  {
   "cell_type": "markdown",
   "source": [
    "## Add all info"
   ],
   "metadata": {
    "collapsed": false
   }
  },
  {
   "cell_type": "code",
   "execution_count": 64,
   "outputs": [],
   "source": [
    "complete_info = pd.merge(funnel_info,users_ids, on='user_id')"
   ],
   "metadata": {
    "collapsed": false
   }
  },
  {
   "cell_type": "code",
   "execution_count": 65,
   "outputs": [],
   "source": [
    "complete_info = pd.merge(complete_info,migration_info, on='user_id', how = 'left')"
   ],
   "metadata": {
    "collapsed": false
   }
  },
  {
   "cell_type": "code",
   "execution_count": 71,
   "outputs": [],
   "source": [
    "complete_info = pd.merge(complete_info,survey_answers, on='referral_code')"
   ],
   "metadata": {
    "collapsed": false
   }
  },
  {
   "cell_type": "code",
   "execution_count": 72,
   "outputs": [
    {
     "data": {
      "text/plain": "                                  user_id      started_web_signup_mx  \\\n0    4e97144c-465c-4d44-b203-ce6c25d320ea 2019-10-29 23:06:12.987000   \n1    e31592c0-a3f5-4a4c-90e7-269511e30127 2019-11-01 10:27:31.806000   \n2    51806d93-a039-45ac-acfb-76bf8f975f15 2020-03-15 19:21:55.781000   \n3    1c64a5cd-8221-4f45-ad7d-0053ada70c1d 2020-04-05 19:18:11.953000   \n4    5746d020-e894-4d63-84c4-6bda3462724a 2020-04-24 08:43:50.550000   \n..                                    ...                        ...   \n323  e5afc28a-4677-40c3-94b6-f43efb7d0217 2022-08-23 00:05:47.787123   \n324  57a723c5-078a-4630-aac6-f5f63bc22d3f 2022-08-25 12:26:12.184308   \n325  6877ec68-23ae-429a-a9b1-97b682738742 2022-09-02 12:51:59.235179   \n326  6d67a9f1-0a35-4edc-8080-a8daf1248641 2022-09-16 17:21:27.938341   \n327  270d533e-7f92-4ee8-b5c8-381d71089247 2022-09-27 15:41:27.866000   \n\n        started_web_signup_utc     ended_web_signup_mx  \\\n0   2019-10-30 05:06:12.987000 2019-10-29 23:06:12.987   \n1   2019-11-01 16:27:31.806000 2019-11-01 10:27:31.806   \n2   2020-03-16 01:21:55.781000 2020-03-15 19:21:55.781   \n3   2020-04-06 00:18:11.953000 2020-04-05 19:18:11.953   \n4   2020-04-24 13:43:50.550000 2020-04-24 08:43:50.550   \n..                         ...                     ...   \n323 2022-08-23 05:05:47.787123 2022-08-23 14:03:46.430   \n324 2022-08-25 17:26:12.184308 2022-08-25 12:33:27.097   \n325 2022-09-02 17:51:59.235179 2022-09-02 13:14:05.056   \n326 2022-09-16 22:21:27.938341 2022-09-16 17:55:07.382   \n327 2022-09-27 20:41:27.866000 2022-09-27 15:41:27.866   \n\n       ended_web_signup_utc      email_confirmed_mx     email_confirmed_utc  \\\n0   2019-10-30 05:06:12.987 2019-10-29 23:16:07.679 2019-10-30 05:16:07.679   \n1   2019-11-01 16:27:31.806 2019-11-01 10:30:42.185 2019-11-01 16:30:42.185   \n2   2020-03-16 01:21:55.781 2020-03-20 12:31:28.494 2020-03-20 18:31:28.494   \n3   2020-04-06 00:18:11.953 2020-04-05 19:19:04.236 2020-04-06 00:19:04.236   \n4   2020-04-24 13:43:50.550 2020-04-24 08:47:23.755 2020-04-24 13:47:23.755   \n..                      ...                     ...                     ...   \n323 2022-08-23 19:03:46.430 2022-08-24 10:27:01.482 2022-08-24 15:27:01.482   \n324 2022-08-25 17:33:27.097 2022-08-25 12:33:51.899 2022-08-25 17:33:51.899   \n325 2022-09-02 18:14:05.056 2022-09-02 13:32:18.470 2022-09-02 18:32:18.470   \n326 2022-09-16 22:55:07.382 2022-09-21 14:38:52.230 2022-09-21 19:38:52.230   \n327 2022-09-27 20:41:27.866 2022-09-28 15:43:45.229 2022-09-28 20:43:45.229   \n\n              sms_confirmed_mx          sms_confirmed_utc  saca_risk_band  \\\n0   2019-10-29 23:34:49.747000 2019-10-30 05:34:49.747000             NaN   \n1   2019-11-01 10:52:35.406000 2019-11-01 16:52:35.406000             NaN   \n2   2020-04-04 23:09:13.656000 2020-04-05 05:09:13.656000             NaN   \n3   2020-04-05 19:22:30.984000 2020-04-06 00:22:30.984000             NaN   \n4   2020-04-24 08:53:26.749000 2020-04-24 13:53:26.749000             NaN   \n..                         ...                        ...             ...   \n323 2022-08-24 10:33:17.108336 2022-08-24 15:33:17.108336             NaN   \n324 2022-08-25 12:34:59.900163 2022-08-25 17:34:59.900163             NaN   \n325 2022-09-02 13:33:26.444645 2022-09-02 18:33:26.444645             NaN   \n326 2022-09-28 15:22:22.489202 2022-09-28 20:22:22.489202             3.0   \n327 2022-09-28 15:46:02.033222 2022-09-28 20:46:02.033222             NaN   \n\n     ...      Submission Date  \\\n0    ...  2023-01-26 18:01:20   \n1    ...  2023-01-29 23:38:11   \n2    ...  2023-01-26 19:10:31   \n3    ...  2023-01-30 11:33:30   \n4    ...  2023-02-04 10:30:30   \n..   ...                  ...   \n323  ...  2023-01-29 13:26:11   \n324  ...  2023-01-31 15:30:12   \n325  ...  2023-01-31 14:54:20   \n326  ...  2023-01-31 15:26:00   \n327  ...  2023-02-02 13:14:08   \n\n    ¿Tuviste problemas aceptando tu tarjeta de crédito?  \\\n0                                                   NO    \n1                                                   NO    \n2                                                   NO    \n3                                                   NO    \n4                                                   NO    \n..                                                 ...    \n323                                                 NO    \n324                                                 SÍ    \n325                                                 SÍ    \n326                                                 SÍ    \n327                                                 SÍ    \n\n            ¿Qué problemas tuviste?  \\\n0                                     \n1                                     \n2                                     \n3                                     \n4                                     \n..                              ...   \n323                                   \n324  No pude verificar mi identidad   \n325                            Otro   \n326            No me sale mi oferta   \n327            No me sale mi oferta   \n\n                                           ¿Cuál otro? Codificación 1  \\\n0                                                                       \n1                                                                       \n2                                                                       \n3                                                                       \n4                                                                       \n..                                                 ...            ...   \n323                                                                     \n324                                                                     \n325  no puedo pagar en algunos lugares dice que Nip...              6   \n326                                                                     \n327                                                                     \n\n    ¿Por qué no has aceptado tu nueva tarjeta de crédito?  \\\n0          No me interesa tener una tarjeta de crédito      \n1          No me interesa tener una tarjeta de crédito      \n2          No me interesa tener una tarjeta de crédito      \n3                     Ya tengo otra tarjeta de crédito      \n4          No me interesa tener una tarjeta de crédito      \n..                                                 ...      \n323                                               Otro      \n324                                                         \n325                                                         \n326                                                         \n327                                                         \n\n                                         ¿Cuál otro? 2 Codificación 2  \\\n0                                                                       \n1                                                                       \n2                                                                       \n3                                                                       \n4                                                                       \n..                                                 ...            ...   \n323  si me interesa pero no es clara la opcion para...              1   \n324                                                                     \n325                                                                     \n326                                                                     \n327                                                                     \n\n                      ¿Algo más que nos quieras decir? Codificación 3  \n0                                       No, todo bien.              3  \n1                                  No, muchas gracias.              3  \n2                                                                      \n3                                                                      \n4    Estoy muy contenta y feliz con mi tarjeta los ...              3  \n..                                                 ...            ...  \n323                                                                    \n324                                                 No              3  \n325                                           solo eso              3  \n326  No me dio la opsion de tarjeta de credito me l...              8  \n327                            No me dieron mi credito              8  \n\n[328 rows x 54 columns]",
      "text/html": "<div>\n<style scoped>\n    .dataframe tbody tr th:only-of-type {\n        vertical-align: middle;\n    }\n\n    .dataframe tbody tr th {\n        vertical-align: top;\n    }\n\n    .dataframe thead th {\n        text-align: right;\n    }\n</style>\n<table border=\"1\" class=\"dataframe\">\n  <thead>\n    <tr style=\"text-align: right;\">\n      <th></th>\n      <th>user_id</th>\n      <th>started_web_signup_mx</th>\n      <th>started_web_signup_utc</th>\n      <th>ended_web_signup_mx</th>\n      <th>ended_web_signup_utc</th>\n      <th>email_confirmed_mx</th>\n      <th>email_confirmed_utc</th>\n      <th>sms_confirmed_mx</th>\n      <th>sms_confirmed_utc</th>\n      <th>saca_risk_band</th>\n      <th>...</th>\n      <th>Submission Date</th>\n      <th>¿Tuviste problemas aceptando tu tarjeta de crédito?</th>\n      <th>¿Qué problemas tuviste?</th>\n      <th>¿Cuál otro?</th>\n      <th>Codificación 1</th>\n      <th>¿Por qué no has aceptado tu nueva tarjeta de crédito?</th>\n      <th>¿Cuál otro? 2</th>\n      <th>Codificación 2</th>\n      <th>¿Algo más que nos quieras decir?</th>\n      <th>Codificación 3</th>\n    </tr>\n  </thead>\n  <tbody>\n    <tr>\n      <th>0</th>\n      <td>4e97144c-465c-4d44-b203-ce6c25d320ea</td>\n      <td>2019-10-29 23:06:12.987000</td>\n      <td>2019-10-30 05:06:12.987000</td>\n      <td>2019-10-29 23:06:12.987</td>\n      <td>2019-10-30 05:06:12.987</td>\n      <td>2019-10-29 23:16:07.679</td>\n      <td>2019-10-30 05:16:07.679</td>\n      <td>2019-10-29 23:34:49.747000</td>\n      <td>2019-10-30 05:34:49.747000</td>\n      <td>NaN</td>\n      <td>...</td>\n      <td>2023-01-26 18:01:20</td>\n      <td>NO</td>\n      <td></td>\n      <td></td>\n      <td></td>\n      <td>No me interesa tener una tarjeta de crédito</td>\n      <td></td>\n      <td></td>\n      <td>No, todo bien.</td>\n      <td>3</td>\n    </tr>\n    <tr>\n      <th>1</th>\n      <td>e31592c0-a3f5-4a4c-90e7-269511e30127</td>\n      <td>2019-11-01 10:27:31.806000</td>\n      <td>2019-11-01 16:27:31.806000</td>\n      <td>2019-11-01 10:27:31.806</td>\n      <td>2019-11-01 16:27:31.806</td>\n      <td>2019-11-01 10:30:42.185</td>\n      <td>2019-11-01 16:30:42.185</td>\n      <td>2019-11-01 10:52:35.406000</td>\n      <td>2019-11-01 16:52:35.406000</td>\n      <td>NaN</td>\n      <td>...</td>\n      <td>2023-01-29 23:38:11</td>\n      <td>NO</td>\n      <td></td>\n      <td></td>\n      <td></td>\n      <td>No me interesa tener una tarjeta de crédito</td>\n      <td></td>\n      <td></td>\n      <td>No, muchas gracias.</td>\n      <td>3</td>\n    </tr>\n    <tr>\n      <th>2</th>\n      <td>51806d93-a039-45ac-acfb-76bf8f975f15</td>\n      <td>2020-03-15 19:21:55.781000</td>\n      <td>2020-03-16 01:21:55.781000</td>\n      <td>2020-03-15 19:21:55.781</td>\n      <td>2020-03-16 01:21:55.781</td>\n      <td>2020-03-20 12:31:28.494</td>\n      <td>2020-03-20 18:31:28.494</td>\n      <td>2020-04-04 23:09:13.656000</td>\n      <td>2020-04-05 05:09:13.656000</td>\n      <td>NaN</td>\n      <td>...</td>\n      <td>2023-01-26 19:10:31</td>\n      <td>NO</td>\n      <td></td>\n      <td></td>\n      <td></td>\n      <td>No me interesa tener una tarjeta de crédito</td>\n      <td></td>\n      <td></td>\n      <td></td>\n      <td></td>\n    </tr>\n    <tr>\n      <th>3</th>\n      <td>1c64a5cd-8221-4f45-ad7d-0053ada70c1d</td>\n      <td>2020-04-05 19:18:11.953000</td>\n      <td>2020-04-06 00:18:11.953000</td>\n      <td>2020-04-05 19:18:11.953</td>\n      <td>2020-04-06 00:18:11.953</td>\n      <td>2020-04-05 19:19:04.236</td>\n      <td>2020-04-06 00:19:04.236</td>\n      <td>2020-04-05 19:22:30.984000</td>\n      <td>2020-04-06 00:22:30.984000</td>\n      <td>NaN</td>\n      <td>...</td>\n      <td>2023-01-30 11:33:30</td>\n      <td>NO</td>\n      <td></td>\n      <td></td>\n      <td></td>\n      <td>Ya tengo otra tarjeta de crédito</td>\n      <td></td>\n      <td></td>\n      <td></td>\n      <td></td>\n    </tr>\n    <tr>\n      <th>4</th>\n      <td>5746d020-e894-4d63-84c4-6bda3462724a</td>\n      <td>2020-04-24 08:43:50.550000</td>\n      <td>2020-04-24 13:43:50.550000</td>\n      <td>2020-04-24 08:43:50.550</td>\n      <td>2020-04-24 13:43:50.550</td>\n      <td>2020-04-24 08:47:23.755</td>\n      <td>2020-04-24 13:47:23.755</td>\n      <td>2020-04-24 08:53:26.749000</td>\n      <td>2020-04-24 13:53:26.749000</td>\n      <td>NaN</td>\n      <td>...</td>\n      <td>2023-02-04 10:30:30</td>\n      <td>NO</td>\n      <td></td>\n      <td></td>\n      <td></td>\n      <td>No me interesa tener una tarjeta de crédito</td>\n      <td></td>\n      <td></td>\n      <td>Estoy muy contenta y feliz con mi tarjeta los ...</td>\n      <td>3</td>\n    </tr>\n    <tr>\n      <th>...</th>\n      <td>...</td>\n      <td>...</td>\n      <td>...</td>\n      <td>...</td>\n      <td>...</td>\n      <td>...</td>\n      <td>...</td>\n      <td>...</td>\n      <td>...</td>\n      <td>...</td>\n      <td>...</td>\n      <td>...</td>\n      <td>...</td>\n      <td>...</td>\n      <td>...</td>\n      <td>...</td>\n      <td>...</td>\n      <td>...</td>\n      <td>...</td>\n      <td>...</td>\n      <td>...</td>\n    </tr>\n    <tr>\n      <th>323</th>\n      <td>e5afc28a-4677-40c3-94b6-f43efb7d0217</td>\n      <td>2022-08-23 00:05:47.787123</td>\n      <td>2022-08-23 05:05:47.787123</td>\n      <td>2022-08-23 14:03:46.430</td>\n      <td>2022-08-23 19:03:46.430</td>\n      <td>2022-08-24 10:27:01.482</td>\n      <td>2022-08-24 15:27:01.482</td>\n      <td>2022-08-24 10:33:17.108336</td>\n      <td>2022-08-24 15:33:17.108336</td>\n      <td>NaN</td>\n      <td>...</td>\n      <td>2023-01-29 13:26:11</td>\n      <td>NO</td>\n      <td></td>\n      <td></td>\n      <td></td>\n      <td>Otro</td>\n      <td>si me interesa pero no es clara la opcion para...</td>\n      <td>1</td>\n      <td></td>\n      <td></td>\n    </tr>\n    <tr>\n      <th>324</th>\n      <td>57a723c5-078a-4630-aac6-f5f63bc22d3f</td>\n      <td>2022-08-25 12:26:12.184308</td>\n      <td>2022-08-25 17:26:12.184308</td>\n      <td>2022-08-25 12:33:27.097</td>\n      <td>2022-08-25 17:33:27.097</td>\n      <td>2022-08-25 12:33:51.899</td>\n      <td>2022-08-25 17:33:51.899</td>\n      <td>2022-08-25 12:34:59.900163</td>\n      <td>2022-08-25 17:34:59.900163</td>\n      <td>NaN</td>\n      <td>...</td>\n      <td>2023-01-31 15:30:12</td>\n      <td>SÍ</td>\n      <td>No pude verificar mi identidad</td>\n      <td></td>\n      <td></td>\n      <td></td>\n      <td></td>\n      <td></td>\n      <td>No</td>\n      <td>3</td>\n    </tr>\n    <tr>\n      <th>325</th>\n      <td>6877ec68-23ae-429a-a9b1-97b682738742</td>\n      <td>2022-09-02 12:51:59.235179</td>\n      <td>2022-09-02 17:51:59.235179</td>\n      <td>2022-09-02 13:14:05.056</td>\n      <td>2022-09-02 18:14:05.056</td>\n      <td>2022-09-02 13:32:18.470</td>\n      <td>2022-09-02 18:32:18.470</td>\n      <td>2022-09-02 13:33:26.444645</td>\n      <td>2022-09-02 18:33:26.444645</td>\n      <td>NaN</td>\n      <td>...</td>\n      <td>2023-01-31 14:54:20</td>\n      <td>SÍ</td>\n      <td>Otro</td>\n      <td>no puedo pagar en algunos lugares dice que Nip...</td>\n      <td>6</td>\n      <td></td>\n      <td></td>\n      <td></td>\n      <td>solo eso</td>\n      <td>3</td>\n    </tr>\n    <tr>\n      <th>326</th>\n      <td>6d67a9f1-0a35-4edc-8080-a8daf1248641</td>\n      <td>2022-09-16 17:21:27.938341</td>\n      <td>2022-09-16 22:21:27.938341</td>\n      <td>2022-09-16 17:55:07.382</td>\n      <td>2022-09-16 22:55:07.382</td>\n      <td>2022-09-21 14:38:52.230</td>\n      <td>2022-09-21 19:38:52.230</td>\n      <td>2022-09-28 15:22:22.489202</td>\n      <td>2022-09-28 20:22:22.489202</td>\n      <td>3.0</td>\n      <td>...</td>\n      <td>2023-01-31 15:26:00</td>\n      <td>SÍ</td>\n      <td>No me sale mi oferta</td>\n      <td></td>\n      <td></td>\n      <td></td>\n      <td></td>\n      <td></td>\n      <td>No me dio la opsion de tarjeta de credito me l...</td>\n      <td>8</td>\n    </tr>\n    <tr>\n      <th>327</th>\n      <td>270d533e-7f92-4ee8-b5c8-381d71089247</td>\n      <td>2022-09-27 15:41:27.866000</td>\n      <td>2022-09-27 20:41:27.866000</td>\n      <td>2022-09-27 15:41:27.866</td>\n      <td>2022-09-27 20:41:27.866</td>\n      <td>2022-09-28 15:43:45.229</td>\n      <td>2022-09-28 20:43:45.229</td>\n      <td>2022-09-28 15:46:02.033222</td>\n      <td>2022-09-28 20:46:02.033222</td>\n      <td>NaN</td>\n      <td>...</td>\n      <td>2023-02-02 13:14:08</td>\n      <td>SÍ</td>\n      <td>No me sale mi oferta</td>\n      <td></td>\n      <td></td>\n      <td></td>\n      <td></td>\n      <td></td>\n      <td>No me dieron mi credito</td>\n      <td>8</td>\n    </tr>\n  </tbody>\n</table>\n<p>328 rows × 54 columns</p>\n</div>"
     },
     "execution_count": 72,
     "metadata": {},
     "output_type": "execute_result"
    }
   ],
   "source": [
    "complete_info"
   ],
   "metadata": {
    "collapsed": false
   }
  },
  {
   "cell_type": "markdown",
   "source": [
    "## Set in google sheets"
   ],
   "metadata": {
    "collapsed": false
   }
  },
  {
   "cell_type": "code",
   "execution_count": 73,
   "outputs": [],
   "source": [
    "# Append the dataframe again\n",
    "gd.set_with_dataframe(migration_survey_sheet.worksheet(\"Complete_Info\"), complete_info, row=1, col=1)"
   ],
   "metadata": {
    "collapsed": false
   }
  },
  {
   "cell_type": "code",
   "execution_count": null,
   "outputs": [],
   "source": [],
   "metadata": {
    "collapsed": false
   }
  }
 ],
 "metadata": {
  "kernelspec": {
   "display_name": "Python 3",
   "language": "python",
   "name": "python3"
  },
  "language_info": {
   "codemirror_mode": {
    "name": "ipython",
    "version": 2
   },
   "file_extension": ".py",
   "mimetype": "text/x-python",
   "name": "python",
   "nbconvert_exporter": "python",
   "pygments_lexer": "ipython2",
   "version": "2.7.6"
  }
 },
 "nbformat": 4,
 "nbformat_minor": 0
}
