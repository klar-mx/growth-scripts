{
 "cells": [
  {
   "cell_type": "code",
   "execution_count": 30,
   "metadata": {
    "collapsed": true
   },
   "outputs": [],
   "source": [
    "import pandas as pd\n",
    "from sqlalchemy import create_engine\n",
    "import matplotlib.pyplot as plt"
   ]
  },
  {
   "cell_type": "code",
   "execution_count": 2,
   "outputs": [],
   "source": [
    "db_payments = pd.read_pickle('RFM_CHURNED_PAYMENTS.pkl')"
   ],
   "metadata": {
    "collapsed": false
   }
  },
  {
   "cell_type": "code",
   "execution_count": 47,
   "outputs": [
    {
     "data": {
      "text/plain": "                                     uuid    fee      month\n0    2b5812ac-8c23-4d05-96e9-578a5c2d7a4c  100.0 2022-06-01\n1    19cac410-7755-4ea1-b21d-5a241c62521e  100.0 2022-06-01\n2    1dcdfdab-0e66-408a-b09e-bd2b9d0f7b66  100.0 2022-06-01\n3    3054aa44-2282-4240-8b39-fd7f96d75334  100.0 2022-06-01\n4    3a044bd5-3360-49a9-a1bc-5d6d6a9db81e  100.0 2022-06-01\n..                                    ...    ...        ...\n519  65acb95d-37a8-4c67-b9c7-c9da16fbd516  300.0 2023-01-01\n520  b60f78cb-45bf-46e4-a7f3-f9d9759484e2  300.0 2023-01-01\n521  790c35e5-b3e8-4d29-b3ee-a4f85532e26c  300.0 2023-01-01\n522  386df59f-107b-42c1-85af-c2df768b2748  300.0 2023-01-01\n523  45ff060c-092c-4f9e-8439-e2e975924d2b  300.0 2023-01-01\n\n[7544 rows x 3 columns]",
      "text/html": "<div>\n<style scoped>\n    .dataframe tbody tr th:only-of-type {\n        vertical-align: middle;\n    }\n\n    .dataframe tbody tr th {\n        vertical-align: top;\n    }\n\n    .dataframe thead th {\n        text-align: right;\n    }\n</style>\n<table border=\"1\" class=\"dataframe\">\n  <thead>\n    <tr style=\"text-align: right;\">\n      <th></th>\n      <th>uuid</th>\n      <th>fee</th>\n      <th>month</th>\n    </tr>\n  </thead>\n  <tbody>\n    <tr>\n      <th>0</th>\n      <td>2b5812ac-8c23-4d05-96e9-578a5c2d7a4c</td>\n      <td>100.0</td>\n      <td>2022-06-01</td>\n    </tr>\n    <tr>\n      <th>1</th>\n      <td>19cac410-7755-4ea1-b21d-5a241c62521e</td>\n      <td>100.0</td>\n      <td>2022-06-01</td>\n    </tr>\n    <tr>\n      <th>2</th>\n      <td>1dcdfdab-0e66-408a-b09e-bd2b9d0f7b66</td>\n      <td>100.0</td>\n      <td>2022-06-01</td>\n    </tr>\n    <tr>\n      <th>3</th>\n      <td>3054aa44-2282-4240-8b39-fd7f96d75334</td>\n      <td>100.0</td>\n      <td>2022-06-01</td>\n    </tr>\n    <tr>\n      <th>4</th>\n      <td>3a044bd5-3360-49a9-a1bc-5d6d6a9db81e</td>\n      <td>100.0</td>\n      <td>2022-06-01</td>\n    </tr>\n    <tr>\n      <th>...</th>\n      <td>...</td>\n      <td>...</td>\n      <td>...</td>\n    </tr>\n    <tr>\n      <th>519</th>\n      <td>65acb95d-37a8-4c67-b9c7-c9da16fbd516</td>\n      <td>300.0</td>\n      <td>2023-01-01</td>\n    </tr>\n    <tr>\n      <th>520</th>\n      <td>b60f78cb-45bf-46e4-a7f3-f9d9759484e2</td>\n      <td>300.0</td>\n      <td>2023-01-01</td>\n    </tr>\n    <tr>\n      <th>521</th>\n      <td>790c35e5-b3e8-4d29-b3ee-a4f85532e26c</td>\n      <td>300.0</td>\n      <td>2023-01-01</td>\n    </tr>\n    <tr>\n      <th>522</th>\n      <td>386df59f-107b-42c1-85af-c2df768b2748</td>\n      <td>300.0</td>\n      <td>2023-01-01</td>\n    </tr>\n    <tr>\n      <th>523</th>\n      <td>45ff060c-092c-4f9e-8439-e2e975924d2b</td>\n      <td>300.0</td>\n      <td>2023-01-01</td>\n    </tr>\n  </tbody>\n</table>\n<p>7544 rows × 3 columns</p>\n</div>"
     },
     "execution_count": 47,
     "metadata": {},
     "output_type": "execute_result"
    }
   ],
   "source": [
    "db_payments"
   ],
   "metadata": {
    "collapsed": false
   }
  },
  {
   "cell_type": "markdown",
   "source": [
    "# MULTIPLE USERS PAID"
   ],
   "metadata": {
    "collapsed": false
   }
  },
  {
   "cell_type": "code",
   "execution_count": 4,
   "outputs": [
    {
     "data": {
      "text/plain": "[2022-06-01 00:00:00, 2023-01-01 00:00:00]    7\n[2022-06-01 00:00:00, 2022-11-01 00:00:00]    3\nName: month, dtype: int64"
     },
     "execution_count": 4,
     "metadata": {},
     "output_type": "execute_result"
    }
   ],
   "source": [
    "# Check users with multiple payments\n",
    "user_month = db_payments.groupby('uuid')['month'].count()\n",
    "user_month = user_month.to_frame('num_payments')\n",
    "# Multipayments\n",
    "multi_payment = user_month[user_month.num_payments > 1]\n",
    "multi_payment = multi_payment.reset_index()\n",
    "# Get user data\n",
    "multi_payment_users = pd.merge(db_payments, multi_payment,on = 'uuid')\n",
    "multi_payment_users = multi_payment_users.groupby('uuid')['month'].agg(list)\n",
    "multi_payment_users = multi_payment_users.reset_index()\n",
    "multi_payment_users.month.value_counts()"
   ],
   "metadata": {
    "collapsed": false
   }
  },
  {
   "cell_type": "markdown",
   "source": [
    "# USER RETENTION"
   ],
   "metadata": {
    "collapsed": false
   }
  },
  {
   "cell_type": "markdown",
   "source": [
    "## Query Retention"
   ],
   "metadata": {
    "collapsed": false
   }
  },
  {
   "cell_type": "code",
   "execution_count": 10,
   "outputs": [],
   "source": [
    "retention_query = '''\n",
    "select\n",
    "    date_trunc('month', t.timestamp_mx_created_at) AS transaction_month,\n",
    "    count(transaction_id) as transactions,\n",
    "    t.user_id as uuid\n",
    "from analytics_bi.transactions t\n",
    "where t.type in ('PURCHASE', 'DEPOSIT', 'TRANSFER', 'QUASICASH', 'FEE', 'DISBURSEMENT')\n",
    "and user_id in {}\n",
    "group by uuid, transaction_month\n",
    "'''"
   ],
   "metadata": {
    "collapsed": false
   }
  },
  {
   "cell_type": "code",
   "execution_count": 8,
   "outputs": [],
   "source": [
    "# BD Connection\n",
    "f = open('/Users/gabrielreynoso/Documents/Queries/db_klarprod_connection.txt', 'r')\n",
    "postgres_str = f.read()\n",
    "f.close()\n",
    "cnx = create_engine(postgres_str)"
   ],
   "metadata": {
    "collapsed": false
   }
  },
  {
   "cell_type": "code",
   "execution_count": 11,
   "outputs": [],
   "source": [
    "retention_transactions = pd.read_sql_query(retention_query.format(tuple(db_payments.uuid.to_list())),cnx)"
   ],
   "metadata": {
    "collapsed": false
   }
  },
  {
   "cell_type": "code",
   "execution_count": 12,
   "outputs": [
    {
     "data": {
      "text/plain": "      transaction_month  transactions                                  uuid\n0            2022-05-01             7  ecfa01ce-8a88-406e-b1e4-0b8dc91fb27b\n1            2022-11-01             7  ecfa01ce-8a88-406e-b1e4-0b8dc91fb27b\n2            2022-07-01             1  ed33bf62-1e1e-4e1b-b5c4-efb22e4b3aa8\n3            2022-10-01             4  ed372166-2d67-4a6c-8b71-6c146f00e842\n4            2022-02-01             4  ed3c7853-53a1-4611-822c-c794f08386ee\n...                 ...           ...                                   ...\n62468        2022-03-01             1  ebeffc31-45e2-4af8-bd50-eed272ed6ed8\n62469        2021-12-01             1  ec134fbb-1d87-4344-8f93-e795606a6aa3\n62470        2022-02-01             2  ec1beaab-744b-4382-8a4a-355b0c2117d6\n62471        2022-12-01             3  ec451b78-ba06-4997-8879-fca647df9547\n62472        2022-06-01             1  ec57cb76-f727-45af-af2d-a8278b0a5bea\n\n[62473 rows x 3 columns]",
      "text/html": "<div>\n<style scoped>\n    .dataframe tbody tr th:only-of-type {\n        vertical-align: middle;\n    }\n\n    .dataframe tbody tr th {\n        vertical-align: top;\n    }\n\n    .dataframe thead th {\n        text-align: right;\n    }\n</style>\n<table border=\"1\" class=\"dataframe\">\n  <thead>\n    <tr style=\"text-align: right;\">\n      <th></th>\n      <th>transaction_month</th>\n      <th>transactions</th>\n      <th>uuid</th>\n    </tr>\n  </thead>\n  <tbody>\n    <tr>\n      <th>0</th>\n      <td>2022-05-01</td>\n      <td>7</td>\n      <td>ecfa01ce-8a88-406e-b1e4-0b8dc91fb27b</td>\n    </tr>\n    <tr>\n      <th>1</th>\n      <td>2022-11-01</td>\n      <td>7</td>\n      <td>ecfa01ce-8a88-406e-b1e4-0b8dc91fb27b</td>\n    </tr>\n    <tr>\n      <th>2</th>\n      <td>2022-07-01</td>\n      <td>1</td>\n      <td>ed33bf62-1e1e-4e1b-b5c4-efb22e4b3aa8</td>\n    </tr>\n    <tr>\n      <th>3</th>\n      <td>2022-10-01</td>\n      <td>4</td>\n      <td>ed372166-2d67-4a6c-8b71-6c146f00e842</td>\n    </tr>\n    <tr>\n      <th>4</th>\n      <td>2022-02-01</td>\n      <td>4</td>\n      <td>ed3c7853-53a1-4611-822c-c794f08386ee</td>\n    </tr>\n    <tr>\n      <th>...</th>\n      <td>...</td>\n      <td>...</td>\n      <td>...</td>\n    </tr>\n    <tr>\n      <th>62468</th>\n      <td>2022-03-01</td>\n      <td>1</td>\n      <td>ebeffc31-45e2-4af8-bd50-eed272ed6ed8</td>\n    </tr>\n    <tr>\n      <th>62469</th>\n      <td>2021-12-01</td>\n      <td>1</td>\n      <td>ec134fbb-1d87-4344-8f93-e795606a6aa3</td>\n    </tr>\n    <tr>\n      <th>62470</th>\n      <td>2022-02-01</td>\n      <td>2</td>\n      <td>ec1beaab-744b-4382-8a4a-355b0c2117d6</td>\n    </tr>\n    <tr>\n      <th>62471</th>\n      <td>2022-12-01</td>\n      <td>3</td>\n      <td>ec451b78-ba06-4997-8879-fca647df9547</td>\n    </tr>\n    <tr>\n      <th>62472</th>\n      <td>2022-06-01</td>\n      <td>1</td>\n      <td>ec57cb76-f727-45af-af2d-a8278b0a5bea</td>\n    </tr>\n  </tbody>\n</table>\n<p>62473 rows × 3 columns</p>\n</div>"
     },
     "execution_count": 12,
     "metadata": {},
     "output_type": "execute_result"
    }
   ],
   "source": [
    "retention_transactions"
   ],
   "metadata": {
    "collapsed": false
   }
  },
  {
   "cell_type": "markdown",
   "source": [
    "# Retention Analysis"
   ],
   "metadata": {
    "collapsed": false
   }
  },
  {
   "cell_type": "code",
   "execution_count": 13,
   "outputs": [],
   "source": [
    "retention_db = pd.merge(retention_transactions,db_payments, on='uuid', how='left')"
   ],
   "metadata": {
    "collapsed": false
   }
  },
  {
   "cell_type": "code",
   "execution_count": 16,
   "outputs": [
    {
     "data": {
      "text/plain": "   transaction_month  transactions                                  uuid  \\\n0         2022-05-01             7  ecfa01ce-8a88-406e-b1e4-0b8dc91fb27b   \n1         2022-11-01             7  ecfa01ce-8a88-406e-b1e4-0b8dc91fb27b   \n2         2022-07-01             1  ed33bf62-1e1e-4e1b-b5c4-efb22e4b3aa8   \n3         2022-10-01             4  ed372166-2d67-4a6c-8b71-6c146f00e842   \n4         2022-02-01             4  ed3c7853-53a1-4611-822c-c794f08386ee   \n5         2022-07-01             6  ed3c7853-53a1-4611-822c-c794f08386ee   \n6         2022-08-01             1  ed3c7853-53a1-4611-822c-c794f08386ee   \n7         2022-09-01            29  ed3c7ce1-fa22-4e0a-a556-f0b5aac17f05   \n8         2022-11-01             7  ed3c7ce1-fa22-4e0a-a556-f0b5aac17f05   \n9         2022-12-01             1  ed3c7ce1-fa22-4e0a-a556-f0b5aac17f05   \n10        2021-10-01             6  ed5df4cc-2948-4e3c-8189-c522b3d451a4   \n11        2022-02-01             3  ed5df4cc-2948-4e3c-8189-c522b3d451a4   \n12        2022-03-01             2  ed5df4cc-2948-4e3c-8189-c522b3d451a4   \n13        2022-09-01             7  ed5df4cc-2948-4e3c-8189-c522b3d451a4   \n14        2022-02-01             5  ed643418-c3ba-44e5-87ca-9052fd88e7a2   \n15        2022-02-01             5  ed643418-c3ba-44e5-87ca-9052fd88e7a2   \n16        2023-02-01             4  ed643418-c3ba-44e5-87ca-9052fd88e7a2   \n17        2023-02-01             4  ed643418-c3ba-44e5-87ca-9052fd88e7a2   \n18        2022-10-01             8  ed74a626-5fe2-4b5e-a19c-be44bcda79b8   \n19        2022-12-01            10  ed765373-709f-45b8-8db3-fe7bd0e93d7f   \n20        2023-01-01            29  ed765373-709f-45b8-8db3-fe7bd0e93d7f   \n21        2023-02-01            33  ed765373-709f-45b8-8db3-fe7bd0e93d7f   \n22        2021-10-01             4  ed779151-385d-4460-9034-25cb2ac1d9e0   \n23        2020-12-01             1  ed919ae5-fcd3-4ec3-88c3-21b97f73260b   \n24        2022-08-01             3  ed919ae5-fcd3-4ec3-88c3-21b97f73260b   \n25        2022-12-01             8  ed989286-6a04-477f-814a-cc0a5c2137e0   \n26        2023-01-01            14  eda66ee3-8b97-49a7-91cd-d10c5cdcfc1e   \n27        2021-02-01             7  edb0492a-b58b-4a33-9ff5-386dbb961a4e   \n28        2022-09-01             9  edb0492a-b58b-4a33-9ff5-386dbb961a4e   \n29        2022-06-01            21  edb6800b-759a-4e1b-b9d6-9465fdfc921f   \n\n      fee      month  \n0   200.0 2022-11-01  \n1   200.0 2022-11-01  \n2   200.0 2022-06-01  \n3   200.0 2022-07-01  \n4   200.0 2022-06-01  \n5   200.0 2022-06-01  \n6   200.0 2022-06-01  \n7   200.0 2022-07-01  \n8   200.0 2022-07-01  \n9   200.0 2022-07-01  \n10  200.0 2022-06-01  \n11  200.0 2022-06-01  \n12  200.0 2022-06-01  \n13  200.0 2022-06-01  \n14  200.0 2022-06-01  \n15  200.0 2023-01-01  \n16  200.0 2022-06-01  \n17  200.0 2023-01-01  \n18  200.0 2022-08-01  \n19  200.0 2022-10-01  \n20  200.0 2022-10-01  \n21  200.0 2022-10-01  \n22  200.0 2022-11-01  \n23  100.0 2022-07-01  \n24  100.0 2022-07-01  \n25  200.0 2022-11-01  \n26  200.0 2022-11-01  \n27  200.0 2022-07-01  \n28  200.0 2022-07-01  \n29  200.0 2022-11-01  ",
      "text/html": "<div>\n<style scoped>\n    .dataframe tbody tr th:only-of-type {\n        vertical-align: middle;\n    }\n\n    .dataframe tbody tr th {\n        vertical-align: top;\n    }\n\n    .dataframe thead th {\n        text-align: right;\n    }\n</style>\n<table border=\"1\" class=\"dataframe\">\n  <thead>\n    <tr style=\"text-align: right;\">\n      <th></th>\n      <th>transaction_month</th>\n      <th>transactions</th>\n      <th>uuid</th>\n      <th>fee</th>\n      <th>month</th>\n    </tr>\n  </thead>\n  <tbody>\n    <tr>\n      <th>0</th>\n      <td>2022-05-01</td>\n      <td>7</td>\n      <td>ecfa01ce-8a88-406e-b1e4-0b8dc91fb27b</td>\n      <td>200.0</td>\n      <td>2022-11-01</td>\n    </tr>\n    <tr>\n      <th>1</th>\n      <td>2022-11-01</td>\n      <td>7</td>\n      <td>ecfa01ce-8a88-406e-b1e4-0b8dc91fb27b</td>\n      <td>200.0</td>\n      <td>2022-11-01</td>\n    </tr>\n    <tr>\n      <th>2</th>\n      <td>2022-07-01</td>\n      <td>1</td>\n      <td>ed33bf62-1e1e-4e1b-b5c4-efb22e4b3aa8</td>\n      <td>200.0</td>\n      <td>2022-06-01</td>\n    </tr>\n    <tr>\n      <th>3</th>\n      <td>2022-10-01</td>\n      <td>4</td>\n      <td>ed372166-2d67-4a6c-8b71-6c146f00e842</td>\n      <td>200.0</td>\n      <td>2022-07-01</td>\n    </tr>\n    <tr>\n      <th>4</th>\n      <td>2022-02-01</td>\n      <td>4</td>\n      <td>ed3c7853-53a1-4611-822c-c794f08386ee</td>\n      <td>200.0</td>\n      <td>2022-06-01</td>\n    </tr>\n    <tr>\n      <th>5</th>\n      <td>2022-07-01</td>\n      <td>6</td>\n      <td>ed3c7853-53a1-4611-822c-c794f08386ee</td>\n      <td>200.0</td>\n      <td>2022-06-01</td>\n    </tr>\n    <tr>\n      <th>6</th>\n      <td>2022-08-01</td>\n      <td>1</td>\n      <td>ed3c7853-53a1-4611-822c-c794f08386ee</td>\n      <td>200.0</td>\n      <td>2022-06-01</td>\n    </tr>\n    <tr>\n      <th>7</th>\n      <td>2022-09-01</td>\n      <td>29</td>\n      <td>ed3c7ce1-fa22-4e0a-a556-f0b5aac17f05</td>\n      <td>200.0</td>\n      <td>2022-07-01</td>\n    </tr>\n    <tr>\n      <th>8</th>\n      <td>2022-11-01</td>\n      <td>7</td>\n      <td>ed3c7ce1-fa22-4e0a-a556-f0b5aac17f05</td>\n      <td>200.0</td>\n      <td>2022-07-01</td>\n    </tr>\n    <tr>\n      <th>9</th>\n      <td>2022-12-01</td>\n      <td>1</td>\n      <td>ed3c7ce1-fa22-4e0a-a556-f0b5aac17f05</td>\n      <td>200.0</td>\n      <td>2022-07-01</td>\n    </tr>\n    <tr>\n      <th>10</th>\n      <td>2021-10-01</td>\n      <td>6</td>\n      <td>ed5df4cc-2948-4e3c-8189-c522b3d451a4</td>\n      <td>200.0</td>\n      <td>2022-06-01</td>\n    </tr>\n    <tr>\n      <th>11</th>\n      <td>2022-02-01</td>\n      <td>3</td>\n      <td>ed5df4cc-2948-4e3c-8189-c522b3d451a4</td>\n      <td>200.0</td>\n      <td>2022-06-01</td>\n    </tr>\n    <tr>\n      <th>12</th>\n      <td>2022-03-01</td>\n      <td>2</td>\n      <td>ed5df4cc-2948-4e3c-8189-c522b3d451a4</td>\n      <td>200.0</td>\n      <td>2022-06-01</td>\n    </tr>\n    <tr>\n      <th>13</th>\n      <td>2022-09-01</td>\n      <td>7</td>\n      <td>ed5df4cc-2948-4e3c-8189-c522b3d451a4</td>\n      <td>200.0</td>\n      <td>2022-06-01</td>\n    </tr>\n    <tr>\n      <th>14</th>\n      <td>2022-02-01</td>\n      <td>5</td>\n      <td>ed643418-c3ba-44e5-87ca-9052fd88e7a2</td>\n      <td>200.0</td>\n      <td>2022-06-01</td>\n    </tr>\n    <tr>\n      <th>15</th>\n      <td>2022-02-01</td>\n      <td>5</td>\n      <td>ed643418-c3ba-44e5-87ca-9052fd88e7a2</td>\n      <td>200.0</td>\n      <td>2023-01-01</td>\n    </tr>\n    <tr>\n      <th>16</th>\n      <td>2023-02-01</td>\n      <td>4</td>\n      <td>ed643418-c3ba-44e5-87ca-9052fd88e7a2</td>\n      <td>200.0</td>\n      <td>2022-06-01</td>\n    </tr>\n    <tr>\n      <th>17</th>\n      <td>2023-02-01</td>\n      <td>4</td>\n      <td>ed643418-c3ba-44e5-87ca-9052fd88e7a2</td>\n      <td>200.0</td>\n      <td>2023-01-01</td>\n    </tr>\n    <tr>\n      <th>18</th>\n      <td>2022-10-01</td>\n      <td>8</td>\n      <td>ed74a626-5fe2-4b5e-a19c-be44bcda79b8</td>\n      <td>200.0</td>\n      <td>2022-08-01</td>\n    </tr>\n    <tr>\n      <th>19</th>\n      <td>2022-12-01</td>\n      <td>10</td>\n      <td>ed765373-709f-45b8-8db3-fe7bd0e93d7f</td>\n      <td>200.0</td>\n      <td>2022-10-01</td>\n    </tr>\n    <tr>\n      <th>20</th>\n      <td>2023-01-01</td>\n      <td>29</td>\n      <td>ed765373-709f-45b8-8db3-fe7bd0e93d7f</td>\n      <td>200.0</td>\n      <td>2022-10-01</td>\n    </tr>\n    <tr>\n      <th>21</th>\n      <td>2023-02-01</td>\n      <td>33</td>\n      <td>ed765373-709f-45b8-8db3-fe7bd0e93d7f</td>\n      <td>200.0</td>\n      <td>2022-10-01</td>\n    </tr>\n    <tr>\n      <th>22</th>\n      <td>2021-10-01</td>\n      <td>4</td>\n      <td>ed779151-385d-4460-9034-25cb2ac1d9e0</td>\n      <td>200.0</td>\n      <td>2022-11-01</td>\n    </tr>\n    <tr>\n      <th>23</th>\n      <td>2020-12-01</td>\n      <td>1</td>\n      <td>ed919ae5-fcd3-4ec3-88c3-21b97f73260b</td>\n      <td>100.0</td>\n      <td>2022-07-01</td>\n    </tr>\n    <tr>\n      <th>24</th>\n      <td>2022-08-01</td>\n      <td>3</td>\n      <td>ed919ae5-fcd3-4ec3-88c3-21b97f73260b</td>\n      <td>100.0</td>\n      <td>2022-07-01</td>\n    </tr>\n    <tr>\n      <th>25</th>\n      <td>2022-12-01</td>\n      <td>8</td>\n      <td>ed989286-6a04-477f-814a-cc0a5c2137e0</td>\n      <td>200.0</td>\n      <td>2022-11-01</td>\n    </tr>\n    <tr>\n      <th>26</th>\n      <td>2023-01-01</td>\n      <td>14</td>\n      <td>eda66ee3-8b97-49a7-91cd-d10c5cdcfc1e</td>\n      <td>200.0</td>\n      <td>2022-11-01</td>\n    </tr>\n    <tr>\n      <th>27</th>\n      <td>2021-02-01</td>\n      <td>7</td>\n      <td>edb0492a-b58b-4a33-9ff5-386dbb961a4e</td>\n      <td>200.0</td>\n      <td>2022-07-01</td>\n    </tr>\n    <tr>\n      <th>28</th>\n      <td>2022-09-01</td>\n      <td>9</td>\n      <td>edb0492a-b58b-4a33-9ff5-386dbb961a4e</td>\n      <td>200.0</td>\n      <td>2022-07-01</td>\n    </tr>\n    <tr>\n      <th>29</th>\n      <td>2022-06-01</td>\n      <td>21</td>\n      <td>edb6800b-759a-4e1b-b9d6-9465fdfc921f</td>\n      <td>200.0</td>\n      <td>2022-11-01</td>\n    </tr>\n  </tbody>\n</table>\n</div>"
     },
     "execution_count": 16,
     "metadata": {},
     "output_type": "execute_result"
    }
   ],
   "source": [
    "retention_db.head(30)"
   ],
   "metadata": {
    "collapsed": false
   }
  },
  {
   "cell_type": "code",
   "execution_count": 42,
   "outputs": [],
   "source": [
    "retention_metric = retention_db[retention_db.transaction_month > retention_db.month].groupby(['month','transaction_month'])['uuid'].count()"
   ],
   "metadata": {
    "collapsed": false
   }
  },
  {
   "cell_type": "code",
   "execution_count": 43,
   "outputs": [],
   "source": [
    "retention_metric = retention_metric.reset_index()"
   ],
   "metadata": {
    "collapsed": false
   }
  },
  {
   "cell_type": "code",
   "execution_count": 44,
   "outputs": [
    {
     "data": {
      "text/plain": "        month transaction_month  uuid\n0  2022-06-01        2022-07-01  1416\n1  2022-06-01        2022-08-01   915\n2  2022-06-01        2022-09-01   753\n3  2022-06-01        2022-10-01   694\n4  2022-06-01        2022-11-01   587\n5  2022-06-01        2022-12-01   557\n6  2022-06-01        2023-01-01   533\n7  2022-06-01        2023-02-01   440\n8  2022-07-01        2022-08-01  1527\n9  2022-07-01        2022-09-01  1111\n10 2022-07-01        2022-10-01   865\n11 2022-07-01        2022-11-01   732\n12 2022-07-01        2022-12-01   658\n13 2022-07-01        2023-01-01   631\n14 2022-07-01        2023-02-01   510\n15 2022-08-01        2022-09-01  1342\n16 2022-08-01        2022-10-01  1051\n17 2022-08-01        2022-11-01   734\n18 2022-08-01        2022-12-01   634\n19 2022-08-01        2023-01-01   581\n20 2022-08-01        2023-02-01   509\n21 2022-10-01        2022-11-01  1222\n22 2022-10-01        2022-12-01   840\n23 2022-10-01        2023-01-01   711\n24 2022-10-01        2023-02-01   570\n25 2022-11-01        2022-12-01  1117\n26 2022-11-01        2023-01-01   918\n27 2022-11-01        2023-02-01   619\n28 2023-01-01        2023-02-01   485",
      "text/html": "<div>\n<style scoped>\n    .dataframe tbody tr th:only-of-type {\n        vertical-align: middle;\n    }\n\n    .dataframe tbody tr th {\n        vertical-align: top;\n    }\n\n    .dataframe thead th {\n        text-align: right;\n    }\n</style>\n<table border=\"1\" class=\"dataframe\">\n  <thead>\n    <tr style=\"text-align: right;\">\n      <th></th>\n      <th>month</th>\n      <th>transaction_month</th>\n      <th>uuid</th>\n    </tr>\n  </thead>\n  <tbody>\n    <tr>\n      <th>0</th>\n      <td>2022-06-01</td>\n      <td>2022-07-01</td>\n      <td>1416</td>\n    </tr>\n    <tr>\n      <th>1</th>\n      <td>2022-06-01</td>\n      <td>2022-08-01</td>\n      <td>915</td>\n    </tr>\n    <tr>\n      <th>2</th>\n      <td>2022-06-01</td>\n      <td>2022-09-01</td>\n      <td>753</td>\n    </tr>\n    <tr>\n      <th>3</th>\n      <td>2022-06-01</td>\n      <td>2022-10-01</td>\n      <td>694</td>\n    </tr>\n    <tr>\n      <th>4</th>\n      <td>2022-06-01</td>\n      <td>2022-11-01</td>\n      <td>587</td>\n    </tr>\n    <tr>\n      <th>5</th>\n      <td>2022-06-01</td>\n      <td>2022-12-01</td>\n      <td>557</td>\n    </tr>\n    <tr>\n      <th>6</th>\n      <td>2022-06-01</td>\n      <td>2023-01-01</td>\n      <td>533</td>\n    </tr>\n    <tr>\n      <th>7</th>\n      <td>2022-06-01</td>\n      <td>2023-02-01</td>\n      <td>440</td>\n    </tr>\n    <tr>\n      <th>8</th>\n      <td>2022-07-01</td>\n      <td>2022-08-01</td>\n      <td>1527</td>\n    </tr>\n    <tr>\n      <th>9</th>\n      <td>2022-07-01</td>\n      <td>2022-09-01</td>\n      <td>1111</td>\n    </tr>\n    <tr>\n      <th>10</th>\n      <td>2022-07-01</td>\n      <td>2022-10-01</td>\n      <td>865</td>\n    </tr>\n    <tr>\n      <th>11</th>\n      <td>2022-07-01</td>\n      <td>2022-11-01</td>\n      <td>732</td>\n    </tr>\n    <tr>\n      <th>12</th>\n      <td>2022-07-01</td>\n      <td>2022-12-01</td>\n      <td>658</td>\n    </tr>\n    <tr>\n      <th>13</th>\n      <td>2022-07-01</td>\n      <td>2023-01-01</td>\n      <td>631</td>\n    </tr>\n    <tr>\n      <th>14</th>\n      <td>2022-07-01</td>\n      <td>2023-02-01</td>\n      <td>510</td>\n    </tr>\n    <tr>\n      <th>15</th>\n      <td>2022-08-01</td>\n      <td>2022-09-01</td>\n      <td>1342</td>\n    </tr>\n    <tr>\n      <th>16</th>\n      <td>2022-08-01</td>\n      <td>2022-10-01</td>\n      <td>1051</td>\n    </tr>\n    <tr>\n      <th>17</th>\n      <td>2022-08-01</td>\n      <td>2022-11-01</td>\n      <td>734</td>\n    </tr>\n    <tr>\n      <th>18</th>\n      <td>2022-08-01</td>\n      <td>2022-12-01</td>\n      <td>634</td>\n    </tr>\n    <tr>\n      <th>19</th>\n      <td>2022-08-01</td>\n      <td>2023-01-01</td>\n      <td>581</td>\n    </tr>\n    <tr>\n      <th>20</th>\n      <td>2022-08-01</td>\n      <td>2023-02-01</td>\n      <td>509</td>\n    </tr>\n    <tr>\n      <th>21</th>\n      <td>2022-10-01</td>\n      <td>2022-11-01</td>\n      <td>1222</td>\n    </tr>\n    <tr>\n      <th>22</th>\n      <td>2022-10-01</td>\n      <td>2022-12-01</td>\n      <td>840</td>\n    </tr>\n    <tr>\n      <th>23</th>\n      <td>2022-10-01</td>\n      <td>2023-01-01</td>\n      <td>711</td>\n    </tr>\n    <tr>\n      <th>24</th>\n      <td>2022-10-01</td>\n      <td>2023-02-01</td>\n      <td>570</td>\n    </tr>\n    <tr>\n      <th>25</th>\n      <td>2022-11-01</td>\n      <td>2022-12-01</td>\n      <td>1117</td>\n    </tr>\n    <tr>\n      <th>26</th>\n      <td>2022-11-01</td>\n      <td>2023-01-01</td>\n      <td>918</td>\n    </tr>\n    <tr>\n      <th>27</th>\n      <td>2022-11-01</td>\n      <td>2023-02-01</td>\n      <td>619</td>\n    </tr>\n    <tr>\n      <th>28</th>\n      <td>2023-01-01</td>\n      <td>2023-02-01</td>\n      <td>485</td>\n    </tr>\n  </tbody>\n</table>\n</div>"
     },
     "execution_count": 44,
     "metadata": {},
     "output_type": "execute_result"
    }
   ],
   "source": [
    "retention_metric"
   ],
   "metadata": {
    "collapsed": false
   }
  },
  {
   "cell_type": "code",
   "execution_count": 45,
   "outputs": [],
   "source": [
    "# pivot the data into the correct shape\n",
    "ret_plot = retention_metric.pivot(index='month', columns='transaction_month', values='uuid')\n",
    "ret_plot.to_clipboard()"
   ],
   "metadata": {
    "collapsed": false
   }
  },
  {
   "cell_type": "code",
   "execution_count": 46,
   "outputs": [
    {
     "data": {
      "text/plain": "transaction_month  2022-07-01  2022-08-01  2022-09-01  2022-10-01  2022-11-01  \\\nmonth                                                                           \n2022-06-01             1416.0       915.0       753.0       694.0       587.0   \n2022-07-01                NaN      1527.0      1111.0       865.0       732.0   \n2022-08-01                NaN         NaN      1342.0      1051.0       734.0   \n2022-10-01                NaN         NaN         NaN         NaN      1222.0   \n2022-11-01                NaN         NaN         NaN         NaN         NaN   \n2023-01-01                NaN         NaN         NaN         NaN         NaN   \n\ntransaction_month  2022-12-01  2023-01-01  2023-02-01  \nmonth                                                  \n2022-06-01              557.0       533.0       440.0  \n2022-07-01              658.0       631.0       510.0  \n2022-08-01              634.0       581.0       509.0  \n2022-10-01              840.0       711.0       570.0  \n2022-11-01             1117.0       918.0       619.0  \n2023-01-01                NaN         NaN       485.0  ",
      "text/html": "<div>\n<style scoped>\n    .dataframe tbody tr th:only-of-type {\n        vertical-align: middle;\n    }\n\n    .dataframe tbody tr th {\n        vertical-align: top;\n    }\n\n    .dataframe thead th {\n        text-align: right;\n    }\n</style>\n<table border=\"1\" class=\"dataframe\">\n  <thead>\n    <tr style=\"text-align: right;\">\n      <th>transaction_month</th>\n      <th>2022-07-01</th>\n      <th>2022-08-01</th>\n      <th>2022-09-01</th>\n      <th>2022-10-01</th>\n      <th>2022-11-01</th>\n      <th>2022-12-01</th>\n      <th>2023-01-01</th>\n      <th>2023-02-01</th>\n    </tr>\n    <tr>\n      <th>month</th>\n      <th></th>\n      <th></th>\n      <th></th>\n      <th></th>\n      <th></th>\n      <th></th>\n      <th></th>\n      <th></th>\n    </tr>\n  </thead>\n  <tbody>\n    <tr>\n      <th>2022-06-01</th>\n      <td>1416.0</td>\n      <td>915.0</td>\n      <td>753.0</td>\n      <td>694.0</td>\n      <td>587.0</td>\n      <td>557.0</td>\n      <td>533.0</td>\n      <td>440.0</td>\n    </tr>\n    <tr>\n      <th>2022-07-01</th>\n      <td>NaN</td>\n      <td>1527.0</td>\n      <td>1111.0</td>\n      <td>865.0</td>\n      <td>732.0</td>\n      <td>658.0</td>\n      <td>631.0</td>\n      <td>510.0</td>\n    </tr>\n    <tr>\n      <th>2022-08-01</th>\n      <td>NaN</td>\n      <td>NaN</td>\n      <td>1342.0</td>\n      <td>1051.0</td>\n      <td>734.0</td>\n      <td>634.0</td>\n      <td>581.0</td>\n      <td>509.0</td>\n    </tr>\n    <tr>\n      <th>2022-10-01</th>\n      <td>NaN</td>\n      <td>NaN</td>\n      <td>NaN</td>\n      <td>NaN</td>\n      <td>1222.0</td>\n      <td>840.0</td>\n      <td>711.0</td>\n      <td>570.0</td>\n    </tr>\n    <tr>\n      <th>2022-11-01</th>\n      <td>NaN</td>\n      <td>NaN</td>\n      <td>NaN</td>\n      <td>NaN</td>\n      <td>NaN</td>\n      <td>1117.0</td>\n      <td>918.0</td>\n      <td>619.0</td>\n    </tr>\n    <tr>\n      <th>2023-01-01</th>\n      <td>NaN</td>\n      <td>NaN</td>\n      <td>NaN</td>\n      <td>NaN</td>\n      <td>NaN</td>\n      <td>NaN</td>\n      <td>NaN</td>\n      <td>485.0</td>\n    </tr>\n  </tbody>\n</table>\n</div>"
     },
     "execution_count": 46,
     "metadata": {},
     "output_type": "execute_result"
    }
   ],
   "source": [
    "ret_plot"
   ],
   "metadata": {
    "collapsed": false
   }
  },
  {
   "cell_type": "code",
   "execution_count": null,
   "outputs": [],
   "source": [],
   "metadata": {
    "collapsed": false
   }
  }
 ],
 "metadata": {
  "kernelspec": {
   "display_name": "Python 3",
   "language": "python",
   "name": "python3"
  },
  "language_info": {
   "codemirror_mode": {
    "name": "ipython",
    "version": 2
   },
   "file_extension": ".py",
   "mimetype": "text/x-python",
   "name": "python",
   "nbconvert_exporter": "python",
   "pygments_lexer": "ipython2",
   "version": "2.7.6"
  }
 },
 "nbformat": 4,
 "nbformat_minor": 0
}
