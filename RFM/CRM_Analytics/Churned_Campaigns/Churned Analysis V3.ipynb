{
 "cells": [
  {
   "cell_type": "code",
   "execution_count": 1,
   "metadata": {
    "collapsed": true
   },
   "outputs": [],
   "source": [
    "import time\n",
    "import pandas as pd\n",
    "from sqlalchemy import create_engine\n",
    "import sqlalchemy\n",
    "from tqdm import tqdm\n",
    "import gspread\n",
    "from oauth2client.service_account import ServiceAccountCredentials\n"
   ]
  },
  {
   "cell_type": "markdown",
   "source": [
    "## Variables"
   ],
   "metadata": {
    "collapsed": false
   }
  },
  {
   "cell_type": "code",
   "execution_count": 2,
   "outputs": [],
   "source": [
    "# Dates of the campaign\n",
    "dates = ['2023-01-19', '2023-02-17']\n",
    "# Cluster dictionary\n",
    "cluster_names = pd.read_excel(\"/Users/gabrielreynoso/Documents/RFM_LayerA_Dic.xlsx\")\n",
    "# Create the channel dictionary\n",
    "cluster_dict = cluster_names.set_index('id').to_dict()['name']\n",
    "# BD Connection\n",
    "f = open('/Users/gabrielreynoso/Documents/Queries/db_klarprod_connection.txt', 'r')\n",
    "postgres_str = f.read()\n",
    "f.close()\n",
    "cnx = create_engine(postgres_str)\n",
    "# Read and Load Credentials\n",
    "credentials = ServiceAccountCredentials.from_json_keyfile_name('/Users/gabrielreynoso/Documents/GoogleCredentials/gabo_credentials.json')\n",
    "gc = gspread.authorize(credentials)"
   ],
   "metadata": {
    "collapsed": false
   }
  },
  {
   "cell_type": "markdown",
   "source": [
    "## Queries"
   ],
   "metadata": {
    "collapsed": false
   }
  },
  {
   "cell_type": "code",
   "execution_count": 56,
   "outputs": [],
   "source": [
    "# RFM Query for data on a specific date\n",
    "query_rfm = '''\n",
    "        select rfm_layer.user_id,\n",
    "               max_user.max_date as date,\n",
    "               rfm_layer.cluster,\n",
    "               rfm_layer.time,\n",
    "               rfm_layer.monetary,\n",
    "               rfm_layer.frequency,\n",
    "               rfm_layer.recency\n",
    "        from growth.rfm_history as rfm_layer,\n",
    "             (select user_id,\n",
    "                     max(date) as max_date\n",
    "             from growth.rfm_history\n",
    "             where date < '{}'::date\n",
    "             group by user_id) max_user\n",
    "        where rfm_layer.user_id = max_user.user_id\n",
    "        and rfm_layer.date = max_user.max_date\n",
    "        and rfm_layer.user_id in {}\n",
    "'''"
   ],
   "metadata": {
    "collapsed": false
   }
  },
  {
   "cell_type": "code",
   "execution_count": 39,
   "outputs": [],
   "source": [
    "cohort_query = '''\n",
    "select\n",
    "    klar_user_id as user_id,\n",
    "    segment_name,\n",
    "    case when segment_name like '%MAR%' then 'More at risk'\n",
    "         when segment_name like '%More at risk%' then 'More at risk' else 'Churned' end as cohort,\n",
    "    case when segment_name like '%Trigger%' then 'Trigger'\n",
    "         when segment_name like '%Treatment' then 'Treatment' else 'Control' end as segment\n",
    "from is_customer_io.segments\n",
    "where segment_name like '%RFM January%'\n",
    "and segment_name not like '%Twilio%'\n",
    "and cio_id != '';\n",
    "'''"
   ],
   "metadata": {
    "collapsed": false
   }
  },
  {
   "cell_type": "markdown",
   "source": [
    "# Cohort Processing"
   ],
   "metadata": {
    "collapsed": false
   }
  },
  {
   "cell_type": "code",
   "execution_count": 27,
   "outputs": [],
   "source": [
    "# Read the Query\n",
    "cohort_info = pd.read_sql_query(sqlalchemy.text(cohort_query),cnx)"
   ],
   "metadata": {
    "collapsed": false
   }
  },
  {
   "cell_type": "code",
   "execution_count": 28,
   "outputs": [],
   "source": [
    "# January Processing\n",
    "# Count number of segments per user\n",
    "segments_per_user = cohort_info.groupby('user_id')['segment_name'].count()\n",
    "# Create variable to count them\n",
    "segments_per_user = segments_per_user.to_frame('num_segments')\n",
    "# Add new variable to the data\n",
    "cohort_info = pd.merge(segments_per_user, cohort_info, on='user_id')\n",
    "# Filter the users within 2 segments\n",
    "cohort_info = cohort_info[cohort_info.num_segments == 2]\n",
    "# Extract the subsegment\n",
    "cohort_info['subsegment'] = cohort_info.segment_name.str.extract(\"(\\d+ pesos)\")\n",
    "# Filter the rows with the segment info\n",
    "cohort_info_segment= cohort_info[cohort_info.subsegment.isna()][['user_id','cohort','segment']]\n",
    "# Filter the rows with the subsegment info\n",
    "cohort_info_subsegment= cohort_info[~cohort_info.subsegment.isna()][['user_id','cohort','subsegment']]\n",
    "# Do an inner join to get the users that have the complete info\n",
    "cohort_info = pd.merge(cohort_info_subsegment, cohort_info_segment, how = 'inner', on = ['user_id', 'cohort'])"
   ],
   "metadata": {
    "collapsed": false
   }
  },
  {
   "cell_type": "code",
   "execution_count": 29,
   "outputs": [
    {
     "data": {
      "text/plain": "                                     user_id        cohort subsegment  \\\n0       000017e5-eeb7-49b5-836b-189f64fb21f6       Churned   50 pesos   \n1       00006457-7797-46e8-87bf-7cf88f93f7a3       Churned   50 pesos   \n2       000162b9-0297-435e-ae32-375c7fe1a082       Churned  100 pesos   \n3       0001be16-8430-4314-bac4-f23119645859  More at risk  100 pesos   \n4       0001e46b-bade-479e-967f-0481ed7318cb  More at risk   50 pesos   \n...                                      ...           ...        ...   \n162283  fffe0258-489b-46b8-b993-5e89216ce91c  More at risk   50 pesos   \n162284  fffe9782-847e-4b40-a37b-b9784396c772  More at risk  100 pesos   \n162285  fffefd49-2f4b-45ae-b235-9fb777865752  More at risk   50 pesos   \n162286  ffffa15a-5b9e-44fa-8725-a0e844c103d6  More at risk   50 pesos   \n162287  ffffe1c1-d79d-4643-a2ee-b0f7ae29f736       Churned   50 pesos   \n\n          segment  \n0         Control  \n1       Treatment  \n2         Control  \n3       Treatment  \n4       Treatment  \n...           ...  \n162283  Treatment  \n162284  Treatment  \n162285  Treatment  \n162286  Treatment  \n162287  Treatment  \n\n[162288 rows x 4 columns]",
      "text/html": "<div>\n<style scoped>\n    .dataframe tbody tr th:only-of-type {\n        vertical-align: middle;\n    }\n\n    .dataframe tbody tr th {\n        vertical-align: top;\n    }\n\n    .dataframe thead th {\n        text-align: right;\n    }\n</style>\n<table border=\"1\" class=\"dataframe\">\n  <thead>\n    <tr style=\"text-align: right;\">\n      <th></th>\n      <th>user_id</th>\n      <th>cohort</th>\n      <th>subsegment</th>\n      <th>segment</th>\n    </tr>\n  </thead>\n  <tbody>\n    <tr>\n      <th>0</th>\n      <td>000017e5-eeb7-49b5-836b-189f64fb21f6</td>\n      <td>Churned</td>\n      <td>50 pesos</td>\n      <td>Control</td>\n    </tr>\n    <tr>\n      <th>1</th>\n      <td>00006457-7797-46e8-87bf-7cf88f93f7a3</td>\n      <td>Churned</td>\n      <td>50 pesos</td>\n      <td>Treatment</td>\n    </tr>\n    <tr>\n      <th>2</th>\n      <td>000162b9-0297-435e-ae32-375c7fe1a082</td>\n      <td>Churned</td>\n      <td>100 pesos</td>\n      <td>Control</td>\n    </tr>\n    <tr>\n      <th>3</th>\n      <td>0001be16-8430-4314-bac4-f23119645859</td>\n      <td>More at risk</td>\n      <td>100 pesos</td>\n      <td>Treatment</td>\n    </tr>\n    <tr>\n      <th>4</th>\n      <td>0001e46b-bade-479e-967f-0481ed7318cb</td>\n      <td>More at risk</td>\n      <td>50 pesos</td>\n      <td>Treatment</td>\n    </tr>\n    <tr>\n      <th>...</th>\n      <td>...</td>\n      <td>...</td>\n      <td>...</td>\n      <td>...</td>\n    </tr>\n    <tr>\n      <th>162283</th>\n      <td>fffe0258-489b-46b8-b993-5e89216ce91c</td>\n      <td>More at risk</td>\n      <td>50 pesos</td>\n      <td>Treatment</td>\n    </tr>\n    <tr>\n      <th>162284</th>\n      <td>fffe9782-847e-4b40-a37b-b9784396c772</td>\n      <td>More at risk</td>\n      <td>100 pesos</td>\n      <td>Treatment</td>\n    </tr>\n    <tr>\n      <th>162285</th>\n      <td>fffefd49-2f4b-45ae-b235-9fb777865752</td>\n      <td>More at risk</td>\n      <td>50 pesos</td>\n      <td>Treatment</td>\n    </tr>\n    <tr>\n      <th>162286</th>\n      <td>ffffa15a-5b9e-44fa-8725-a0e844c103d6</td>\n      <td>More at risk</td>\n      <td>50 pesos</td>\n      <td>Treatment</td>\n    </tr>\n    <tr>\n      <th>162287</th>\n      <td>ffffe1c1-d79d-4643-a2ee-b0f7ae29f736</td>\n      <td>Churned</td>\n      <td>50 pesos</td>\n      <td>Treatment</td>\n    </tr>\n  </tbody>\n</table>\n<p>162288 rows × 4 columns</p>\n</div>"
     },
     "execution_count": 29,
     "metadata": {},
     "output_type": "execute_result"
    }
   ],
   "source": [
    "# Print the final result\n",
    "cohort_info"
   ],
   "metadata": {
    "collapsed": false
   }
  },
  {
   "cell_type": "code",
   "execution_count": 47,
   "outputs": [
    {
     "data": {
      "text/plain": "                                     user_id        cohort subsegment  \\\n151052  ee7f3e32-9b95-4f28-8b84-50dbefa6fae0  More at risk  300 pesos   \n\n          segment  \n151052  Treatment  ",
      "text/html": "<div>\n<style scoped>\n    .dataframe tbody tr th:only-of-type {\n        vertical-align: middle;\n    }\n\n    .dataframe tbody tr th {\n        vertical-align: top;\n    }\n\n    .dataframe thead th {\n        text-align: right;\n    }\n</style>\n<table border=\"1\" class=\"dataframe\">\n  <thead>\n    <tr style=\"text-align: right;\">\n      <th></th>\n      <th>user_id</th>\n      <th>cohort</th>\n      <th>subsegment</th>\n      <th>segment</th>\n    </tr>\n  </thead>\n  <tbody>\n    <tr>\n      <th>151052</th>\n      <td>ee7f3e32-9b95-4f28-8b84-50dbefa6fae0</td>\n      <td>More at risk</td>\n      <td>300 pesos</td>\n      <td>Treatment</td>\n    </tr>\n  </tbody>\n</table>\n</div>"
     },
     "execution_count": 47,
     "metadata": {},
     "output_type": "execute_result"
    }
   ],
   "source": [
    "cohort_info[cohort_info.user_id == 'ee7f3e32-9b95-4f28-8b84-50dbefa6fae0']"
   ],
   "metadata": {
    "collapsed": false
   }
  },
  {
   "cell_type": "markdown",
   "source": [
    "# Run queries info"
   ],
   "metadata": {
    "collapsed": false
   }
  },
  {
   "cell_type": "markdown",
   "source": [
    "## Start of the campaign"
   ],
   "metadata": {
    "collapsed": false
   }
  },
  {
   "cell_type": "code",
   "execution_count": 30,
   "outputs": [
    {
     "name": "stdout",
     "output_type": "stream",
     "text": [
      "40.31041502952576\n"
     ]
    }
   ],
   "source": [
    "start_time = time.time()\n",
    "# Start of the campaign\n",
    "start_campaign = pd.read_sql_query(query_rfm.format(dates[0], tuple(cohort_info.user_id.to_list())), cnx)\n",
    "print(time.time()-start_time)"
   ],
   "metadata": {
    "collapsed": false
   }
  },
  {
   "cell_type": "code",
   "execution_count": 31,
   "outputs": [],
   "source": [
    "start_campaign = start_campaign.set_index('user_id')\n",
    "start_campaign['cluster'] = start_campaign['cluster'].map(cluster_dict)\n",
    "start_campaign = start_campaign.add_prefix('Pre_')"
   ],
   "metadata": {
    "collapsed": false
   }
  },
  {
   "cell_type": "code",
   "execution_count": 32,
   "outputs": [
    {
     "data": {
      "text/plain": "                                       Pre_date Pre_cluster  Pre_time  \\\nuser_id                                                                 \nfdb66bc4-a6d2-4815-ac89-506ac9c1b7d7 2023-01-18     At Risk     193.0   \n48ae96e3-ccd0-4b94-84ae-ab280befa661 2023-01-18     At Risk     499.0   \nfdbaf1c9-3742-49a9-a8d5-94ba4feeb036 2023-01-18     Churned     332.0   \n48b57682-f148-4861-b5ee-12e00ed1e6f8 2023-01-18     At Risk     377.0   \nfdc233bd-a16b-4c5d-8dce-ad9b675747c3 2023-01-18     At Risk     312.0   \n...                                         ...         ...       ...   \n6fda059b-3eb5-48cf-8011-1da0174b5498 2023-01-18     Churned     364.0   \n6fe1d451-8f7f-4008-b079-95ba814a3cce 2023-01-18     At Risk     283.0   \n6fe37ff6-f7a4-4904-b8b6-b0d270048200 2023-01-18     Churned     341.0   \n6fefbc13-2b74-4157-aec1-3c6e11fed16c 2023-01-18     Churned     331.0   \n6ff21d34-8256-4323-951e-ad07b9e2fdf3 2023-01-18     At Risk     254.0   \n\n                                      Pre_monetary  Pre_frequency  Pre_recency  \nuser_id                                                                         \nfdb66bc4-a6d2-4815-ac89-506ac9c1b7d7          3.34          0.021        155.0  \n48ae96e3-ccd0-4b94-84ae-ab280befa661          6.26          0.082        304.0  \nfdbaf1c9-3742-49a9-a8d5-94ba4feeb036          0.27          0.012        317.0  \n48b57682-f148-4861-b5ee-12e00ed1e6f8          0.86          0.013        241.0  \nfdc233bd-a16b-4c5d-8dce-ad9b675747c3          4.46          0.054        226.0  \n...                                            ...            ...          ...  \n6fda059b-3eb5-48cf-8011-1da0174b5498          1.95          0.022        336.0  \n6fe1d451-8f7f-4008-b079-95ba814a3cce          0.35          0.021        227.0  \n6fe37ff6-f7a4-4904-b8b6-b0d270048200          1.89          0.029        323.0  \n6fefbc13-2b74-4157-aec1-3c6e11fed16c          0.15          0.003        331.0  \n6ff21d34-8256-4323-951e-ad07b9e2fdf3          0.44          0.008        253.0  \n\n[162286 rows x 6 columns]",
      "text/html": "<div>\n<style scoped>\n    .dataframe tbody tr th:only-of-type {\n        vertical-align: middle;\n    }\n\n    .dataframe tbody tr th {\n        vertical-align: top;\n    }\n\n    .dataframe thead th {\n        text-align: right;\n    }\n</style>\n<table border=\"1\" class=\"dataframe\">\n  <thead>\n    <tr style=\"text-align: right;\">\n      <th></th>\n      <th>Pre_date</th>\n      <th>Pre_cluster</th>\n      <th>Pre_time</th>\n      <th>Pre_monetary</th>\n      <th>Pre_frequency</th>\n      <th>Pre_recency</th>\n    </tr>\n    <tr>\n      <th>user_id</th>\n      <th></th>\n      <th></th>\n      <th></th>\n      <th></th>\n      <th></th>\n      <th></th>\n    </tr>\n  </thead>\n  <tbody>\n    <tr>\n      <th>fdb66bc4-a6d2-4815-ac89-506ac9c1b7d7</th>\n      <td>2023-01-18</td>\n      <td>At Risk</td>\n      <td>193.0</td>\n      <td>3.34</td>\n      <td>0.021</td>\n      <td>155.0</td>\n    </tr>\n    <tr>\n      <th>48ae96e3-ccd0-4b94-84ae-ab280befa661</th>\n      <td>2023-01-18</td>\n      <td>At Risk</td>\n      <td>499.0</td>\n      <td>6.26</td>\n      <td>0.082</td>\n      <td>304.0</td>\n    </tr>\n    <tr>\n      <th>fdbaf1c9-3742-49a9-a8d5-94ba4feeb036</th>\n      <td>2023-01-18</td>\n      <td>Churned</td>\n      <td>332.0</td>\n      <td>0.27</td>\n      <td>0.012</td>\n      <td>317.0</td>\n    </tr>\n    <tr>\n      <th>48b57682-f148-4861-b5ee-12e00ed1e6f8</th>\n      <td>2023-01-18</td>\n      <td>At Risk</td>\n      <td>377.0</td>\n      <td>0.86</td>\n      <td>0.013</td>\n      <td>241.0</td>\n    </tr>\n    <tr>\n      <th>fdc233bd-a16b-4c5d-8dce-ad9b675747c3</th>\n      <td>2023-01-18</td>\n      <td>At Risk</td>\n      <td>312.0</td>\n      <td>4.46</td>\n      <td>0.054</td>\n      <td>226.0</td>\n    </tr>\n    <tr>\n      <th>...</th>\n      <td>...</td>\n      <td>...</td>\n      <td>...</td>\n      <td>...</td>\n      <td>...</td>\n      <td>...</td>\n    </tr>\n    <tr>\n      <th>6fda059b-3eb5-48cf-8011-1da0174b5498</th>\n      <td>2023-01-18</td>\n      <td>Churned</td>\n      <td>364.0</td>\n      <td>1.95</td>\n      <td>0.022</td>\n      <td>336.0</td>\n    </tr>\n    <tr>\n      <th>6fe1d451-8f7f-4008-b079-95ba814a3cce</th>\n      <td>2023-01-18</td>\n      <td>At Risk</td>\n      <td>283.0</td>\n      <td>0.35</td>\n      <td>0.021</td>\n      <td>227.0</td>\n    </tr>\n    <tr>\n      <th>6fe37ff6-f7a4-4904-b8b6-b0d270048200</th>\n      <td>2023-01-18</td>\n      <td>Churned</td>\n      <td>341.0</td>\n      <td>1.89</td>\n      <td>0.029</td>\n      <td>323.0</td>\n    </tr>\n    <tr>\n      <th>6fefbc13-2b74-4157-aec1-3c6e11fed16c</th>\n      <td>2023-01-18</td>\n      <td>Churned</td>\n      <td>331.0</td>\n      <td>0.15</td>\n      <td>0.003</td>\n      <td>331.0</td>\n    </tr>\n    <tr>\n      <th>6ff21d34-8256-4323-951e-ad07b9e2fdf3</th>\n      <td>2023-01-18</td>\n      <td>At Risk</td>\n      <td>254.0</td>\n      <td>0.44</td>\n      <td>0.008</td>\n      <td>253.0</td>\n    </tr>\n  </tbody>\n</table>\n<p>162286 rows × 6 columns</p>\n</div>"
     },
     "execution_count": 32,
     "metadata": {},
     "output_type": "execute_result"
    }
   ],
   "source": [
    "start_campaign"
   ],
   "metadata": {
    "collapsed": false
   }
  },
  {
   "cell_type": "markdown",
   "source": [
    "## End of the campaign"
   ],
   "metadata": {
    "collapsed": false
   }
  },
  {
   "cell_type": "code",
   "execution_count": 33,
   "outputs": [
    {
     "name": "stdout",
     "output_type": "stream",
     "text": [
      "27.927987337112427\n"
     ]
    }
   ],
   "source": [
    "start_time = time.time()\n",
    "# Start of the campaign\n",
    "end_campaign = pd.read_sql_query(query_rfm.format(dates[1], tuple(cohort_info.user_id.to_list())), cnx)\n",
    "print(time.time()-start_time)"
   ],
   "metadata": {
    "collapsed": false
   }
  },
  {
   "cell_type": "code",
   "execution_count": 34,
   "outputs": [],
   "source": [
    "end_campaign = end_campaign.set_index('user_id')\n",
    "end_campaign['cluster'] = end_campaign['cluster'].map(cluster_dict)\n",
    "end_campaign = end_campaign.add_prefix('Post_')"
   ],
   "metadata": {
    "collapsed": false
   }
  },
  {
   "cell_type": "code",
   "execution_count": 35,
   "outputs": [
    {
     "data": {
      "text/plain": "                                      Post_date Post_cluster  Post_time  \\\nuser_id                                                                   \n00028a82-a5ff-40d3-b21d-6bc9afed1d77 2023-02-16      Churned      424.0   \n000726e1-1998-4f34-892f-ffa55f28988f 2023-02-16      At Risk      303.0   \n0017ca6e-2e8d-46cd-abd7-8dd98f332d4a 2023-02-16      At Risk      155.0   \ne7e15eaf-0e7a-482b-9449-fe3ee7483073 2023-02-16      At Risk      508.0   \n001b67c1-8c44-471d-b464-1dfe9ca4d85a 2023-02-16      At Risk      175.0   \n...                                         ...          ...        ...   \n4f1f06d7-3727-42c6-82f3-30fe9ffc88f8 2023-02-16      Churned      332.0   \n4f210737-df98-4b06-8d89-a6b4bf232430 2023-02-16      At Risk      255.0   \n4f2bd78b-348e-4d8e-b0b1-898667f8438d 2023-02-16      Churned      385.0   \na3e20c6d-2f36-4a9d-9798-5eb0ceda68e4 2023-02-16      Churned      469.0   \na3e55e73-73f7-48ba-862e-d35e11d3d1e7 2023-02-16      At Risk      174.0   \n\n                                      Post_monetary  Post_frequency  \\\nuser_id                                                               \n00028a82-a5ff-40d3-b21d-6bc9afed1d77           2.15           0.144   \n000726e1-1998-4f34-892f-ffa55f28988f           0.92           0.050   \n0017ca6e-2e8d-46cd-abd7-8dd98f332d4a           0.58           0.006   \ne7e15eaf-0e7a-482b-9449-fe3ee7483073           1.81           0.010   \n001b67c1-8c44-471d-b464-1dfe9ca4d85a           0.23           0.011   \n...                                             ...             ...   \n4f1f06d7-3727-42c6-82f3-30fe9ffc88f8           0.15           0.006   \n4f210737-df98-4b06-8d89-a6b4bf232430           0.82           0.012   \n4f2bd78b-348e-4d8e-b0b1-898667f8438d           0.21           0.005   \na3e20c6d-2f36-4a9d-9798-5eb0ceda68e4           4.45           0.081   \na3e55e73-73f7-48ba-862e-d35e11d3d1e7           0.24           0.011   \n\n                                      Post_recency  \nuser_id                                             \n00028a82-a5ff-40d3-b21d-6bc9afed1d77         313.0  \n000726e1-1998-4f34-892f-ffa55f28988f         262.0  \n0017ca6e-2e8d-46cd-abd7-8dd98f332d4a         155.0  \ne7e15eaf-0e7a-482b-9449-fe3ee7483073         280.0  \n001b67c1-8c44-471d-b464-1dfe9ca4d85a         175.0  \n...                                            ...  \n4f1f06d7-3727-42c6-82f3-30fe9ffc88f8         303.0  \n4f210737-df98-4b06-8d89-a6b4bf232430         237.0  \n4f2bd78b-348e-4d8e-b0b1-898667f8438d         333.0  \na3e20c6d-2f36-4a9d-9798-5eb0ceda68e4         362.0  \na3e55e73-73f7-48ba-862e-d35e11d3d1e7         174.0  \n\n[162286 rows x 6 columns]",
      "text/html": "<div>\n<style scoped>\n    .dataframe tbody tr th:only-of-type {\n        vertical-align: middle;\n    }\n\n    .dataframe tbody tr th {\n        vertical-align: top;\n    }\n\n    .dataframe thead th {\n        text-align: right;\n    }\n</style>\n<table border=\"1\" class=\"dataframe\">\n  <thead>\n    <tr style=\"text-align: right;\">\n      <th></th>\n      <th>Post_date</th>\n      <th>Post_cluster</th>\n      <th>Post_time</th>\n      <th>Post_monetary</th>\n      <th>Post_frequency</th>\n      <th>Post_recency</th>\n    </tr>\n    <tr>\n      <th>user_id</th>\n      <th></th>\n      <th></th>\n      <th></th>\n      <th></th>\n      <th></th>\n      <th></th>\n    </tr>\n  </thead>\n  <tbody>\n    <tr>\n      <th>00028a82-a5ff-40d3-b21d-6bc9afed1d77</th>\n      <td>2023-02-16</td>\n      <td>Churned</td>\n      <td>424.0</td>\n      <td>2.15</td>\n      <td>0.144</td>\n      <td>313.0</td>\n    </tr>\n    <tr>\n      <th>000726e1-1998-4f34-892f-ffa55f28988f</th>\n      <td>2023-02-16</td>\n      <td>At Risk</td>\n      <td>303.0</td>\n      <td>0.92</td>\n      <td>0.050</td>\n      <td>262.0</td>\n    </tr>\n    <tr>\n      <th>0017ca6e-2e8d-46cd-abd7-8dd98f332d4a</th>\n      <td>2023-02-16</td>\n      <td>At Risk</td>\n      <td>155.0</td>\n      <td>0.58</td>\n      <td>0.006</td>\n      <td>155.0</td>\n    </tr>\n    <tr>\n      <th>e7e15eaf-0e7a-482b-9449-fe3ee7483073</th>\n      <td>2023-02-16</td>\n      <td>At Risk</td>\n      <td>508.0</td>\n      <td>1.81</td>\n      <td>0.010</td>\n      <td>280.0</td>\n    </tr>\n    <tr>\n      <th>001b67c1-8c44-471d-b464-1dfe9ca4d85a</th>\n      <td>2023-02-16</td>\n      <td>At Risk</td>\n      <td>175.0</td>\n      <td>0.23</td>\n      <td>0.011</td>\n      <td>175.0</td>\n    </tr>\n    <tr>\n      <th>...</th>\n      <td>...</td>\n      <td>...</td>\n      <td>...</td>\n      <td>...</td>\n      <td>...</td>\n      <td>...</td>\n    </tr>\n    <tr>\n      <th>4f1f06d7-3727-42c6-82f3-30fe9ffc88f8</th>\n      <td>2023-02-16</td>\n      <td>Churned</td>\n      <td>332.0</td>\n      <td>0.15</td>\n      <td>0.006</td>\n      <td>303.0</td>\n    </tr>\n    <tr>\n      <th>4f210737-df98-4b06-8d89-a6b4bf232430</th>\n      <td>2023-02-16</td>\n      <td>At Risk</td>\n      <td>255.0</td>\n      <td>0.82</td>\n      <td>0.012</td>\n      <td>237.0</td>\n    </tr>\n    <tr>\n      <th>4f2bd78b-348e-4d8e-b0b1-898667f8438d</th>\n      <td>2023-02-16</td>\n      <td>Churned</td>\n      <td>385.0</td>\n      <td>0.21</td>\n      <td>0.005</td>\n      <td>333.0</td>\n    </tr>\n    <tr>\n      <th>a3e20c6d-2f36-4a9d-9798-5eb0ceda68e4</th>\n      <td>2023-02-16</td>\n      <td>Churned</td>\n      <td>469.0</td>\n      <td>4.45</td>\n      <td>0.081</td>\n      <td>362.0</td>\n    </tr>\n    <tr>\n      <th>a3e55e73-73f7-48ba-862e-d35e11d3d1e7</th>\n      <td>2023-02-16</td>\n      <td>At Risk</td>\n      <td>174.0</td>\n      <td>0.24</td>\n      <td>0.011</td>\n      <td>174.0</td>\n    </tr>\n  </tbody>\n</table>\n<p>162286 rows × 6 columns</p>\n</div>"
     },
     "execution_count": 35,
     "metadata": {},
     "output_type": "execute_result"
    }
   ],
   "source": [
    "end_campaign"
   ],
   "metadata": {
    "collapsed": false
   }
  },
  {
   "cell_type": "code",
   "execution_count": 36,
   "outputs": [
    {
     "data": {
      "text/plain": "                                     user_id   Pre_date Pre_cluster  Pre_time  \\\n0       fdb66bc4-a6d2-4815-ac89-506ac9c1b7d7 2023-01-18     At Risk     193.0   \n1       48ae96e3-ccd0-4b94-84ae-ab280befa661 2023-01-18     At Risk     499.0   \n2       fdbaf1c9-3742-49a9-a8d5-94ba4feeb036 2023-01-18     Churned     332.0   \n3       48b57682-f148-4861-b5ee-12e00ed1e6f8 2023-01-18     At Risk     377.0   \n4       fdc233bd-a16b-4c5d-8dce-ad9b675747c3 2023-01-18     At Risk     312.0   \n...                                      ...        ...         ...       ...   \n162281  6fda059b-3eb5-48cf-8011-1da0174b5498 2023-01-18     Churned     364.0   \n162282  6fe1d451-8f7f-4008-b079-95ba814a3cce 2023-01-18     At Risk     283.0   \n162283  6fe37ff6-f7a4-4904-b8b6-b0d270048200 2023-01-18     Churned     341.0   \n162284  6fefbc13-2b74-4157-aec1-3c6e11fed16c 2023-01-18     Churned     331.0   \n162285  6ff21d34-8256-4323-951e-ad07b9e2fdf3 2023-01-18     At Risk     254.0   \n\n        Pre_monetary  Pre_frequency  Pre_recency  Post_date Post_cluster  \\\n0               3.34          0.021        155.0 2023-02-16      At Risk   \n1               6.26          0.082        304.0 2023-02-16      At Risk   \n2               0.27          0.012        317.0 2023-02-16      Churned   \n3               0.86          0.013        241.0 2023-02-16      Churned   \n4               4.46          0.054        226.0 2023-02-16      At Risk   \n...              ...            ...          ...        ...          ...   \n162281          1.95          0.022        336.0 2023-02-16      Churned   \n162282          0.35          0.021        227.0 2023-02-16      At Risk   \n162283          1.89          0.029        323.0 2023-02-16      Churned   \n162284          0.15          0.003        331.0 2023-02-16      Churned   \n162285          0.44          0.008        253.0 2023-02-16      Engaged   \n\n        Post_time  Post_monetary  Post_frequency  Post_recency  \\\n0           222.0           2.90           0.018         184.0   \n1           528.0           5.92           0.078         333.0   \n2           361.0           0.25           0.011         346.0   \n3           406.0           0.80           0.012         270.0   \n4           341.0           4.08           0.050         255.0   \n...           ...            ...             ...           ...   \n162281      393.0           1.80           0.020         365.0   \n162282      312.0           0.32           0.019         256.0   \n162283      370.0           1.74           0.027         352.0   \n162284      360.0           0.14           0.003         360.0   \n162285      283.0           0.82           0.011           6.0   \n\n                movement  \n0       At Risk->At Risk  \n1       At Risk->At Risk  \n2       Churned->Churned  \n3       At Risk->Churned  \n4       At Risk->At Risk  \n...                  ...  \n162281  Churned->Churned  \n162282  At Risk->At Risk  \n162283  Churned->Churned  \n162284  Churned->Churned  \n162285  At Risk->Engaged  \n\n[162286 rows x 14 columns]",
      "text/html": "<div>\n<style scoped>\n    .dataframe tbody tr th:only-of-type {\n        vertical-align: middle;\n    }\n\n    .dataframe tbody tr th {\n        vertical-align: top;\n    }\n\n    .dataframe thead th {\n        text-align: right;\n    }\n</style>\n<table border=\"1\" class=\"dataframe\">\n  <thead>\n    <tr style=\"text-align: right;\">\n      <th></th>\n      <th>user_id</th>\n      <th>Pre_date</th>\n      <th>Pre_cluster</th>\n      <th>Pre_time</th>\n      <th>Pre_monetary</th>\n      <th>Pre_frequency</th>\n      <th>Pre_recency</th>\n      <th>Post_date</th>\n      <th>Post_cluster</th>\n      <th>Post_time</th>\n      <th>Post_monetary</th>\n      <th>Post_frequency</th>\n      <th>Post_recency</th>\n      <th>movement</th>\n    </tr>\n  </thead>\n  <tbody>\n    <tr>\n      <th>0</th>\n      <td>fdb66bc4-a6d2-4815-ac89-506ac9c1b7d7</td>\n      <td>2023-01-18</td>\n      <td>At Risk</td>\n      <td>193.0</td>\n      <td>3.34</td>\n      <td>0.021</td>\n      <td>155.0</td>\n      <td>2023-02-16</td>\n      <td>At Risk</td>\n      <td>222.0</td>\n      <td>2.90</td>\n      <td>0.018</td>\n      <td>184.0</td>\n      <td>At Risk-&gt;At Risk</td>\n    </tr>\n    <tr>\n      <th>1</th>\n      <td>48ae96e3-ccd0-4b94-84ae-ab280befa661</td>\n      <td>2023-01-18</td>\n      <td>At Risk</td>\n      <td>499.0</td>\n      <td>6.26</td>\n      <td>0.082</td>\n      <td>304.0</td>\n      <td>2023-02-16</td>\n      <td>At Risk</td>\n      <td>528.0</td>\n      <td>5.92</td>\n      <td>0.078</td>\n      <td>333.0</td>\n      <td>At Risk-&gt;At Risk</td>\n    </tr>\n    <tr>\n      <th>2</th>\n      <td>fdbaf1c9-3742-49a9-a8d5-94ba4feeb036</td>\n      <td>2023-01-18</td>\n      <td>Churned</td>\n      <td>332.0</td>\n      <td>0.27</td>\n      <td>0.012</td>\n      <td>317.0</td>\n      <td>2023-02-16</td>\n      <td>Churned</td>\n      <td>361.0</td>\n      <td>0.25</td>\n      <td>0.011</td>\n      <td>346.0</td>\n      <td>Churned-&gt;Churned</td>\n    </tr>\n    <tr>\n      <th>3</th>\n      <td>48b57682-f148-4861-b5ee-12e00ed1e6f8</td>\n      <td>2023-01-18</td>\n      <td>At Risk</td>\n      <td>377.0</td>\n      <td>0.86</td>\n      <td>0.013</td>\n      <td>241.0</td>\n      <td>2023-02-16</td>\n      <td>Churned</td>\n      <td>406.0</td>\n      <td>0.80</td>\n      <td>0.012</td>\n      <td>270.0</td>\n      <td>At Risk-&gt;Churned</td>\n    </tr>\n    <tr>\n      <th>4</th>\n      <td>fdc233bd-a16b-4c5d-8dce-ad9b675747c3</td>\n      <td>2023-01-18</td>\n      <td>At Risk</td>\n      <td>312.0</td>\n      <td>4.46</td>\n      <td>0.054</td>\n      <td>226.0</td>\n      <td>2023-02-16</td>\n      <td>At Risk</td>\n      <td>341.0</td>\n      <td>4.08</td>\n      <td>0.050</td>\n      <td>255.0</td>\n      <td>At Risk-&gt;At Risk</td>\n    </tr>\n    <tr>\n      <th>...</th>\n      <td>...</td>\n      <td>...</td>\n      <td>...</td>\n      <td>...</td>\n      <td>...</td>\n      <td>...</td>\n      <td>...</td>\n      <td>...</td>\n      <td>...</td>\n      <td>...</td>\n      <td>...</td>\n      <td>...</td>\n      <td>...</td>\n      <td>...</td>\n    </tr>\n    <tr>\n      <th>162281</th>\n      <td>6fda059b-3eb5-48cf-8011-1da0174b5498</td>\n      <td>2023-01-18</td>\n      <td>Churned</td>\n      <td>364.0</td>\n      <td>1.95</td>\n      <td>0.022</td>\n      <td>336.0</td>\n      <td>2023-02-16</td>\n      <td>Churned</td>\n      <td>393.0</td>\n      <td>1.80</td>\n      <td>0.020</td>\n      <td>365.0</td>\n      <td>Churned-&gt;Churned</td>\n    </tr>\n    <tr>\n      <th>162282</th>\n      <td>6fe1d451-8f7f-4008-b079-95ba814a3cce</td>\n      <td>2023-01-18</td>\n      <td>At Risk</td>\n      <td>283.0</td>\n      <td>0.35</td>\n      <td>0.021</td>\n      <td>227.0</td>\n      <td>2023-02-16</td>\n      <td>At Risk</td>\n      <td>312.0</td>\n      <td>0.32</td>\n      <td>0.019</td>\n      <td>256.0</td>\n      <td>At Risk-&gt;At Risk</td>\n    </tr>\n    <tr>\n      <th>162283</th>\n      <td>6fe37ff6-f7a4-4904-b8b6-b0d270048200</td>\n      <td>2023-01-18</td>\n      <td>Churned</td>\n      <td>341.0</td>\n      <td>1.89</td>\n      <td>0.029</td>\n      <td>323.0</td>\n      <td>2023-02-16</td>\n      <td>Churned</td>\n      <td>370.0</td>\n      <td>1.74</td>\n      <td>0.027</td>\n      <td>352.0</td>\n      <td>Churned-&gt;Churned</td>\n    </tr>\n    <tr>\n      <th>162284</th>\n      <td>6fefbc13-2b74-4157-aec1-3c6e11fed16c</td>\n      <td>2023-01-18</td>\n      <td>Churned</td>\n      <td>331.0</td>\n      <td>0.15</td>\n      <td>0.003</td>\n      <td>331.0</td>\n      <td>2023-02-16</td>\n      <td>Churned</td>\n      <td>360.0</td>\n      <td>0.14</td>\n      <td>0.003</td>\n      <td>360.0</td>\n      <td>Churned-&gt;Churned</td>\n    </tr>\n    <tr>\n      <th>162285</th>\n      <td>6ff21d34-8256-4323-951e-ad07b9e2fdf3</td>\n      <td>2023-01-18</td>\n      <td>At Risk</td>\n      <td>254.0</td>\n      <td>0.44</td>\n      <td>0.008</td>\n      <td>253.0</td>\n      <td>2023-02-16</td>\n      <td>Engaged</td>\n      <td>283.0</td>\n      <td>0.82</td>\n      <td>0.011</td>\n      <td>6.0</td>\n      <td>At Risk-&gt;Engaged</td>\n    </tr>\n  </tbody>\n</table>\n<p>162286 rows × 14 columns</p>\n</div>"
     },
     "execution_count": 36,
     "metadata": {},
     "output_type": "execute_result"
    }
   ],
   "source": [
    "# Merge Pre and Post campaign\n",
    "rfm_info = pd.merge(start_campaign, end_campaign, left_index=True, right_index=True)\n",
    "rfm_info = rfm_info.reset_index()\n",
    "rfm_info['movement'] = rfm_info['Pre_cluster'] + '->' + rfm_info['Post_cluster']\n",
    "rfm_info"
   ],
   "metadata": {
    "collapsed": false
   }
  },
  {
   "cell_type": "markdown",
   "source": [
    "## Purchases"
   ],
   "metadata": {
    "collapsed": false
   }
  },
  {
   "cell_type": "code",
   "execution_count": 66,
   "outputs": [],
   "source": [
    "# Purchases for the users in the specific date\n",
    "query_p = '''\n",
    "        select\n",
    "               t.user_id,\n",
    "               count(transaction_id) as purchases,\n",
    "                -1*sum(amount) as total_amount\n",
    "        from analytics_bi.transactions as t\n",
    "        where t.type in ('PURCHASE')\n",
    "          and t.timestamp_mx_created_at between '{}'::date and '{}'::date\n",
    "          and t.state = 'SETTLED'\n",
    "          and t.source_account_internal_id <> '0000000000000000'\n",
    "          and t.source_account_internal_id <> '00000000-0000-0000-0000-000000000000'\n",
    "          and t.provider_id <> 'KLAR'\n",
    "          and t.user_id in {}\n",
    "        group by t.user_id\n",
    "'''"
   ],
   "metadata": {
    "collapsed": false
   }
  },
  {
   "cell_type": "code",
   "execution_count": 70,
   "outputs": [
    {
     "name": "stdout",
     "output_type": "stream",
     "text": [
      "45.59776997566223\n"
     ]
    }
   ],
   "source": [
    "# Purchases\n",
    "start_time = time.time()\n",
    "query_purchases = query_p.format(dates[0],dates[1], tuple(cohort_info.user_id.to_list()))\n",
    "purchases = pd.read_sql_query(query_purchases, cnx)\n",
    "print(time.time()-start_time)"
   ],
   "metadata": {
    "collapsed": false
   }
  },
  {
   "cell_type": "code",
   "execution_count": 71,
   "outputs": [
    {
     "data": {
      "text/plain": "                                   user_id  purchases  total_amount\n0     ed922324-d303-4c9c-89db-5f74a81eaadc          2        174.00\n1     ee7f3e32-9b95-4f28-8b84-50dbefa6fae0          1        179.00\n2     eeab229a-9e77-49d3-93da-3f450c166657          2        777.00\n3     ef04d072-19b5-404e-97bd-6fb77d22e4b0          3       1495.00\n4     ef522dbd-2f9d-4aaa-919b-181a797af4eb          1        400.00\n...                                    ...        ...           ...\n4220  de3511d5-3a28-4464-93a9-b98d087ab92f          2        408.00\n4221  de4c9d02-f0b1-4c8c-843a-4578990b22fb          1         60.00\n4222  e4b843e6-177f-4d5f-a1df-c87a646174cf          1         70.34\n4223  e701ebe3-9858-4f23-9911-0a7d7ca1edc6          1          1.00\n4224  ecc690c6-37a0-45d0-af05-4046cd3243a8          1        159.00\n\n[4225 rows x 3 columns]",
      "text/html": "<div>\n<style scoped>\n    .dataframe tbody tr th:only-of-type {\n        vertical-align: middle;\n    }\n\n    .dataframe tbody tr th {\n        vertical-align: top;\n    }\n\n    .dataframe thead th {\n        text-align: right;\n    }\n</style>\n<table border=\"1\" class=\"dataframe\">\n  <thead>\n    <tr style=\"text-align: right;\">\n      <th></th>\n      <th>user_id</th>\n      <th>purchases</th>\n      <th>total_amount</th>\n    </tr>\n  </thead>\n  <tbody>\n    <tr>\n      <th>0</th>\n      <td>ed922324-d303-4c9c-89db-5f74a81eaadc</td>\n      <td>2</td>\n      <td>174.00</td>\n    </tr>\n    <tr>\n      <th>1</th>\n      <td>ee7f3e32-9b95-4f28-8b84-50dbefa6fae0</td>\n      <td>1</td>\n      <td>179.00</td>\n    </tr>\n    <tr>\n      <th>2</th>\n      <td>eeab229a-9e77-49d3-93da-3f450c166657</td>\n      <td>2</td>\n      <td>777.00</td>\n    </tr>\n    <tr>\n      <th>3</th>\n      <td>ef04d072-19b5-404e-97bd-6fb77d22e4b0</td>\n      <td>3</td>\n      <td>1495.00</td>\n    </tr>\n    <tr>\n      <th>4</th>\n      <td>ef522dbd-2f9d-4aaa-919b-181a797af4eb</td>\n      <td>1</td>\n      <td>400.00</td>\n    </tr>\n    <tr>\n      <th>...</th>\n      <td>...</td>\n      <td>...</td>\n      <td>...</td>\n    </tr>\n    <tr>\n      <th>4220</th>\n      <td>de3511d5-3a28-4464-93a9-b98d087ab92f</td>\n      <td>2</td>\n      <td>408.00</td>\n    </tr>\n    <tr>\n      <th>4221</th>\n      <td>de4c9d02-f0b1-4c8c-843a-4578990b22fb</td>\n      <td>1</td>\n      <td>60.00</td>\n    </tr>\n    <tr>\n      <th>4222</th>\n      <td>e4b843e6-177f-4d5f-a1df-c87a646174cf</td>\n      <td>1</td>\n      <td>70.34</td>\n    </tr>\n    <tr>\n      <th>4223</th>\n      <td>e701ebe3-9858-4f23-9911-0a7d7ca1edc6</td>\n      <td>1</td>\n      <td>1.00</td>\n    </tr>\n    <tr>\n      <th>4224</th>\n      <td>ecc690c6-37a0-45d0-af05-4046cd3243a8</td>\n      <td>1</td>\n      <td>159.00</td>\n    </tr>\n  </tbody>\n</table>\n<p>4225 rows × 3 columns</p>\n</div>"
     },
     "execution_count": 71,
     "metadata": {},
     "output_type": "execute_result"
    }
   ],
   "source": [
    "purchases"
   ],
   "metadata": {
    "collapsed": false
   }
  },
  {
   "cell_type": "markdown",
   "source": [
    "# Add info"
   ],
   "metadata": {
    "collapsed": false
   }
  },
  {
   "cell_type": "code",
   "execution_count": 83,
   "outputs": [
    {
     "data": {
      "text/plain": "                                     user_id        cohort subsegment  \\\n0       000017e5-eeb7-49b5-836b-189f64fb21f6       Churned   50 pesos   \n1       00006457-7797-46e8-87bf-7cf88f93f7a3       Churned   50 pesos   \n2       000162b9-0297-435e-ae32-375c7fe1a082       Churned  100 pesos   \n3       0001be16-8430-4314-bac4-f23119645859  More at risk  100 pesos   \n4       0001e46b-bade-479e-967f-0481ed7318cb  More at risk   50 pesos   \n...                                      ...           ...        ...   \n162281  fffe0258-489b-46b8-b993-5e89216ce91c  More at risk   50 pesos   \n162282  fffe9782-847e-4b40-a37b-b9784396c772  More at risk  100 pesos   \n162283  fffefd49-2f4b-45ae-b235-9fb777865752  More at risk   50 pesos   \n162284  ffffa15a-5b9e-44fa-8725-a0e844c103d6  More at risk   50 pesos   \n162285  ffffe1c1-d79d-4643-a2ee-b0f7ae29f736       Churned   50 pesos   \n\n          segment   Pre_date Pre_cluster  Pre_time  Pre_monetary  \\\n0         Control 2023-01-18     Churned     389.0          0.44   \n1       Treatment 2023-01-18     Churned     319.0          0.67   \n2         Control 2023-01-18     At Risk     665.0          4.88   \n3       Treatment 2023-01-18     At Risk     205.0          1.32   \n4       Treatment 2023-01-18     At Risk     181.0          0.83   \n...           ...        ...         ...       ...           ...   \n162281  Treatment 2023-01-18     At Risk     244.0          0.41   \n162282  Treatment 2023-01-18     At Risk     204.0          0.98   \n162283  Treatment 2023-01-18     At Risk     146.0          0.42   \n162284  Treatment 2023-01-18     At Risk     263.0          0.30   \n162285  Treatment 2023-01-18     At Risk     807.0         27.07   \n\n        Pre_frequency  Pre_recency  Post_date Post_cluster  Post_time  \\\n0               0.015        335.0 2023-02-16      Churned      418.0   \n1               0.016        293.0 2023-02-16      Churned      348.0   \n2               0.041        331.0 2023-02-16      At Risk      694.0   \n3               0.015        197.0 2023-02-16      At Risk      234.0   \n4               0.017        181.0 2023-02-16      At Risk      210.0   \n...               ...          ...        ...          ...        ...   \n162281          0.016        196.0 2023-02-16      At Risk      273.0   \n162282          0.015        184.0 2023-02-16      At Risk      233.0   \n162283          0.014        137.0 2023-02-16      Engaged      175.0   \n162284          0.011        258.0 2023-02-16      At Risk      292.0   \n162285          0.083        254.0 2023-02-16      At Risk      836.0   \n\n        Post_monetary  Post_frequency  Post_recency          movement  \\\n0                0.41           0.014         364.0  Churned->Churned   \n1                0.61           0.014         322.0  Churned->Churned   \n2                4.67           0.039         360.0  At Risk->At Risk   \n3                1.16           0.013         226.0  At Risk->At Risk   \n4                0.71           0.014         210.0  At Risk->At Risk   \n...               ...             ...           ...               ...   \n162281           0.37           0.015         225.0  At Risk->At Risk   \n162282           0.86           0.013         213.0  At Risk->At Risk   \n162283           0.35           0.017          21.0  At Risk->Engaged   \n162284           0.27           0.010         287.0  At Risk->At Risk   \n162285          26.13           0.080         283.0  At Risk->At Risk   \n\n        purchases  total_amount  \n0             NaN           NaN  \n1             NaN           NaN  \n2             NaN           NaN  \n3             NaN           NaN  \n4             NaN           NaN  \n...           ...           ...  \n162281        NaN           NaN  \n162282        NaN           NaN  \n162283        1.0           0.0  \n162284        NaN           NaN  \n162285        NaN           NaN  \n\n[162286 rows x 19 columns]",
      "text/html": "<div>\n<style scoped>\n    .dataframe tbody tr th:only-of-type {\n        vertical-align: middle;\n    }\n\n    .dataframe tbody tr th {\n        vertical-align: top;\n    }\n\n    .dataframe thead th {\n        text-align: right;\n    }\n</style>\n<table border=\"1\" class=\"dataframe\">\n  <thead>\n    <tr style=\"text-align: right;\">\n      <th></th>\n      <th>user_id</th>\n      <th>cohort</th>\n      <th>subsegment</th>\n      <th>segment</th>\n      <th>Pre_date</th>\n      <th>Pre_cluster</th>\n      <th>Pre_time</th>\n      <th>Pre_monetary</th>\n      <th>Pre_frequency</th>\n      <th>Pre_recency</th>\n      <th>Post_date</th>\n      <th>Post_cluster</th>\n      <th>Post_time</th>\n      <th>Post_monetary</th>\n      <th>Post_frequency</th>\n      <th>Post_recency</th>\n      <th>movement</th>\n      <th>purchases</th>\n      <th>total_amount</th>\n    </tr>\n  </thead>\n  <tbody>\n    <tr>\n      <th>0</th>\n      <td>000017e5-eeb7-49b5-836b-189f64fb21f6</td>\n      <td>Churned</td>\n      <td>50 pesos</td>\n      <td>Control</td>\n      <td>2023-01-18</td>\n      <td>Churned</td>\n      <td>389.0</td>\n      <td>0.44</td>\n      <td>0.015</td>\n      <td>335.0</td>\n      <td>2023-02-16</td>\n      <td>Churned</td>\n      <td>418.0</td>\n      <td>0.41</td>\n      <td>0.014</td>\n      <td>364.0</td>\n      <td>Churned-&gt;Churned</td>\n      <td>NaN</td>\n      <td>NaN</td>\n    </tr>\n    <tr>\n      <th>1</th>\n      <td>00006457-7797-46e8-87bf-7cf88f93f7a3</td>\n      <td>Churned</td>\n      <td>50 pesos</td>\n      <td>Treatment</td>\n      <td>2023-01-18</td>\n      <td>Churned</td>\n      <td>319.0</td>\n      <td>0.67</td>\n      <td>0.016</td>\n      <td>293.0</td>\n      <td>2023-02-16</td>\n      <td>Churned</td>\n      <td>348.0</td>\n      <td>0.61</td>\n      <td>0.014</td>\n      <td>322.0</td>\n      <td>Churned-&gt;Churned</td>\n      <td>NaN</td>\n      <td>NaN</td>\n    </tr>\n    <tr>\n      <th>2</th>\n      <td>000162b9-0297-435e-ae32-375c7fe1a082</td>\n      <td>Churned</td>\n      <td>100 pesos</td>\n      <td>Control</td>\n      <td>2023-01-18</td>\n      <td>At Risk</td>\n      <td>665.0</td>\n      <td>4.88</td>\n      <td>0.041</td>\n      <td>331.0</td>\n      <td>2023-02-16</td>\n      <td>At Risk</td>\n      <td>694.0</td>\n      <td>4.67</td>\n      <td>0.039</td>\n      <td>360.0</td>\n      <td>At Risk-&gt;At Risk</td>\n      <td>NaN</td>\n      <td>NaN</td>\n    </tr>\n    <tr>\n      <th>3</th>\n      <td>0001be16-8430-4314-bac4-f23119645859</td>\n      <td>More at risk</td>\n      <td>100 pesos</td>\n      <td>Treatment</td>\n      <td>2023-01-18</td>\n      <td>At Risk</td>\n      <td>205.0</td>\n      <td>1.32</td>\n      <td>0.015</td>\n      <td>197.0</td>\n      <td>2023-02-16</td>\n      <td>At Risk</td>\n      <td>234.0</td>\n      <td>1.16</td>\n      <td>0.013</td>\n      <td>226.0</td>\n      <td>At Risk-&gt;At Risk</td>\n      <td>NaN</td>\n      <td>NaN</td>\n    </tr>\n    <tr>\n      <th>4</th>\n      <td>0001e46b-bade-479e-967f-0481ed7318cb</td>\n      <td>More at risk</td>\n      <td>50 pesos</td>\n      <td>Treatment</td>\n      <td>2023-01-18</td>\n      <td>At Risk</td>\n      <td>181.0</td>\n      <td>0.83</td>\n      <td>0.017</td>\n      <td>181.0</td>\n      <td>2023-02-16</td>\n      <td>At Risk</td>\n      <td>210.0</td>\n      <td>0.71</td>\n      <td>0.014</td>\n      <td>210.0</td>\n      <td>At Risk-&gt;At Risk</td>\n      <td>NaN</td>\n      <td>NaN</td>\n    </tr>\n    <tr>\n      <th>...</th>\n      <td>...</td>\n      <td>...</td>\n      <td>...</td>\n      <td>...</td>\n      <td>...</td>\n      <td>...</td>\n      <td>...</td>\n      <td>...</td>\n      <td>...</td>\n      <td>...</td>\n      <td>...</td>\n      <td>...</td>\n      <td>...</td>\n      <td>...</td>\n      <td>...</td>\n      <td>...</td>\n      <td>...</td>\n      <td>...</td>\n      <td>...</td>\n    </tr>\n    <tr>\n      <th>162281</th>\n      <td>fffe0258-489b-46b8-b993-5e89216ce91c</td>\n      <td>More at risk</td>\n      <td>50 pesos</td>\n      <td>Treatment</td>\n      <td>2023-01-18</td>\n      <td>At Risk</td>\n      <td>244.0</td>\n      <td>0.41</td>\n      <td>0.016</td>\n      <td>196.0</td>\n      <td>2023-02-16</td>\n      <td>At Risk</td>\n      <td>273.0</td>\n      <td>0.37</td>\n      <td>0.015</td>\n      <td>225.0</td>\n      <td>At Risk-&gt;At Risk</td>\n      <td>NaN</td>\n      <td>NaN</td>\n    </tr>\n    <tr>\n      <th>162282</th>\n      <td>fffe9782-847e-4b40-a37b-b9784396c772</td>\n      <td>More at risk</td>\n      <td>100 pesos</td>\n      <td>Treatment</td>\n      <td>2023-01-18</td>\n      <td>At Risk</td>\n      <td>204.0</td>\n      <td>0.98</td>\n      <td>0.015</td>\n      <td>184.0</td>\n      <td>2023-02-16</td>\n      <td>At Risk</td>\n      <td>233.0</td>\n      <td>0.86</td>\n      <td>0.013</td>\n      <td>213.0</td>\n      <td>At Risk-&gt;At Risk</td>\n      <td>NaN</td>\n      <td>NaN</td>\n    </tr>\n    <tr>\n      <th>162283</th>\n      <td>fffefd49-2f4b-45ae-b235-9fb777865752</td>\n      <td>More at risk</td>\n      <td>50 pesos</td>\n      <td>Treatment</td>\n      <td>2023-01-18</td>\n      <td>At Risk</td>\n      <td>146.0</td>\n      <td>0.42</td>\n      <td>0.014</td>\n      <td>137.0</td>\n      <td>2023-02-16</td>\n      <td>Engaged</td>\n      <td>175.0</td>\n      <td>0.35</td>\n      <td>0.017</td>\n      <td>21.0</td>\n      <td>At Risk-&gt;Engaged</td>\n      <td>1.0</td>\n      <td>0.0</td>\n    </tr>\n    <tr>\n      <th>162284</th>\n      <td>ffffa15a-5b9e-44fa-8725-a0e844c103d6</td>\n      <td>More at risk</td>\n      <td>50 pesos</td>\n      <td>Treatment</td>\n      <td>2023-01-18</td>\n      <td>At Risk</td>\n      <td>263.0</td>\n      <td>0.30</td>\n      <td>0.011</td>\n      <td>258.0</td>\n      <td>2023-02-16</td>\n      <td>At Risk</td>\n      <td>292.0</td>\n      <td>0.27</td>\n      <td>0.010</td>\n      <td>287.0</td>\n      <td>At Risk-&gt;At Risk</td>\n      <td>NaN</td>\n      <td>NaN</td>\n    </tr>\n    <tr>\n      <th>162285</th>\n      <td>ffffe1c1-d79d-4643-a2ee-b0f7ae29f736</td>\n      <td>Churned</td>\n      <td>50 pesos</td>\n      <td>Treatment</td>\n      <td>2023-01-18</td>\n      <td>At Risk</td>\n      <td>807.0</td>\n      <td>27.07</td>\n      <td>0.083</td>\n      <td>254.0</td>\n      <td>2023-02-16</td>\n      <td>At Risk</td>\n      <td>836.0</td>\n      <td>26.13</td>\n      <td>0.080</td>\n      <td>283.0</td>\n      <td>At Risk-&gt;At Risk</td>\n      <td>NaN</td>\n      <td>NaN</td>\n    </tr>\n  </tbody>\n</table>\n<p>162286 rows × 19 columns</p>\n</div>"
     },
     "execution_count": 83,
     "metadata": {},
     "output_type": "execute_result"
    }
   ],
   "source": [
    "complete_info = pd.merge(cohort_info, rfm_info, on='user_id')\n",
    "complete_info = pd.merge(complete_info, purchases, on='user_id', how='left')\n",
    "complete_info"
   ],
   "metadata": {
    "collapsed": false
   }
  },
  {
   "cell_type": "markdown",
   "source": [
    "# Cohorts"
   ],
   "metadata": {
    "collapsed": false
   }
  },
  {
   "cell_type": "code",
   "execution_count": 100,
   "outputs": [
    {
     "name": "stderr",
     "output_type": "stream",
     "text": [
      "  0%|          | 0/2 [00:00<?, ?it/s]"
     ]
    },
    {
     "name": "stdout",
     "output_type": "stream",
     "text": [
      "Control\n"
     ]
    },
    {
     "name": "stderr",
     "output_type": "stream",
     "text": [
      " 50%|█████     | 1/2 [00:00<00:00,  2.65it/s]"
     ]
    },
    {
     "name": "stdout",
     "output_type": "stream",
     "text": [
      "Churned-Control-Overall\n",
      "Treatment\n"
     ]
    },
    {
     "name": "stderr",
     "output_type": "stream",
     "text": [
      "100%|██████████| 2/2 [00:00<00:00,  3.04it/s]\n"
     ]
    },
    {
     "name": "stdout",
     "output_type": "stream",
     "text": [
      "Churned-Treatment-Overall\n",
      "0.6626167297363281 seconds\n"
     ]
    },
    {
     "name": "stderr",
     "output_type": "stream",
     "text": [
      "  0%|          | 0/2 [00:00<?, ?it/s]"
     ]
    },
    {
     "name": "stdout",
     "output_type": "stream",
     "text": [
      "Treatment\n"
     ]
    },
    {
     "name": "stderr",
     "output_type": "stream",
     "text": [
      " 50%|█████     | 1/2 [00:00<00:00,  2.70it/s]"
     ]
    },
    {
     "name": "stdout",
     "output_type": "stream",
     "text": [
      "More at risk-Treatment-Overall\n",
      "Control\n"
     ]
    },
    {
     "name": "stderr",
     "output_type": "stream",
     "text": [
      "100%|██████████| 2/2 [00:00<00:00,  3.03it/s]"
     ]
    },
    {
     "name": "stdout",
     "output_type": "stream",
     "text": [
      "More at risk-Control-Overall\n",
      "0.6617698669433594 seconds\n"
     ]
    },
    {
     "name": "stderr",
     "output_type": "stream",
     "text": [
      "\n",
      "/var/folders/b_/lql2bh7s2797fh2q6lw2ttdh0000gn/T/ipykernel_23776/2965024956.py:80: FutureWarning: save is not part of the public API, usage can give unexpected results and will be removed in a future version\n",
      "  writer.save()\n"
     ]
    }
   ],
   "source": [
    "# Export results\n",
    "writer = pd.ExcelWriter('./Results/January2023_ChurnCampaign_Results.xlsx', engine='xlsxwriter')\n",
    "# For loop for extracting cohort information\n",
    "groups = {}\n",
    "groups_results = {}\n",
    "groups_movement = {}\n",
    "# List with the cohort names\n",
    "cohort_names = complete_info.cohort.unique().tolist()\n",
    "for idx, cohort in enumerate(cohort_names):\n",
    "    # Get cohort info\n",
    "    aux_cohort = complete_info[complete_info.cohort == cohort]\n",
    "    # List segments\n",
    "    segments = aux_cohort.segment.unique().tolist()\n",
    "    start_time = time.time()\n",
    "    j=0\n",
    "    for segment in tqdm(segments):\n",
    "        print(segment)\n",
    "        # Filter segment\n",
    "        aux_segment = aux_cohort[aux_cohort.segment == segment]\n",
    "        # List segments\n",
    "        subsegments = aux_segment.subsegment.unique().tolist()\n",
    "        sheet_name = cohort + '-' + segment\n",
    "        i = 0\n",
    "        for subsegment in subsegments:\n",
    "            # Filter subsegment\n",
    "            aux_subsegment = aux_segment[aux_segment.subsegment == subsegment]\n",
    "            # Add to dict of groups the information\n",
    "            group_name = cohort + '-' + segment[0] + '-' + subsegment\n",
    "            # Add group dataframe\n",
    "            groups[group_name] = aux_subsegment\n",
    "            groups_results[group_name] = aux_subsegment.groupby('movement')[['purchases','total_amount','Pre_monetary','Pre_frequency', 'Pre_recency','Post_monetary', 'Post_frequency', 'Post_recency']].describe()\n",
    "            groups_movement[group_name] = pd.concat([aux_subsegment.movement.value_counts(), aux_subsegment.movement.value_counts(normalize=True).mul(100)],axis=1, keys=('counts','percentage'))\n",
    "            # Write the results into an excel\n",
    "            groups_results[group_name].to_excel(writer, startrow=i+3, startcol=0, sheet_name=sheet_name)\n",
    "            groups_movement[group_name].to_excel(writer, startrow=i+7+groups_results[group_name].shape[0], startcol=0, sheet_name=sheet_name)\n",
    "            worksheet = writer.sheets[sheet_name]\n",
    "            worksheet.write(i, 0, subsegment)\n",
    "            i = i+9+groups_movement[group_name].shape[0]+groups_results[group_name].shape[0]\n",
    "        # Cohort name\n",
    "        sheet_name_segment = cohort + '-' + segment + '-Overall'\n",
    "        print(sheet_name_segment)\n",
    "        # Add group dataframe\n",
    "        groups[sheet_name_segment] = aux_segment\n",
    "        groups_results[sheet_name_segment] = aux_segment.groupby('movement')[['purchases','total_amount','Pre_monetary','Pre_frequency', 'Pre_recency','Post_monetary', 'Post_frequency', 'Post_recency']].describe()\n",
    "        groups_movement[sheet_name_segment] = pd.concat([aux_segment.movement.value_counts(), aux_segment.movement.value_counts(normalize=True).mul(100)],axis=1, keys=('counts','percentage'))\n",
    "        # Write the results into an excel\n",
    "        groups_results[sheet_name_segment].to_excel(writer, startrow=j+3, startcol=0, sheet_name=sheet_name_segment)\n",
    "        groups_movement[sheet_name_segment].to_excel(writer, startrow=j+7+groups_results[sheet_name_segment].shape[0], startcol=0, sheet_name=sheet_name_segment)\n",
    "        worksheet = writer.sheets[sheet_name_segment]\n",
    "        worksheet.write(j, 0, sheet_name_segment)\n",
    "        j = j+9+groups_movement[sheet_name_segment].shape[0]+groups_results[sheet_name_segment].shape[0]\n",
    "    print(str(time.time()-start_time) + ' seconds')\n",
    "    # Cohort Overall\n",
    "for type in ['Treatment','Control']:\n",
    "    # Get cohort info\n",
    "    aux_cohort = complete_info[complete_info.segment == type]\n",
    "    overall_type = 'Overall'+'_'+type\n",
    "    overall_sheet = type + ' ' + 'Overall'\n",
    "    groups[overall_type] = aux_cohort\n",
    "    groups_results[overall_type] = aux_cohort.groupby('movement')[['purchases','total_amount','Pre_monetary','Pre_frequency', 'Pre_recency','Post_monetary', 'Post_frequency', 'Post_recency']].describe()\n",
    "    groups_movement[overall_type] = pd.concat([aux_cohort.movement.value_counts(), aux_cohort.movement.value_counts(normalize=True).mul(100)], axis=1, keys=('counts', 'percentage'))\n",
    "    # Print the overall results table into excel\n",
    "    groups_results[overall_type].to_excel(writer, startrow=3, startcol=0, sheet_name=overall_sheet)\n",
    "    groups_movement[overall_type].to_excel(writer, startrow=7+groups_results[overall_type].shape[0], startcol=0, sheet_name=overall_sheet)\n",
    "    worksheet = writer.sheets[overall_sheet]\n",
    "    worksheet.write(0, 0, overall_type)\n",
    "for type in ['More at risk','Churned']:\n",
    "    # Get cohort info\n",
    "    aux_cohort = complete_info[complete_info.cohort == type]\n",
    "    overall_type = 'Overall'+'_'+type\n",
    "    overall_sheet = type + ' ' + 'Overall'\n",
    "    groups[overall_type] = aux_cohort\n",
    "    groups_results[overall_type] = aux_cohort.groupby('movement')[['purchases','total_amount','Pre_monetary','Pre_frequency', 'Pre_recency','Post_monetary', 'Post_frequency', 'Post_recency']].describe()\n",
    "    groups_movement[overall_type] = pd.concat([aux_cohort.movement.value_counts(), aux_cohort.movement.value_counts(normalize=True).mul(100)], axis=1, keys=('counts', 'percentage'))\n",
    "    # Print the overall results table into excel\n",
    "    groups_results[overall_type].to_excel(writer, startrow=3, startcol=0, sheet_name=overall_sheet)\n",
    "    groups_movement[overall_type].to_excel(writer, startrow=7+groups_results[overall_type].shape[0], startcol=0, sheet_name=overall_sheet)\n",
    "    worksheet = writer.sheets[overall_sheet]\n",
    "    worksheet.write(0, 0, overall_type)\n",
    "writer.save()"
   ],
   "metadata": {
    "collapsed": false
   }
  },
  {
   "cell_type": "markdown",
   "source": [],
   "metadata": {
    "collapsed": false
   }
  },
  {
   "cell_type": "code",
   "execution_count": null,
   "outputs": [],
   "source": [],
   "metadata": {
    "collapsed": false
   }
  }
 ],
 "metadata": {
  "kernelspec": {
   "display_name": "Python 3",
   "language": "python",
   "name": "python3"
  },
  "language_info": {
   "codemirror_mode": {
    "name": "ipython",
    "version": 2
   },
   "file_extension": ".py",
   "mimetype": "text/x-python",
   "name": "python",
   "nbconvert_exporter": "python",
   "pygments_lexer": "ipython2",
   "version": "2.7.6"
  }
 },
 "nbformat": 4,
 "nbformat_minor": 0
}
