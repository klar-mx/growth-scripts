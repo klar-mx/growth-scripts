{
 "cells": [
  {
   "cell_type": "code",
   "execution_count": 1,
   "metadata": {
    "collapsed": true
   },
   "outputs": [],
   "source": [
    "import pandas as pd\n",
    "from sqlalchemy import create_engine\n",
    "import sqlalchemy\n",
    "import gspread\n",
    "from oauth2client.service_account import ServiceAccountCredentials\n",
    "from gspread import SpreadsheetNotFound\n",
    "import gspread_dataframe as gd"
   ]
  },
  {
   "cell_type": "code",
   "execution_count": 2,
   "outputs": [],
   "source": [
    "# Redshift connection\n",
    "f = open('/Users/gabrielreynoso/Documents/Queries/db_klarprod_connection.txt', 'r')\n",
    "postgres_str = f.read()\n",
    "f.close()\n",
    "cnx = create_engine(postgres_str)"
   ],
   "metadata": {
    "collapsed": false
   }
  },
  {
   "cell_type": "code",
   "execution_count": 3,
   "outputs": [],
   "source": [
    "# Read and Load Credentials\n",
    "credentials = ServiceAccountCredentials.from_json_keyfile_name('/Users/gabrielreynoso/Documents/GoogleCredentials/gabo_credentials.json')\n",
    "gc = gspread.authorize(credentials)"
   ],
   "metadata": {
    "collapsed": false
   }
  },
  {
   "cell_type": "markdown",
   "source": [
    "### Output Directory\n"
   ],
   "metadata": {
    "collapsed": false
   }
  },
  {
   "cell_type": "code",
   "execution_count": 4,
   "outputs": [],
   "source": [
    "output_directory = '../Monthly_Payments/February_2023.csv'"
   ],
   "metadata": {
    "collapsed": false
   }
  },
  {
   "cell_type": "code",
   "execution_count": 6,
   "outputs": [
    {
     "name": "stdout",
     "output_type": "stream",
     "text": [
      "Spreadsheet exists\n"
     ]
    }
   ],
   "source": [
    "sheet_name = 'KlarPlus_February_Payments'\n",
    "try:\n",
    "    payments_ws = gc.open(sheet_name)\n",
    "    # Code if spreadsheet exists:\n",
    "    print(\"Spreadsheet exists\")\n",
    "except SpreadsheetNotFound:\n",
    "    # Code if spreadsheet doesn't exist:\n",
    "    payments_ws = gc.create(title=sheet_name)\n",
    "    payments_ws.share('gabriel.reynoso@klar.mx', perm_type='user', role='writer')\n",
    "    payments_ws.share('ivette.ayala@klar.mx', perm_type='user', role='writer')\n",
    "    payments_ws.share('jose@klar.mx', perm_type='user', role='writer')\n",
    "    payments_ws.add_worksheet(title=\"Cashback\", rows=1000,cols=10)\n",
    "    payments_ws.add_worksheet(title=\"Balance Check\", rows=1000,cols=10)\n",
    "    payments_ws.add_worksheet(title=\"ATM Withdraws\", rows=1000,cols=10)\n",
    "    payments_ws.del_worksheet('Sheet 1')\n",
    "    print(\"Spreadsheet created\")"
   ],
   "metadata": {
    "collapsed": false
   }
  },
  {
   "cell_type": "markdown",
   "source": [
    "## Cohort Info\n"
   ],
   "metadata": {
    "collapsed": false
   }
  },
  {
   "cell_type": "code",
   "execution_count": 7,
   "outputs": [],
   "source": [
    "cohort_query = '''\n",
    "select\n",
    "    distinct klar_user_id as user_id,\n",
    "    'Klar+'as cashback_type\n",
    "from is_customer_io.segments as s\n",
    "where segment_id = 1587\n",
    "and user_id is not null;\n",
    "'''"
   ],
   "metadata": {
    "collapsed": false
   }
  },
  {
   "cell_type": "code",
   "execution_count": 7,
   "outputs": [],
   "source": [
    "# Fix for february\n",
    "cohort_query = '''\n",
    "with delinquent_users as (select distinct user_id,\n",
    "                                          'Delinquent_users' as status\n",
    "                          from loans.crediklar_loanbook\n",
    "                          where (loan_status = 'DELINQUENT' and days_past_due < -9)\n",
    "                             or loan_status = 'DEFAULTED'\n",
    "                          UNION ALL\n",
    "--klar+ user delinquents adelanto\n",
    "                          select distinct user_id,\n",
    "                                          'Delinquent_users' as status\n",
    "                          from loans.salary_advance_loanbook lb\n",
    "                          where (loan_status = 'DELINQUENT' and days_past_due < -9)\n",
    "                             or loan_status = 'DEFAULTED'\n",
    "                          UNION ALL\n",
    "-- cck\n",
    "                          select distinct user_id,\n",
    "                                          'Delinquent_users' as status\n",
    "                          from loans.cck_loanbook\n",
    "                          where (loan_status = 'DELINQUENT' and days_past_due < -9)\n",
    "                             or loan_status = 'DEFAULTED'\n",
    "                          UNION ALL\n",
    "-- respaldo\n",
    "                          select distinct user_id,\n",
    "                                          'Delinquent_users' as status\n",
    "                          from ds_overdraft.overdraft_loanbook\n",
    "                          where loan_status in ('DELINQUENT', 'DEFAULTED')),\n",
    "transaction_users as (\n",
    "    select\n",
    "        distinct t.user_id\n",
    "    from analytics_bi.transactions t\n",
    "    left join delinquent_users d on t.user_id = d.user_id\n",
    "    where t.timestamp_mx_created_at between dateadd(days,-360,'2023-02-02') and '2023-02-02'\n",
    "    and t.type in ('PURCHASE', 'TRANSFER', 'DEPOSIT', 'QUASI_CASH')\n",
    "    )\n",
    "select\n",
    "    distinct user_id,\n",
    "    'Klar+'as cashback_type\n",
    "from transaction_users\n",
    "'''"
   ],
   "metadata": {
    "collapsed": false
   }
  },
  {
   "cell_type": "code",
   "execution_count": 8,
   "outputs": [],
   "source": [
    "cohorts_info = pd.read_sql_query(sqlalchemy.text(cohort_query),cnx)"
   ],
   "metadata": {
    "collapsed": false
   }
  },
  {
   "cell_type": "code",
   "execution_count": 9,
   "outputs": [
    {
     "data": {
      "text/plain": "Empty DataFrame\nColumns: [user_id, cashback_type]\nIndex: []",
      "text/html": "<div>\n<style scoped>\n    .dataframe tbody tr th:only-of-type {\n        vertical-align: middle;\n    }\n\n    .dataframe tbody tr th {\n        vertical-align: top;\n    }\n\n    .dataframe thead th {\n        text-align: right;\n    }\n</style>\n<table border=\"1\" class=\"dataframe\">\n  <thead>\n    <tr style=\"text-align: right;\">\n      <th></th>\n      <th>user_id</th>\n      <th>cashback_type</th>\n    </tr>\n  </thead>\n  <tbody>\n  </tbody>\n</table>\n</div>"
     },
     "execution_count": 9,
     "metadata": {},
     "output_type": "execute_result"
    }
   ],
   "source": [
    "# Duplicated check\n",
    "cohorts_info[cohorts_info.user_id.duplicated()]"
   ],
   "metadata": {
    "collapsed": false
   }
  },
  {
   "cell_type": "code",
   "execution_count": 10,
   "outputs": [],
   "source": [
    "# Add needed opt-in column\n",
    "cohorts_info['need_opt_in'] = True"
   ],
   "metadata": {
    "collapsed": false
   }
  },
  {
   "cell_type": "code",
   "execution_count": 11,
   "outputs": [
    {
     "data": {
      "text/plain": "                                user_id cashback_type  need_opt_in\n0  72ca70fc-db9e-476e-a237-97ba62415f8b         Klar+         True\n1  72cb354e-dd3e-4123-9b03-26a7efc22278         Klar+         True\n2  72cd3394-c0cb-4899-b24b-5c6449fd846f         Klar+         True\n3  72ced729-bca9-4147-abae-75c17779193e         Klar+         True\n4  72cf1d58-e915-4a60-9d77-e0ec385abc53         Klar+         True\n5  72d0aca8-35e2-4f9a-a485-d7ff8226bfe6         Klar+         True\n6  72d0d314-0c1f-4d60-8db4-a605a076cc6a         Klar+         True\n7  72d0e839-ca1d-435d-b515-3eb6bf4faca0         Klar+         True\n8  72d1c84f-a537-4730-a7a4-c3777b0cf12f         Klar+         True\n9  72d50278-d028-488e-9030-199111c15f49         Klar+         True",
      "text/html": "<div>\n<style scoped>\n    .dataframe tbody tr th:only-of-type {\n        vertical-align: middle;\n    }\n\n    .dataframe tbody tr th {\n        vertical-align: top;\n    }\n\n    .dataframe thead th {\n        text-align: right;\n    }\n</style>\n<table border=\"1\" class=\"dataframe\">\n  <thead>\n    <tr style=\"text-align: right;\">\n      <th></th>\n      <th>user_id</th>\n      <th>cashback_type</th>\n      <th>need_opt_in</th>\n    </tr>\n  </thead>\n  <tbody>\n    <tr>\n      <th>0</th>\n      <td>72ca70fc-db9e-476e-a237-97ba62415f8b</td>\n      <td>Klar+</td>\n      <td>True</td>\n    </tr>\n    <tr>\n      <th>1</th>\n      <td>72cb354e-dd3e-4123-9b03-26a7efc22278</td>\n      <td>Klar+</td>\n      <td>True</td>\n    </tr>\n    <tr>\n      <th>2</th>\n      <td>72cd3394-c0cb-4899-b24b-5c6449fd846f</td>\n      <td>Klar+</td>\n      <td>True</td>\n    </tr>\n    <tr>\n      <th>3</th>\n      <td>72ced729-bca9-4147-abae-75c17779193e</td>\n      <td>Klar+</td>\n      <td>True</td>\n    </tr>\n    <tr>\n      <th>4</th>\n      <td>72cf1d58-e915-4a60-9d77-e0ec385abc53</td>\n      <td>Klar+</td>\n      <td>True</td>\n    </tr>\n    <tr>\n      <th>5</th>\n      <td>72d0aca8-35e2-4f9a-a485-d7ff8226bfe6</td>\n      <td>Klar+</td>\n      <td>True</td>\n    </tr>\n    <tr>\n      <th>6</th>\n      <td>72d0d314-0c1f-4d60-8db4-a605a076cc6a</td>\n      <td>Klar+</td>\n      <td>True</td>\n    </tr>\n    <tr>\n      <th>7</th>\n      <td>72d0e839-ca1d-435d-b515-3eb6bf4faca0</td>\n      <td>Klar+</td>\n      <td>True</td>\n    </tr>\n    <tr>\n      <th>8</th>\n      <td>72d1c84f-a537-4730-a7a4-c3777b0cf12f</td>\n      <td>Klar+</td>\n      <td>True</td>\n    </tr>\n    <tr>\n      <th>9</th>\n      <td>72d50278-d028-488e-9030-199111c15f49</td>\n      <td>Klar+</td>\n      <td>True</td>\n    </tr>\n  </tbody>\n</table>\n</div>"
     },
     "execution_count": 11,
     "metadata": {},
     "output_type": "execute_result"
    }
   ],
   "source": [
    "cohorts_info.head(10)"
   ],
   "metadata": {
    "collapsed": false
   }
  },
  {
   "cell_type": "markdown",
   "source": [
    "## Opt-In"
   ],
   "metadata": {
    "collapsed": false
   }
  },
  {
   "cell_type": "code",
   "execution_count": 15,
   "outputs": [],
   "source": [
    "# Open the whole Google Sheet\n",
    "gsheet = gc.open(\"Klar Plus February Benefits registration\")"
   ],
   "metadata": {
    "collapsed": false
   }
  },
  {
   "cell_type": "code",
   "execution_count": 16,
   "outputs": [],
   "source": [
    "\"\"# Read a worksheet into a Dataframe\n",
    "opt_in_info = pd.DataFrame(gsheet.worksheet(\"Form Responses\").get_all_records())\n",
    "limit_date = '2023-03-01'\n",
    "# EDA optIn\n",
    "opt_in_info = opt_in_info[opt_in_info['Submission Date'] < limit_date]\n",
    "opt_in_info = opt_in_info[~opt_in_info.source.isna()][['source']]\n",
    "opt_in_info.columns = ['user_id']\n",
    "opt_in_info = pd.DataFrame(opt_in_info.user_id.drop_duplicates(), columns = ['user_id'])\n",
    "opt_in_info['optIn'] = True"
   ],
   "metadata": {
    "collapsed": false
   }
  },
  {
   "cell_type": "code",
   "execution_count": 17,
   "outputs": [
    {
     "data": {
      "text/plain": "(79304, 2)"
     },
     "execution_count": 17,
     "metadata": {},
     "output_type": "execute_result"
    }
   ],
   "source": [
    "opt_in_info.shape"
   ],
   "metadata": {
    "collapsed": false
   }
  },
  {
   "cell_type": "markdown",
   "source": [
    "# DBs Integration"
   ],
   "metadata": {
    "collapsed": false
   }
  },
  {
   "cell_type": "code",
   "execution_count": 18,
   "outputs": [],
   "source": [
    "# Read all DBs\n",
    "purchases = pd.read_csv('./Monthly_DB/Raw_Cashback2023-02.csv')\n",
    "atm = pd.read_csv('./Monthly_DB/Raw_ATM2023-02.csv')"
   ],
   "metadata": {
    "collapsed": false
   }
  },
  {
   "cell_type": "markdown",
   "source": [
    "## Cashback Calculation"
   ],
   "metadata": {
    "collapsed": false
   }
  },
  {
   "cell_type": "code",
   "execution_count": 19,
   "outputs": [],
   "source": [
    "# Total purchases\n",
    "purchases['total_purchases'] = purchases.ArcusPurchaseNum + purchases.GalileoPurchaseNum\n",
    "# Total amount Purchases\n",
    "purchases['amount_purch'] = purchases.GalileoPurchaseAmount + purchases.ArcusPurchaseAmount\n",
    "# Calculate the right amount of spend for each user\n",
    "purchases['cashback_amount'] = -1 * purchases.amount_purch - purchases.GalileoAdjustAmount - - purchases.ArcusAdjustAmount\n",
    "# Calculate the cashback\n",
    "purchases['cashback'] = purchases.cashback_amount * 0.01\n",
    "# Top the cashback for max 1000\n",
    "purchases['cashback'] = purchases['cashback'].apply(lambda x: 1000 if x > 1000 else round(x, 1))\n",
    "# Important columns\n",
    "month_cashback = purchases[['user_id', 'amount_purch', 'total_purchases', 'cashback_amount', 'cashback']]"
   ],
   "metadata": {
    "collapsed": false
   }
  },
  {
   "cell_type": "code",
   "execution_count": 20,
   "outputs": [
    {
     "name": "stdout",
     "output_type": "stream",
     "text": [
      "141213\n"
     ]
    },
    {
     "data": {
      "text/plain": "                                user_id  amount_purch  total_purchases  \\\n0  00007e60-e21e-4616-81b4-4afae84713ee       -388.00              1.0   \n1  000096ca-40b4-4de0-8b71-6f16939af17f        -99.00              1.0   \n2  00010862-0f8a-42c1-a26e-53dd2cee6ae0        -25.00              1.0   \n3  00017516-8f98-4f85-b58e-09b4fb9c2c3e       -250.00              1.0   \n4  0001fec2-2153-4ba8-a510-c5be80c8c973        -25.00              1.0   \n5  0002325b-5c34-4e23-89d4-e289b52b1ab7       -378.00              2.0   \n6  00024ed7-05c1-4421-ae51-0a4d1cd4ecd0       -100.00              1.0   \n7  0002c06d-33ce-492c-8a63-3b7b2ef43086       -100.50              2.0   \n8  00030c5c-c952-4eb7-a348-de96391e1b1b      -5587.09             16.0   \n9  000334b8-aecf-45e0-aba5-c204c02e5fef      -1219.06             10.0   \n\n   cashback_amount  cashback  \n0           388.00       3.9  \n1           -30.00      -0.3  \n2            25.00       0.2  \n3           250.00       2.5  \n4            25.00       0.2  \n5           378.00       3.8  \n6           100.00       1.0  \n7           100.50       1.0  \n8          5587.09      55.9  \n9          1199.06      12.0  ",
      "text/html": "<div>\n<style scoped>\n    .dataframe tbody tr th:only-of-type {\n        vertical-align: middle;\n    }\n\n    .dataframe tbody tr th {\n        vertical-align: top;\n    }\n\n    .dataframe thead th {\n        text-align: right;\n    }\n</style>\n<table border=\"1\" class=\"dataframe\">\n  <thead>\n    <tr style=\"text-align: right;\">\n      <th></th>\n      <th>user_id</th>\n      <th>amount_purch</th>\n      <th>total_purchases</th>\n      <th>cashback_amount</th>\n      <th>cashback</th>\n    </tr>\n  </thead>\n  <tbody>\n    <tr>\n      <th>0</th>\n      <td>00007e60-e21e-4616-81b4-4afae84713ee</td>\n      <td>-388.00</td>\n      <td>1.0</td>\n      <td>388.00</td>\n      <td>3.9</td>\n    </tr>\n    <tr>\n      <th>1</th>\n      <td>000096ca-40b4-4de0-8b71-6f16939af17f</td>\n      <td>-99.00</td>\n      <td>1.0</td>\n      <td>-30.00</td>\n      <td>-0.3</td>\n    </tr>\n    <tr>\n      <th>2</th>\n      <td>00010862-0f8a-42c1-a26e-53dd2cee6ae0</td>\n      <td>-25.00</td>\n      <td>1.0</td>\n      <td>25.00</td>\n      <td>0.2</td>\n    </tr>\n    <tr>\n      <th>3</th>\n      <td>00017516-8f98-4f85-b58e-09b4fb9c2c3e</td>\n      <td>-250.00</td>\n      <td>1.0</td>\n      <td>250.00</td>\n      <td>2.5</td>\n    </tr>\n    <tr>\n      <th>4</th>\n      <td>0001fec2-2153-4ba8-a510-c5be80c8c973</td>\n      <td>-25.00</td>\n      <td>1.0</td>\n      <td>25.00</td>\n      <td>0.2</td>\n    </tr>\n    <tr>\n      <th>5</th>\n      <td>0002325b-5c34-4e23-89d4-e289b52b1ab7</td>\n      <td>-378.00</td>\n      <td>2.0</td>\n      <td>378.00</td>\n      <td>3.8</td>\n    </tr>\n    <tr>\n      <th>6</th>\n      <td>00024ed7-05c1-4421-ae51-0a4d1cd4ecd0</td>\n      <td>-100.00</td>\n      <td>1.0</td>\n      <td>100.00</td>\n      <td>1.0</td>\n    </tr>\n    <tr>\n      <th>7</th>\n      <td>0002c06d-33ce-492c-8a63-3b7b2ef43086</td>\n      <td>-100.50</td>\n      <td>2.0</td>\n      <td>100.50</td>\n      <td>1.0</td>\n    </tr>\n    <tr>\n      <th>8</th>\n      <td>00030c5c-c952-4eb7-a348-de96391e1b1b</td>\n      <td>-5587.09</td>\n      <td>16.0</td>\n      <td>5587.09</td>\n      <td>55.9</td>\n    </tr>\n    <tr>\n      <th>9</th>\n      <td>000334b8-aecf-45e0-aba5-c204c02e5fef</td>\n      <td>-1219.06</td>\n      <td>10.0</td>\n      <td>1199.06</td>\n      <td>12.0</td>\n    </tr>\n  </tbody>\n</table>\n</div>"
     },
     "execution_count": 20,
     "metadata": {},
     "output_type": "execute_result"
    }
   ],
   "source": [
    "print(month_cashback.shape[0])\n",
    "month_cashback.head(10)"
   ],
   "metadata": {
    "collapsed": false
   }
  },
  {
   "cell_type": "code",
   "execution_count": 21,
   "outputs": [],
   "source": [
    "transactions = pd.merge(month_cashback, atm, on = 'user_id', how='outer')"
   ],
   "metadata": {
    "collapsed": false
   }
  },
  {
   "cell_type": "code",
   "execution_count": 22,
   "outputs": [
    {
     "data": {
      "text/plain": "                                user_id  amount_purch  total_purchases  \\\n0  00007e60-e21e-4616-81b4-4afae84713ee       -388.00              1.0   \n1  000096ca-40b4-4de0-8b71-6f16939af17f        -99.00              1.0   \n2  00010862-0f8a-42c1-a26e-53dd2cee6ae0        -25.00              1.0   \n3  00017516-8f98-4f85-b58e-09b4fb9c2c3e       -250.00              1.0   \n4  0001fec2-2153-4ba8-a510-c5be80c8c973        -25.00              1.0   \n5  0002325b-5c34-4e23-89d4-e289b52b1ab7       -378.00              2.0   \n6  00024ed7-05c1-4421-ae51-0a4d1cd4ecd0       -100.00              1.0   \n7  0002c06d-33ce-492c-8a63-3b7b2ef43086       -100.50              2.0   \n8  00030c5c-c952-4eb7-a348-de96391e1b1b      -5587.09             16.0   \n9  000334b8-aecf-45e0-aba5-c204c02e5fef      -1219.06             10.0   \n\n   cashback_amount  cashback  amount_DISBURSEMENT  amount_FEE  \\\n0           388.00       3.9                  NaN         NaN   \n1           -30.00      -0.3                  NaN         NaN   \n2            25.00       0.2                  NaN         NaN   \n3           250.00       2.5                  NaN         NaN   \n4            25.00       0.2                  NaN         NaN   \n5           378.00       3.8                  NaN         NaN   \n6           100.00       1.0             -2835.84         0.0   \n7           100.50       1.0                  NaN         NaN   \n8          5587.09      55.9                  NaN         NaN   \n9          1199.06      12.0             -2169.60         0.0   \n\n   transaction_id_DISBURSEMENT  transaction_id_FEE  \n0                          NaN                 NaN  \n1                          NaN                 NaN  \n2                          NaN                 NaN  \n3                          NaN                 NaN  \n4                          NaN                 NaN  \n5                          NaN                 NaN  \n6                          1.0                 0.0  \n7                          NaN                 NaN  \n8                          NaN                 NaN  \n9                          2.0                 0.0  ",
      "text/html": "<div>\n<style scoped>\n    .dataframe tbody tr th:only-of-type {\n        vertical-align: middle;\n    }\n\n    .dataframe tbody tr th {\n        vertical-align: top;\n    }\n\n    .dataframe thead th {\n        text-align: right;\n    }\n</style>\n<table border=\"1\" class=\"dataframe\">\n  <thead>\n    <tr style=\"text-align: right;\">\n      <th></th>\n      <th>user_id</th>\n      <th>amount_purch</th>\n      <th>total_purchases</th>\n      <th>cashback_amount</th>\n      <th>cashback</th>\n      <th>amount_DISBURSEMENT</th>\n      <th>amount_FEE</th>\n      <th>transaction_id_DISBURSEMENT</th>\n      <th>transaction_id_FEE</th>\n    </tr>\n  </thead>\n  <tbody>\n    <tr>\n      <th>0</th>\n      <td>00007e60-e21e-4616-81b4-4afae84713ee</td>\n      <td>-388.00</td>\n      <td>1.0</td>\n      <td>388.00</td>\n      <td>3.9</td>\n      <td>NaN</td>\n      <td>NaN</td>\n      <td>NaN</td>\n      <td>NaN</td>\n    </tr>\n    <tr>\n      <th>1</th>\n      <td>000096ca-40b4-4de0-8b71-6f16939af17f</td>\n      <td>-99.00</td>\n      <td>1.0</td>\n      <td>-30.00</td>\n      <td>-0.3</td>\n      <td>NaN</td>\n      <td>NaN</td>\n      <td>NaN</td>\n      <td>NaN</td>\n    </tr>\n    <tr>\n      <th>2</th>\n      <td>00010862-0f8a-42c1-a26e-53dd2cee6ae0</td>\n      <td>-25.00</td>\n      <td>1.0</td>\n      <td>25.00</td>\n      <td>0.2</td>\n      <td>NaN</td>\n      <td>NaN</td>\n      <td>NaN</td>\n      <td>NaN</td>\n    </tr>\n    <tr>\n      <th>3</th>\n      <td>00017516-8f98-4f85-b58e-09b4fb9c2c3e</td>\n      <td>-250.00</td>\n      <td>1.0</td>\n      <td>250.00</td>\n      <td>2.5</td>\n      <td>NaN</td>\n      <td>NaN</td>\n      <td>NaN</td>\n      <td>NaN</td>\n    </tr>\n    <tr>\n      <th>4</th>\n      <td>0001fec2-2153-4ba8-a510-c5be80c8c973</td>\n      <td>-25.00</td>\n      <td>1.0</td>\n      <td>25.00</td>\n      <td>0.2</td>\n      <td>NaN</td>\n      <td>NaN</td>\n      <td>NaN</td>\n      <td>NaN</td>\n    </tr>\n    <tr>\n      <th>5</th>\n      <td>0002325b-5c34-4e23-89d4-e289b52b1ab7</td>\n      <td>-378.00</td>\n      <td>2.0</td>\n      <td>378.00</td>\n      <td>3.8</td>\n      <td>NaN</td>\n      <td>NaN</td>\n      <td>NaN</td>\n      <td>NaN</td>\n    </tr>\n    <tr>\n      <th>6</th>\n      <td>00024ed7-05c1-4421-ae51-0a4d1cd4ecd0</td>\n      <td>-100.00</td>\n      <td>1.0</td>\n      <td>100.00</td>\n      <td>1.0</td>\n      <td>-2835.84</td>\n      <td>0.0</td>\n      <td>1.0</td>\n      <td>0.0</td>\n    </tr>\n    <tr>\n      <th>7</th>\n      <td>0002c06d-33ce-492c-8a63-3b7b2ef43086</td>\n      <td>-100.50</td>\n      <td>2.0</td>\n      <td>100.50</td>\n      <td>1.0</td>\n      <td>NaN</td>\n      <td>NaN</td>\n      <td>NaN</td>\n      <td>NaN</td>\n    </tr>\n    <tr>\n      <th>8</th>\n      <td>00030c5c-c952-4eb7-a348-de96391e1b1b</td>\n      <td>-5587.09</td>\n      <td>16.0</td>\n      <td>5587.09</td>\n      <td>55.9</td>\n      <td>NaN</td>\n      <td>NaN</td>\n      <td>NaN</td>\n      <td>NaN</td>\n    </tr>\n    <tr>\n      <th>9</th>\n      <td>000334b8-aecf-45e0-aba5-c204c02e5fef</td>\n      <td>-1219.06</td>\n      <td>10.0</td>\n      <td>1199.06</td>\n      <td>12.0</td>\n      <td>-2169.60</td>\n      <td>0.0</td>\n      <td>2.0</td>\n      <td>0.0</td>\n    </tr>\n  </tbody>\n</table>\n</div>"
     },
     "execution_count": 22,
     "metadata": {},
     "output_type": "execute_result"
    }
   ],
   "source": [
    "transactions.head(10)"
   ],
   "metadata": {
    "collapsed": false
   }
  },
  {
   "cell_type": "code",
   "execution_count": 23,
   "outputs": [
    {
     "data": {
      "text/plain": "(148668, 9)"
     },
     "execution_count": 23,
     "metadata": {},
     "output_type": "execute_result"
    }
   ],
   "source": [
    "transactions.shape"
   ],
   "metadata": {
    "collapsed": false
   }
  },
  {
   "cell_type": "markdown",
   "source": [
    "# Data analytics"
   ],
   "metadata": {
    "collapsed": false
   }
  },
  {
   "cell_type": "code",
   "execution_count": 24,
   "outputs": [],
   "source": [
    "transactions['purchases'] = ~transactions.total_purchases.isna()\n",
    "transactions['disbursements'] = transactions.transaction_id_DISBURSEMENT > 0\n",
    "transactions['fees'] = transactions.transaction_id_FEE > 0"
   ],
   "metadata": {
    "collapsed": false
   }
  },
  {
   "cell_type": "code",
   "execution_count": 25,
   "outputs": [],
   "source": [
    "transactions['user_category'] = transactions.apply(lambda row:\n",
    "                                                   (\n",
    "                                                       ('Purchase_Withdraw_Fee' if row.fees else 'Purchase_Withdraw')\n",
    "                                                       if row.disbursements\n",
    "                                                       else ('Purchase_Fee' if row.fees else 'Purchase')\n",
    "                                                    )\n",
    "                                                   if row.purchases\n",
    "                                                   else (\n",
    "                                                       ('Withdraw_Fee' if row.fees else 'Withdraw')\n",
    "                                                       if row.disbursements\n",
    "                                                       else ('Fee' if row.fees else 'None')\n",
    "                                                   )\n",
    "\n",
    "                                                   ,axis = 1)"
   ],
   "metadata": {
    "collapsed": false
   }
  },
  {
   "cell_type": "code",
   "execution_count": 26,
   "outputs": [
    {
     "data": {
      "text/plain": "Purchase                 119136\nPurchase_Withdraw         19359\nWithdraw                   5331\nFee                        1709\nPurchase_Fee               1660\nPurchase_Withdraw_Fee      1058\nWithdraw_Fee                415\nName: user_category, dtype: int64"
     },
     "execution_count": 26,
     "metadata": {},
     "output_type": "execute_result"
    }
   ],
   "source": [
    "transactions.user_category.value_counts()"
   ],
   "metadata": {
    "collapsed": false
   }
  },
  {
   "cell_type": "markdown",
   "source": [
    "# Customer IO Cohort"
   ],
   "metadata": {
    "collapsed": false
   }
  },
  {
   "cell_type": "code",
   "execution_count": 27,
   "outputs": [],
   "source": [
    "transactions = pd.merge(transactions,cohorts_info, on = 'user_id', how = 'left')"
   ],
   "metadata": {
    "collapsed": false
   }
  },
  {
   "cell_type": "code",
   "execution_count": 28,
   "outputs": [
    {
     "data": {
      "text/plain": "(148668, 15)"
     },
     "execution_count": 28,
     "metadata": {},
     "output_type": "execute_result"
    }
   ],
   "source": [
    "transactions.shape"
   ],
   "metadata": {
    "collapsed": false
   }
  },
  {
   "cell_type": "code",
   "execution_count": 29,
   "outputs": [
    {
     "name": "stdout",
     "output_type": "stream",
     "text": [
      "<class 'pandas.core.frame.DataFrame'>\n",
      "Int64Index: 148668 entries, 0 to 148667\n",
      "Data columns (total 15 columns):\n",
      " #   Column                       Non-Null Count   Dtype  \n",
      "---  ------                       --------------   -----  \n",
      " 0   user_id                      148668 non-null  object \n",
      " 1   amount_purch                 141213 non-null  float64\n",
      " 2   total_purchases              141213 non-null  float64\n",
      " 3   cashback_amount              141213 non-null  float64\n",
      " 4   cashback                     141213 non-null  float64\n",
      " 5   amount_DISBURSEMENT          29532 non-null   float64\n",
      " 6   amount_FEE                   29532 non-null   float64\n",
      " 7   transaction_id_DISBURSEMENT  29532 non-null   float64\n",
      " 8   transaction_id_FEE           29532 non-null   float64\n",
      " 9   purchases                    148668 non-null  bool   \n",
      " 10  disbursements                148668 non-null  bool   \n",
      " 11  fees                         148668 non-null  bool   \n",
      " 12  user_category                148668 non-null  object \n",
      " 13  cashback_type                138245 non-null  object \n",
      " 14  need_opt_in                  138245 non-null  object \n",
      "dtypes: bool(3), float64(8), object(4)\n",
      "memory usage: 15.2+ MB\n"
     ]
    }
   ],
   "source": [
    "transactions.info()"
   ],
   "metadata": {
    "collapsed": false
   }
  },
  {
   "cell_type": "markdown",
   "source": [
    "# Split users between users in cohort and not in cohort"
   ],
   "metadata": {
    "collapsed": false
   }
  },
  {
   "cell_type": "code",
   "execution_count": 30,
   "outputs": [],
   "source": [
    "not_in_cohort = transactions[transactions.need_opt_in.isna()]\n",
    "users_in_cohort = transactions[~transactions.need_opt_in.isna()]"
   ],
   "metadata": {
    "collapsed": false
   }
  },
  {
   "cell_type": "code",
   "execution_count": 31,
   "outputs": [],
   "source": [
    "sms_confirmed_query = '''\n",
    "select\n",
    "    user_id,\n",
    "    sms_confirmed_mx\n",
    "from klar.cck_funnel\n",
    "where user_id in {}\n",
    "'''"
   ],
   "metadata": {
    "collapsed": false
   }
  },
  {
   "cell_type": "code",
   "execution_count": 32,
   "outputs": [],
   "source": [
    "# Get the sms confirmed info for the users that are not in the cohort\n",
    "filled_sms_confirmed_query = sqlalchemy.text(sms_confirmed_query.format(tuple(not_in_cohort.user_id.to_list())))\n",
    "# Execute the query\n",
    "sms_confirmed_info = pd.read_sql_query(filled_sms_confirmed_query,cnx)\n",
    "# Add the info to the db of users not in the cohort\n",
    "not_in_cohort = pd.merge(not_in_cohort,sms_confirmed_info, on = 'user_id')"
   ],
   "metadata": {
    "collapsed": false
   }
  },
  {
   "cell_type": "code",
   "execution_count": 33,
   "outputs": [],
   "source": [
    "new_users  = not_in_cohort[(not_in_cohort.sms_confirmed_mx > '2023-02-01')]\n",
    "old_users_not_in_cohort = not_in_cohort[(not_in_cohort.sms_confirmed_mx < '2023-02-01')]"
   ],
   "metadata": {
    "collapsed": false
   }
  },
  {
   "cell_type": "code",
   "execution_count": 34,
   "outputs": [
    {
     "name": "stdout",
     "output_type": "stream",
     "text": [
      "The total users base is: 148668\n",
      "The users in the cohort is: 138245\n",
      "The users not in the cohort that are new users is: 7453\n",
      "The users not in the cohort that are old users is: 2970\n"
     ]
    }
   ],
   "source": [
    "print('The total users base is: ' + str(transactions.shape[0]))\n",
    "print('The users in the cohort is: ' + str(users_in_cohort.shape[0]))\n",
    "print('The users not in the cohort that are new users is: ' + str(new_users.shape[0]))\n",
    "print('The users not in the cohort that are old users is: ' + str(old_users_not_in_cohort.shape[0]))"
   ],
   "metadata": {
    "collapsed": false
   }
  },
  {
   "cell_type": "markdown",
   "source": [
    "## Cohort of old users to pay"
   ],
   "metadata": {
    "collapsed": false
   }
  },
  {
   "cell_type": "code",
   "execution_count": 35,
   "outputs": [],
   "source": [
    "# Old users to pay\n",
    "old_users_payment = old_users_not_in_cohort[(old_users_not_in_cohort.amount_purch <= -2000) | (old_users_not_in_cohort.total_purchases > 9)]"
   ],
   "metadata": {
    "collapsed": false
   }
  },
  {
   "cell_type": "code",
   "execution_count": 36,
   "outputs": [
    {
     "name": "stdout",
     "output_type": "stream",
     "text": [
      "Total number of users to pay: 227\n"
     ]
    }
   ],
   "source": [
    "print('Total number of users to pay: ' + str(old_users_payment.shape[0]))"
   ],
   "metadata": {
    "collapsed": false
   }
  },
  {
   "cell_type": "markdown",
   "source": [
    "## Cohort of new users and segment to pay"
   ],
   "metadata": {
    "collapsed": false
   }
  },
  {
   "cell_type": "code",
   "execution_count": 37,
   "outputs": [
    {
     "name": "stderr",
     "output_type": "stream",
     "text": [
      "/var/folders/b_/lql2bh7s2797fh2q6lw2ttdh0000gn/T/ipykernel_24821/1483844198.py:1: SettingWithCopyWarning: \n",
      "A value is trying to be set on a copy of a slice from a DataFrame\n",
      "\n",
      "See the caveats in the documentation: https://pandas.pydata.org/pandas-docs/stable/user_guide/indexing.html#returning-a-view-versus-a-copy\n",
      "  new_users.loc['need_opt_in'] = True\n"
     ]
    }
   ],
   "source": [
    "new_users.loc['need_opt_in'] = True"
   ],
   "metadata": {
    "collapsed": false
   }
  },
  {
   "cell_type": "code",
   "execution_count": 38,
   "outputs": [],
   "source": [
    "users_needing_optin = pd.concat([users_in_cohort,new_users])"
   ],
   "metadata": {
    "collapsed": false
   }
  },
  {
   "cell_type": "code",
   "execution_count": 39,
   "outputs": [
    {
     "data": {
      "text/plain": "145699"
     },
     "execution_count": 39,
     "metadata": {},
     "output_type": "execute_result"
    }
   ],
   "source": [
    "users_needing_optin.shape[0]"
   ],
   "metadata": {
    "collapsed": false
   }
  },
  {
   "cell_type": "markdown",
   "source": [
    "# Add the opt_in"
   ],
   "metadata": {
    "collapsed": false
   }
  },
  {
   "cell_type": "code",
   "execution_count": 79,
   "outputs": [],
   "source": [
    "users_with_optin_and_txn= pd.merge(users_needing_optin, opt_in_info, how='left', on='user_id')\n",
    "users_with_optin_no_txn = pd.merge(opt_in_info, users_needing_optin, how='left', on='user_id')"
   ],
   "metadata": {
    "collapsed": false
   }
  },
  {
   "cell_type": "code",
   "execution_count": 80,
   "outputs": [],
   "source": [
    "users_with_optin_and_txn = users_with_optin_and_txn[(~users_with_optin_and_txn.optIn.isna())]\n",
    "users_with_optin_no_txn = users_with_optin_no_txn[~users_with_optin_no_txn.amount_purch.isna()]"
   ],
   "metadata": {
    "collapsed": false
   }
  },
  {
   "cell_type": "code",
   "execution_count": 42,
   "outputs": [
    {
     "name": "stdout",
     "output_type": "stream",
     "text": [
      "The number of users with opt-in is: 36929\n",
      "The number of users with opt-in and no TXN: 35375\n"
     ]
    }
   ],
   "source": [
    "print('The number of users with opt-in is: ' + str(users_with_optin_and_txn.shape[0]))\n",
    "print('The number of users with opt-in and no TXN: ' + str(users_with_optin_no_txn.shape[0]))"
   ],
   "metadata": {
    "collapsed": false
   }
  },
  {
   "cell_type": "code",
   "execution_count": null,
   "outputs": [],
   "source": [
    "users_with_optin_no_txn[users_with_optin_no_txn.user_id == '']"
   ],
   "metadata": {
    "collapsed": false
   }
  },
  {
   "cell_type": "code",
   "execution_count": 43,
   "outputs": [],
   "source": [
    "users_with_optin_and_txn_with_req = users_with_optin_and_txn[(users_with_optin_and_txn.amount_purch <= -2000) | (users_with_optin_and_txn.total_purchases > 9)]"
   ],
   "metadata": {
    "collapsed": false
   }
  },
  {
   "cell_type": "code",
   "execution_count": 44,
   "outputs": [
    {
     "name": "stdout",
     "output_type": "stream",
     "text": [
      "Number of users with opt In and requirements is: 13421\n"
     ]
    }
   ],
   "source": [
    "print('Number of users with opt In and requirements is: ' + str(users_with_optin_and_txn_with_req.shape[0]))"
   ],
   "metadata": {
    "collapsed": false
   }
  },
  {
   "cell_type": "code",
   "execution_count": 45,
   "outputs": [],
   "source": [
    "new_users_with_optin_and_req = users_with_optin_and_txn_with_req[~users_with_optin_and_txn_with_req.sms_confirmed_mx.isna()]\n",
    "old_users_with_optin_and_req = users_with_optin_and_txn_with_req[users_with_optin_and_txn_with_req.sms_confirmed_mx.isna()]"
   ],
   "metadata": {
    "collapsed": false
   }
  },
  {
   "cell_type": "code",
   "execution_count": 46,
   "outputs": [
    {
     "name": "stdout",
     "output_type": "stream",
     "text": [
      "Number of new users with opt In and requirements is: 85\n",
      "Number of old users with opt In and requirements is: 13336\n"
     ]
    }
   ],
   "source": [
    "print('Number of new users with opt In and requirements is: ' + str(new_users_with_optin_and_req.shape[0]))\n",
    "print('Number of old users with opt In and requirements is: ' + str(old_users_with_optin_and_req.shape[0]))"
   ],
   "metadata": {
    "collapsed": false
   }
  },
  {
   "cell_type": "markdown",
   "source": [
    "## Final Cohort to Pay"
   ],
   "metadata": {
    "collapsed": false
   }
  },
  {
   "cell_type": "code",
   "execution_count": 47,
   "outputs": [
    {
     "name": "stderr",
     "output_type": "stream",
     "text": [
      "/var/folders/b_/lql2bh7s2797fh2q6lw2ttdh0000gn/T/ipykernel_24821/30146800.py:1: SettingWithCopyWarning: \n",
      "A value is trying to be set on a copy of a slice from a DataFrame.\n",
      "Try using .loc[row_indexer,col_indexer] = value instead\n",
      "\n",
      "See the caveats in the documentation: https://pandas.pydata.org/pandas-docs/stable/user_guide/indexing.html#returning-a-view-versus-a-copy\n",
      "  new_users_with_optin_and_req['reason'] = 'New_users_w/req'\n",
      "/var/folders/b_/lql2bh7s2797fh2q6lw2ttdh0000gn/T/ipykernel_24821/30146800.py:2: SettingWithCopyWarning: \n",
      "A value is trying to be set on a copy of a slice from a DataFrame.\n",
      "Try using .loc[row_indexer,col_indexer] = value instead\n",
      "\n",
      "See the caveats in the documentation: https://pandas.pydata.org/pandas-docs/stable/user_guide/indexing.html#returning-a-view-versus-a-copy\n",
      "  old_users_with_optin_and_req['reason'] = 'Old_users_w/req'\n",
      "/var/folders/b_/lql2bh7s2797fh2q6lw2ttdh0000gn/T/ipykernel_24821/30146800.py:3: SettingWithCopyWarning: \n",
      "A value is trying to be set on a copy of a slice from a DataFrame.\n",
      "Try using .loc[row_indexer,col_indexer] = value instead\n",
      "\n",
      "See the caveats in the documentation: https://pandas.pydata.org/pandas-docs/stable/user_guide/indexing.html#returning-a-view-versus-a-copy\n",
      "  old_users_payment['reason'] = 'Not_in_cohort'\n"
     ]
    }
   ],
   "source": [
    "new_users_with_optin_and_req['reason'] = 'New_users_w/req'\n",
    "old_users_with_optin_and_req['reason'] = 'Old_users_w/req'\n",
    "old_users_payment['reason'] = 'Not_in_cohort'"
   ],
   "metadata": {
    "collapsed": false
   }
  },
  {
   "cell_type": "code",
   "execution_count": 48,
   "outputs": [],
   "source": [
    "payment_cohort = pd.concat([new_users_with_optin_and_req, old_users_with_optin_and_req, old_users_payment])"
   ],
   "metadata": {
    "collapsed": false
   }
  },
  {
   "cell_type": "code",
   "execution_count": 49,
   "outputs": [
    {
     "name": "stderr",
     "output_type": "stream",
     "text": [
      "/Users/gabrielreynoso/Documents/growth-scripts/lib/python3.10/site-packages/IPython/lib/pretty.py:778: FutureWarning: In a future version, object-dtype columns with all-bool values will not be included in reductions with bool_only=True. Explicitly cast to bool dtype instead.\n",
      "  output = repr(obj)\n",
      "/Users/gabrielreynoso/Documents/growth-scripts/lib/python3.10/site-packages/IPython/core/formatters.py:342: FutureWarning: In a future version, object-dtype columns with all-bool values will not be included in reductions with bool_only=True. Explicitly cast to bool dtype instead.\n",
      "  return method()\n"
     ]
    },
    {
     "data": {
      "text/plain": "                                     user_id  amount_purch  total_purchases  \\\n138293  01d3af80-99a1-435e-8dc0-e67d3634d6ca      -1427.23             18.0   \n138339  042ef57a-065d-4c3b-a403-d86ed85dc392      -4350.50             17.0   \n138351  049bb2cf-1513-4178-bb30-7946876806d9      -2102.66              3.0   \n138395  0633d4a2-196c-44fe-bd75-3da0c0a4e2f4     -35261.79             31.0   \n138412  06c1154d-39f7-4c69-b47a-8dbde593e7f3      -1457.59             11.0   \n...                                      ...           ...              ...   \n9296    fd6c93ba-7294-4b57-aefc-492326f2f7ee       -576.00             12.0   \n9312    fdc12d48-745c-4865-a4a6-b49e6ca100d3      -2000.00              2.0   \n9334    fe785fb6-a6fb-4887-bd00-ce8f42ea6c0d       -830.00             14.0   \n9367    ff4b40cd-f7b9-40e4-8ca6-cb6f24034c0f      -2012.59              9.0   \n9388    fff81e0f-60dc-48a7-811d-26780baa087e      -1012.00             12.0   \n\n        cashback_amount  cashback  amount_DISBURSEMENT  amount_FEE  \\\n138293          1427.23      14.3                  NaN         NaN   \n138339          4350.50      43.5                  NaN         NaN   \n138351          2102.66      21.0                  NaN         NaN   \n138395         35162.79     351.6             -6434.56      -37.12   \n138412          1457.59      14.6                  NaN         NaN   \n...                 ...       ...                  ...         ...   \n9296             576.00       5.8                  NaN         NaN   \n9312            2000.00      20.0                  NaN         NaN   \n9334             830.00       8.3                  NaN         NaN   \n9367            2012.59      20.1                  NaN         NaN   \n9388            1012.00      10.1                  NaN         NaN   \n\n        transaction_id_DISBURSEMENT  transaction_id_FEE  purchases  \\\n138293                          NaN                 NaN       True   \n138339                          NaN                 NaN       True   \n138351                          NaN                 NaN       True   \n138395                          4.0                 3.0       True   \n138412                          NaN                 NaN       True   \n...                             ...                 ...        ...   \n9296                            NaN                 NaN       True   \n9312                            NaN                 NaN       True   \n9334                            NaN                 NaN       True   \n9367                            NaN                 NaN       True   \n9388                            NaN                 NaN       True   \n\n        disbursements   fees          user_category cashback_type need_opt_in  \\\n138293          False  False               Purchase           NaN         NaN   \n138339          False  False               Purchase           NaN         NaN   \n138351          False  False               Purchase           NaN         NaN   \n138395           True   True  Purchase_Withdraw_Fee           NaN         NaN   \n138412          False  False               Purchase           NaN         NaN   \n...               ...    ...                    ...           ...         ...   \n9296            False  False               Purchase           NaN         NaN   \n9312            False  False               Purchase           NaN         NaN   \n9334            False  False               Purchase           NaN         NaN   \n9367            False  False               Purchase           NaN         NaN   \n9388            False  False               Purchase           NaN         NaN   \n\n                  sms_confirmed_mx optIn           reason  \n138293  2023-02-12 14:24:12.144404  True  New_users_w/req  \n138339  2023-02-03 13:15:25.010569  True  New_users_w/req  \n138351  2023-02-06 12:29:19.386784  True  New_users_w/req  \n138395  2023-02-12 21:57:31.795052  True  New_users_w/req  \n138412  2023-02-05 08:44:31.916231  True  New_users_w/req  \n...                            ...   ...              ...  \n9296    2020-11-20 20:07:00.630049   NaN    Not_in_cohort  \n9312    2022-09-20 21:22:05.642955   NaN    Not_in_cohort  \n9334    2023-01-25 03:07:07.201230   NaN    Not_in_cohort  \n9367    2023-01-31 17:03:26.262853   NaN    Not_in_cohort  \n9388    2023-01-31 14:29:37.196580   NaN    Not_in_cohort  \n\n[13648 rows x 18 columns]",
      "text/html": "<div>\n<style scoped>\n    .dataframe tbody tr th:only-of-type {\n        vertical-align: middle;\n    }\n\n    .dataframe tbody tr th {\n        vertical-align: top;\n    }\n\n    .dataframe thead th {\n        text-align: right;\n    }\n</style>\n<table border=\"1\" class=\"dataframe\">\n  <thead>\n    <tr style=\"text-align: right;\">\n      <th></th>\n      <th>user_id</th>\n      <th>amount_purch</th>\n      <th>total_purchases</th>\n      <th>cashback_amount</th>\n      <th>cashback</th>\n      <th>amount_DISBURSEMENT</th>\n      <th>amount_FEE</th>\n      <th>transaction_id_DISBURSEMENT</th>\n      <th>transaction_id_FEE</th>\n      <th>purchases</th>\n      <th>disbursements</th>\n      <th>fees</th>\n      <th>user_category</th>\n      <th>cashback_type</th>\n      <th>need_opt_in</th>\n      <th>sms_confirmed_mx</th>\n      <th>optIn</th>\n      <th>reason</th>\n    </tr>\n  </thead>\n  <tbody>\n    <tr>\n      <th>138293</th>\n      <td>01d3af80-99a1-435e-8dc0-e67d3634d6ca</td>\n      <td>-1427.23</td>\n      <td>18.0</td>\n      <td>1427.23</td>\n      <td>14.3</td>\n      <td>NaN</td>\n      <td>NaN</td>\n      <td>NaN</td>\n      <td>NaN</td>\n      <td>True</td>\n      <td>False</td>\n      <td>False</td>\n      <td>Purchase</td>\n      <td>NaN</td>\n      <td>NaN</td>\n      <td>2023-02-12 14:24:12.144404</td>\n      <td>True</td>\n      <td>New_users_w/req</td>\n    </tr>\n    <tr>\n      <th>138339</th>\n      <td>042ef57a-065d-4c3b-a403-d86ed85dc392</td>\n      <td>-4350.50</td>\n      <td>17.0</td>\n      <td>4350.50</td>\n      <td>43.5</td>\n      <td>NaN</td>\n      <td>NaN</td>\n      <td>NaN</td>\n      <td>NaN</td>\n      <td>True</td>\n      <td>False</td>\n      <td>False</td>\n      <td>Purchase</td>\n      <td>NaN</td>\n      <td>NaN</td>\n      <td>2023-02-03 13:15:25.010569</td>\n      <td>True</td>\n      <td>New_users_w/req</td>\n    </tr>\n    <tr>\n      <th>138351</th>\n      <td>049bb2cf-1513-4178-bb30-7946876806d9</td>\n      <td>-2102.66</td>\n      <td>3.0</td>\n      <td>2102.66</td>\n      <td>21.0</td>\n      <td>NaN</td>\n      <td>NaN</td>\n      <td>NaN</td>\n      <td>NaN</td>\n      <td>True</td>\n      <td>False</td>\n      <td>False</td>\n      <td>Purchase</td>\n      <td>NaN</td>\n      <td>NaN</td>\n      <td>2023-02-06 12:29:19.386784</td>\n      <td>True</td>\n      <td>New_users_w/req</td>\n    </tr>\n    <tr>\n      <th>138395</th>\n      <td>0633d4a2-196c-44fe-bd75-3da0c0a4e2f4</td>\n      <td>-35261.79</td>\n      <td>31.0</td>\n      <td>35162.79</td>\n      <td>351.6</td>\n      <td>-6434.56</td>\n      <td>-37.12</td>\n      <td>4.0</td>\n      <td>3.0</td>\n      <td>True</td>\n      <td>True</td>\n      <td>True</td>\n      <td>Purchase_Withdraw_Fee</td>\n      <td>NaN</td>\n      <td>NaN</td>\n      <td>2023-02-12 21:57:31.795052</td>\n      <td>True</td>\n      <td>New_users_w/req</td>\n    </tr>\n    <tr>\n      <th>138412</th>\n      <td>06c1154d-39f7-4c69-b47a-8dbde593e7f3</td>\n      <td>-1457.59</td>\n      <td>11.0</td>\n      <td>1457.59</td>\n      <td>14.6</td>\n      <td>NaN</td>\n      <td>NaN</td>\n      <td>NaN</td>\n      <td>NaN</td>\n      <td>True</td>\n      <td>False</td>\n      <td>False</td>\n      <td>Purchase</td>\n      <td>NaN</td>\n      <td>NaN</td>\n      <td>2023-02-05 08:44:31.916231</td>\n      <td>True</td>\n      <td>New_users_w/req</td>\n    </tr>\n    <tr>\n      <th>...</th>\n      <td>...</td>\n      <td>...</td>\n      <td>...</td>\n      <td>...</td>\n      <td>...</td>\n      <td>...</td>\n      <td>...</td>\n      <td>...</td>\n      <td>...</td>\n      <td>...</td>\n      <td>...</td>\n      <td>...</td>\n      <td>...</td>\n      <td>...</td>\n      <td>...</td>\n      <td>...</td>\n      <td>...</td>\n      <td>...</td>\n    </tr>\n    <tr>\n      <th>9296</th>\n      <td>fd6c93ba-7294-4b57-aefc-492326f2f7ee</td>\n      <td>-576.00</td>\n      <td>12.0</td>\n      <td>576.00</td>\n      <td>5.8</td>\n      <td>NaN</td>\n      <td>NaN</td>\n      <td>NaN</td>\n      <td>NaN</td>\n      <td>True</td>\n      <td>False</td>\n      <td>False</td>\n      <td>Purchase</td>\n      <td>NaN</td>\n      <td>NaN</td>\n      <td>2020-11-20 20:07:00.630049</td>\n      <td>NaN</td>\n      <td>Not_in_cohort</td>\n    </tr>\n    <tr>\n      <th>9312</th>\n      <td>fdc12d48-745c-4865-a4a6-b49e6ca100d3</td>\n      <td>-2000.00</td>\n      <td>2.0</td>\n      <td>2000.00</td>\n      <td>20.0</td>\n      <td>NaN</td>\n      <td>NaN</td>\n      <td>NaN</td>\n      <td>NaN</td>\n      <td>True</td>\n      <td>False</td>\n      <td>False</td>\n      <td>Purchase</td>\n      <td>NaN</td>\n      <td>NaN</td>\n      <td>2022-09-20 21:22:05.642955</td>\n      <td>NaN</td>\n      <td>Not_in_cohort</td>\n    </tr>\n    <tr>\n      <th>9334</th>\n      <td>fe785fb6-a6fb-4887-bd00-ce8f42ea6c0d</td>\n      <td>-830.00</td>\n      <td>14.0</td>\n      <td>830.00</td>\n      <td>8.3</td>\n      <td>NaN</td>\n      <td>NaN</td>\n      <td>NaN</td>\n      <td>NaN</td>\n      <td>True</td>\n      <td>False</td>\n      <td>False</td>\n      <td>Purchase</td>\n      <td>NaN</td>\n      <td>NaN</td>\n      <td>2023-01-25 03:07:07.201230</td>\n      <td>NaN</td>\n      <td>Not_in_cohort</td>\n    </tr>\n    <tr>\n      <th>9367</th>\n      <td>ff4b40cd-f7b9-40e4-8ca6-cb6f24034c0f</td>\n      <td>-2012.59</td>\n      <td>9.0</td>\n      <td>2012.59</td>\n      <td>20.1</td>\n      <td>NaN</td>\n      <td>NaN</td>\n      <td>NaN</td>\n      <td>NaN</td>\n      <td>True</td>\n      <td>False</td>\n      <td>False</td>\n      <td>Purchase</td>\n      <td>NaN</td>\n      <td>NaN</td>\n      <td>2023-01-31 17:03:26.262853</td>\n      <td>NaN</td>\n      <td>Not_in_cohort</td>\n    </tr>\n    <tr>\n      <th>9388</th>\n      <td>fff81e0f-60dc-48a7-811d-26780baa087e</td>\n      <td>-1012.00</td>\n      <td>12.0</td>\n      <td>1012.00</td>\n      <td>10.1</td>\n      <td>NaN</td>\n      <td>NaN</td>\n      <td>NaN</td>\n      <td>NaN</td>\n      <td>True</td>\n      <td>False</td>\n      <td>False</td>\n      <td>Purchase</td>\n      <td>NaN</td>\n      <td>NaN</td>\n      <td>2023-01-31 14:29:37.196580</td>\n      <td>NaN</td>\n      <td>Not_in_cohort</td>\n    </tr>\n  </tbody>\n</table>\n<p>13648 rows × 18 columns</p>\n</div>"
     },
     "execution_count": 49,
     "metadata": {},
     "output_type": "execute_result"
    }
   ],
   "source": [
    "payment_cohort"
   ],
   "metadata": {
    "collapsed": false
   }
  },
  {
   "cell_type": "code",
   "execution_count": 50,
   "outputs": [
    {
     "data": {
      "text/plain": "Old_users_w/req    13336\nNot_in_cohort        227\nNew_users_w/req       85\nName: reason, dtype: int64"
     },
     "execution_count": 50,
     "metadata": {},
     "output_type": "execute_result"
    }
   ],
   "source": [
    "payment_cohort.reason.value_counts()"
   ],
   "metadata": {
    "collapsed": false
   }
  },
  {
   "cell_type": "code",
   "execution_count": 83,
   "outputs": [
    {
     "data": {
      "text/plain": "                                     user_id  amount_purch  total_purchases  \\\n138293  01d3af80-99a1-435e-8dc0-e67d3634d6ca      -1427.23             18.0   \n138339  042ef57a-065d-4c3b-a403-d86ed85dc392      -4350.50             17.0   \n138351  049bb2cf-1513-4178-bb30-7946876806d9      -2102.66              3.0   \n138395  0633d4a2-196c-44fe-bd75-3da0c0a4e2f4     -35261.79             31.0   \n138412  06c1154d-39f7-4c69-b47a-8dbde593e7f3      -1457.59             11.0   \n\n        cashback_amount  cashback  amount_DISBURSEMENT  amount_FEE  \\\n138293          1427.23      14.3                  NaN         NaN   \n138339          4350.50      43.5                  NaN         NaN   \n138351          2102.66      21.0                  NaN         NaN   \n138395         35162.79     351.6             -6434.56      -37.12   \n138412          1457.59      14.6                  NaN         NaN   \n\n        transaction_id_DISBURSEMENT  transaction_id_FEE  purchases  \\\n138293                          NaN                 NaN       True   \n138339                          NaN                 NaN       True   \n138351                          NaN                 NaN       True   \n138395                          4.0                 3.0       True   \n138412                          NaN                 NaN       True   \n\n        disbursements   fees          user_category cashback_type need_opt_in  \\\n138293          False  False               Purchase           NaN         NaN   \n138339          False  False               Purchase           NaN         NaN   \n138351          False  False               Purchase           NaN         NaN   \n138395           True   True  Purchase_Withdraw_Fee           NaN         NaN   \n138412          False  False               Purchase           NaN         NaN   \n\n                  sms_confirmed_mx optIn           reason  \n138293  2023-02-12 14:24:12.144404  True  New_users_w/req  \n138339  2023-02-03 13:15:25.010569  True  New_users_w/req  \n138351  2023-02-06 12:29:19.386784  True  New_users_w/req  \n138395  2023-02-12 21:57:31.795052  True  New_users_w/req  \n138412  2023-02-05 08:44:31.916231  True  New_users_w/req  ",
      "text/html": "<div>\n<style scoped>\n    .dataframe tbody tr th:only-of-type {\n        vertical-align: middle;\n    }\n\n    .dataframe tbody tr th {\n        vertical-align: top;\n    }\n\n    .dataframe thead th {\n        text-align: right;\n    }\n</style>\n<table border=\"1\" class=\"dataframe\">\n  <thead>\n    <tr style=\"text-align: right;\">\n      <th></th>\n      <th>user_id</th>\n      <th>amount_purch</th>\n      <th>total_purchases</th>\n      <th>cashback_amount</th>\n      <th>cashback</th>\n      <th>amount_DISBURSEMENT</th>\n      <th>amount_FEE</th>\n      <th>transaction_id_DISBURSEMENT</th>\n      <th>transaction_id_FEE</th>\n      <th>purchases</th>\n      <th>disbursements</th>\n      <th>fees</th>\n      <th>user_category</th>\n      <th>cashback_type</th>\n      <th>need_opt_in</th>\n      <th>sms_confirmed_mx</th>\n      <th>optIn</th>\n      <th>reason</th>\n    </tr>\n  </thead>\n  <tbody>\n    <tr>\n      <th>138293</th>\n      <td>01d3af80-99a1-435e-8dc0-e67d3634d6ca</td>\n      <td>-1427.23</td>\n      <td>18.0</td>\n      <td>1427.23</td>\n      <td>14.3</td>\n      <td>NaN</td>\n      <td>NaN</td>\n      <td>NaN</td>\n      <td>NaN</td>\n      <td>True</td>\n      <td>False</td>\n      <td>False</td>\n      <td>Purchase</td>\n      <td>NaN</td>\n      <td>NaN</td>\n      <td>2023-02-12 14:24:12.144404</td>\n      <td>True</td>\n      <td>New_users_w/req</td>\n    </tr>\n    <tr>\n      <th>138339</th>\n      <td>042ef57a-065d-4c3b-a403-d86ed85dc392</td>\n      <td>-4350.50</td>\n      <td>17.0</td>\n      <td>4350.50</td>\n      <td>43.5</td>\n      <td>NaN</td>\n      <td>NaN</td>\n      <td>NaN</td>\n      <td>NaN</td>\n      <td>True</td>\n      <td>False</td>\n      <td>False</td>\n      <td>Purchase</td>\n      <td>NaN</td>\n      <td>NaN</td>\n      <td>2023-02-03 13:15:25.010569</td>\n      <td>True</td>\n      <td>New_users_w/req</td>\n    </tr>\n    <tr>\n      <th>138351</th>\n      <td>049bb2cf-1513-4178-bb30-7946876806d9</td>\n      <td>-2102.66</td>\n      <td>3.0</td>\n      <td>2102.66</td>\n      <td>21.0</td>\n      <td>NaN</td>\n      <td>NaN</td>\n      <td>NaN</td>\n      <td>NaN</td>\n      <td>True</td>\n      <td>False</td>\n      <td>False</td>\n      <td>Purchase</td>\n      <td>NaN</td>\n      <td>NaN</td>\n      <td>2023-02-06 12:29:19.386784</td>\n      <td>True</td>\n      <td>New_users_w/req</td>\n    </tr>\n    <tr>\n      <th>138395</th>\n      <td>0633d4a2-196c-44fe-bd75-3da0c0a4e2f4</td>\n      <td>-35261.79</td>\n      <td>31.0</td>\n      <td>35162.79</td>\n      <td>351.6</td>\n      <td>-6434.56</td>\n      <td>-37.12</td>\n      <td>4.0</td>\n      <td>3.0</td>\n      <td>True</td>\n      <td>True</td>\n      <td>True</td>\n      <td>Purchase_Withdraw_Fee</td>\n      <td>NaN</td>\n      <td>NaN</td>\n      <td>2023-02-12 21:57:31.795052</td>\n      <td>True</td>\n      <td>New_users_w/req</td>\n    </tr>\n    <tr>\n      <th>138412</th>\n      <td>06c1154d-39f7-4c69-b47a-8dbde593e7f3</td>\n      <td>-1457.59</td>\n      <td>11.0</td>\n      <td>1457.59</td>\n      <td>14.6</td>\n      <td>NaN</td>\n      <td>NaN</td>\n      <td>NaN</td>\n      <td>NaN</td>\n      <td>True</td>\n      <td>False</td>\n      <td>False</td>\n      <td>Purchase</td>\n      <td>NaN</td>\n      <td>NaN</td>\n      <td>2023-02-05 08:44:31.916231</td>\n      <td>True</td>\n      <td>New_users_w/req</td>\n    </tr>\n  </tbody>\n</table>\n</div>"
     },
     "execution_count": 83,
     "metadata": {},
     "output_type": "execute_result"
    }
   ],
   "source": [
    "payment_cohort.head()"
   ],
   "metadata": {
    "collapsed": false
   }
  },
  {
   "cell_type": "code",
   "execution_count": 92,
   "outputs": [
    {
     "data": {
      "text/plain": "13648"
     },
     "execution_count": 92,
     "metadata": {},
     "output_type": "execute_result"
    }
   ],
   "source": [
    "payment_cohort.shape[0]"
   ],
   "metadata": {
    "collapsed": false
   }
  },
  {
   "cell_type": "code",
   "execution_count": 84,
   "outputs": [],
   "source": [
    "blocked_users = '''\n",
    "select\n",
    "    distinct user_id\n",
    "from operations.blocked_users\n",
    "where user_id in {}\n",
    "'''"
   ],
   "metadata": {
    "collapsed": false
   }
  },
  {
   "cell_type": "code",
   "execution_count": 88,
   "outputs": [],
   "source": [
    "# Get the sms confirmed info for the users that are not in the cohort\n",
    "users_blocked_query = sqlalchemy.text(blocked_users.format(tuple(payment_cohort.user_id.to_list())))\n",
    "# Execute the query\n",
    "user_blocked = pd.read_sql_query(users_blocked_query,cnx)"
   ],
   "metadata": {
    "collapsed": false
   }
  },
  {
   "cell_type": "code",
   "execution_count": 91,
   "outputs": [
    {
     "name": "stdout",
     "output_type": "stream",
     "text": [
      "The number of users blocked is: 118\n"
     ]
    }
   ],
   "source": [
    "print('The number of users blocked is: ' + str(user_blocked.shape[0]))"
   ],
   "metadata": {
    "collapsed": false
   }
  },
  {
   "cell_type": "code",
   "execution_count": 93,
   "outputs": [],
   "source": [
    "payment_cohort = payment_cohort[~payment_cohort.user_id.isin(user_blocked.user_id.to_list())]"
   ],
   "metadata": {
    "collapsed": false
   }
  },
  {
   "cell_type": "code",
   "execution_count": 94,
   "outputs": [
    {
     "name": "stdout",
     "output_type": "stream",
     "text": [
      "The Final number of users is: 13530\n"
     ]
    }
   ],
   "source": [
    "print('The Final number of users is: ' + str(payment_cohort.shape[0]))"
   ],
   "metadata": {
    "collapsed": false
   }
  },
  {
   "cell_type": "markdown",
   "source": [
    "# Cashback"
   ],
   "metadata": {
    "collapsed": false
   }
  },
  {
   "cell_type": "code",
   "execution_count": 95,
   "outputs": [
    {
     "name": "stdout",
     "output_type": "stream",
     "text": [
      "Total of users with cashback payment: 13530\n",
      "Total amount of cashback to pay: $685029.1\n"
     ]
    }
   ],
   "source": [
    "cashback_payment = payment_cohort[payment_cohort.purchases]\n",
    "cashback_payment = cashback_payment[cashback_payment.cashback >= 1]\n",
    "cashback_payment['cashback'] = cashback_payment['cashback'].apply(lambda x: 1000 if x > 1000 else round(x, 0))\n",
    "print('Total of users with cashback payment: ' + str(payment_cohort.shape[0]))\n",
    "print('Total amount of cashback to pay: $'+str(payment_cohort.cashback.sum()))"
   ],
   "metadata": {
    "collapsed": false
   }
  },
  {
   "cell_type": "code",
   "execution_count": 96,
   "outputs": [
    {
     "data": {
      "text/plain": "Old_users_w/req    13206\nNot_in_cohort        219\nNew_users_w/req       84\nName: reason, dtype: int64"
     },
     "execution_count": 96,
     "metadata": {},
     "output_type": "execute_result"
    }
   ],
   "source": [
    "cashback_payment.reason.value_counts()"
   ],
   "metadata": {
    "collapsed": false
   }
  },
  {
   "cell_type": "code",
   "execution_count": 97,
   "outputs": [
    {
     "data": {
      "text/plain": "Purchase                 9085\nPurchase_Withdraw        4076\nPurchase_Withdraw_Fee     179\nPurchase_Fee              169\nName: user_category, dtype: int64"
     },
     "execution_count": 97,
     "metadata": {},
     "output_type": "execute_result"
    }
   ],
   "source": [
    "cashback_payment.user_category.value_counts()"
   ],
   "metadata": {
    "collapsed": false
   }
  },
  {
   "cell_type": "code",
   "execution_count": 98,
   "outputs": [
    {
     "data": {
      "text/plain": "13509"
     },
     "execution_count": 98,
     "metadata": {},
     "output_type": "execute_result"
    }
   ],
   "source": [
    "cashback_payment.shape[0]"
   ],
   "metadata": {
    "collapsed": false
   }
  },
  {
   "cell_type": "markdown",
   "source": [
    "## Cashback Statistics"
   ],
   "metadata": {
    "collapsed": false
   }
  },
  {
   "cell_type": "markdown",
   "source": [
    "#### Mean"
   ],
   "metadata": {
    "collapsed": false
   }
  },
  {
   "cell_type": "code",
   "execution_count": 99,
   "outputs": [
    {
     "data": {
      "text/plain": "                 cashback_amount  total_purchases\nreason                                           \nNew_users_w/req      4670.595357        15.119048\nNot_in_cohort        2918.135342        13.461187\nOld_users_w/req      5126.974149        18.923974",
      "text/html": "<div>\n<style scoped>\n    .dataframe tbody tr th:only-of-type {\n        vertical-align: middle;\n    }\n\n    .dataframe tbody tr th {\n        vertical-align: top;\n    }\n\n    .dataframe thead th {\n        text-align: right;\n    }\n</style>\n<table border=\"1\" class=\"dataframe\">\n  <thead>\n    <tr style=\"text-align: right;\">\n      <th></th>\n      <th>cashback_amount</th>\n      <th>total_purchases</th>\n    </tr>\n    <tr>\n      <th>reason</th>\n      <th></th>\n      <th></th>\n    </tr>\n  </thead>\n  <tbody>\n    <tr>\n      <th>New_users_w/req</th>\n      <td>4670.595357</td>\n      <td>15.119048</td>\n    </tr>\n    <tr>\n      <th>Not_in_cohort</th>\n      <td>2918.135342</td>\n      <td>13.461187</td>\n    </tr>\n    <tr>\n      <th>Old_users_w/req</th>\n      <td>5126.974149</td>\n      <td>18.923974</td>\n    </tr>\n  </tbody>\n</table>\n</div>"
     },
     "execution_count": 99,
     "metadata": {},
     "output_type": "execute_result"
    }
   ],
   "source": [
    "cashback_payment.groupby('reason').agg({'cashback_amount':'mean','total_purchases':'mean'})"
   ],
   "metadata": {
    "collapsed": false
   }
  },
  {
   "cell_type": "markdown",
   "source": [
    "#### STD"
   ],
   "metadata": {
    "collapsed": false
   }
  },
  {
   "cell_type": "code",
   "execution_count": 100,
   "outputs": [
    {
     "data": {
      "text/plain": "                 cashback_amount  total_purchases\nreason                                           \nNew_users_w/req      6358.720065        10.688813\nNot_in_cohort        3978.528334         9.041804\nOld_users_w/req      7231.047218        14.493058",
      "text/html": "<div>\n<style scoped>\n    .dataframe tbody tr th:only-of-type {\n        vertical-align: middle;\n    }\n\n    .dataframe tbody tr th {\n        vertical-align: top;\n    }\n\n    .dataframe thead th {\n        text-align: right;\n    }\n</style>\n<table border=\"1\" class=\"dataframe\">\n  <thead>\n    <tr style=\"text-align: right;\">\n      <th></th>\n      <th>cashback_amount</th>\n      <th>total_purchases</th>\n    </tr>\n    <tr>\n      <th>reason</th>\n      <th></th>\n      <th></th>\n    </tr>\n  </thead>\n  <tbody>\n    <tr>\n      <th>New_users_w/req</th>\n      <td>6358.720065</td>\n      <td>10.688813</td>\n    </tr>\n    <tr>\n      <th>Not_in_cohort</th>\n      <td>3978.528334</td>\n      <td>9.041804</td>\n    </tr>\n    <tr>\n      <th>Old_users_w/req</th>\n      <td>7231.047218</td>\n      <td>14.493058</td>\n    </tr>\n  </tbody>\n</table>\n</div>"
     },
     "execution_count": 100,
     "metadata": {},
     "output_type": "execute_result"
    }
   ],
   "source": [
    "cashback_payment.groupby('reason').agg({'cashback_amount':'std','total_purchases':'std'})"
   ],
   "metadata": {
    "collapsed": false
   }
  },
  {
   "cell_type": "markdown",
   "source": [
    "#### MIN"
   ],
   "metadata": {
    "collapsed": false
   }
  },
  {
   "cell_type": "code",
   "execution_count": 101,
   "outputs": [
    {
     "data": {
      "text/plain": "                 cashback_amount  total_purchases  cashback\nreason                                                     \nNew_users_w/req           142.01              1.0       1.0\nNot_in_cohort             106.01              1.0       1.0\nOld_users_w/req           108.33              1.0       1.0",
      "text/html": "<div>\n<style scoped>\n    .dataframe tbody tr th:only-of-type {\n        vertical-align: middle;\n    }\n\n    .dataframe tbody tr th {\n        vertical-align: top;\n    }\n\n    .dataframe thead th {\n        text-align: right;\n    }\n</style>\n<table border=\"1\" class=\"dataframe\">\n  <thead>\n    <tr style=\"text-align: right;\">\n      <th></th>\n      <th>cashback_amount</th>\n      <th>total_purchases</th>\n      <th>cashback</th>\n    </tr>\n    <tr>\n      <th>reason</th>\n      <th></th>\n      <th></th>\n      <th></th>\n    </tr>\n  </thead>\n  <tbody>\n    <tr>\n      <th>New_users_w/req</th>\n      <td>142.01</td>\n      <td>1.0</td>\n      <td>1.0</td>\n    </tr>\n    <tr>\n      <th>Not_in_cohort</th>\n      <td>106.01</td>\n      <td>1.0</td>\n      <td>1.0</td>\n    </tr>\n    <tr>\n      <th>Old_users_w/req</th>\n      <td>108.33</td>\n      <td>1.0</td>\n      <td>1.0</td>\n    </tr>\n  </tbody>\n</table>\n</div>"
     },
     "execution_count": 101,
     "metadata": {},
     "output_type": "execute_result"
    }
   ],
   "source": [
    "cashback_payment.groupby('reason').agg({'cashback_amount':'min','total_purchases':'min', 'cashback':'min'})"
   ],
   "metadata": {
    "collapsed": false
   }
  },
  {
   "cell_type": "markdown",
   "source": [
    "#### MAX"
   ],
   "metadata": {
    "collapsed": false
   }
  },
  {
   "cell_type": "code",
   "execution_count": 102,
   "outputs": [
    {
     "data": {
      "text/plain": "                 cashback_amount  total_purchases  cashback\nreason                                                     \nNew_users_w/req         35162.79             56.0     352.0\nNot_in_cohort           43175.77             67.0     432.0\nOld_users_w/req        173455.35            334.0    1000.0",
      "text/html": "<div>\n<style scoped>\n    .dataframe tbody tr th:only-of-type {\n        vertical-align: middle;\n    }\n\n    .dataframe tbody tr th {\n        vertical-align: top;\n    }\n\n    .dataframe thead th {\n        text-align: right;\n    }\n</style>\n<table border=\"1\" class=\"dataframe\">\n  <thead>\n    <tr style=\"text-align: right;\">\n      <th></th>\n      <th>cashback_amount</th>\n      <th>total_purchases</th>\n      <th>cashback</th>\n    </tr>\n    <tr>\n      <th>reason</th>\n      <th></th>\n      <th></th>\n      <th></th>\n    </tr>\n  </thead>\n  <tbody>\n    <tr>\n      <th>New_users_w/req</th>\n      <td>35162.79</td>\n      <td>56.0</td>\n      <td>352.0</td>\n    </tr>\n    <tr>\n      <th>Not_in_cohort</th>\n      <td>43175.77</td>\n      <td>67.0</td>\n      <td>432.0</td>\n    </tr>\n    <tr>\n      <th>Old_users_w/req</th>\n      <td>173455.35</td>\n      <td>334.0</td>\n      <td>1000.0</td>\n    </tr>\n  </tbody>\n</table>\n</div>"
     },
     "execution_count": 102,
     "metadata": {},
     "output_type": "execute_result"
    }
   ],
   "source": [
    "cashback_payment.groupby('reason').agg({'cashback_amount':'max','total_purchases':'max', 'cashback':'max'})"
   ],
   "metadata": {
    "collapsed": false
   }
  },
  {
   "cell_type": "markdown",
   "source": [
    "#### Standard Error"
   ],
   "metadata": {
    "collapsed": false
   }
  },
  {
   "cell_type": "code",
   "execution_count": 103,
   "outputs": [
    {
     "data": {
      "text/plain": "                 cashback_amount  total_purchases\nreason                                           \nNew_users_w/req       693.793239         1.166245\nNot_in_cohort         268.844031         0.610988\nOld_users_w/req        62.923888         0.126117",
      "text/html": "<div>\n<style scoped>\n    .dataframe tbody tr th:only-of-type {\n        vertical-align: middle;\n    }\n\n    .dataframe tbody tr th {\n        vertical-align: top;\n    }\n\n    .dataframe thead th {\n        text-align: right;\n    }\n</style>\n<table border=\"1\" class=\"dataframe\">\n  <thead>\n    <tr style=\"text-align: right;\">\n      <th></th>\n      <th>cashback_amount</th>\n      <th>total_purchases</th>\n    </tr>\n    <tr>\n      <th>reason</th>\n      <th></th>\n      <th></th>\n    </tr>\n  </thead>\n  <tbody>\n    <tr>\n      <th>New_users_w/req</th>\n      <td>693.793239</td>\n      <td>1.166245</td>\n    </tr>\n    <tr>\n      <th>Not_in_cohort</th>\n      <td>268.844031</td>\n      <td>0.610988</td>\n    </tr>\n    <tr>\n      <th>Old_users_w/req</th>\n      <td>62.923888</td>\n      <td>0.126117</td>\n    </tr>\n  </tbody>\n</table>\n</div>"
     },
     "execution_count": 103,
     "metadata": {},
     "output_type": "execute_result"
    }
   ],
   "source": [
    "cashback_payment.groupby('reason').agg({'cashback_amount':'sem','total_purchases':'sem'})"
   ],
   "metadata": {
    "collapsed": false
   }
  },
  {
   "cell_type": "code",
   "execution_count": 104,
   "outputs": [
    {
     "data": {
      "text/plain": "Index(['user_id', 'amount_purch', 'total_purchases', 'cashback_amount',\n       'cashback', 'amount_DISBURSEMENT', 'amount_FEE',\n       'transaction_id_DISBURSEMENT', 'transaction_id_FEE', 'purchases',\n       'disbursements', 'fees', 'user_category', 'cashback_type',\n       'need_opt_in', 'sms_confirmed_mx', 'optIn', 'reason'],\n      dtype='object')"
     },
     "execution_count": 104,
     "metadata": {},
     "output_type": "execute_result"
    }
   ],
   "source": [
    "cashback_payment.columns"
   ],
   "metadata": {
    "collapsed": false
   }
  },
  {
   "cell_type": "code",
   "execution_count": 105,
   "outputs": [],
   "source": [
    "file_cashback = cashback_payment[['user_id', 'amount_purch', 'total_purchases','cashback', 'reason']]"
   ],
   "metadata": {
    "collapsed": false
   }
  },
  {
   "cell_type": "code",
   "execution_count": 106,
   "outputs": [],
   "source": [
    "# Append the dataframe again\n",
    "gd.set_with_dataframe(payments_ws.worksheet(\"Cashback\"), file_cashback, row=1, col=1)"
   ],
   "metadata": {
    "collapsed": false
   }
  },
  {
   "cell_type": "markdown",
   "source": [
    "# Balance Check"
   ],
   "metadata": {
    "collapsed": false
   }
  },
  {
   "cell_type": "code",
   "execution_count": 107,
   "outputs": [
    {
     "name": "stderr",
     "output_type": "stream",
     "text": [
      "/var/folders/b_/lql2bh7s2797fh2q6lw2ttdh0000gn/T/ipykernel_24821/4114197961.py:2: SettingWithCopyWarning: \n",
      "A value is trying to be set on a copy of a slice from a DataFrame.\n",
      "Try using .loc[row_indexer,col_indexer] = value instead\n",
      "\n",
      "See the caveats in the documentation: https://pandas.pydata.org/pandas-docs/stable/user_guide/indexing.html#returning-a-view-versus-a-copy\n",
      "  balance_payment['num_fees_to_pay'] = balance_payment['transaction_id_FEE'].apply(lambda x: 3 if x > 3 else x)\n",
      "/var/folders/b_/lql2bh7s2797fh2q6lw2ttdh0000gn/T/ipykernel_24821/4114197961.py:3: SettingWithCopyWarning: \n",
      "A value is trying to be set on a copy of a slice from a DataFrame.\n",
      "Try using .loc[row_indexer,col_indexer] = value instead\n",
      "\n",
      "See the caveats in the documentation: https://pandas.pydata.org/pandas-docs/stable/user_guide/indexing.html#returning-a-view-versus-a-copy\n",
      "  balance_payment['amount_to_pay'] = balance_payment['num_fees_to_pay']*15\n"
     ]
    }
   ],
   "source": [
    "balance_payment = payment_cohort[payment_cohort.fees]\n",
    "balance_payment['num_fees_to_pay'] = balance_payment['transaction_id_FEE'].apply(lambda x: 3 if x > 3 else x)\n",
    "balance_payment['amount_to_pay'] = balance_payment['num_fees_to_pay']*15"
   ],
   "metadata": {
    "collapsed": false
   }
  },
  {
   "cell_type": "code",
   "execution_count": 108,
   "outputs": [
    {
     "name": "stdout",
     "output_type": "stream",
     "text": [
      "Total of users with Balance Check payment: 348\n",
      "Total amount of Balance Check to pay: $6345.0\n"
     ]
    }
   ],
   "source": [
    "print('Total of users with Balance Check payment: ' + str(balance_payment.shape[0]))\n",
    "print('Total amount of Balance Check to pay: $'+str(balance_payment.amount_to_pay.sum()))"
   ],
   "metadata": {
    "collapsed": false
   }
  },
  {
   "cell_type": "code",
   "execution_count": 109,
   "outputs": [
    {
     "data": {
      "text/plain": "Old_users_w/req    318\nNot_in_cohort       22\nNew_users_w/req      8\nName: reason, dtype: int64"
     },
     "execution_count": 109,
     "metadata": {},
     "output_type": "execute_result"
    }
   ],
   "source": [
    "balance_payment.reason.value_counts()"
   ],
   "metadata": {
    "collapsed": false
   }
  },
  {
   "cell_type": "code",
   "execution_count": 110,
   "outputs": [
    {
     "data": {
      "text/plain": "                 num_fees_to_pay  amount_to_pay\nreason                                         \nNew_users_w/req         1.500000      22.500000\nNot_in_cohort           1.136364      17.045455\nOld_users_w/req         1.213836      18.207547",
      "text/html": "<div>\n<style scoped>\n    .dataframe tbody tr th:only-of-type {\n        vertical-align: middle;\n    }\n\n    .dataframe tbody tr th {\n        vertical-align: top;\n    }\n\n    .dataframe thead th {\n        text-align: right;\n    }\n</style>\n<table border=\"1\" class=\"dataframe\">\n  <thead>\n    <tr style=\"text-align: right;\">\n      <th></th>\n      <th>num_fees_to_pay</th>\n      <th>amount_to_pay</th>\n    </tr>\n    <tr>\n      <th>reason</th>\n      <th></th>\n      <th></th>\n    </tr>\n  </thead>\n  <tbody>\n    <tr>\n      <th>New_users_w/req</th>\n      <td>1.500000</td>\n      <td>22.500000</td>\n    </tr>\n    <tr>\n      <th>Not_in_cohort</th>\n      <td>1.136364</td>\n      <td>17.045455</td>\n    </tr>\n    <tr>\n      <th>Old_users_w/req</th>\n      <td>1.213836</td>\n      <td>18.207547</td>\n    </tr>\n  </tbody>\n</table>\n</div>"
     },
     "execution_count": 110,
     "metadata": {},
     "output_type": "execute_result"
    }
   ],
   "source": [
    "balance_payment.groupby('reason').agg({'num_fees_to_pay':'mean','amount_to_pay':'mean'})"
   ],
   "metadata": {
    "collapsed": false
   }
  },
  {
   "cell_type": "code",
   "execution_count": 111,
   "outputs": [],
   "source": [
    "file_balance_check = balance_payment[['user_id', 'num_fees_to_pay', 'amount_to_pay', 'reason']]"
   ],
   "metadata": {
    "collapsed": false
   }
  },
  {
   "cell_type": "code",
   "execution_count": 112,
   "outputs": [],
   "source": [
    "# Append the dataframe again\n",
    "gd.set_with_dataframe(payments_ws.worksheet(\"Balance Check\"), file_balance_check, row=1, col=1)"
   ],
   "metadata": {
    "collapsed": false
   }
  },
  {
   "cell_type": "markdown",
   "source": [
    "# ATM Withdraw\n"
   ],
   "metadata": {
    "collapsed": false
   }
  },
  {
   "cell_type": "code",
   "execution_count": 113,
   "outputs": [
    {
     "name": "stderr",
     "output_type": "stream",
     "text": [
      "/var/folders/b_/lql2bh7s2797fh2q6lw2ttdh0000gn/T/ipykernel_24821/4006524072.py:2: SettingWithCopyWarning: \n",
      "A value is trying to be set on a copy of a slice from a DataFrame.\n",
      "Try using .loc[row_indexer,col_indexer] = value instead\n",
      "\n",
      "See the caveats in the documentation: https://pandas.pydata.org/pandas-docs/stable/user_guide/indexing.html#returning-a-view-versus-a-copy\n",
      "  atm_payment['num_atm_to_pay'] = atm_payment['transaction_id_DISBURSEMENT'].apply(lambda x: 3 if x > 3 else x)\n",
      "/var/folders/b_/lql2bh7s2797fh2q6lw2ttdh0000gn/T/ipykernel_24821/4006524072.py:3: SettingWithCopyWarning: \n",
      "A value is trying to be set on a copy of a slice from a DataFrame.\n",
      "Try using .loc[row_indexer,col_indexer] = value instead\n",
      "\n",
      "See the caveats in the documentation: https://pandas.pydata.org/pandas-docs/stable/user_guide/indexing.html#returning-a-view-versus-a-copy\n",
      "  atm_payment['amount_to_pay'] = atm_payment['num_atm_to_pay']*25\n"
     ]
    }
   ],
   "source": [
    "atm_payment = payment_cohort[payment_cohort.disbursements]\n",
    "atm_payment['num_atm_to_pay'] = atm_payment['transaction_id_DISBURSEMENT'].apply(lambda x: 3 if x > 3 else x)\n",
    "atm_payment['amount_to_pay'] = atm_payment['num_atm_to_pay']*25"
   ],
   "metadata": {
    "collapsed": false
   }
  },
  {
   "cell_type": "code",
   "execution_count": 114,
   "outputs": [
    {
     "name": "stdout",
     "output_type": "stream",
     "text": [
      "Total of users with ATM Withdraw payment: 4258\n",
      "Total amount of ATM Withdraw to pay: $202150.0\n"
     ]
    }
   ],
   "source": [
    "print('Total of users with ATM Withdraw payment: ' + str(atm_payment.shape[0]))\n",
    "print('Total amount of ATM Withdraw to pay: $'+str(atm_payment.amount_to_pay.sum()))"
   ],
   "metadata": {
    "collapsed": false
   }
  },
  {
   "cell_type": "code",
   "execution_count": 115,
   "outputs": [
    {
     "data": {
      "text/plain": "Old_users_w/req    4194\nNot_in_cohort        42\nNew_users_w/req      22\nName: reason, dtype: int64"
     },
     "execution_count": 115,
     "metadata": {},
     "output_type": "execute_result"
    }
   ],
   "source": [
    "atm_payment.reason.value_counts()"
   ],
   "metadata": {
    "collapsed": false
   }
  },
  {
   "cell_type": "code",
   "execution_count": 116,
   "outputs": [
    {
     "data": {
      "text/plain": "                 num_atm_to_pay  amount_to_pay\nreason                                        \nNew_users_w/req        1.636364      40.909091\nNot_in_cohort          1.714286      42.857143\nOld_users_w/req        1.902241      47.556032",
      "text/html": "<div>\n<style scoped>\n    .dataframe tbody tr th:only-of-type {\n        vertical-align: middle;\n    }\n\n    .dataframe tbody tr th {\n        vertical-align: top;\n    }\n\n    .dataframe thead th {\n        text-align: right;\n    }\n</style>\n<table border=\"1\" class=\"dataframe\">\n  <thead>\n    <tr style=\"text-align: right;\">\n      <th></th>\n      <th>num_atm_to_pay</th>\n      <th>amount_to_pay</th>\n    </tr>\n    <tr>\n      <th>reason</th>\n      <th></th>\n      <th></th>\n    </tr>\n  </thead>\n  <tbody>\n    <tr>\n      <th>New_users_w/req</th>\n      <td>1.636364</td>\n      <td>40.909091</td>\n    </tr>\n    <tr>\n      <th>Not_in_cohort</th>\n      <td>1.714286</td>\n      <td>42.857143</td>\n    </tr>\n    <tr>\n      <th>Old_users_w/req</th>\n      <td>1.902241</td>\n      <td>47.556032</td>\n    </tr>\n  </tbody>\n</table>\n</div>"
     },
     "execution_count": 116,
     "metadata": {},
     "output_type": "execute_result"
    }
   ],
   "source": [
    "atm_payment.groupby('reason').agg({'num_atm_to_pay':'mean','amount_to_pay':'mean'})"
   ],
   "metadata": {
    "collapsed": false
   }
  },
  {
   "cell_type": "code",
   "execution_count": 117,
   "outputs": [
    {
     "data": {
      "text/plain": "1.0    1848\n3.0    1438\n2.0     908\nName: num_atm_to_pay, dtype: int64"
     },
     "execution_count": 117,
     "metadata": {},
     "output_type": "execute_result"
    }
   ],
   "source": [
    "atm_payment[atm_payment['reason']=='Old_users_w/req']['num_atm_to_pay'].value_counts()"
   ],
   "metadata": {
    "collapsed": false
   }
  },
  {
   "cell_type": "code",
   "execution_count": 118,
   "outputs": [],
   "source": [
    "file_atm = atm_payment[['user_id', 'num_atm_to_pay', 'amount_to_pay', 'reason']]"
   ],
   "metadata": {
    "collapsed": false
   }
  },
  {
   "cell_type": "code",
   "execution_count": 119,
   "outputs": [],
   "source": [
    "# Append the dataframe again\n",
    "gd.set_with_dataframe(payments_ws.worksheet(\"ATM Withdraws\"), file_atm, row=1, col=1)"
   ],
   "metadata": {
    "collapsed": false
   }
  },
  {
   "cell_type": "code",
   "execution_count": null,
   "outputs": [],
   "source": [],
   "metadata": {
    "collapsed": false,
    "pycharm": {
     "is_executing": true
    }
   }
  },
  {
   "cell_type": "code",
   "execution_count": 119,
   "outputs": [],
   "source": [],
   "metadata": {
    "collapsed": false
   }
  }
 ],
 "metadata": {
  "kernelspec": {
   "display_name": "Python 3",
   "language": "python",
   "name": "python3"
  },
  "language_info": {
   "codemirror_mode": {
    "name": "ipython",
    "version": 2
   },
   "file_extension": ".py",
   "mimetype": "text/x-python",
   "name": "python",
   "nbconvert_exporter": "python",
   "pygments_lexer": "ipython2",
   "version": "2.7.6"
  }
 },
 "nbformat": 4,
 "nbformat_minor": 0
}
