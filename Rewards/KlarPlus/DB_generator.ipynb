{
 "cells": [
  {
   "cell_type": "code",
   "execution_count": 1,
   "metadata": {
    "collapsed": true
   },
   "outputs": [],
   "source": [
    "import pandas as pd\n",
    "from sqlalchemy import create_engine\n",
    "import sqlalchemy\n",
    "from datetime import datetime\n",
    "from dateutil.relativedelta import relativedelta"
   ]
  },
  {
   "cell_type": "code",
   "execution_count": 2,
   "outputs": [],
   "source": [
    "month = (datetime.today() + relativedelta(months=-1)).strftime('%Y-%m')"
   ],
   "metadata": {
    "collapsed": false
   }
  },
  {
   "cell_type": "markdown",
   "source": [
    "## Year - Month of Calculation"
   ],
   "metadata": {
    "collapsed": false
   }
  },
  {
   "cell_type": "code",
   "execution_count": 3,
   "outputs": [
    {
     "data": {
      "text/plain": "'2023-02'"
     },
     "execution_count": 3,
     "metadata": {},
     "output_type": "execute_result"
    }
   ],
   "source": [
    "month"
   ],
   "metadata": {
    "collapsed": false
   }
  },
  {
   "cell_type": "markdown",
   "source": [
    "# Start date and end date end for query"
   ],
   "metadata": {
    "collapsed": false
   }
  },
  {
   "cell_type": "code",
   "execution_count": 4,
   "outputs": [
    {
     "name": "stdout",
     "output_type": "stream",
     "text": [
      "2023-02-01\n",
      "2023-03-01\n"
     ]
    }
   ],
   "source": [
    "reference_day = datetime.today().replace(day=1)\n",
    "end_date = (reference_day).strftime('%Y-%m-%d')\n",
    "start_date = (reference_day - relativedelta(months = 1)).strftime('%Y-%m-%d')\n",
    "print(start_date)\n",
    "print(end_date)"
   ],
   "metadata": {
    "collapsed": false
   }
  },
  {
   "cell_type": "markdown",
   "source": [
    "# DB Connection"
   ],
   "metadata": {
    "collapsed": false
   }
  },
  {
   "cell_type": "code",
   "execution_count": 5,
   "outputs": [],
   "source": [
    "# Redshift connection\n",
    "f = open('/Users/gabrielreynoso/Documents/Queries/db_klarprod_connection.txt', 'r')\n",
    "postgres_str = f.read()\n",
    "f.close()\n",
    "cnx = create_engine(postgres_str)"
   ],
   "metadata": {
    "collapsed": false
   }
  },
  {
   "cell_type": "markdown",
   "source": [
    "# Cashback"
   ],
   "metadata": {
    "collapsed": false
   }
  },
  {
   "cell_type": "code",
   "execution_count": 6,
   "outputs": [],
   "source": [
    "query_transactions = '''\n",
    "SELECT t.*\n",
    "FROM analytics_bi.transactions t\n",
    "where t.state = 'SETTLED'\n",
    "AND t.timestamp_mx >= '{start_date}' + '00:00:00'\n",
    "AND t.timestamp_mx < '{end_date}' + '00:00:00'\n",
    "and t.source_account_internal_id <> '0000000000000000' AND t.source_account_internal_id <> '00000000-0000-0000-0000-000000000000'\n",
    "AND t.amount <> 0\n",
    "and ((t.provider_id = 'GALILEO' AND t.transaction_id NOT LIKE 'TGT%' AND t.transaction_id NOT LIKE 'SRC%') or (t.provider_id = 'ARCUS' and t.type = 'PURCHASE'))\n",
    "order by t.user_id ASC;\n",
    "'''"
   ],
   "metadata": {
    "collapsed": false
   }
  },
  {
   "cell_type": "code",
   "execution_count": 7,
   "outputs": [],
   "source": [
    "transactions_raw = pd.read_sql_query(sqlalchemy.text(query_transactions.format(start_date = start_date, end_date = end_date)),cnx)"
   ],
   "metadata": {
    "collapsed": false
   }
  },
  {
   "cell_type": "markdown",
   "source": [
    "## Providers"
   ],
   "metadata": {
    "collapsed": false
   }
  },
  {
   "cell_type": "code",
   "execution_count": 8,
   "outputs": [
    {
     "data": {
      "text/plain": "GALILEO    1220398\nARCUS        84944\nName: provider_id, dtype: int64"
     },
     "execution_count": 8,
     "metadata": {},
     "output_type": "execute_result"
    }
   ],
   "source": [
    "transactions_raw[transactions_raw.type.isin(['PURCHASE','ADJUSTMENT'])]['provider_id'].value_counts()"
   ],
   "metadata": {
    "collapsed": false
   }
  },
  {
   "cell_type": "markdown",
   "source": [
    "## Balance Categories"
   ],
   "metadata": {
    "collapsed": false
   }
  },
  {
   "cell_type": "code",
   "execution_count": 9,
   "outputs": [
    {
     "data": {
      "text/plain": "CHECKING                    819233\nCREDIT_CARD                 377302\nUNKNOWN_BALANCE_CATEGORY     85255\nName: balance_category, dtype: int64"
     },
     "execution_count": 9,
     "metadata": {},
     "output_type": "execute_result"
    }
   ],
   "source": [
    "transactions_raw[transactions_raw.type.isin(['PURCHASE'])]['balance_category'].value_counts()"
   ],
   "metadata": {
    "collapsed": false
   }
  },
  {
   "cell_type": "markdown",
   "source": [
    "## Delete CCK Purchase"
   ],
   "metadata": {
    "collapsed": false
   }
  },
  {
   "cell_type": "code",
   "execution_count": 10,
   "outputs": [],
   "source": [
    "wo_cck = transactions_raw[transactions_raw.balance_category!='CREDIT_CARD']\n",
    "# Group by user_id the purchase and adjustments transactions counting items and sumint amounts\n",
    "cashback_calculation = wo_cck[wo_cck.type.isin(['PURCHASE','ADJUSTMENT'])].groupby(['user_id','type', 'provider_id']).agg({'amount':'sum','transaction_id':'count'})\n",
    "# Unstack in type\n",
    "cashback_calculation = cashback_calculation.unstack(level=1)"
   ],
   "metadata": {
    "collapsed": false
   }
  },
  {
   "cell_type": "code",
   "execution_count": 11,
   "outputs": [],
   "source": [
    "# Unstack in provider_id\n",
    "cashback_calculation = cashback_calculation.unstack(level=1).fillna(0)\n",
    "# Flatten de column names\n",
    "cashback_calculation.columns = ['_'.join(col) for col in cashback_calculation.columns.values]\n",
    "cashback_calculation = cashback_calculation.reset_index()\n",
    "# Rename columns\n",
    "cashback_calculation.columns = ['user_id','ArcusAdjustAmount', 'GalileoAdjustAmount','ArcusPurchaseAmount', 'GalileoPurchaseAmount','ArcusAdjustNum', 'GalileoAdjustNum','ArcusPurchaseNum', 'GalileoPurchaseNum']\n",
    "# Raw Export\n",
    "cashback_calculation.to_csv('./Monthly_DB/Raw_Cashback' + month + '.csv', index=False)"
   ],
   "metadata": {
    "collapsed": false
   }
  },
  {
   "cell_type": "code",
   "execution_count": 12,
   "outputs": [
    {
     "data": {
      "text/plain": "(141213, 9)"
     },
     "execution_count": 12,
     "metadata": {},
     "output_type": "execute_result"
    }
   ],
   "source": [
    "cashback_calculation.shape"
   ],
   "metadata": {
    "collapsed": false
   }
  },
  {
   "cell_type": "markdown",
   "source": [
    "## ATM and Balance Check"
   ],
   "metadata": {
    "collapsed": false
   }
  },
  {
   "cell_type": "code",
   "execution_count": 13,
   "outputs": [],
   "source": [
    "query_atm = '''\n",
    "SELECT t.*\n",
    "FROM analytics_bi.transactions t\n",
    "where t.state = 'SETTLED'\n",
    "AND t.timestamp_mx >= '{start_date}' + '00:00:00'\n",
    "AND t.timestamp_mx < '{end_date}' + '00:00:00'\n",
    "and t.source_account_internal_id <> '0000000000000000' AND t.source_account_internal_id <> '00000000-0000-0000-0000-000000000000'\n",
    "AND t.amount <> 0\n",
    "and t.type in ('FEE', 'DISBURSEMENT')\n",
    "order by t.user_id ASC;\n",
    "'''"
   ],
   "metadata": {
    "collapsed": false
   }
  },
  {
   "cell_type": "code",
   "execution_count": 14,
   "outputs": [],
   "source": [
    "atm_raw = pd.read_sql_query(sqlalchemy.text(query_atm.format(start_date = start_date, end_date = end_date)),cnx)"
   ],
   "metadata": {
    "collapsed": false
   }
  },
  {
   "cell_type": "code",
   "execution_count": 15,
   "outputs": [],
   "source": [
    "# Group by user_id the purchase and adjustments transactions counting items and sumint amounts\n",
    "atm_rewards = atm_raw[atm_raw.type.isin(['FEE', 'DISBURSEMENT'])].groupby(['user_id','type']).agg({'amount':'sum','transaction_id':'count'})"
   ],
   "metadata": {
    "collapsed": false
   }
  },
  {
   "cell_type": "code",
   "execution_count": 16,
   "outputs": [],
   "source": [
    "atm_rewards = atm_rewards.unstack(level=1).fillna(0)"
   ],
   "metadata": {
    "collapsed": false
   }
  },
  {
   "cell_type": "code",
   "execution_count": 17,
   "outputs": [],
   "source": [
    "# Flatten de column names\n",
    "atm_rewards.columns = ['_'.join(col) for col in atm_rewards.columns.values]\n",
    "atm_rewards = atm_rewards.reset_index()"
   ],
   "metadata": {
    "collapsed": false
   }
  },
  {
   "cell_type": "code",
   "execution_count": 18,
   "outputs": [
    {
     "data": {
      "text/plain": "                                 user_id  amount_DISBURSEMENT  amount_FEE  \\\n0   00024ed7-05c1-4421-ae51-0a4d1cd4ecd0             -2835.84        0.00   \n1   000334b8-aecf-45e0-aba5-c204c02e5fef             -2169.60        0.00   \n2   0005b798-ce29-4b58-b1b5-8ae8b822ec6d                 0.00      -23.20   \n3   0008d053-6036-494b-96da-6c3e0a6121a6              -230.74        0.00   \n4   000de233-96dc-4c8f-824c-1fa3cf53d517             -4542.54        0.00   \n5   000f54fa-54dd-4c26-8e2b-9d943d869e78             -9022.96        0.00   \n6   00114f49-f903-4028-a100-a6c2abccb35d                 0.00      -13.92   \n7   0013ef2b-74b0-4651-8d7a-1ccc96776dd3             -1185.84        0.00   \n8   00151988-05c1-4005-939c-4a152595e0b2              -230.74        0.00   \n9   0017bc15-659b-4994-9a33-d6a94ee2093d             -2133.98        0.00   \n10  001834b2-5303-4370-be6f-bfe2edf0423c             -1030.74        0.00   \n11  0018914b-8395-441e-9d3a-712e82807f38             -4031.32        0.00   \n12  001ada34-35b0-4f71-b6c1-76984747fd5c              -525.92        0.00   \n13  001f4e2e-774e-481c-bbd7-2898fd0f69fa             -1362.64        0.00   \n14  00228ae3-f794-408c-b494-74f0f40d4f36             -4093.60        0.00   \n\n    transaction_id_DISBURSEMENT  transaction_id_FEE  \n0                           1.0                 0.0  \n1                           2.0                 0.0  \n2                           0.0                 2.0  \n3                           1.0                 0.0  \n4                          13.0                 0.0  \n5                           4.0                 0.0  \n6                           0.0                 1.0  \n7                           1.0                 0.0  \n8                           1.0                 0.0  \n9                           4.0                 0.0  \n10                          1.0                 0.0  \n11                          1.0                 0.0  \n12                          1.0                 0.0  \n13                          2.0                 0.0  \n14                          8.0                 0.0  ",
      "text/html": "<div>\n<style scoped>\n    .dataframe tbody tr th:only-of-type {\n        vertical-align: middle;\n    }\n\n    .dataframe tbody tr th {\n        vertical-align: top;\n    }\n\n    .dataframe thead th {\n        text-align: right;\n    }\n</style>\n<table border=\"1\" class=\"dataframe\">\n  <thead>\n    <tr style=\"text-align: right;\">\n      <th></th>\n      <th>user_id</th>\n      <th>amount_DISBURSEMENT</th>\n      <th>amount_FEE</th>\n      <th>transaction_id_DISBURSEMENT</th>\n      <th>transaction_id_FEE</th>\n    </tr>\n  </thead>\n  <tbody>\n    <tr>\n      <th>0</th>\n      <td>00024ed7-05c1-4421-ae51-0a4d1cd4ecd0</td>\n      <td>-2835.84</td>\n      <td>0.00</td>\n      <td>1.0</td>\n      <td>0.0</td>\n    </tr>\n    <tr>\n      <th>1</th>\n      <td>000334b8-aecf-45e0-aba5-c204c02e5fef</td>\n      <td>-2169.60</td>\n      <td>0.00</td>\n      <td>2.0</td>\n      <td>0.0</td>\n    </tr>\n    <tr>\n      <th>2</th>\n      <td>0005b798-ce29-4b58-b1b5-8ae8b822ec6d</td>\n      <td>0.00</td>\n      <td>-23.20</td>\n      <td>0.0</td>\n      <td>2.0</td>\n    </tr>\n    <tr>\n      <th>3</th>\n      <td>0008d053-6036-494b-96da-6c3e0a6121a6</td>\n      <td>-230.74</td>\n      <td>0.00</td>\n      <td>1.0</td>\n      <td>0.0</td>\n    </tr>\n    <tr>\n      <th>4</th>\n      <td>000de233-96dc-4c8f-824c-1fa3cf53d517</td>\n      <td>-4542.54</td>\n      <td>0.00</td>\n      <td>13.0</td>\n      <td>0.0</td>\n    </tr>\n    <tr>\n      <th>5</th>\n      <td>000f54fa-54dd-4c26-8e2b-9d943d869e78</td>\n      <td>-9022.96</td>\n      <td>0.00</td>\n      <td>4.0</td>\n      <td>0.0</td>\n    </tr>\n    <tr>\n      <th>6</th>\n      <td>00114f49-f903-4028-a100-a6c2abccb35d</td>\n      <td>0.00</td>\n      <td>-13.92</td>\n      <td>0.0</td>\n      <td>1.0</td>\n    </tr>\n    <tr>\n      <th>7</th>\n      <td>0013ef2b-74b0-4651-8d7a-1ccc96776dd3</td>\n      <td>-1185.84</td>\n      <td>0.00</td>\n      <td>1.0</td>\n      <td>0.0</td>\n    </tr>\n    <tr>\n      <th>8</th>\n      <td>00151988-05c1-4005-939c-4a152595e0b2</td>\n      <td>-230.74</td>\n      <td>0.00</td>\n      <td>1.0</td>\n      <td>0.0</td>\n    </tr>\n    <tr>\n      <th>9</th>\n      <td>0017bc15-659b-4994-9a33-d6a94ee2093d</td>\n      <td>-2133.98</td>\n      <td>0.00</td>\n      <td>4.0</td>\n      <td>0.0</td>\n    </tr>\n    <tr>\n      <th>10</th>\n      <td>001834b2-5303-4370-be6f-bfe2edf0423c</td>\n      <td>-1030.74</td>\n      <td>0.00</td>\n      <td>1.0</td>\n      <td>0.0</td>\n    </tr>\n    <tr>\n      <th>11</th>\n      <td>0018914b-8395-441e-9d3a-712e82807f38</td>\n      <td>-4031.32</td>\n      <td>0.00</td>\n      <td>1.0</td>\n      <td>0.0</td>\n    </tr>\n    <tr>\n      <th>12</th>\n      <td>001ada34-35b0-4f71-b6c1-76984747fd5c</td>\n      <td>-525.92</td>\n      <td>0.00</td>\n      <td>1.0</td>\n      <td>0.0</td>\n    </tr>\n    <tr>\n      <th>13</th>\n      <td>001f4e2e-774e-481c-bbd7-2898fd0f69fa</td>\n      <td>-1362.64</td>\n      <td>0.00</td>\n      <td>2.0</td>\n      <td>0.0</td>\n    </tr>\n    <tr>\n      <th>14</th>\n      <td>00228ae3-f794-408c-b494-74f0f40d4f36</td>\n      <td>-4093.60</td>\n      <td>0.00</td>\n      <td>8.0</td>\n      <td>0.0</td>\n    </tr>\n  </tbody>\n</table>\n</div>"
     },
     "execution_count": 18,
     "metadata": {},
     "output_type": "execute_result"
    }
   ],
   "source": [
    "atm_rewards.head(15)"
   ],
   "metadata": {
    "collapsed": false
   }
  },
  {
   "cell_type": "code",
   "execution_count": 35,
   "outputs": [
    {
     "data": {
      "text/plain": "(31515, 5)"
     },
     "execution_count": 35,
     "metadata": {},
     "output_type": "execute_result"
    }
   ],
   "source": [
    "atm_rewards.shape"
   ],
   "metadata": {
    "collapsed": false
   }
  },
  {
   "cell_type": "code",
   "execution_count": 19,
   "outputs": [],
   "source": [
    "# Raw Export\n",
    "atm_rewards.to_csv('./Monthly_DB/Raw_ATM' + month + '.csv', index=False)"
   ],
   "metadata": {
    "collapsed": false
   }
  },
  {
   "cell_type": "code",
   "execution_count": null,
   "outputs": [],
   "source": [],
   "metadata": {
    "collapsed": false
   }
  }
 ],
 "metadata": {
  "kernelspec": {
   "display_name": "Python 3",
   "language": "python",
   "name": "python3"
  },
  "language_info": {
   "codemirror_mode": {
    "name": "ipython",
    "version": 2
   },
   "file_extension": ".py",
   "mimetype": "text/x-python",
   "name": "python",
   "nbconvert_exporter": "python",
   "pygments_lexer": "ipython2",
   "version": "2.7.6"
  }
 },
 "nbformat": 4,
 "nbformat_minor": 0
}
