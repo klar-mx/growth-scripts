{
 "cells": [
  {
   "cell_type": "code",
   "execution_count": 1,
   "metadata": {
    "collapsed": true
   },
   "outputs": [],
   "source": [
    "import pandas as pd"
   ]
  },
  {
   "cell_type": "code",
   "execution_count": 5,
   "outputs": [
    {
     "data": {
      "text/plain": "                                user_id     cohort  avg_balance  \\\n0  366e280c-7783-4376-9129-8f3ac7ff158e 2022-04-01    46.333333   \n1  36b1bbee-6331-4e2d-a20c-de16aa47f523 2022-04-01    20.978000   \n2  37c76cdb-b45c-455e-b75b-587c94827d8a 2022-04-01    23.088000   \n3  37a45bf6-a985-406a-91fd-2429d660f76c 2022-04-01    79.706667   \n4  37b62a00-d757-4eaa-b758-4e98b7b4bed4 2022-04-01    37.666667   \n5  383ae976-8f34-4b12-8b2a-bf9df15844dc 2022-04-01    39.328000   \n6  385f73ec-c2b4-4c66-8fe1-3ac584814a48 2022-04-01   140.173333   \n7  37ec1fb1-ec19-43ce-841b-8de2f31f3ea4 2022-04-01    43.733333   \n8  07fed886-d2e4-425c-9f70-4b917dab4fa3 2022-04-01   195.313333   \n9  38902bf6-cab9-40ee-baa6-f2b167eaf537 2022-04-01    39.857333   \n\n   min_balance_month  max_balance_month  r_transactions  r_purchases  r_fee  \\\n0              40.00              50.00               1            0      1   \n1               6.52             440.26               4            0      0   \n2              22.16              50.00               2            0      2   \n3               0.00             100.00               2            0      1   \n4               2.60             150.00               4            0      1   \n5              36.08              50.00               1            0      1   \n6               3.80            4003.80               2            0      0   \n7               0.00            1036.00               9            0      0   \n8              29.18            1165.18               8            0      0   \n9               0.00              50.00               2            0      1   \n\n   r_disbursement  r_transfer  r_deposit  r_quasi_cash  r_balance_check  \\\n0               0           0          0             0                1   \n1               1           3          0             0                0   \n2               0           0          0             0                1   \n3               0           1          0             0                1   \n4               1           2          0             0                0   \n5               0           0          0             0                1   \n6               1           1          0             0                0   \n7               2           7          0             0                0   \n8               4           4          0             0                0   \n9               0           1          0             0                1   \n\n   r_withdraw  r_cashback  \n0           0           0  \n1           1           0  \n2           0           0  \n3           0           0  \n4           1           0  \n5           0           0  \n6           1           0  \n7           1           0  \n8           1           0  \n9           0           0  ",
      "text/html": "<div>\n<style scoped>\n    .dataframe tbody tr th:only-of-type {\n        vertical-align: middle;\n    }\n\n    .dataframe tbody tr th {\n        vertical-align: top;\n    }\n\n    .dataframe thead th {\n        text-align: right;\n    }\n</style>\n<table border=\"1\" class=\"dataframe\">\n  <thead>\n    <tr style=\"text-align: right;\">\n      <th></th>\n      <th>user_id</th>\n      <th>cohort</th>\n      <th>avg_balance</th>\n      <th>min_balance_month</th>\n      <th>max_balance_month</th>\n      <th>r_transactions</th>\n      <th>r_purchases</th>\n      <th>r_fee</th>\n      <th>r_disbursement</th>\n      <th>r_transfer</th>\n      <th>r_deposit</th>\n      <th>r_quasi_cash</th>\n      <th>r_balance_check</th>\n      <th>r_withdraw</th>\n      <th>r_cashback</th>\n    </tr>\n  </thead>\n  <tbody>\n    <tr>\n      <th>0</th>\n      <td>366e280c-7783-4376-9129-8f3ac7ff158e</td>\n      <td>2022-04-01</td>\n      <td>46.333333</td>\n      <td>40.00</td>\n      <td>50.00</td>\n      <td>1</td>\n      <td>0</td>\n      <td>1</td>\n      <td>0</td>\n      <td>0</td>\n      <td>0</td>\n      <td>0</td>\n      <td>1</td>\n      <td>0</td>\n      <td>0</td>\n    </tr>\n    <tr>\n      <th>1</th>\n      <td>36b1bbee-6331-4e2d-a20c-de16aa47f523</td>\n      <td>2022-04-01</td>\n      <td>20.978000</td>\n      <td>6.52</td>\n      <td>440.26</td>\n      <td>4</td>\n      <td>0</td>\n      <td>0</td>\n      <td>1</td>\n      <td>3</td>\n      <td>0</td>\n      <td>0</td>\n      <td>0</td>\n      <td>1</td>\n      <td>0</td>\n    </tr>\n    <tr>\n      <th>2</th>\n      <td>37c76cdb-b45c-455e-b75b-587c94827d8a</td>\n      <td>2022-04-01</td>\n      <td>23.088000</td>\n      <td>22.16</td>\n      <td>50.00</td>\n      <td>2</td>\n      <td>0</td>\n      <td>2</td>\n      <td>0</td>\n      <td>0</td>\n      <td>0</td>\n      <td>0</td>\n      <td>1</td>\n      <td>0</td>\n      <td>0</td>\n    </tr>\n    <tr>\n      <th>3</th>\n      <td>37a45bf6-a985-406a-91fd-2429d660f76c</td>\n      <td>2022-04-01</td>\n      <td>79.706667</td>\n      <td>0.00</td>\n      <td>100.00</td>\n      <td>2</td>\n      <td>0</td>\n      <td>1</td>\n      <td>0</td>\n      <td>1</td>\n      <td>0</td>\n      <td>0</td>\n      <td>1</td>\n      <td>0</td>\n      <td>0</td>\n    </tr>\n    <tr>\n      <th>4</th>\n      <td>37b62a00-d757-4eaa-b758-4e98b7b4bed4</td>\n      <td>2022-04-01</td>\n      <td>37.666667</td>\n      <td>2.60</td>\n      <td>150.00</td>\n      <td>4</td>\n      <td>0</td>\n      <td>1</td>\n      <td>1</td>\n      <td>2</td>\n      <td>0</td>\n      <td>0</td>\n      <td>0</td>\n      <td>1</td>\n      <td>0</td>\n    </tr>\n    <tr>\n      <th>5</th>\n      <td>383ae976-8f34-4b12-8b2a-bf9df15844dc</td>\n      <td>2022-04-01</td>\n      <td>39.328000</td>\n      <td>36.08</td>\n      <td>50.00</td>\n      <td>1</td>\n      <td>0</td>\n      <td>1</td>\n      <td>0</td>\n      <td>0</td>\n      <td>0</td>\n      <td>0</td>\n      <td>1</td>\n      <td>0</td>\n      <td>0</td>\n    </tr>\n    <tr>\n      <th>6</th>\n      <td>385f73ec-c2b4-4c66-8fe1-3ac584814a48</td>\n      <td>2022-04-01</td>\n      <td>140.173333</td>\n      <td>3.80</td>\n      <td>4003.80</td>\n      <td>2</td>\n      <td>0</td>\n      <td>0</td>\n      <td>1</td>\n      <td>1</td>\n      <td>0</td>\n      <td>0</td>\n      <td>0</td>\n      <td>1</td>\n      <td>0</td>\n    </tr>\n    <tr>\n      <th>7</th>\n      <td>37ec1fb1-ec19-43ce-841b-8de2f31f3ea4</td>\n      <td>2022-04-01</td>\n      <td>43.733333</td>\n      <td>0.00</td>\n      <td>1036.00</td>\n      <td>9</td>\n      <td>0</td>\n      <td>0</td>\n      <td>2</td>\n      <td>7</td>\n      <td>0</td>\n      <td>0</td>\n      <td>0</td>\n      <td>1</td>\n      <td>0</td>\n    </tr>\n    <tr>\n      <th>8</th>\n      <td>07fed886-d2e4-425c-9f70-4b917dab4fa3</td>\n      <td>2022-04-01</td>\n      <td>195.313333</td>\n      <td>29.18</td>\n      <td>1165.18</td>\n      <td>8</td>\n      <td>0</td>\n      <td>0</td>\n      <td>4</td>\n      <td>4</td>\n      <td>0</td>\n      <td>0</td>\n      <td>0</td>\n      <td>1</td>\n      <td>0</td>\n    </tr>\n    <tr>\n      <th>9</th>\n      <td>38902bf6-cab9-40ee-baa6-f2b167eaf537</td>\n      <td>2022-04-01</td>\n      <td>39.857333</td>\n      <td>0.00</td>\n      <td>50.00</td>\n      <td>2</td>\n      <td>0</td>\n      <td>1</td>\n      <td>0</td>\n      <td>1</td>\n      <td>0</td>\n      <td>0</td>\n      <td>1</td>\n      <td>0</td>\n      <td>0</td>\n    </tr>\n  </tbody>\n</table>\n</div>"
     },
     "execution_count": 5,
     "metadata": {},
     "output_type": "execute_result"
    }
   ],
   "source": [
    "reward_balance = pd.read_csv('C://Users//gabri//PycharmProjects//Klar//Rewards//ATM//Data//Transactions_Balance_09082022.csv', parse_dates=['cohort'])\n",
    "\n",
    "reward_balance.head(10)"
   ],
   "metadata": {
    "collapsed": false,
    "pycharm": {
     "name": "#%%\n"
    }
   }
  },
  {
   "cell_type": "code",
   "execution_count": 6,
   "outputs": [
    {
     "data": {
      "text/plain": "         avg_balance  min_balance_month  max_balance_month  r_transactions  \\\ncount   52776.000000       52776.000000       52776.000000    55390.000000   \nmean      591.579284         173.677435        2084.496546        6.384113   \nstd      4416.828868        3099.152166        7472.167313        9.885254   \nmin     -1882.090000       -3034.260000       -1882.090000        0.000000   \n25%        40.645161           0.000000         100.000000        2.000000   \n50%        99.311157           3.825000         603.205000        3.000000   \n75%       321.844309          38.400000        2120.000000        7.000000   \nmax    307430.692903      236695.070000      437133.160000      194.000000   \n\n       r_purchases         r_fee  r_disbursement    r_transfer     r_deposit  \\\ncount      55390.0  55390.000000    55390.000000  55390.000000  55390.000000   \nmean           0.0      0.373858        0.947608      4.902509      0.158350   \nstd            0.0      0.646467        1.352589      9.277488      0.714013   \nmin            0.0      0.000000        0.000000      0.000000      0.000000   \n25%            0.0      0.000000        0.000000      1.000000      0.000000   \n50%            0.0      0.000000        1.000000      2.000000      0.000000   \n75%            0.0      1.000000        1.000000      5.000000      0.000000   \nmax            0.0     14.000000       31.000000    193.000000     18.000000   \n\n       r_quasi_cash  r_balance_check    r_withdraw    r_cashback  \ncount  55390.000000     55390.000000  55390.000000  55390.000000  \nmean       0.001787         0.256346      0.810670      0.026936  \nstd        0.135091         0.436619      0.458096      0.161899  \nmin        0.000000         0.000000      0.000000      0.000000  \n25%        0.000000         0.000000      1.000000      0.000000  \n50%        0.000000         0.000000      1.000000      0.000000  \n75%        0.000000         1.000000      1.000000      0.000000  \nmax       28.000000         1.000000      2.000000      1.000000  ",
      "text/html": "<div>\n<style scoped>\n    .dataframe tbody tr th:only-of-type {\n        vertical-align: middle;\n    }\n\n    .dataframe tbody tr th {\n        vertical-align: top;\n    }\n\n    .dataframe thead th {\n        text-align: right;\n    }\n</style>\n<table border=\"1\" class=\"dataframe\">\n  <thead>\n    <tr style=\"text-align: right;\">\n      <th></th>\n      <th>avg_balance</th>\n      <th>min_balance_month</th>\n      <th>max_balance_month</th>\n      <th>r_transactions</th>\n      <th>r_purchases</th>\n      <th>r_fee</th>\n      <th>r_disbursement</th>\n      <th>r_transfer</th>\n      <th>r_deposit</th>\n      <th>r_quasi_cash</th>\n      <th>r_balance_check</th>\n      <th>r_withdraw</th>\n      <th>r_cashback</th>\n    </tr>\n  </thead>\n  <tbody>\n    <tr>\n      <th>count</th>\n      <td>52776.000000</td>\n      <td>52776.000000</td>\n      <td>52776.000000</td>\n      <td>55390.000000</td>\n      <td>55390.0</td>\n      <td>55390.000000</td>\n      <td>55390.000000</td>\n      <td>55390.000000</td>\n      <td>55390.000000</td>\n      <td>55390.000000</td>\n      <td>55390.000000</td>\n      <td>55390.000000</td>\n      <td>55390.000000</td>\n    </tr>\n    <tr>\n      <th>mean</th>\n      <td>591.579284</td>\n      <td>173.677435</td>\n      <td>2084.496546</td>\n      <td>6.384113</td>\n      <td>0.0</td>\n      <td>0.373858</td>\n      <td>0.947608</td>\n      <td>4.902509</td>\n      <td>0.158350</td>\n      <td>0.001787</td>\n      <td>0.256346</td>\n      <td>0.810670</td>\n      <td>0.026936</td>\n    </tr>\n    <tr>\n      <th>std</th>\n      <td>4416.828868</td>\n      <td>3099.152166</td>\n      <td>7472.167313</td>\n      <td>9.885254</td>\n      <td>0.0</td>\n      <td>0.646467</td>\n      <td>1.352589</td>\n      <td>9.277488</td>\n      <td>0.714013</td>\n      <td>0.135091</td>\n      <td>0.436619</td>\n      <td>0.458096</td>\n      <td>0.161899</td>\n    </tr>\n    <tr>\n      <th>min</th>\n      <td>-1882.090000</td>\n      <td>-3034.260000</td>\n      <td>-1882.090000</td>\n      <td>0.000000</td>\n      <td>0.0</td>\n      <td>0.000000</td>\n      <td>0.000000</td>\n      <td>0.000000</td>\n      <td>0.000000</td>\n      <td>0.000000</td>\n      <td>0.000000</td>\n      <td>0.000000</td>\n      <td>0.000000</td>\n    </tr>\n    <tr>\n      <th>25%</th>\n      <td>40.645161</td>\n      <td>0.000000</td>\n      <td>100.000000</td>\n      <td>2.000000</td>\n      <td>0.0</td>\n      <td>0.000000</td>\n      <td>0.000000</td>\n      <td>1.000000</td>\n      <td>0.000000</td>\n      <td>0.000000</td>\n      <td>0.000000</td>\n      <td>1.000000</td>\n      <td>0.000000</td>\n    </tr>\n    <tr>\n      <th>50%</th>\n      <td>99.311157</td>\n      <td>3.825000</td>\n      <td>603.205000</td>\n      <td>3.000000</td>\n      <td>0.0</td>\n      <td>0.000000</td>\n      <td>1.000000</td>\n      <td>2.000000</td>\n      <td>0.000000</td>\n      <td>0.000000</td>\n      <td>0.000000</td>\n      <td>1.000000</td>\n      <td>0.000000</td>\n    </tr>\n    <tr>\n      <th>75%</th>\n      <td>321.844309</td>\n      <td>38.400000</td>\n      <td>2120.000000</td>\n      <td>7.000000</td>\n      <td>0.0</td>\n      <td>1.000000</td>\n      <td>1.000000</td>\n      <td>5.000000</td>\n      <td>0.000000</td>\n      <td>0.000000</td>\n      <td>1.000000</td>\n      <td>1.000000</td>\n      <td>0.000000</td>\n    </tr>\n    <tr>\n      <th>max</th>\n      <td>307430.692903</td>\n      <td>236695.070000</td>\n      <td>437133.160000</td>\n      <td>194.000000</td>\n      <td>0.0</td>\n      <td>14.000000</td>\n      <td>31.000000</td>\n      <td>193.000000</td>\n      <td>18.000000</td>\n      <td>28.000000</td>\n      <td>1.000000</td>\n      <td>2.000000</td>\n      <td>1.000000</td>\n    </tr>\n  </tbody>\n</table>\n</div>"
     },
     "execution_count": 6,
     "metadata": {},
     "output_type": "execute_result"
    }
   ],
   "source": [
    "reward_balance.describe()"
   ],
   "metadata": {
    "collapsed": false,
    "pycharm": {
     "name": "#%%\n"
    }
   }
  },
  {
   "cell_type": "code",
   "execution_count": 18,
   "outputs": [],
   "source": [
    "withdraw_reward = reward_balance[reward_balance.r_withdraw == 1]\n",
    "balance_reward = reward_balance[reward_balance.r_balance_check == 1]\n",
    "atm_reward = reward_balance[(reward_balance.r_withdraw == 1) & (reward_balance.r_balance_check == 1)]"
   ],
   "metadata": {
    "collapsed": false,
    "pycharm": {
     "name": "#%%\n"
    }
   }
  },
  {
   "cell_type": "code",
   "execution_count": 12,
   "outputs": [
    {
     "data": {
      "text/plain": "         avg_balance  min_balance_month  max_balance_month  r_transactions  \\\ncount   39167.000000       39167.000000       39167.000000    41781.000000   \nmean      691.541780         198.119188        2488.549775        6.944257   \nstd      4885.430878        3388.984309        8242.995415       10.593870   \nmin     -1882.090000       -2562.640000       -1882.090000        0.000000   \n25%        50.000000           0.000000         290.230000        2.000000   \n50%       136.703000           2.040000        1001.350000        4.000000   \n75%       395.887667          31.235000        2695.670000        8.000000   \nmax    307430.692903      236695.070000      437133.160000      194.000000   \n\n              r_fee  r_disbursement    r_transfer    r_deposit  r_quasi_cash  \\\ncount  41781.000000    41781.000000  41781.000000  41781.00000  41781.000000   \nmean       0.166822        1.177808      5.424762      0.17271      0.002154   \nstd        0.500676        1.392726      9.912215      0.75728      0.152513   \nmin        0.000000        0.000000      0.000000      0.00000      0.000000   \n25%        0.000000        0.000000      1.000000      0.00000      0.000000   \n50%        0.000000        1.000000      2.000000      0.00000      0.000000   \n75%        0.000000        1.000000      6.000000      0.00000      0.000000   \nmax       14.000000       31.000000    193.000000     17.00000     28.000000   \n\n       r_withdraw  \ncount     41781.0  \nmean          1.0  \nstd           0.0  \nmin           1.0  \n25%           1.0  \n50%           1.0  \n75%           1.0  \nmax           1.0  ",
      "text/html": "<div>\n<style scoped>\n    .dataframe tbody tr th:only-of-type {\n        vertical-align: middle;\n    }\n\n    .dataframe tbody tr th {\n        vertical-align: top;\n    }\n\n    .dataframe thead th {\n        text-align: right;\n    }\n</style>\n<table border=\"1\" class=\"dataframe\">\n  <thead>\n    <tr style=\"text-align: right;\">\n      <th></th>\n      <th>avg_balance</th>\n      <th>min_balance_month</th>\n      <th>max_balance_month</th>\n      <th>r_transactions</th>\n      <th>r_fee</th>\n      <th>r_disbursement</th>\n      <th>r_transfer</th>\n      <th>r_deposit</th>\n      <th>r_quasi_cash</th>\n      <th>r_withdraw</th>\n    </tr>\n  </thead>\n  <tbody>\n    <tr>\n      <th>count</th>\n      <td>39167.000000</td>\n      <td>39167.000000</td>\n      <td>39167.000000</td>\n      <td>41781.000000</td>\n      <td>41781.000000</td>\n      <td>41781.000000</td>\n      <td>41781.000000</td>\n      <td>41781.00000</td>\n      <td>41781.000000</td>\n      <td>41781.0</td>\n    </tr>\n    <tr>\n      <th>mean</th>\n      <td>691.541780</td>\n      <td>198.119188</td>\n      <td>2488.549775</td>\n      <td>6.944257</td>\n      <td>0.166822</td>\n      <td>1.177808</td>\n      <td>5.424762</td>\n      <td>0.17271</td>\n      <td>0.002154</td>\n      <td>1.0</td>\n    </tr>\n    <tr>\n      <th>std</th>\n      <td>4885.430878</td>\n      <td>3388.984309</td>\n      <td>8242.995415</td>\n      <td>10.593870</td>\n      <td>0.500676</td>\n      <td>1.392726</td>\n      <td>9.912215</td>\n      <td>0.75728</td>\n      <td>0.152513</td>\n      <td>0.0</td>\n    </tr>\n    <tr>\n      <th>min</th>\n      <td>-1882.090000</td>\n      <td>-2562.640000</td>\n      <td>-1882.090000</td>\n      <td>0.000000</td>\n      <td>0.000000</td>\n      <td>0.000000</td>\n      <td>0.000000</td>\n      <td>0.00000</td>\n      <td>0.000000</td>\n      <td>1.0</td>\n    </tr>\n    <tr>\n      <th>25%</th>\n      <td>50.000000</td>\n      <td>0.000000</td>\n      <td>290.230000</td>\n      <td>2.000000</td>\n      <td>0.000000</td>\n      <td>0.000000</td>\n      <td>1.000000</td>\n      <td>0.00000</td>\n      <td>0.000000</td>\n      <td>1.0</td>\n    </tr>\n    <tr>\n      <th>50%</th>\n      <td>136.703000</td>\n      <td>2.040000</td>\n      <td>1001.350000</td>\n      <td>4.000000</td>\n      <td>0.000000</td>\n      <td>1.000000</td>\n      <td>2.000000</td>\n      <td>0.00000</td>\n      <td>0.000000</td>\n      <td>1.0</td>\n    </tr>\n    <tr>\n      <th>75%</th>\n      <td>395.887667</td>\n      <td>31.235000</td>\n      <td>2695.670000</td>\n      <td>8.000000</td>\n      <td>0.000000</td>\n      <td>1.000000</td>\n      <td>6.000000</td>\n      <td>0.00000</td>\n      <td>0.000000</td>\n      <td>1.0</td>\n    </tr>\n    <tr>\n      <th>max</th>\n      <td>307430.692903</td>\n      <td>236695.070000</td>\n      <td>437133.160000</td>\n      <td>194.000000</td>\n      <td>14.000000</td>\n      <td>31.000000</td>\n      <td>193.000000</td>\n      <td>17.00000</td>\n      <td>28.000000</td>\n      <td>1.0</td>\n    </tr>\n  </tbody>\n</table>\n</div>"
     },
     "execution_count": 12,
     "metadata": {},
     "output_type": "execute_result"
    }
   ],
   "source": [
    "withdraw_reward[['avg_balance', 'min_balance_month',\n",
    "       'max_balance_month', 'r_transactions','r_fee',\n",
    "       'r_disbursement', 'r_transfer', 'r_deposit', 'r_quasi_cash','r_withdraw']].describe()"
   ],
   "metadata": {
    "collapsed": false,
    "pycharm": {
     "name": "#%%\n"
    }
   }
  },
  {
   "cell_type": "code",
   "execution_count": 15,
   "outputs": [
    {
     "data": {
      "text/plain": "         avg_balance  min_balance_month  max_balance_month  r_transactions  \\\ncount   14199.000000       14199.000000       14199.000000    14199.000000   \nmean      264.949059          65.409877         861.105697        4.889922   \nstd      2312.399064         701.841196        4286.927119        7.576064   \nmin      -863.240000        -999.970000        -863.240000        0.000000   \n25%        34.290323           0.000000          50.000000        2.000000   \n50%        44.973333          15.440000          64.000000        3.000000   \n75%       108.046333          38.400000         500.000000        5.000000   \nmax    211326.333226       40367.250000      260694.110000      170.000000   \n\n              r_fee  r_disbursement    r_transfer     r_deposit  r_quasi_cash  \\\ncount  14199.000000    14199.000000  14199.000000  14199.000000  14199.000000   \nmean       1.133038        0.251849      3.391013      0.113036      0.000986   \nstd        0.608301        0.848977      7.215931      0.558809      0.062795   \nmin        0.000000        0.000000      0.000000      0.000000      0.000000   \n25%        1.000000        0.000000      0.000000      0.000000      0.000000   \n50%        1.000000        0.000000      1.000000      0.000000      0.000000   \n75%        1.000000        0.000000      3.000000      0.000000      0.000000   \nmax       12.000000       23.000000    169.000000     18.000000      6.000000   \n\n       r_balance_check  \ncount          14199.0  \nmean               1.0  \nstd                0.0  \nmin                1.0  \n25%                1.0  \n50%                1.0  \n75%                1.0  \nmax                1.0  ",
      "text/html": "<div>\n<style scoped>\n    .dataframe tbody tr th:only-of-type {\n        vertical-align: middle;\n    }\n\n    .dataframe tbody tr th {\n        vertical-align: top;\n    }\n\n    .dataframe thead th {\n        text-align: right;\n    }\n</style>\n<table border=\"1\" class=\"dataframe\">\n  <thead>\n    <tr style=\"text-align: right;\">\n      <th></th>\n      <th>avg_balance</th>\n      <th>min_balance_month</th>\n      <th>max_balance_month</th>\n      <th>r_transactions</th>\n      <th>r_fee</th>\n      <th>r_disbursement</th>\n      <th>r_transfer</th>\n      <th>r_deposit</th>\n      <th>r_quasi_cash</th>\n      <th>r_balance_check</th>\n    </tr>\n  </thead>\n  <tbody>\n    <tr>\n      <th>count</th>\n      <td>14199.000000</td>\n      <td>14199.000000</td>\n      <td>14199.000000</td>\n      <td>14199.000000</td>\n      <td>14199.000000</td>\n      <td>14199.000000</td>\n      <td>14199.000000</td>\n      <td>14199.000000</td>\n      <td>14199.000000</td>\n      <td>14199.0</td>\n    </tr>\n    <tr>\n      <th>mean</th>\n      <td>264.949059</td>\n      <td>65.409877</td>\n      <td>861.105697</td>\n      <td>4.889922</td>\n      <td>1.133038</td>\n      <td>0.251849</td>\n      <td>3.391013</td>\n      <td>0.113036</td>\n      <td>0.000986</td>\n      <td>1.0</td>\n    </tr>\n    <tr>\n      <th>std</th>\n      <td>2312.399064</td>\n      <td>701.841196</td>\n      <td>4286.927119</td>\n      <td>7.576064</td>\n      <td>0.608301</td>\n      <td>0.848977</td>\n      <td>7.215931</td>\n      <td>0.558809</td>\n      <td>0.062795</td>\n      <td>0.0</td>\n    </tr>\n    <tr>\n      <th>min</th>\n      <td>-863.240000</td>\n      <td>-999.970000</td>\n      <td>-863.240000</td>\n      <td>0.000000</td>\n      <td>0.000000</td>\n      <td>0.000000</td>\n      <td>0.000000</td>\n      <td>0.000000</td>\n      <td>0.000000</td>\n      <td>1.0</td>\n    </tr>\n    <tr>\n      <th>25%</th>\n      <td>34.290323</td>\n      <td>0.000000</td>\n      <td>50.000000</td>\n      <td>2.000000</td>\n      <td>1.000000</td>\n      <td>0.000000</td>\n      <td>0.000000</td>\n      <td>0.000000</td>\n      <td>0.000000</td>\n      <td>1.0</td>\n    </tr>\n    <tr>\n      <th>50%</th>\n      <td>44.973333</td>\n      <td>15.440000</td>\n      <td>64.000000</td>\n      <td>3.000000</td>\n      <td>1.000000</td>\n      <td>0.000000</td>\n      <td>1.000000</td>\n      <td>0.000000</td>\n      <td>0.000000</td>\n      <td>1.0</td>\n    </tr>\n    <tr>\n      <th>75%</th>\n      <td>108.046333</td>\n      <td>38.400000</td>\n      <td>500.000000</td>\n      <td>5.000000</td>\n      <td>1.000000</td>\n      <td>0.000000</td>\n      <td>3.000000</td>\n      <td>0.000000</td>\n      <td>0.000000</td>\n      <td>1.0</td>\n    </tr>\n    <tr>\n      <th>max</th>\n      <td>211326.333226</td>\n      <td>40367.250000</td>\n      <td>260694.110000</td>\n      <td>170.000000</td>\n      <td>12.000000</td>\n      <td>23.000000</td>\n      <td>169.000000</td>\n      <td>18.000000</td>\n      <td>6.000000</td>\n      <td>1.0</td>\n    </tr>\n  </tbody>\n</table>\n</div>"
     },
     "execution_count": 15,
     "metadata": {},
     "output_type": "execute_result"
    }
   ],
   "source": [
    "balance_reward[['avg_balance', 'min_balance_month',\n",
    "       'max_balance_month', 'r_transactions','r_fee',\n",
    "       'r_disbursement', 'r_transfer', 'r_deposit', 'r_quasi_cash','r_balance_check']].describe()"
   ],
   "metadata": {
    "collapsed": false,
    "pycharm": {
     "name": "#%%\n"
    }
   }
  },
  {
   "cell_type": "code",
   "execution_count": 19,
   "outputs": [
    {
     "data": {
      "text/plain": "         avg_balance  min_balance_month  max_balance_month  r_transactions  \\\ncount    2151.000000        2151.000000        2151.000000     2151.000000   \nmean      798.892259         129.140161        2779.181955        9.573687   \nstd      5551.324359        1495.718562        9128.486178       11.576642   \nmin       -64.259355        -725.696500           0.000000        0.000000   \n25%        72.579753           0.000000         452.680000        4.000000   \n50%       173.277419           3.600000        1050.760000        6.000000   \n75%       432.616371          28.990000        2659.205000       10.000000   \nmax    211326.333226       40367.250000      260694.110000      142.000000   \n\n             r_fee  r_disbursement   r_transfer    r_deposit  r_quasi_cash  \\\ncount  2151.000000     2151.000000  2151.000000  2151.000000   2151.000000   \nmean      1.242678        1.641562     6.468619     0.218503      0.002325   \nstd       0.813640        1.568683    10.918592     0.892163      0.088891   \nmin       0.000000        0.000000     0.000000     0.000000      0.000000   \n25%       1.000000        1.000000     1.000000     0.000000      0.000000   \n50%       1.000000        1.000000     3.000000     0.000000      0.000000   \n75%       1.000000        2.000000     7.000000     0.000000      0.000000   \nmax      11.000000       23.000000   126.000000    12.000000      4.000000   \n\n       r_balance_check  r_withdraw  \ncount           2151.0      2151.0  \nmean               1.0         1.0  \nstd                0.0         0.0  \nmin                1.0         1.0  \n25%                1.0         1.0  \n50%                1.0         1.0  \n75%                1.0         1.0  \nmax                1.0         1.0  ",
      "text/html": "<div>\n<style scoped>\n    .dataframe tbody tr th:only-of-type {\n        vertical-align: middle;\n    }\n\n    .dataframe tbody tr th {\n        vertical-align: top;\n    }\n\n    .dataframe thead th {\n        text-align: right;\n    }\n</style>\n<table border=\"1\" class=\"dataframe\">\n  <thead>\n    <tr style=\"text-align: right;\">\n      <th></th>\n      <th>avg_balance</th>\n      <th>min_balance_month</th>\n      <th>max_balance_month</th>\n      <th>r_transactions</th>\n      <th>r_fee</th>\n      <th>r_disbursement</th>\n      <th>r_transfer</th>\n      <th>r_deposit</th>\n      <th>r_quasi_cash</th>\n      <th>r_balance_check</th>\n      <th>r_withdraw</th>\n    </tr>\n  </thead>\n  <tbody>\n    <tr>\n      <th>count</th>\n      <td>2151.000000</td>\n      <td>2151.000000</td>\n      <td>2151.000000</td>\n      <td>2151.000000</td>\n      <td>2151.000000</td>\n      <td>2151.000000</td>\n      <td>2151.000000</td>\n      <td>2151.000000</td>\n      <td>2151.000000</td>\n      <td>2151.0</td>\n      <td>2151.0</td>\n    </tr>\n    <tr>\n      <th>mean</th>\n      <td>798.892259</td>\n      <td>129.140161</td>\n      <td>2779.181955</td>\n      <td>9.573687</td>\n      <td>1.242678</td>\n      <td>1.641562</td>\n      <td>6.468619</td>\n      <td>0.218503</td>\n      <td>0.002325</td>\n      <td>1.0</td>\n      <td>1.0</td>\n    </tr>\n    <tr>\n      <th>std</th>\n      <td>5551.324359</td>\n      <td>1495.718562</td>\n      <td>9128.486178</td>\n      <td>11.576642</td>\n      <td>0.813640</td>\n      <td>1.568683</td>\n      <td>10.918592</td>\n      <td>0.892163</td>\n      <td>0.088891</td>\n      <td>0.0</td>\n      <td>0.0</td>\n    </tr>\n    <tr>\n      <th>min</th>\n      <td>-64.259355</td>\n      <td>-725.696500</td>\n      <td>0.000000</td>\n      <td>0.000000</td>\n      <td>0.000000</td>\n      <td>0.000000</td>\n      <td>0.000000</td>\n      <td>0.000000</td>\n      <td>0.000000</td>\n      <td>1.0</td>\n      <td>1.0</td>\n    </tr>\n    <tr>\n      <th>25%</th>\n      <td>72.579753</td>\n      <td>0.000000</td>\n      <td>452.680000</td>\n      <td>4.000000</td>\n      <td>1.000000</td>\n      <td>1.000000</td>\n      <td>1.000000</td>\n      <td>0.000000</td>\n      <td>0.000000</td>\n      <td>1.0</td>\n      <td>1.0</td>\n    </tr>\n    <tr>\n      <th>50%</th>\n      <td>173.277419</td>\n      <td>3.600000</td>\n      <td>1050.760000</td>\n      <td>6.000000</td>\n      <td>1.000000</td>\n      <td>1.000000</td>\n      <td>3.000000</td>\n      <td>0.000000</td>\n      <td>0.000000</td>\n      <td>1.0</td>\n      <td>1.0</td>\n    </tr>\n    <tr>\n      <th>75%</th>\n      <td>432.616371</td>\n      <td>28.990000</td>\n      <td>2659.205000</td>\n      <td>10.000000</td>\n      <td>1.000000</td>\n      <td>2.000000</td>\n      <td>7.000000</td>\n      <td>0.000000</td>\n      <td>0.000000</td>\n      <td>1.0</td>\n      <td>1.0</td>\n    </tr>\n    <tr>\n      <th>max</th>\n      <td>211326.333226</td>\n      <td>40367.250000</td>\n      <td>260694.110000</td>\n      <td>142.000000</td>\n      <td>11.000000</td>\n      <td>23.000000</td>\n      <td>126.000000</td>\n      <td>12.000000</td>\n      <td>4.000000</td>\n      <td>1.0</td>\n      <td>1.0</td>\n    </tr>\n  </tbody>\n</table>\n</div>"
     },
     "execution_count": 19,
     "metadata": {},
     "output_type": "execute_result"
    }
   ],
   "source": [
    "atm_reward[['avg_balance', 'min_balance_month',\n",
    "       'max_balance_month', 'r_transactions','r_fee',\n",
    "       'r_disbursement', 'r_transfer', 'r_deposit', 'r_quasi_cash','r_balance_check', 'r_withdraw']].describe()"
   ],
   "metadata": {
    "collapsed": false,
    "pycharm": {
     "name": "#%%\n"
    }
   }
  }
 ],
 "metadata": {
  "kernelspec": {
   "display_name": "Python 3",
   "language": "python",
   "name": "python3"
  },
  "language_info": {
   "codemirror_mode": {
    "name": "ipython",
    "version": 2
   },
   "file_extension": ".py",
   "mimetype": "text/x-python",
   "name": "python",
   "nbconvert_exporter": "python",
   "pygments_lexer": "ipython2",
   "version": "2.7.6"
  }
 },
 "nbformat": 4,
 "nbformat_minor": 0
}