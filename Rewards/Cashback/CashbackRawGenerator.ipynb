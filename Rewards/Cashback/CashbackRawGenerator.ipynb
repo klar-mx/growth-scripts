{
 "cells": [
  {
   "cell_type": "code",
   "execution_count": 1,
   "outputs": [],
   "source": [
    "import pandas as pd\n",
    "from sqlalchemy import create_engine\n",
    "import sqlalchemy"
   ],
   "metadata": {
    "collapsed": false
   }
  },
  {
   "cell_type": "code",
   "execution_count": 2,
   "outputs": [],
   "source": [
    "month = 'December'"
   ],
   "metadata": {
    "collapsed": false
   }
  },
  {
   "cell_type": "markdown",
   "source": [
    "## Galileo and Arcus Query"
   ],
   "metadata": {
    "collapsed": false
   }
  },
  {
   "cell_type": "code",
   "execution_count": 3,
   "outputs": [],
   "source": [
    "# Redshift connection\n",
    "f = open('/Users/gabrielreynoso/Documents/Queries/db_klarprod_connection.txt', 'r')\n",
    "postgres_str = f.read()\n",
    "f.close()\n",
    "cnx = create_engine(postgres_str)"
   ],
   "metadata": {
    "collapsed": false
   }
  },
  {
   "cell_type": "code",
   "execution_count": 4,
   "outputs": [],
   "source": [
    "query_transactions = '''\n",
    "SELECT t.*\n",
    "FROM analytics_bi.transactions t\n",
    "where t.state = 'SETTLED'\n",
    "AND t.timestamp_mx >= '2022-12-01 00:00:00'\n",
    "AND t.timestamp_mx < '2023-01-01 00:00:00'\n",
    "and t.source_account_internal_id <> '0000000000000000' AND t.source_account_internal_id <> '00000000-0000-0000-0000-000000000000'\n",
    "AND t.amount <> 0\n",
    "and ((t.provider_id = 'GALILEO' AND t.transaction_id NOT LIKE 'TGT%' AND t.transaction_id NOT LIKE 'SRC%') or (t.provider_id = 'ARCUS' and t.type = 'PURCHASE'))\n",
    "order by t.user_id ASC;\n",
    "'''"
   ],
   "metadata": {
    "collapsed": false
   }
  },
  {
   "cell_type": "code",
   "execution_count": 5,
   "outputs": [],
   "source": [
    "query_raw = pd.read_sql_query(sqlalchemy.text(query_transactions),cnx)"
   ],
   "metadata": {
    "collapsed": false
   }
  },
  {
   "cell_type": "markdown",
   "source": [
    "## Providers"
   ],
   "metadata": {
    "collapsed": false
   }
  },
  {
   "cell_type": "code",
   "execution_count": 6,
   "outputs": [
    {
     "data": {
      "text/plain": "GALILEO    1214041\nARCUS        94116\nName: provider_id, dtype: int64"
     },
     "execution_count": 6,
     "metadata": {},
     "output_type": "execute_result"
    }
   ],
   "source": [
    "query_raw[query_raw.type.isin(['PURCHASE','ADJUSTMENT'])]['provider_id'].value_counts()"
   ],
   "metadata": {
    "collapsed": false
   }
  },
  {
   "cell_type": "markdown",
   "source": [
    "## Balance Categories"
   ],
   "metadata": {
    "collapsed": false
   }
  },
  {
   "cell_type": "code",
   "execution_count": 7,
   "outputs": [
    {
     "data": {
      "text/plain": "CHECKING                    1019634\nCREDIT_CARD                  171553\nUNKNOWN_BALANCE_CATEGORY     116970\nName: balance_category, dtype: int64"
     },
     "execution_count": 7,
     "metadata": {},
     "output_type": "execute_result"
    }
   ],
   "source": [
    "query_raw[query_raw.type.isin(['PURCHASE','ADJUSTMENT'])]['balance_category'].value_counts()"
   ],
   "metadata": {
    "collapsed": false
   }
  },
  {
   "cell_type": "markdown",
   "source": [
    "# Cashback Calc"
   ],
   "metadata": {
    "collapsed": false
   }
  },
  {
   "cell_type": "markdown",
   "source": [
    "### W/ CCK Purchases"
   ],
   "metadata": {
    "collapsed": false
   }
  },
  {
   "cell_type": "code",
   "execution_count": null,
   "outputs": [],
   "source": [
    "# Group by user_id the purchase and adjustments transactions counting items and sumint amounts\n",
    "cashback_calculation = query_raw[query_raw.type.isin(['PURCHASE','ADJUSTMENT'])].groupby(['user_id','type', 'provider_id']).agg({'amount':'sum','transaction_id':'count'})\n",
    "# Unstack in type\n",
    "cashback_calculation = cashback_calculation.unstack(level=1)"
   ],
   "metadata": {
    "collapsed": false
   }
  },
  {
   "cell_type": "code",
   "execution_count": null,
   "outputs": [],
   "source": [
    "cashback_calculation.head(10)"
   ],
   "metadata": {
    "collapsed": false
   }
  },
  {
   "cell_type": "code",
   "execution_count": null,
   "outputs": [],
   "source": [
    "# Unstack in provider_id\n",
    "cashback_calculation = cashback_calculation.unstack(level=1).fillna(0)"
   ],
   "metadata": {
    "collapsed": false
   }
  },
  {
   "cell_type": "code",
   "execution_count": null,
   "outputs": [],
   "source": [
    "cashback_calculation.head(20)"
   ],
   "metadata": {
    "collapsed": false
   }
  },
  {
   "cell_type": "code",
   "execution_count": null,
   "outputs": [],
   "source": [
    "cashback_calculation.columns"
   ],
   "metadata": {
    "collapsed": false
   }
  },
  {
   "cell_type": "code",
   "execution_count": null,
   "outputs": [],
   "source": [
    "# Flatten de column names\n",
    "cashback_calculation.columns = ['_'.join(col) for col in cashback_calculation.columns.values]"
   ],
   "metadata": {
    "collapsed": false
   }
  },
  {
   "cell_type": "code",
   "execution_count": null,
   "outputs": [],
   "source": [
    "cashback_calculation = cashback_calculation.reset_index()"
   ],
   "metadata": {
    "collapsed": false
   }
  },
  {
   "cell_type": "code",
   "execution_count": null,
   "outputs": [],
   "source": [
    "cashback_calculation.columns"
   ],
   "metadata": {
    "collapsed": false
   }
  },
  {
   "cell_type": "code",
   "execution_count": null,
   "outputs": [],
   "source": [
    "# Rename columns\n",
    "cashback_calculation.columns = ['user_id','ArcusAdjustAmount', 'GalileoAdjustAmount','ArcusPurchaseAmount', 'GalileoPurchaseAmount','ArcusAdjustNum', 'GalileoAdjustNum','ArcusPurchaseNum', 'GalileoPurchaseNum']"
   ],
   "metadata": {
    "collapsed": false
   }
  },
  {
   "cell_type": "code",
   "execution_count": null,
   "outputs": [],
   "source": [
    "# Raw Export\n",
    "cashback_calculation.to_csv('./Cashback_Payments/Raw_' + month + '.csv', index=False)"
   ],
   "metadata": {
    "collapsed": false
   }
  },
  {
   "cell_type": "code",
   "execution_count": null,
   "outputs": [],
   "source": [
    "cashback_calculation.shape"
   ],
   "metadata": {
    "collapsed": false
   }
  },
  {
   "cell_type": "markdown",
   "source": [
    "### W/O CCK Purchases"
   ],
   "metadata": {
    "collapsed": false
   }
  },
  {
   "cell_type": "code",
   "execution_count": 8,
   "outputs": [],
   "source": [
    "wo_cck = query_raw[query_raw.balance_category!='CREDIT_CARD']\n",
    "# Group by user_id the purchase and adjustments transactions counting items and sumint amounts\n",
    "cashback_calculation = wo_cck[wo_cck.type.isin(['PURCHASE','ADJUSTMENT'])].groupby(['user_id','type', 'provider_id']).agg({'amount':'sum','transaction_id':'count'})\n",
    "# Unstack in type\n",
    "cashback_calculation = cashback_calculation.unstack(level=1)"
   ],
   "metadata": {
    "collapsed": false
   }
  },
  {
   "cell_type": "code",
   "execution_count": 9,
   "outputs": [
    {
     "data": {
      "text/plain": "                                                     amount           \\\ntype                                             ADJUSTMENT PURCHASE   \nuser_id                              provider_id                       \n000048a5-6eb8-464a-ba04-9860337841d2 ARCUS              NaN   -30.00   \n00007e60-e21e-4616-81b4-4afae84713ee GALILEO            NaN  -281.00   \n000096ca-40b4-4de0-8b71-6f16939af17f GALILEO            NaN  -527.78   \n0000a054-8132-416b-8cf1-d4c6443bf8ce GALILEO            NaN   -89.50   \n00017516-8f98-4f85-b58e-09b4fb9c2c3e ARCUS              NaN  -250.00   \n0002325b-5c34-4e23-89d4-e289b52b1ab7 GALILEO            NaN  -750.84   \n00024ed7-05c1-4421-ae51-0a4d1cd4ecd0 GALILEO            NaN -1860.45   \n0002c06d-33ce-492c-8a63-3b7b2ef43086 GALILEO            NaN   -39.08   \n0002f190-5527-4220-9b92-955bfc498869 ARCUS              NaN   -50.00   \n0003455b-033d-48ee-80d2-77c05664c154 GALILEO            NaN  -697.45   \n\n                                                 transaction_id           \ntype                                                 ADJUSTMENT PURCHASE  \nuser_id                              provider_id                          \n000048a5-6eb8-464a-ba04-9860337841d2 ARCUS                  NaN      1.0  \n00007e60-e21e-4616-81b4-4afae84713ee GALILEO                NaN      3.0  \n000096ca-40b4-4de0-8b71-6f16939af17f GALILEO                NaN      5.0  \n0000a054-8132-416b-8cf1-d4c6443bf8ce GALILEO                NaN      1.0  \n00017516-8f98-4f85-b58e-09b4fb9c2c3e ARCUS                  NaN      1.0  \n0002325b-5c34-4e23-89d4-e289b52b1ab7 GALILEO                NaN      4.0  \n00024ed7-05c1-4421-ae51-0a4d1cd4ecd0 GALILEO                NaN      1.0  \n0002c06d-33ce-492c-8a63-3b7b2ef43086 GALILEO                NaN      1.0  \n0002f190-5527-4220-9b92-955bfc498869 ARCUS                  NaN      1.0  \n0003455b-033d-48ee-80d2-77c05664c154 GALILEO                NaN      3.0  ",
      "text/html": "<div>\n<style scoped>\n    .dataframe tbody tr th:only-of-type {\n        vertical-align: middle;\n    }\n\n    .dataframe tbody tr th {\n        vertical-align: top;\n    }\n\n    .dataframe thead tr th {\n        text-align: left;\n    }\n\n    .dataframe thead tr:last-of-type th {\n        text-align: right;\n    }\n</style>\n<table border=\"1\" class=\"dataframe\">\n  <thead>\n    <tr>\n      <th></th>\n      <th></th>\n      <th colspan=\"2\" halign=\"left\">amount</th>\n      <th colspan=\"2\" halign=\"left\">transaction_id</th>\n    </tr>\n    <tr>\n      <th></th>\n      <th>type</th>\n      <th>ADJUSTMENT</th>\n      <th>PURCHASE</th>\n      <th>ADJUSTMENT</th>\n      <th>PURCHASE</th>\n    </tr>\n    <tr>\n      <th>user_id</th>\n      <th>provider_id</th>\n      <th></th>\n      <th></th>\n      <th></th>\n      <th></th>\n    </tr>\n  </thead>\n  <tbody>\n    <tr>\n      <th>000048a5-6eb8-464a-ba04-9860337841d2</th>\n      <th>ARCUS</th>\n      <td>NaN</td>\n      <td>-30.00</td>\n      <td>NaN</td>\n      <td>1.0</td>\n    </tr>\n    <tr>\n      <th>00007e60-e21e-4616-81b4-4afae84713ee</th>\n      <th>GALILEO</th>\n      <td>NaN</td>\n      <td>-281.00</td>\n      <td>NaN</td>\n      <td>3.0</td>\n    </tr>\n    <tr>\n      <th>000096ca-40b4-4de0-8b71-6f16939af17f</th>\n      <th>GALILEO</th>\n      <td>NaN</td>\n      <td>-527.78</td>\n      <td>NaN</td>\n      <td>5.0</td>\n    </tr>\n    <tr>\n      <th>0000a054-8132-416b-8cf1-d4c6443bf8ce</th>\n      <th>GALILEO</th>\n      <td>NaN</td>\n      <td>-89.50</td>\n      <td>NaN</td>\n      <td>1.0</td>\n    </tr>\n    <tr>\n      <th>00017516-8f98-4f85-b58e-09b4fb9c2c3e</th>\n      <th>ARCUS</th>\n      <td>NaN</td>\n      <td>-250.00</td>\n      <td>NaN</td>\n      <td>1.0</td>\n    </tr>\n    <tr>\n      <th>0002325b-5c34-4e23-89d4-e289b52b1ab7</th>\n      <th>GALILEO</th>\n      <td>NaN</td>\n      <td>-750.84</td>\n      <td>NaN</td>\n      <td>4.0</td>\n    </tr>\n    <tr>\n      <th>00024ed7-05c1-4421-ae51-0a4d1cd4ecd0</th>\n      <th>GALILEO</th>\n      <td>NaN</td>\n      <td>-1860.45</td>\n      <td>NaN</td>\n      <td>1.0</td>\n    </tr>\n    <tr>\n      <th>0002c06d-33ce-492c-8a63-3b7b2ef43086</th>\n      <th>GALILEO</th>\n      <td>NaN</td>\n      <td>-39.08</td>\n      <td>NaN</td>\n      <td>1.0</td>\n    </tr>\n    <tr>\n      <th>0002f190-5527-4220-9b92-955bfc498869</th>\n      <th>ARCUS</th>\n      <td>NaN</td>\n      <td>-50.00</td>\n      <td>NaN</td>\n      <td>1.0</td>\n    </tr>\n    <tr>\n      <th>0003455b-033d-48ee-80d2-77c05664c154</th>\n      <th>GALILEO</th>\n      <td>NaN</td>\n      <td>-697.45</td>\n      <td>NaN</td>\n      <td>3.0</td>\n    </tr>\n  </tbody>\n</table>\n</div>"
     },
     "execution_count": 9,
     "metadata": {},
     "output_type": "execute_result"
    }
   ],
   "source": [
    "cashback_calculation.head(10)"
   ],
   "metadata": {
    "collapsed": false
   }
  },
  {
   "cell_type": "code",
   "execution_count": 10,
   "outputs": [],
   "source": [
    "# Unstack in provider_id\n",
    "cashback_calculation = cashback_calculation.unstack(level=1).fillna(0)"
   ],
   "metadata": {
    "collapsed": false
   }
  },
  {
   "cell_type": "code",
   "execution_count": 11,
   "outputs": [
    {
     "data": {
      "text/plain": "MultiIndex([(        'amount', 'ADJUSTMENT',   'ARCUS'),\n            (        'amount', 'ADJUSTMENT', 'GALILEO'),\n            (        'amount',   'PURCHASE',   'ARCUS'),\n            (        'amount',   'PURCHASE', 'GALILEO'),\n            ('transaction_id', 'ADJUSTMENT',   'ARCUS'),\n            ('transaction_id', 'ADJUSTMENT', 'GALILEO'),\n            ('transaction_id',   'PURCHASE',   'ARCUS'),\n            ('transaction_id',   'PURCHASE', 'GALILEO')],\n           names=[None, 'type', 'provider_id'])"
     },
     "execution_count": 11,
     "metadata": {},
     "output_type": "execute_result"
    }
   ],
   "source": [
    "cashback_calculation.columns"
   ],
   "metadata": {
    "collapsed": false
   }
  },
  {
   "cell_type": "code",
   "execution_count": 12,
   "outputs": [],
   "source": [
    "# Flatten de column names\n",
    "cashback_calculation.columns = ['_'.join(col) for col in cashback_calculation.columns.values]\n",
    "cashback_calculation = cashback_calculation.reset_index()"
   ],
   "metadata": {
    "collapsed": false
   }
  },
  {
   "cell_type": "code",
   "execution_count": 13,
   "outputs": [],
   "source": [
    "# Rename columns\n",
    "cashback_calculation.columns = ['user_id','ArcusAdjustAmount', 'GalileoAdjustAmount','ArcusPurchaseAmount', 'GalileoPurchaseAmount','ArcusAdjustNum', 'GalileoAdjustNum','ArcusPurchaseNum', 'GalileoPurchaseNum']"
   ],
   "metadata": {
    "collapsed": false
   }
  },
  {
   "cell_type": "code",
   "execution_count": 14,
   "outputs": [],
   "source": [
    "# Raw Export\n",
    "cashback_calculation.to_csv('./Cashback_Payments/Raw_WO_CCK_' + month + '.csv', index=False)"
   ],
   "metadata": {
    "collapsed": false
   }
  },
  {
   "cell_type": "code",
   "execution_count": 15,
   "outputs": [
    {
     "data": {
      "text/plain": "(150170, 9)"
     },
     "execution_count": 15,
     "metadata": {},
     "output_type": "execute_result"
    }
   ],
   "source": [
    "cashback_calculation.shape"
   ],
   "metadata": {
    "collapsed": false
   }
  },
  {
   "cell_type": "markdown",
   "source": [
    "## Excel Input"
   ],
   "metadata": {
    "collapsed": false
   }
  },
  {
   "cell_type": "code",
   "execution_count": null,
   "outputs": [],
   "source": [
    "# Read both csv for cashback\n",
    "cashback_sql1 = pd.read_csv('/Users/gabrielreynoso/PycharmProjects/Klar/Rewards/Cashback/Data/' + month + '_SQL1.csv')\n",
    "cashback_sql2 = pd.read_csv('/Users/gabrielreynoso/PycharmProjects/Klar/Rewards/Cashback/Data/' + month + '_SQL2.csv')\n",
    "# Generate the raw cashback file\n",
    "cashback_raw = pd.concat([cashback_sql1,cashback_sql2])"
   ],
   "metadata": {
    "collapsed": false
   }
  },
  {
   "cell_type": "code",
   "execution_count": null,
   "outputs": [],
   "source": [
    "cashback_raw.shape"
   ],
   "metadata": {
    "collapsed": false
   }
  },
  {
   "cell_type": "code",
   "execution_count": null,
   "outputs": [],
   "source": [
    "cashback_raw[cashback_raw.type.isin(['PURCHASE','ADJUSTMENT'])].shape"
   ],
   "metadata": {
    "collapsed": false
   }
  },
  {
   "cell_type": "markdown",
   "source": [
    "## Galileo Query"
   ],
   "metadata": {
    "collapsed": false
   }
  },
  {
   "cell_type": "code",
   "execution_count": null,
   "outputs": [],
   "source": [
    "query_galileo = '''\n",
    "SELECT t.*\n",
    "FROM analytics_bi.transactions t\n",
    "where t.state = 'SETTLED' and t.provider_id = 'GALILEO'\n",
    "AND t.timestamp_mx >= '2022-10-01 00:00:00'\n",
    "AND t.timestamp_mx < '2022-11-01 00:00:00'\n",
    "AND t.transaction_id NOT LIKE 'TGT%'\n",
    "AND t.transaction_id NOT LIKE 'SRC%'\n",
    "and t.source_account_internal_id <> '0000000000000000' AND t.source_account_internal_id <> '00000000-0000-0000-0000-000000000000'\n",
    "AND t.amount <> 0\n",
    "order by t.user_id ASC;\n",
    "'''"
   ],
   "metadata": {
    "collapsed": false
   }
  },
  {
   "cell_type": "code",
   "execution_count": null,
   "outputs": [],
   "source": [
    "query_raw_galileo = pd.read_sql_query(sqlalchemy.text(query_galileo),cnx)"
   ],
   "metadata": {
    "collapsed": false
   }
  },
  {
   "cell_type": "code",
   "execution_count": null,
   "outputs": [],
   "source": [
    "query_raw_galileo.shape"
   ],
   "metadata": {
    "collapsed": false
   }
  },
  {
   "cell_type": "code",
   "execution_count": null,
   "outputs": [],
   "source": [
    "query_raw_galileo[query_raw_galileo.type.isin(['PURCHASE','ADJUSTMENT'])].shape"
   ],
   "metadata": {
    "collapsed": false
   }
  }
 ],
 "metadata": {
  "kernelspec": {
   "display_name": "Python 3",
   "language": "python",
   "name": "python3"
  },
  "language_info": {
   "codemirror_mode": {
    "name": "ipython",
    "version": 2
   },
   "file_extension": ".py",
   "mimetype": "text/x-python",
   "name": "python",
   "nbconvert_exporter": "python",
   "pygments_lexer": "ipython2",
   "version": "2.7.6"
  }
 },
 "nbformat": 4,
 "nbformat_minor": 0
}
