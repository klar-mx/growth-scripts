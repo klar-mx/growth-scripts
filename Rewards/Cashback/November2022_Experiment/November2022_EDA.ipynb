{
 "cells": [
  {
   "cell_type": "code",
   "execution_count": 46,
   "metadata": {
    "collapsed": true
   },
   "outputs": [],
   "source": [
    "import pandas as pd"
   ]
  },
  {
   "cell_type": "markdown",
   "source": [
    "### Raw Cashback File"
   ],
   "metadata": {
    "collapsed": false
   }
  },
  {
   "cell_type": "code",
   "execution_count": 47,
   "outputs": [],
   "source": [
    "# Read input files\n",
    "raw_november = pd.read_csv('../Cashback_Payments/Raw_WO_CCK_November.csv')"
   ],
   "metadata": {
    "collapsed": false
   }
  },
  {
   "cell_type": "markdown",
   "source": [
    "### Output Directory"
   ],
   "metadata": {
    "collapsed": false
   }
  },
  {
   "cell_type": "code",
   "execution_count": 48,
   "outputs": [],
   "source": [
    "output_directory = '../Cashback_Payments/November_WO_CCK.csv'"
   ],
   "metadata": {
    "collapsed": false
   }
  },
  {
   "cell_type": "markdown",
   "source": [
    "# Cohorts Info"
   ],
   "metadata": {
    "collapsed": false
   }
  },
  {
   "cell_type": "code",
   "execution_count": 49,
   "outputs": [],
   "source": [
    "cohorts_info = pd.read_csv('Cohorts.csv')"
   ],
   "metadata": {
    "collapsed": false
   }
  },
  {
   "cell_type": "code",
   "execution_count": 50,
   "outputs": [
    {
     "data": {
      "text/plain": "                                 id cashback_type    created_at  \\\n0  c3fa7060a6c051129fe30f2c206668b1            2k  1.579710e+09   \n1  ca112feee7a1755e2c1565de9d51ff54            2k  1.580251e+09   \n2  c471bf85d91b3813fe9ea6e72d39583d     2k_or_10p  1.581728e+09   \n3  a1b945f4b291d6ce2c691479dea03e5d     2k_or_10p  1.579713e+09   \n4  dd4336b644ef2a5d719c180da2702c98           10p  1.579716e+09   \n5  f4442f1beba4ffcb149eadfe96303c1e           10p  1.579713e+09   \n6  f3d32d0364d71403ae27df0715429c78            2k  1.581226e+09   \n7  09ba7ab5347d033464c0130eedacf87c           10p  1.579719e+09   \n8  eae84c52344762d409468f4751b49483     2k_or_10p  1.579719e+09   \n9  46bf73eb8aa2ab3414d0c45c4ff33a9b     2k_or_10p  1.579720e+09   \n\n                         email                            klarUserId  \\\n0    albertorh1999@hotmail.com  a712e4ed-350d-46f7-bed8-c8aa84b6fbe0   \n1            ntryf8e@gmail.com  52e251db-ad35-4d18-8997-0a9a426dd7c5   \n2         interunerm@gmail.com  009dd382-1a8f-443f-bec8-a161365655bc   \n3         oz11113333@gmail.com  8accbc3a-07d4-4ee2-97f2-008b930c658b   \n4     ruizlopezdavid@gmail.com  9ff30ca5-b210-4d0c-b677-84db3008b50e   \n5         jr10.angel@gmail.com  8adc19e4-92b3-435c-ac31-6edc209f5203   \n6          yhwh89rfc@gmail.com  be9012f7-0a41-4e37-aa21-d5439634d142   \n7  edwinavellaneda55@gmail.com  9cc43abb-b8a6-42f8-ba59-b5917a5ef29a   \n8         e.ribera26@gmail.com  3ecd1fcd-679c-4e2c-99eb-87e9c2487101   \n9    rigomercado1954@gmail.com  73e733ee-2a7b-4201-820d-6234959a2bc6   \n\n   opt_in_cashback unsubscribed  _segment:1425 _segment:1425_RFC3339  \n0                1          NaN     1667845472  2022-11-07T18:24:32Z  \n1                1          NaN     1667845472  2022-11-07T18:24:32Z  \n2                1          NaN     1667845472  2022-11-07T18:24:32Z  \n3                1          NaN     1667845472  2022-11-07T18:24:32Z  \n4                1          NaN     1667845472  2022-11-07T18:24:32Z  \n5                1          NaN     1667845472  2022-11-07T18:24:32Z  \n6                1         True     1667845472  2022-11-07T18:24:32Z  \n7                1          NaN     1667845472  2022-11-07T18:24:32Z  \n8                1          NaN     1667845472  2022-11-07T18:24:32Z  \n9                1          NaN     1667845472  2022-11-07T18:24:32Z  ",
      "text/html": "<div>\n<style scoped>\n    .dataframe tbody tr th:only-of-type {\n        vertical-align: middle;\n    }\n\n    .dataframe tbody tr th {\n        vertical-align: top;\n    }\n\n    .dataframe thead th {\n        text-align: right;\n    }\n</style>\n<table border=\"1\" class=\"dataframe\">\n  <thead>\n    <tr style=\"text-align: right;\">\n      <th></th>\n      <th>id</th>\n      <th>cashback_type</th>\n      <th>created_at</th>\n      <th>email</th>\n      <th>klarUserId</th>\n      <th>opt_in_cashback</th>\n      <th>unsubscribed</th>\n      <th>_segment:1425</th>\n      <th>_segment:1425_RFC3339</th>\n    </tr>\n  </thead>\n  <tbody>\n    <tr>\n      <th>0</th>\n      <td>c3fa7060a6c051129fe30f2c206668b1</td>\n      <td>2k</td>\n      <td>1.579710e+09</td>\n      <td>albertorh1999@hotmail.com</td>\n      <td>a712e4ed-350d-46f7-bed8-c8aa84b6fbe0</td>\n      <td>1</td>\n      <td>NaN</td>\n      <td>1667845472</td>\n      <td>2022-11-07T18:24:32Z</td>\n    </tr>\n    <tr>\n      <th>1</th>\n      <td>ca112feee7a1755e2c1565de9d51ff54</td>\n      <td>2k</td>\n      <td>1.580251e+09</td>\n      <td>ntryf8e@gmail.com</td>\n      <td>52e251db-ad35-4d18-8997-0a9a426dd7c5</td>\n      <td>1</td>\n      <td>NaN</td>\n      <td>1667845472</td>\n      <td>2022-11-07T18:24:32Z</td>\n    </tr>\n    <tr>\n      <th>2</th>\n      <td>c471bf85d91b3813fe9ea6e72d39583d</td>\n      <td>2k_or_10p</td>\n      <td>1.581728e+09</td>\n      <td>interunerm@gmail.com</td>\n      <td>009dd382-1a8f-443f-bec8-a161365655bc</td>\n      <td>1</td>\n      <td>NaN</td>\n      <td>1667845472</td>\n      <td>2022-11-07T18:24:32Z</td>\n    </tr>\n    <tr>\n      <th>3</th>\n      <td>a1b945f4b291d6ce2c691479dea03e5d</td>\n      <td>2k_or_10p</td>\n      <td>1.579713e+09</td>\n      <td>oz11113333@gmail.com</td>\n      <td>8accbc3a-07d4-4ee2-97f2-008b930c658b</td>\n      <td>1</td>\n      <td>NaN</td>\n      <td>1667845472</td>\n      <td>2022-11-07T18:24:32Z</td>\n    </tr>\n    <tr>\n      <th>4</th>\n      <td>dd4336b644ef2a5d719c180da2702c98</td>\n      <td>10p</td>\n      <td>1.579716e+09</td>\n      <td>ruizlopezdavid@gmail.com</td>\n      <td>9ff30ca5-b210-4d0c-b677-84db3008b50e</td>\n      <td>1</td>\n      <td>NaN</td>\n      <td>1667845472</td>\n      <td>2022-11-07T18:24:32Z</td>\n    </tr>\n    <tr>\n      <th>5</th>\n      <td>f4442f1beba4ffcb149eadfe96303c1e</td>\n      <td>10p</td>\n      <td>1.579713e+09</td>\n      <td>jr10.angel@gmail.com</td>\n      <td>8adc19e4-92b3-435c-ac31-6edc209f5203</td>\n      <td>1</td>\n      <td>NaN</td>\n      <td>1667845472</td>\n      <td>2022-11-07T18:24:32Z</td>\n    </tr>\n    <tr>\n      <th>6</th>\n      <td>f3d32d0364d71403ae27df0715429c78</td>\n      <td>2k</td>\n      <td>1.581226e+09</td>\n      <td>yhwh89rfc@gmail.com</td>\n      <td>be9012f7-0a41-4e37-aa21-d5439634d142</td>\n      <td>1</td>\n      <td>True</td>\n      <td>1667845472</td>\n      <td>2022-11-07T18:24:32Z</td>\n    </tr>\n    <tr>\n      <th>7</th>\n      <td>09ba7ab5347d033464c0130eedacf87c</td>\n      <td>10p</td>\n      <td>1.579719e+09</td>\n      <td>edwinavellaneda55@gmail.com</td>\n      <td>9cc43abb-b8a6-42f8-ba59-b5917a5ef29a</td>\n      <td>1</td>\n      <td>NaN</td>\n      <td>1667845472</td>\n      <td>2022-11-07T18:24:32Z</td>\n    </tr>\n    <tr>\n      <th>8</th>\n      <td>eae84c52344762d409468f4751b49483</td>\n      <td>2k_or_10p</td>\n      <td>1.579719e+09</td>\n      <td>e.ribera26@gmail.com</td>\n      <td>3ecd1fcd-679c-4e2c-99eb-87e9c2487101</td>\n      <td>1</td>\n      <td>NaN</td>\n      <td>1667845472</td>\n      <td>2022-11-07T18:24:32Z</td>\n    </tr>\n    <tr>\n      <th>9</th>\n      <td>46bf73eb8aa2ab3414d0c45c4ff33a9b</td>\n      <td>2k_or_10p</td>\n      <td>1.579720e+09</td>\n      <td>rigomercado1954@gmail.com</td>\n      <td>73e733ee-2a7b-4201-820d-6234959a2bc6</td>\n      <td>1</td>\n      <td>NaN</td>\n      <td>1667845472</td>\n      <td>2022-11-07T18:24:32Z</td>\n    </tr>\n  </tbody>\n</table>\n</div>"
     },
     "execution_count": 50,
     "metadata": {},
     "output_type": "execute_result"
    }
   ],
   "source": [
    "cohorts_info.head(10)"
   ],
   "metadata": {
    "collapsed": false
   }
  },
  {
   "cell_type": "code",
   "execution_count": 51,
   "outputs": [
    {
     "data": {
      "text/plain": "Empty DataFrame\nColumns: [id, cashback_type, created_at, email, klarUserId, opt_in_cashback, unsubscribed, _segment:1425, _segment:1425_RFC3339]\nIndex: []",
      "text/html": "<div>\n<style scoped>\n    .dataframe tbody tr th:only-of-type {\n        vertical-align: middle;\n    }\n\n    .dataframe tbody tr th {\n        vertical-align: top;\n    }\n\n    .dataframe thead th {\n        text-align: right;\n    }\n</style>\n<table border=\"1\" class=\"dataframe\">\n  <thead>\n    <tr style=\"text-align: right;\">\n      <th></th>\n      <th>id</th>\n      <th>cashback_type</th>\n      <th>created_at</th>\n      <th>email</th>\n      <th>klarUserId</th>\n      <th>opt_in_cashback</th>\n      <th>unsubscribed</th>\n      <th>_segment:1425</th>\n      <th>_segment:1425_RFC3339</th>\n    </tr>\n  </thead>\n  <tbody>\n  </tbody>\n</table>\n</div>"
     },
     "execution_count": 51,
     "metadata": {},
     "output_type": "execute_result"
    }
   ],
   "source": [
    "# Delete users without user_id\n",
    "cohorts_info = cohorts_info[~cohorts_info.klarUserId.isna()]\n",
    "cohorts_info[cohorts_info.klarUserId.duplicated()]"
   ],
   "metadata": {
    "collapsed": false
   }
  },
  {
   "cell_type": "code",
   "execution_count": 52,
   "outputs": [
    {
     "data": {
      "text/plain": "Index(['id', 'cashback_type', 'created_at', 'email', 'klarUserId',\n       'opt_in_cashback', 'unsubscribed', '_segment:1425',\n       '_segment:1425_RFC3339'],\n      dtype='object')"
     },
     "execution_count": 52,
     "metadata": {},
     "output_type": "execute_result"
    }
   ],
   "source": [
    "cohorts_info.columns"
   ],
   "metadata": {
    "collapsed": false
   }
  },
  {
   "cell_type": "code",
   "execution_count": 53,
   "outputs": [],
   "source": [
    "# Needed columns\n",
    "cohorts_info_clean = cohorts_info[['email','klarUserId', 'cashback_type', 'opt_in_cashback']]\n",
    "# Rename columns\n",
    "cohorts_info_clean.columns = ['email','user_id', 'cashback_type', 'needed_opt_in']"
   ],
   "metadata": {
    "collapsed": false
   }
  },
  {
   "cell_type": "code",
   "execution_count": 54,
   "outputs": [
    {
     "name": "stderr",
     "output_type": "stream",
     "text": [
      "/var/folders/b_/lql2bh7s2797fh2q6lw2ttdh0000gn/T/ipykernel_55471/1602279349.py:2: SettingWithCopyWarning: \n",
      "A value is trying to be set on a copy of a slice from a DataFrame.\n",
      "Try using .loc[row_indexer,col_indexer] = value instead\n",
      "\n",
      "See the caveats in the documentation: https://pandas.pydata.org/pandas-docs/stable/user_guide/indexing.html#returning-a-view-versus-a-copy\n",
      "  cohorts_info_clean.needed_opt_in = cohorts_info_clean.needed_opt_in.map({1:True, 0:False})\n"
     ]
    }
   ],
   "source": [
    "# Remap op-int column\n",
    "cohorts_info_clean.needed_opt_in = cohorts_info_clean.needed_opt_in.map({1:True, 0:False})"
   ],
   "metadata": {
    "collapsed": false
   }
  },
  {
   "cell_type": "code",
   "execution_count": 55,
   "outputs": [
    {
     "data": {
      "text/plain": "                       email                               user_id  \\\n0  albertorh1999@hotmail.com  a712e4ed-350d-46f7-bed8-c8aa84b6fbe0   \n1          ntryf8e@gmail.com  52e251db-ad35-4d18-8997-0a9a426dd7c5   \n2       interunerm@gmail.com  009dd382-1a8f-443f-bec8-a161365655bc   \n3       oz11113333@gmail.com  8accbc3a-07d4-4ee2-97f2-008b930c658b   \n4   ruizlopezdavid@gmail.com  9ff30ca5-b210-4d0c-b677-84db3008b50e   \n5       jr10.angel@gmail.com  8adc19e4-92b3-435c-ac31-6edc209f5203   \n6        yhwh89rfc@gmail.com  be9012f7-0a41-4e37-aa21-d5439634d142   \n\n  cashback_type  needed_opt_in  \n0            2k           True  \n1            2k           True  \n2     2k_or_10p           True  \n3     2k_or_10p           True  \n4           10p           True  \n5           10p           True  \n6            2k           True  ",
      "text/html": "<div>\n<style scoped>\n    .dataframe tbody tr th:only-of-type {\n        vertical-align: middle;\n    }\n\n    .dataframe tbody tr th {\n        vertical-align: top;\n    }\n\n    .dataframe thead th {\n        text-align: right;\n    }\n</style>\n<table border=\"1\" class=\"dataframe\">\n  <thead>\n    <tr style=\"text-align: right;\">\n      <th></th>\n      <th>email</th>\n      <th>user_id</th>\n      <th>cashback_type</th>\n      <th>needed_opt_in</th>\n    </tr>\n  </thead>\n  <tbody>\n    <tr>\n      <th>0</th>\n      <td>albertorh1999@hotmail.com</td>\n      <td>a712e4ed-350d-46f7-bed8-c8aa84b6fbe0</td>\n      <td>2k</td>\n      <td>True</td>\n    </tr>\n    <tr>\n      <th>1</th>\n      <td>ntryf8e@gmail.com</td>\n      <td>52e251db-ad35-4d18-8997-0a9a426dd7c5</td>\n      <td>2k</td>\n      <td>True</td>\n    </tr>\n    <tr>\n      <th>2</th>\n      <td>interunerm@gmail.com</td>\n      <td>009dd382-1a8f-443f-bec8-a161365655bc</td>\n      <td>2k_or_10p</td>\n      <td>True</td>\n    </tr>\n    <tr>\n      <th>3</th>\n      <td>oz11113333@gmail.com</td>\n      <td>8accbc3a-07d4-4ee2-97f2-008b930c658b</td>\n      <td>2k_or_10p</td>\n      <td>True</td>\n    </tr>\n    <tr>\n      <th>4</th>\n      <td>ruizlopezdavid@gmail.com</td>\n      <td>9ff30ca5-b210-4d0c-b677-84db3008b50e</td>\n      <td>10p</td>\n      <td>True</td>\n    </tr>\n    <tr>\n      <th>5</th>\n      <td>jr10.angel@gmail.com</td>\n      <td>8adc19e4-92b3-435c-ac31-6edc209f5203</td>\n      <td>10p</td>\n      <td>True</td>\n    </tr>\n    <tr>\n      <th>6</th>\n      <td>yhwh89rfc@gmail.com</td>\n      <td>be9012f7-0a41-4e37-aa21-d5439634d142</td>\n      <td>2k</td>\n      <td>True</td>\n    </tr>\n  </tbody>\n</table>\n</div>"
     },
     "execution_count": 55,
     "metadata": {},
     "output_type": "execute_result"
    }
   ],
   "source": [
    "cohorts_info_clean.head(7)"
   ],
   "metadata": {
    "collapsed": false
   }
  },
  {
   "cell_type": "code",
   "execution_count": 56,
   "outputs": [
    {
     "data": {
      "text/plain": "2k           202428\n2k_or_10p    202375\n10p          100771\nName: cashback_type, dtype: int64"
     },
     "execution_count": 56,
     "metadata": {},
     "output_type": "execute_result"
    }
   ],
   "source": [
    "# Cohorts segments\n",
    "cohorts_info_clean.cashback_type.value_counts()"
   ],
   "metadata": {
    "collapsed": false
   }
  },
  {
   "cell_type": "markdown",
   "source": [
    "### Opt-in Info"
   ],
   "metadata": {
    "collapsed": false
   }
  },
  {
   "cell_type": "code",
   "execution_count": 57,
   "outputs": [],
   "source": [
    "opt_in_info = pd.read_csv('Opt-In.csv')"
   ],
   "metadata": {
    "collapsed": false
   }
  },
  {
   "cell_type": "code",
   "execution_count": 58,
   "outputs": [
    {
     "data": {
      "text/plain": "       Submission Date                       email  \\\n0  2022-11-08 17:14:53      schocher.dra@gmail.com   \n1  2022-11-08 17:19:45  jcarlos.delgado8@gmail.com   \n2  2022-11-08 19:37:48     lucyfer970919@gmail.com   \n3  2022-11-08 19:38:03   oscar_gongora@hotmail.com   \n4  2022-11-08 19:38:08      ricardoklehr@gmail.com   \n5  2022-11-08 19:38:10    israelavefenix@gmail.com   \n6  2022-11-08 19:38:14     adriacontre@hotmail.com   \n\n                                 source          Nombre        Apellido  \\\n0  2daa587a-8e61-406d-9fd1-2bb9b2fd3bf5             Die            Schi   \n1  d0656686-69b2-4a0e-9d49-573e04771736           Josef           Flaco   \n2  df91a5e0-7698-49b3-b93e-9cdf6863d17e  Lucia Carolina     Anza santos   \n3  0603dec1-cb69-4230-aaa3-e163f96c67c1           Oscar         Gongora   \n4  e9b766ee-5c98-47d9-a754-b520f784ae06         Ricardo    Garcia Klehr   \n5  616ea77b-9fd3-486e-9896-aa51ce4a3b31    PABLO ISRAEL  GONZALEZ PEREZ   \n6  95e6978c-b319-408d-948b-3fccf61a49be          Adrian       Contreras   \n\n                IP        Submission ID  \n0   200.56.118.244  5437548934421362147  \n1   200.56.118.244  5437551854424988012  \n2  189.129.131.173  5437634673715904285  \n3  189.160.124.146  5437634836411106812  \n4  189.216.205.138  5437634888316551013  \n5  201.162.218.223  5437634903227467182  \n6  189.203.175.214  5437634944125878655  ",
      "text/html": "<div>\n<style scoped>\n    .dataframe tbody tr th:only-of-type {\n        vertical-align: middle;\n    }\n\n    .dataframe tbody tr th {\n        vertical-align: top;\n    }\n\n    .dataframe thead th {\n        text-align: right;\n    }\n</style>\n<table border=\"1\" class=\"dataframe\">\n  <thead>\n    <tr style=\"text-align: right;\">\n      <th></th>\n      <th>Submission Date</th>\n      <th>email</th>\n      <th>source</th>\n      <th>Nombre</th>\n      <th>Apellido</th>\n      <th>IP</th>\n      <th>Submission ID</th>\n    </tr>\n  </thead>\n  <tbody>\n    <tr>\n      <th>0</th>\n      <td>2022-11-08 17:14:53</td>\n      <td>schocher.dra@gmail.com</td>\n      <td>2daa587a-8e61-406d-9fd1-2bb9b2fd3bf5</td>\n      <td>Die</td>\n      <td>Schi</td>\n      <td>200.56.118.244</td>\n      <td>5437548934421362147</td>\n    </tr>\n    <tr>\n      <th>1</th>\n      <td>2022-11-08 17:19:45</td>\n      <td>jcarlos.delgado8@gmail.com</td>\n      <td>d0656686-69b2-4a0e-9d49-573e04771736</td>\n      <td>Josef</td>\n      <td>Flaco</td>\n      <td>200.56.118.244</td>\n      <td>5437551854424988012</td>\n    </tr>\n    <tr>\n      <th>2</th>\n      <td>2022-11-08 19:37:48</td>\n      <td>lucyfer970919@gmail.com</td>\n      <td>df91a5e0-7698-49b3-b93e-9cdf6863d17e</td>\n      <td>Lucia Carolina</td>\n      <td>Anza santos</td>\n      <td>189.129.131.173</td>\n      <td>5437634673715904285</td>\n    </tr>\n    <tr>\n      <th>3</th>\n      <td>2022-11-08 19:38:03</td>\n      <td>oscar_gongora@hotmail.com</td>\n      <td>0603dec1-cb69-4230-aaa3-e163f96c67c1</td>\n      <td>Oscar</td>\n      <td>Gongora</td>\n      <td>189.160.124.146</td>\n      <td>5437634836411106812</td>\n    </tr>\n    <tr>\n      <th>4</th>\n      <td>2022-11-08 19:38:08</td>\n      <td>ricardoklehr@gmail.com</td>\n      <td>e9b766ee-5c98-47d9-a754-b520f784ae06</td>\n      <td>Ricardo</td>\n      <td>Garcia Klehr</td>\n      <td>189.216.205.138</td>\n      <td>5437634888316551013</td>\n    </tr>\n    <tr>\n      <th>5</th>\n      <td>2022-11-08 19:38:10</td>\n      <td>israelavefenix@gmail.com</td>\n      <td>616ea77b-9fd3-486e-9896-aa51ce4a3b31</td>\n      <td>PABLO ISRAEL</td>\n      <td>GONZALEZ PEREZ</td>\n      <td>201.162.218.223</td>\n      <td>5437634903227467182</td>\n    </tr>\n    <tr>\n      <th>6</th>\n      <td>2022-11-08 19:38:14</td>\n      <td>adriacontre@hotmail.com</td>\n      <td>95e6978c-b319-408d-948b-3fccf61a49be</td>\n      <td>Adrian</td>\n      <td>Contreras</td>\n      <td>189.203.175.214</td>\n      <td>5437634944125878655</td>\n    </tr>\n  </tbody>\n</table>\n</div>"
     },
     "execution_count": 58,
     "metadata": {},
     "output_type": "execute_result"
    }
   ],
   "source": [
    "opt_in_info.head(7)"
   ],
   "metadata": {
    "collapsed": false
   }
  },
  {
   "cell_type": "code",
   "execution_count": 59,
   "outputs": [],
   "source": [
    "# EDA optIn\n",
    "opt_in_info = opt_in_info[['source']]\n",
    "opt_in_info.columns = ['user_id']\n",
    "opt_in_info = pd.DataFrame(opt_in_info.user_id.drop_duplicates(), columns = ['user_id'])\n",
    "opt_in_info['optIn'] = True"
   ],
   "metadata": {
    "collapsed": false
   }
  },
  {
   "cell_type": "code",
   "execution_count": 60,
   "outputs": [
    {
     "data": {
      "text/plain": "(35234, 2)"
     },
     "execution_count": 60,
     "metadata": {},
     "output_type": "execute_result"
    }
   ],
   "source": [
    "opt_in_info.shape"
   ],
   "metadata": {
    "collapsed": false
   }
  },
  {
   "cell_type": "markdown",
   "source": [
    "# Cashback Calculation\n"
   ],
   "metadata": {
    "collapsed": false
   }
  },
  {
   "cell_type": "code",
   "execution_count": 61,
   "outputs": [],
   "source": [
    "cashback_november = raw_november.copy()"
   ],
   "metadata": {
    "collapsed": false
   }
  },
  {
   "cell_type": "code",
   "execution_count": 62,
   "outputs": [
    {
     "data": {
      "text/plain": "Index(['user_id', 'ArcusAdjustAmount', 'GalileoAdjustAmount',\n       'ArcusPurchaseAmount', 'GalileoPurchaseAmount', 'ArcusAdjustNum',\n       'GalileoAdjustNum', 'ArcusPurchaseNum', 'GalileoPurchaseNum'],\n      dtype='object')"
     },
     "execution_count": 62,
     "metadata": {},
     "output_type": "execute_result"
    }
   ],
   "source": [
    "cashback_november.columns"
   ],
   "metadata": {
    "collapsed": false
   }
  },
  {
   "cell_type": "code",
   "execution_count": 63,
   "outputs": [],
   "source": [
    "# Total purchases\n",
    "cashback_november['total_purchases'] = cashback_november.ArcusPurchaseNum + cashback_november.GalileoPurchaseNum\n",
    "# Total amount Purchases\n",
    "cashback_november['amount_purch'] = cashback_november.GalileoPurchaseAmount + cashback_november.ArcusPurchaseAmount\n",
    "# Calculate the right amount of spend for each user\n",
    "cashback_november['cashback_amount'] = -1 * cashback_november.amount_purch - cashback_november.GalileoAdjustAmount - - cashback_november.ArcusAdjustAmount\n",
    "# Calculate the cashback\n",
    "cashback_november['cashback'] = cashback_november.cashback_amount * 0.01\n",
    "# Top the cashback for max 1000\n",
    "cashback_november['cashback'] = cashback_november['cashback'].apply(lambda x: 1000 if x > 1000 else round(x, 1))"
   ],
   "metadata": {
    "collapsed": false
   }
  },
  {
   "cell_type": "markdown",
   "source": [
    "#### Clean DataFrame"
   ],
   "metadata": {
    "collapsed": false
   }
  },
  {
   "cell_type": "code",
   "execution_count": 64,
   "outputs": [],
   "source": [
    "nov_cashback = cashback_november[['user_id', 'amount_purch', 'total_purchases', 'cashback_amount', 'cashback']]"
   ],
   "metadata": {
    "collapsed": false
   }
  },
  {
   "cell_type": "code",
   "execution_count": 65,
   "outputs": [],
   "source": [
    "# Add the segment info\n",
    "nov_cashback = pd.merge(nov_cashback, cohorts_info_clean, on='user_id', how='left')\n",
    "# Add optIn responses\n",
    "nov_cashback = pd.merge(nov_cashback, opt_in_info, on='user_id', how='left')\n",
    "# Filter the less than 1\n",
    "nov_cashback = nov_cashback[nov_cashback['cashback'] >= 1]"
   ],
   "metadata": {
    "collapsed": false
   }
  },
  {
   "cell_type": "code",
   "execution_count": 66,
   "outputs": [],
   "source": [
    "# Fill users not in experiment\n",
    "nov_cashback.cashback_type = nov_cashback.cashback_type.fillna('10P')\n",
    "# Fill users with no required OptIn\n",
    "nov_cashback.needed_opt_in = nov_cashback.needed_opt_in.fillna(False)\n",
    "# Fill users with no OptIn\n",
    "nov_cashback.optIn = nov_cashback.optIn.fillna(False)"
   ],
   "metadata": {
    "collapsed": false
   }
  },
  {
   "cell_type": "code",
   "execution_count": 67,
   "outputs": [
    {
     "data": {
      "text/plain": "                                user_id  amount_purch  total_purchases  \\\n0  00001c85-e714-46f5-bb81-9164d49362bf       -273.29              6.0   \n1  000048a5-6eb8-464a-ba04-9860337841d2       -200.00              2.0   \n2  00007e60-e21e-4616-81b4-4afae84713ee       -265.00              3.0   \n3  000096ca-40b4-4de0-8b71-6f16939af17f       -250.00              4.0   \n4  0000f477-d13d-4acb-a6c4-b30e6145ba03       -122.80              2.0   \n5  0002325b-5c34-4e23-89d4-e289b52b1ab7       -115.00              1.0   \n6  00024ed7-05c1-4421-ae51-0a4d1cd4ecd0       -699.00              5.0   \n\n   cashback_amount  cashback                         email cashback_type  \\\n0           273.29       2.7                           NaN           10P   \n1           200.00       2.0          lizgaliher@gmail.com            2k   \n2           265.00       2.6        maurochrivas@gmail.com            2k   \n3           250.00       2.5      marychuy1971@hotmail.com           10p   \n4           122.80       1.2          osvalfermg@gmail.com     2k_or_10p   \n5           115.00       1.2       monsesangster@gmail.com           10p   \n6           699.00       7.0  arq.jandresve.2019@gmail.com           10p   \n\n   needed_opt_in  optIn  \n0          False  False  \n1           True  False  \n2           True  False  \n3           True  False  \n4           True   True  \n5           True  False  \n6           True  False  ",
      "text/html": "<div>\n<style scoped>\n    .dataframe tbody tr th:only-of-type {\n        vertical-align: middle;\n    }\n\n    .dataframe tbody tr th {\n        vertical-align: top;\n    }\n\n    .dataframe thead th {\n        text-align: right;\n    }\n</style>\n<table border=\"1\" class=\"dataframe\">\n  <thead>\n    <tr style=\"text-align: right;\">\n      <th></th>\n      <th>user_id</th>\n      <th>amount_purch</th>\n      <th>total_purchases</th>\n      <th>cashback_amount</th>\n      <th>cashback</th>\n      <th>email</th>\n      <th>cashback_type</th>\n      <th>needed_opt_in</th>\n      <th>optIn</th>\n    </tr>\n  </thead>\n  <tbody>\n    <tr>\n      <th>0</th>\n      <td>00001c85-e714-46f5-bb81-9164d49362bf</td>\n      <td>-273.29</td>\n      <td>6.0</td>\n      <td>273.29</td>\n      <td>2.7</td>\n      <td>NaN</td>\n      <td>10P</td>\n      <td>False</td>\n      <td>False</td>\n    </tr>\n    <tr>\n      <th>1</th>\n      <td>000048a5-6eb8-464a-ba04-9860337841d2</td>\n      <td>-200.00</td>\n      <td>2.0</td>\n      <td>200.00</td>\n      <td>2.0</td>\n      <td>lizgaliher@gmail.com</td>\n      <td>2k</td>\n      <td>True</td>\n      <td>False</td>\n    </tr>\n    <tr>\n      <th>2</th>\n      <td>00007e60-e21e-4616-81b4-4afae84713ee</td>\n      <td>-265.00</td>\n      <td>3.0</td>\n      <td>265.00</td>\n      <td>2.6</td>\n      <td>maurochrivas@gmail.com</td>\n      <td>2k</td>\n      <td>True</td>\n      <td>False</td>\n    </tr>\n    <tr>\n      <th>3</th>\n      <td>000096ca-40b4-4de0-8b71-6f16939af17f</td>\n      <td>-250.00</td>\n      <td>4.0</td>\n      <td>250.00</td>\n      <td>2.5</td>\n      <td>marychuy1971@hotmail.com</td>\n      <td>10p</td>\n      <td>True</td>\n      <td>False</td>\n    </tr>\n    <tr>\n      <th>4</th>\n      <td>0000f477-d13d-4acb-a6c4-b30e6145ba03</td>\n      <td>-122.80</td>\n      <td>2.0</td>\n      <td>122.80</td>\n      <td>1.2</td>\n      <td>osvalfermg@gmail.com</td>\n      <td>2k_or_10p</td>\n      <td>True</td>\n      <td>True</td>\n    </tr>\n    <tr>\n      <th>5</th>\n      <td>0002325b-5c34-4e23-89d4-e289b52b1ab7</td>\n      <td>-115.00</td>\n      <td>1.0</td>\n      <td>115.00</td>\n      <td>1.2</td>\n      <td>monsesangster@gmail.com</td>\n      <td>10p</td>\n      <td>True</td>\n      <td>False</td>\n    </tr>\n    <tr>\n      <th>6</th>\n      <td>00024ed7-05c1-4421-ae51-0a4d1cd4ecd0</td>\n      <td>-699.00</td>\n      <td>5.0</td>\n      <td>699.00</td>\n      <td>7.0</td>\n      <td>arq.jandresve.2019@gmail.com</td>\n      <td>10p</td>\n      <td>True</td>\n      <td>False</td>\n    </tr>\n  </tbody>\n</table>\n</div>"
     },
     "execution_count": 67,
     "metadata": {},
     "output_type": "execute_result"
    }
   ],
   "source": [
    "nov_cashback.head(7)"
   ],
   "metadata": {
    "collapsed": false
   }
  },
  {
   "cell_type": "markdown",
   "source": [
    "## Payment Filter"
   ],
   "metadata": {
    "collapsed": false
   }
  },
  {
   "cell_type": "code",
   "execution_count": 68,
   "outputs": [],
   "source": [
    "# Filter for payment\n",
    "nov_cashback['Payment_filter'] = nov_cashback.apply(lambda x:\n",
    "                                                    ( ( (True if x.cashback_amount >= 2000 else False) if x.cashback_type == '2k' else ( (True if x.cashback_amount >= 2000 or x.total_purchases > 9 else False) if x.cashback_type == '2k_or_10P' else (True if x.total_purchases > 9 else False) ) )\n",
    "                                                      if x.optIn else False)\n",
    "                                                    if x.needed_opt_in else\n",
    "                                                    ( (True if x.cashback_amount >= 2000 else False) if x.cashback_type == '2k' else ( (True if x.cashback_amount >= 2000 or x.total_purchases > 9 else False) if x.cashback_type == '2k_or_10P' else (True if x.total_purchases > 9 else False) ) )\n",
    "                                                    , axis=1)"
   ],
   "metadata": {
    "collapsed": false
   }
  },
  {
   "cell_type": "code",
   "execution_count": 69,
   "outputs": [
    {
     "data": {
      "text/plain": "                                user_id  amount_purch  total_purchases  \\\n0  00001c85-e714-46f5-bb81-9164d49362bf       -273.29              6.0   \n1  000048a5-6eb8-464a-ba04-9860337841d2       -200.00              2.0   \n2  00007e60-e21e-4616-81b4-4afae84713ee       -265.00              3.0   \n3  000096ca-40b4-4de0-8b71-6f16939af17f       -250.00              4.0   \n4  0000f477-d13d-4acb-a6c4-b30e6145ba03       -122.80              2.0   \n5  0002325b-5c34-4e23-89d4-e289b52b1ab7       -115.00              1.0   \n6  00024ed7-05c1-4421-ae51-0a4d1cd4ecd0       -699.00              5.0   \n\n   cashback_amount  cashback                         email cashback_type  \\\n0           273.29       2.7                           NaN           10P   \n1           200.00       2.0          lizgaliher@gmail.com            2k   \n2           265.00       2.6        maurochrivas@gmail.com            2k   \n3           250.00       2.5      marychuy1971@hotmail.com           10p   \n4           122.80       1.2          osvalfermg@gmail.com     2k_or_10p   \n5           115.00       1.2       monsesangster@gmail.com           10p   \n6           699.00       7.0  arq.jandresve.2019@gmail.com           10p   \n\n   needed_opt_in  optIn  Payment_filter  \n0          False  False           False  \n1           True  False           False  \n2           True  False           False  \n3           True  False           False  \n4           True   True           False  \n5           True  False           False  \n6           True  False           False  ",
      "text/html": "<div>\n<style scoped>\n    .dataframe tbody tr th:only-of-type {\n        vertical-align: middle;\n    }\n\n    .dataframe tbody tr th {\n        vertical-align: top;\n    }\n\n    .dataframe thead th {\n        text-align: right;\n    }\n</style>\n<table border=\"1\" class=\"dataframe\">\n  <thead>\n    <tr style=\"text-align: right;\">\n      <th></th>\n      <th>user_id</th>\n      <th>amount_purch</th>\n      <th>total_purchases</th>\n      <th>cashback_amount</th>\n      <th>cashback</th>\n      <th>email</th>\n      <th>cashback_type</th>\n      <th>needed_opt_in</th>\n      <th>optIn</th>\n      <th>Payment_filter</th>\n    </tr>\n  </thead>\n  <tbody>\n    <tr>\n      <th>0</th>\n      <td>00001c85-e714-46f5-bb81-9164d49362bf</td>\n      <td>-273.29</td>\n      <td>6.0</td>\n      <td>273.29</td>\n      <td>2.7</td>\n      <td>NaN</td>\n      <td>10P</td>\n      <td>False</td>\n      <td>False</td>\n      <td>False</td>\n    </tr>\n    <tr>\n      <th>1</th>\n      <td>000048a5-6eb8-464a-ba04-9860337841d2</td>\n      <td>-200.00</td>\n      <td>2.0</td>\n      <td>200.00</td>\n      <td>2.0</td>\n      <td>lizgaliher@gmail.com</td>\n      <td>2k</td>\n      <td>True</td>\n      <td>False</td>\n      <td>False</td>\n    </tr>\n    <tr>\n      <th>2</th>\n      <td>00007e60-e21e-4616-81b4-4afae84713ee</td>\n      <td>-265.00</td>\n      <td>3.0</td>\n      <td>265.00</td>\n      <td>2.6</td>\n      <td>maurochrivas@gmail.com</td>\n      <td>2k</td>\n      <td>True</td>\n      <td>False</td>\n      <td>False</td>\n    </tr>\n    <tr>\n      <th>3</th>\n      <td>000096ca-40b4-4de0-8b71-6f16939af17f</td>\n      <td>-250.00</td>\n      <td>4.0</td>\n      <td>250.00</td>\n      <td>2.5</td>\n      <td>marychuy1971@hotmail.com</td>\n      <td>10p</td>\n      <td>True</td>\n      <td>False</td>\n      <td>False</td>\n    </tr>\n    <tr>\n      <th>4</th>\n      <td>0000f477-d13d-4acb-a6c4-b30e6145ba03</td>\n      <td>-122.80</td>\n      <td>2.0</td>\n      <td>122.80</td>\n      <td>1.2</td>\n      <td>osvalfermg@gmail.com</td>\n      <td>2k_or_10p</td>\n      <td>True</td>\n      <td>True</td>\n      <td>False</td>\n    </tr>\n    <tr>\n      <th>5</th>\n      <td>0002325b-5c34-4e23-89d4-e289b52b1ab7</td>\n      <td>-115.00</td>\n      <td>1.0</td>\n      <td>115.00</td>\n      <td>1.2</td>\n      <td>monsesangster@gmail.com</td>\n      <td>10p</td>\n      <td>True</td>\n      <td>False</td>\n      <td>False</td>\n    </tr>\n    <tr>\n      <th>6</th>\n      <td>00024ed7-05c1-4421-ae51-0a4d1cd4ecd0</td>\n      <td>-699.00</td>\n      <td>5.0</td>\n      <td>699.00</td>\n      <td>7.0</td>\n      <td>arq.jandresve.2019@gmail.com</td>\n      <td>10p</td>\n      <td>True</td>\n      <td>False</td>\n      <td>False</td>\n    </tr>\n  </tbody>\n</table>\n</div>"
     },
     "execution_count": 69,
     "metadata": {},
     "output_type": "execute_result"
    }
   ],
   "source": [
    "nov_cashback.head(7)"
   ],
   "metadata": {
    "collapsed": false
   }
  },
  {
   "cell_type": "markdown",
   "source": [
    "## Cashback to pay"
   ],
   "metadata": {
    "collapsed": false
   }
  },
  {
   "cell_type": "code",
   "execution_count": 70,
   "outputs": [
    {
     "data": {
      "text/plain": "812027.8"
     },
     "execution_count": 70,
     "metadata": {},
     "output_type": "execute_result"
    }
   ],
   "source": [
    "nov_cashback[nov_cashback.Payment_filter]['cashback'].sum()"
   ],
   "metadata": {
    "collapsed": false
   }
  },
  {
   "cell_type": "markdown",
   "source": [
    "### DB Export"
   ],
   "metadata": {
    "collapsed": false
   }
  },
  {
   "cell_type": "code",
   "execution_count": 71,
   "outputs": [],
   "source": [
    "nov_cashback.drop('email', axis=1).to_csv(output_directory)"
   ],
   "metadata": {
    "collapsed": false
   }
  },
  {
   "cell_type": "code",
   "execution_count": 75,
   "outputs": [
    {
     "data": {
      "text/plain": "                                 user_id  amount_purch  total_purchases  \\\n0   00001c85-e714-46f5-bb81-9164d49362bf       -273.29              6.0   \n1   000048a5-6eb8-464a-ba04-9860337841d2       -200.00              2.0   \n2   00007e60-e21e-4616-81b4-4afae84713ee       -265.00              3.0   \n3   000096ca-40b4-4de0-8b71-6f16939af17f       -250.00              4.0   \n4   0000f477-d13d-4acb-a6c4-b30e6145ba03       -122.80              2.0   \n5   0002325b-5c34-4e23-89d4-e289b52b1ab7       -115.00              1.0   \n6   00024ed7-05c1-4421-ae51-0a4d1cd4ecd0       -699.00              5.0   \n8   0003006b-f38e-46b8-a10d-ca7d3caaadcd       -100.00              2.0   \n9   00030c5c-c952-4eb7-a348-de96391e1b1b       -907.92              6.0   \n10  0003455b-033d-48ee-80d2-77c05664c154       -635.00              6.0   \n11  00038557-6c50-4a9f-9cd8-c49a28987754       -100.00              1.0   \n12  0003e36f-092e-47f7-8842-b915afd24168       -942.00             11.0   \n13  000407dc-8768-4cb9-9ac9-5447d83dad93      -1478.23              4.0   \n14  00046250-0190-487d-83e4-d392c01b31b5      -2069.00              1.0   \n15  00046bd8-8126-46c7-957b-2ef74eb561ee      -1169.16              7.0   \n16  00047b85-bc2c-4ccd-95ca-e11d4efc93dc      -2254.67              4.0   \n17  0004ed83-d1c4-4e3e-a73b-a7a03a09d525       -400.00              2.0   \n18  00057154-a204-4f63-9a27-f70bb9885dc8      -5672.32             13.0   \n19  00057ca9-dbc8-4860-be07-5a28b5c3a29c      -1609.90              7.0   \n20  0005a795-35d6-4ebd-b2c4-6c8d576186a8       -232.79              2.0   \n21  00066837-dffb-4dc1-bacf-e582c2715e77       -146.00              1.0   \n22  0007bb12-a630-4c47-9771-e584634f419d       -103.50              1.0   \n24  0007fa8f-f1bf-41d9-9820-4c204b306144      -1819.20              9.0   \n25  0008174a-4127-4d83-959b-5ce333944598      -1055.26              8.0   \n26  0008d053-6036-494b-96da-6c3e0a6121a6       -946.10              5.0   \n\n    cashback_amount  cashback                                email  \\\n0            273.29       2.7                                  NaN   \n1            200.00       2.0                 lizgaliher@gmail.com   \n2            265.00       2.6               maurochrivas@gmail.com   \n3            250.00       2.5             marychuy1971@hotmail.com   \n4            122.80       1.2                 osvalfermg@gmail.com   \n5            115.00       1.2              monsesangster@gmail.com   \n6            699.00       7.0         arq.jandresve.2019@gmail.com   \n8            100.00       1.0           carlospopoca0423@gmail.com   \n9            907.92       9.1           elizabeth.1reina@gmail.com   \n10           635.00       6.4              dianacast7208@gmail.com   \n11           100.00       1.0               eezm.edgar@hotmail.com   \n12           942.00       9.4              rioo911106uk0@gmail.com   \n13          1478.23      14.8            jesuszeferino81@gmail.com   \n14          2069.00      20.7  jorgejimenezalbertoavalos@gmail.com   \n15          1169.16      11.7                 marthapl96@gmail.com   \n16          2254.67      22.5               angistefanie@gmail.com   \n17           400.00       4.0              redazul.sa.m4@gmail.com   \n18          5672.32      56.7               parquelira61@gmail.com   \n19          1609.90      16.1                 luisyto275@gmail.com   \n20           232.79       2.3                 adrianmr63@gmail.com   \n21           146.00       1.5                    isaneri@yahoo.com   \n22           103.50       1.0                    yuls764@gmail.com   \n24          1819.20      18.2              jdiego.duran4@gmail.com   \n25          1055.26      10.6          alejandro.maldouf@gmail.com   \n26           946.10       9.5        ian.andrade.carmona@gmail.com   \n\n   cashback_type  needed_opt_in  optIn  Payment_filter  \n0            10P          False  False           False  \n1             2k           True  False           False  \n2             2k           True  False           False  \n3            10p           True  False           False  \n4      2k_or_10p           True   True           False  \n5            10p           True  False           False  \n6            10p           True  False           False  \n8            10p           True  False           False  \n9             2k           True   True           False  \n10     2k_or_10p          False  False           False  \n11            2k           True  False           False  \n12     2k_or_10p           True  False           False  \n13           10p           True  False           False  \n14            2k           True  False           False  \n15     2k_or_10p           True  False           False  \n16            2k           True  False           False  \n17            2k           True  False           False  \n18            2k           True  False           False  \n19     2k_or_10p           True  False           False  \n20            2k          False  False           False  \n21     2k_or_10p           True  False           False  \n22            2k           True  False           False  \n24     2k_or_10p           True  False           False  \n25            2k          False  False           False  \n26     2k_or_10p           True  False           False  ",
      "text/html": "<div>\n<style scoped>\n    .dataframe tbody tr th:only-of-type {\n        vertical-align: middle;\n    }\n\n    .dataframe tbody tr th {\n        vertical-align: top;\n    }\n\n    .dataframe thead th {\n        text-align: right;\n    }\n</style>\n<table border=\"1\" class=\"dataframe\">\n  <thead>\n    <tr style=\"text-align: right;\">\n      <th></th>\n      <th>user_id</th>\n      <th>amount_purch</th>\n      <th>total_purchases</th>\n      <th>cashback_amount</th>\n      <th>cashback</th>\n      <th>email</th>\n      <th>cashback_type</th>\n      <th>needed_opt_in</th>\n      <th>optIn</th>\n      <th>Payment_filter</th>\n    </tr>\n  </thead>\n  <tbody>\n    <tr>\n      <th>0</th>\n      <td>00001c85-e714-46f5-bb81-9164d49362bf</td>\n      <td>-273.29</td>\n      <td>6.0</td>\n      <td>273.29</td>\n      <td>2.7</td>\n      <td>NaN</td>\n      <td>10P</td>\n      <td>False</td>\n      <td>False</td>\n      <td>False</td>\n    </tr>\n    <tr>\n      <th>1</th>\n      <td>000048a5-6eb8-464a-ba04-9860337841d2</td>\n      <td>-200.00</td>\n      <td>2.0</td>\n      <td>200.00</td>\n      <td>2.0</td>\n      <td>lizgaliher@gmail.com</td>\n      <td>2k</td>\n      <td>True</td>\n      <td>False</td>\n      <td>False</td>\n    </tr>\n    <tr>\n      <th>2</th>\n      <td>00007e60-e21e-4616-81b4-4afae84713ee</td>\n      <td>-265.00</td>\n      <td>3.0</td>\n      <td>265.00</td>\n      <td>2.6</td>\n      <td>maurochrivas@gmail.com</td>\n      <td>2k</td>\n      <td>True</td>\n      <td>False</td>\n      <td>False</td>\n    </tr>\n    <tr>\n      <th>3</th>\n      <td>000096ca-40b4-4de0-8b71-6f16939af17f</td>\n      <td>-250.00</td>\n      <td>4.0</td>\n      <td>250.00</td>\n      <td>2.5</td>\n      <td>marychuy1971@hotmail.com</td>\n      <td>10p</td>\n      <td>True</td>\n      <td>False</td>\n      <td>False</td>\n    </tr>\n    <tr>\n      <th>4</th>\n      <td>0000f477-d13d-4acb-a6c4-b30e6145ba03</td>\n      <td>-122.80</td>\n      <td>2.0</td>\n      <td>122.80</td>\n      <td>1.2</td>\n      <td>osvalfermg@gmail.com</td>\n      <td>2k_or_10p</td>\n      <td>True</td>\n      <td>True</td>\n      <td>False</td>\n    </tr>\n    <tr>\n      <th>5</th>\n      <td>0002325b-5c34-4e23-89d4-e289b52b1ab7</td>\n      <td>-115.00</td>\n      <td>1.0</td>\n      <td>115.00</td>\n      <td>1.2</td>\n      <td>monsesangster@gmail.com</td>\n      <td>10p</td>\n      <td>True</td>\n      <td>False</td>\n      <td>False</td>\n    </tr>\n    <tr>\n      <th>6</th>\n      <td>00024ed7-05c1-4421-ae51-0a4d1cd4ecd0</td>\n      <td>-699.00</td>\n      <td>5.0</td>\n      <td>699.00</td>\n      <td>7.0</td>\n      <td>arq.jandresve.2019@gmail.com</td>\n      <td>10p</td>\n      <td>True</td>\n      <td>False</td>\n      <td>False</td>\n    </tr>\n    <tr>\n      <th>8</th>\n      <td>0003006b-f38e-46b8-a10d-ca7d3caaadcd</td>\n      <td>-100.00</td>\n      <td>2.0</td>\n      <td>100.00</td>\n      <td>1.0</td>\n      <td>carlospopoca0423@gmail.com</td>\n      <td>10p</td>\n      <td>True</td>\n      <td>False</td>\n      <td>False</td>\n    </tr>\n    <tr>\n      <th>9</th>\n      <td>00030c5c-c952-4eb7-a348-de96391e1b1b</td>\n      <td>-907.92</td>\n      <td>6.0</td>\n      <td>907.92</td>\n      <td>9.1</td>\n      <td>elizabeth.1reina@gmail.com</td>\n      <td>2k</td>\n      <td>True</td>\n      <td>True</td>\n      <td>False</td>\n    </tr>\n    <tr>\n      <th>10</th>\n      <td>0003455b-033d-48ee-80d2-77c05664c154</td>\n      <td>-635.00</td>\n      <td>6.0</td>\n      <td>635.00</td>\n      <td>6.4</td>\n      <td>dianacast7208@gmail.com</td>\n      <td>2k_or_10p</td>\n      <td>False</td>\n      <td>False</td>\n      <td>False</td>\n    </tr>\n    <tr>\n      <th>11</th>\n      <td>00038557-6c50-4a9f-9cd8-c49a28987754</td>\n      <td>-100.00</td>\n      <td>1.0</td>\n      <td>100.00</td>\n      <td>1.0</td>\n      <td>eezm.edgar@hotmail.com</td>\n      <td>2k</td>\n      <td>True</td>\n      <td>False</td>\n      <td>False</td>\n    </tr>\n    <tr>\n      <th>12</th>\n      <td>0003e36f-092e-47f7-8842-b915afd24168</td>\n      <td>-942.00</td>\n      <td>11.0</td>\n      <td>942.00</td>\n      <td>9.4</td>\n      <td>rioo911106uk0@gmail.com</td>\n      <td>2k_or_10p</td>\n      <td>True</td>\n      <td>False</td>\n      <td>False</td>\n    </tr>\n    <tr>\n      <th>13</th>\n      <td>000407dc-8768-4cb9-9ac9-5447d83dad93</td>\n      <td>-1478.23</td>\n      <td>4.0</td>\n      <td>1478.23</td>\n      <td>14.8</td>\n      <td>jesuszeferino81@gmail.com</td>\n      <td>10p</td>\n      <td>True</td>\n      <td>False</td>\n      <td>False</td>\n    </tr>\n    <tr>\n      <th>14</th>\n      <td>00046250-0190-487d-83e4-d392c01b31b5</td>\n      <td>-2069.00</td>\n      <td>1.0</td>\n      <td>2069.00</td>\n      <td>20.7</td>\n      <td>jorgejimenezalbertoavalos@gmail.com</td>\n      <td>2k</td>\n      <td>True</td>\n      <td>False</td>\n      <td>False</td>\n    </tr>\n    <tr>\n      <th>15</th>\n      <td>00046bd8-8126-46c7-957b-2ef74eb561ee</td>\n      <td>-1169.16</td>\n      <td>7.0</td>\n      <td>1169.16</td>\n      <td>11.7</td>\n      <td>marthapl96@gmail.com</td>\n      <td>2k_or_10p</td>\n      <td>True</td>\n      <td>False</td>\n      <td>False</td>\n    </tr>\n    <tr>\n      <th>16</th>\n      <td>00047b85-bc2c-4ccd-95ca-e11d4efc93dc</td>\n      <td>-2254.67</td>\n      <td>4.0</td>\n      <td>2254.67</td>\n      <td>22.5</td>\n      <td>angistefanie@gmail.com</td>\n      <td>2k</td>\n      <td>True</td>\n      <td>False</td>\n      <td>False</td>\n    </tr>\n    <tr>\n      <th>17</th>\n      <td>0004ed83-d1c4-4e3e-a73b-a7a03a09d525</td>\n      <td>-400.00</td>\n      <td>2.0</td>\n      <td>400.00</td>\n      <td>4.0</td>\n      <td>redazul.sa.m4@gmail.com</td>\n      <td>2k</td>\n      <td>True</td>\n      <td>False</td>\n      <td>False</td>\n    </tr>\n    <tr>\n      <th>18</th>\n      <td>00057154-a204-4f63-9a27-f70bb9885dc8</td>\n      <td>-5672.32</td>\n      <td>13.0</td>\n      <td>5672.32</td>\n      <td>56.7</td>\n      <td>parquelira61@gmail.com</td>\n      <td>2k</td>\n      <td>True</td>\n      <td>False</td>\n      <td>False</td>\n    </tr>\n    <tr>\n      <th>19</th>\n      <td>00057ca9-dbc8-4860-be07-5a28b5c3a29c</td>\n      <td>-1609.90</td>\n      <td>7.0</td>\n      <td>1609.90</td>\n      <td>16.1</td>\n      <td>luisyto275@gmail.com</td>\n      <td>2k_or_10p</td>\n      <td>True</td>\n      <td>False</td>\n      <td>False</td>\n    </tr>\n    <tr>\n      <th>20</th>\n      <td>0005a795-35d6-4ebd-b2c4-6c8d576186a8</td>\n      <td>-232.79</td>\n      <td>2.0</td>\n      <td>232.79</td>\n      <td>2.3</td>\n      <td>adrianmr63@gmail.com</td>\n      <td>2k</td>\n      <td>False</td>\n      <td>False</td>\n      <td>False</td>\n    </tr>\n    <tr>\n      <th>21</th>\n      <td>00066837-dffb-4dc1-bacf-e582c2715e77</td>\n      <td>-146.00</td>\n      <td>1.0</td>\n      <td>146.00</td>\n      <td>1.5</td>\n      <td>isaneri@yahoo.com</td>\n      <td>2k_or_10p</td>\n      <td>True</td>\n      <td>False</td>\n      <td>False</td>\n    </tr>\n    <tr>\n      <th>22</th>\n      <td>0007bb12-a630-4c47-9771-e584634f419d</td>\n      <td>-103.50</td>\n      <td>1.0</td>\n      <td>103.50</td>\n      <td>1.0</td>\n      <td>yuls764@gmail.com</td>\n      <td>2k</td>\n      <td>True</td>\n      <td>False</td>\n      <td>False</td>\n    </tr>\n    <tr>\n      <th>24</th>\n      <td>0007fa8f-f1bf-41d9-9820-4c204b306144</td>\n      <td>-1819.20</td>\n      <td>9.0</td>\n      <td>1819.20</td>\n      <td>18.2</td>\n      <td>jdiego.duran4@gmail.com</td>\n      <td>2k_or_10p</td>\n      <td>True</td>\n      <td>False</td>\n      <td>False</td>\n    </tr>\n    <tr>\n      <th>25</th>\n      <td>0008174a-4127-4d83-959b-5ce333944598</td>\n      <td>-1055.26</td>\n      <td>8.0</td>\n      <td>1055.26</td>\n      <td>10.6</td>\n      <td>alejandro.maldouf@gmail.com</td>\n      <td>2k</td>\n      <td>False</td>\n      <td>False</td>\n      <td>False</td>\n    </tr>\n    <tr>\n      <th>26</th>\n      <td>0008d053-6036-494b-96da-6c3e0a6121a6</td>\n      <td>-946.10</td>\n      <td>5.0</td>\n      <td>946.10</td>\n      <td>9.5</td>\n      <td>ian.andrade.carmona@gmail.com</td>\n      <td>2k_or_10p</td>\n      <td>True</td>\n      <td>False</td>\n      <td>False</td>\n    </tr>\n  </tbody>\n</table>\n</div>"
     },
     "execution_count": 75,
     "metadata": {},
     "output_type": "execute_result"
    }
   ],
   "source": [
    "nov_cashback.head(25)"
   ],
   "metadata": {
    "collapsed": false
   }
  },
  {
   "cell_type": "code",
   "execution_count": 74,
   "outputs": [
    {
     "data": {
      "text/plain": "71211.30000000005"
     },
     "execution_count": 74,
     "metadata": {},
     "output_type": "execute_result"
    }
   ],
   "source": [
    "883238.3-812027"
   ],
   "metadata": {
    "collapsed": false
   }
  },
  {
   "cell_type": "code",
   "execution_count": 76,
   "outputs": [
    {
     "data": {
      "text/plain": "                                  user_id  amount_purch  total_purchases  \\\n33   000ae190-9440-4651-9250-d5110bc5ad3e      -3539.88             14.0   \n45   00101e07-baef-464a-9ae4-0c293fb79f7b     -12454.00             31.0   \n63   0017bc15-659b-4994-9a33-d6a94ee2093d       -674.99             25.0   \n64   0018aa72-d2bb-4069-91c5-2a0271165367      -2798.45             12.0   \n65   0018b88e-e576-49e8-84ae-78a10125f5fa      -2312.80             11.0   \n82   001f4e2e-774e-481c-bbd7-2898fd0f69fa      -5450.07             26.0   \n89   0021bdea-c63e-44a2-94ad-e8301938f83f     -13269.44             78.0   \n91   00227fd4-62ea-424f-acdf-6a6d8bc696ee     -29633.75             77.0   \n92   00228ae3-f794-408c-b494-74f0f40d4f36      -1129.40             14.0   \n129  0030d5f5-5d57-4d65-b74b-4535e057dcf4    -107792.88             25.0   \n144  00368131-8e10-441d-b08e-e44789cf968a     -10587.69             17.0   \n162  003bd08f-9ebe-4069-97da-e539f3b70e52      -3840.06             13.0   \n197  004c10bb-9f0e-4072-93a7-7eb9be6eff07      -6586.20             12.0   \n200  004d85d8-8926-4d00-8c68-4758422961ea      -6349.99             32.0   \n209  00525c5a-a041-4777-a0fc-84bf799cc19a      -2595.90             11.0   \n228  005de852-ea10-425f-925d-b57b3cd8684c     -12616.56             16.0   \n232  005ecfeb-be15-4968-89f9-52baae6809e2      -3592.40             15.0   \n234  005f5afe-3655-45f3-b3e1-f83b77b4739b     -10668.12             36.0   \n257  0065a689-dd54-4502-ac76-277906f89e1f      -1790.89             12.0   \n269  006ab65e-8570-4646-97ff-76e4721d4994      -1006.87             17.0   \n275  006ca787-8793-4fec-8a5b-7bc3b65d658f       -988.79             50.0   \n277  006d6508-5bad-4a89-a231-c8f97c12babc      -2043.50             13.0   \n315  0079ff74-36c5-4f4f-ba4e-b6cfe596dc8b      -3735.01             14.0   \n326  007f5b64-e7ce-4b70-bf46-fa325b047e5b      -5538.07             47.0   \n335  00838d00-7055-4611-bf0d-7cf303ccdc86      -2966.67             22.0   \n\n     cashback_amount  cashback                            email cashback_type  \\\n33           3360.68      33.6                              NaN           10P   \n45          12453.00     124.5               je401646@gmail.com            2k   \n63            674.99       6.7    gerontology_nabor@outlook.com           10p   \n64           2798.45      28.0    cris_velazquez_10@hotmail.com           10p   \n65           2312.80      23.1          edgarlozano52@gmail.com            2k   \n82           5450.07      54.5       mike_10vazquez@hotmail.com     2k_or_10p   \n89          12441.90     124.4          jair.navarrop@gmail.com            2k   \n91          29633.75     296.3    jorgesaldanaguzman@icloud.com            2k   \n92           1129.40      11.3     aldoabrahamsanchez@gmail.com     2k_or_10p   \n129        107792.88    1000.0            dariochavez@gmail.com     2k_or_10p   \n144         10587.69     105.9           mario.crespo@yahoo.com            2k   \n162          3840.06      38.4     jorge.garcia0310@hotmail.com            2k   \n197          6387.60      63.9             inutaliz18@gmail.com            2k   \n200          6349.99      63.5    juanjesusxicotencal@gmail.com            2k   \n209          2595.90      26.0               jiga3761@gmail.com     2k_or_10p   \n228         12616.56     126.2            lauro_927@hotmail.com     2k_or_10p   \n232          3592.40      35.9             bejmurillo@gmail.com     2k_or_10p   \n234         10668.12     106.7  brenda.romeropedregon@gmail.com     2k_or_10p   \n257          1790.89      17.9          diazelena5172@gmail.com           10p   \n269          1006.87      10.1             11vkjavier@gmail.com           10p   \n275           952.14       9.5                              NaN           10P   \n277          2023.50      20.2         guevaraag_33@hotmail.com            2k   \n315          3594.01      35.9            azahel.0z29@gmail.com            2k   \n326          5538.07      55.4        vperezlizarraga@yahoo.com     2k_or_10p   \n335          2966.67      29.7      americamedina0105@gmail.com     2k_or_10p   \n\n     needed_opt_in  optIn  Payment_filter  \n33           False  False            True  \n45            True   True            True  \n63           False  False            True  \n64            True   True            True  \n65            True   True            True  \n82            True   True            True  \n89            True   True            True  \n91            True   True            True  \n92            True   True            True  \n129           True   True            True  \n144           True   True            True  \n162           True   True            True  \n197           True   True            True  \n200           True   True            True  \n209          False  False            True  \n228          False  False            True  \n232           True   True            True  \n234           True   True            True  \n257           True   True            True  \n269           True   True            True  \n275          False  False            True  \n277           True   True            True  \n315           True   True            True  \n326           True   True            True  \n335          False  False            True  ",
      "text/html": "<div>\n<style scoped>\n    .dataframe tbody tr th:only-of-type {\n        vertical-align: middle;\n    }\n\n    .dataframe tbody tr th {\n        vertical-align: top;\n    }\n\n    .dataframe thead th {\n        text-align: right;\n    }\n</style>\n<table border=\"1\" class=\"dataframe\">\n  <thead>\n    <tr style=\"text-align: right;\">\n      <th></th>\n      <th>user_id</th>\n      <th>amount_purch</th>\n      <th>total_purchases</th>\n      <th>cashback_amount</th>\n      <th>cashback</th>\n      <th>email</th>\n      <th>cashback_type</th>\n      <th>needed_opt_in</th>\n      <th>optIn</th>\n      <th>Payment_filter</th>\n    </tr>\n  </thead>\n  <tbody>\n    <tr>\n      <th>33</th>\n      <td>000ae190-9440-4651-9250-d5110bc5ad3e</td>\n      <td>-3539.88</td>\n      <td>14.0</td>\n      <td>3360.68</td>\n      <td>33.6</td>\n      <td>NaN</td>\n      <td>10P</td>\n      <td>False</td>\n      <td>False</td>\n      <td>True</td>\n    </tr>\n    <tr>\n      <th>45</th>\n      <td>00101e07-baef-464a-9ae4-0c293fb79f7b</td>\n      <td>-12454.00</td>\n      <td>31.0</td>\n      <td>12453.00</td>\n      <td>124.5</td>\n      <td>je401646@gmail.com</td>\n      <td>2k</td>\n      <td>True</td>\n      <td>True</td>\n      <td>True</td>\n    </tr>\n    <tr>\n      <th>63</th>\n      <td>0017bc15-659b-4994-9a33-d6a94ee2093d</td>\n      <td>-674.99</td>\n      <td>25.0</td>\n      <td>674.99</td>\n      <td>6.7</td>\n      <td>gerontology_nabor@outlook.com</td>\n      <td>10p</td>\n      <td>False</td>\n      <td>False</td>\n      <td>True</td>\n    </tr>\n    <tr>\n      <th>64</th>\n      <td>0018aa72-d2bb-4069-91c5-2a0271165367</td>\n      <td>-2798.45</td>\n      <td>12.0</td>\n      <td>2798.45</td>\n      <td>28.0</td>\n      <td>cris_velazquez_10@hotmail.com</td>\n      <td>10p</td>\n      <td>True</td>\n      <td>True</td>\n      <td>True</td>\n    </tr>\n    <tr>\n      <th>65</th>\n      <td>0018b88e-e576-49e8-84ae-78a10125f5fa</td>\n      <td>-2312.80</td>\n      <td>11.0</td>\n      <td>2312.80</td>\n      <td>23.1</td>\n      <td>edgarlozano52@gmail.com</td>\n      <td>2k</td>\n      <td>True</td>\n      <td>True</td>\n      <td>True</td>\n    </tr>\n    <tr>\n      <th>82</th>\n      <td>001f4e2e-774e-481c-bbd7-2898fd0f69fa</td>\n      <td>-5450.07</td>\n      <td>26.0</td>\n      <td>5450.07</td>\n      <td>54.5</td>\n      <td>mike_10vazquez@hotmail.com</td>\n      <td>2k_or_10p</td>\n      <td>True</td>\n      <td>True</td>\n      <td>True</td>\n    </tr>\n    <tr>\n      <th>89</th>\n      <td>0021bdea-c63e-44a2-94ad-e8301938f83f</td>\n      <td>-13269.44</td>\n      <td>78.0</td>\n      <td>12441.90</td>\n      <td>124.4</td>\n      <td>jair.navarrop@gmail.com</td>\n      <td>2k</td>\n      <td>True</td>\n      <td>True</td>\n      <td>True</td>\n    </tr>\n    <tr>\n      <th>91</th>\n      <td>00227fd4-62ea-424f-acdf-6a6d8bc696ee</td>\n      <td>-29633.75</td>\n      <td>77.0</td>\n      <td>29633.75</td>\n      <td>296.3</td>\n      <td>jorgesaldanaguzman@icloud.com</td>\n      <td>2k</td>\n      <td>True</td>\n      <td>True</td>\n      <td>True</td>\n    </tr>\n    <tr>\n      <th>92</th>\n      <td>00228ae3-f794-408c-b494-74f0f40d4f36</td>\n      <td>-1129.40</td>\n      <td>14.0</td>\n      <td>1129.40</td>\n      <td>11.3</td>\n      <td>aldoabrahamsanchez@gmail.com</td>\n      <td>2k_or_10p</td>\n      <td>True</td>\n      <td>True</td>\n      <td>True</td>\n    </tr>\n    <tr>\n      <th>129</th>\n      <td>0030d5f5-5d57-4d65-b74b-4535e057dcf4</td>\n      <td>-107792.88</td>\n      <td>25.0</td>\n      <td>107792.88</td>\n      <td>1000.0</td>\n      <td>dariochavez@gmail.com</td>\n      <td>2k_or_10p</td>\n      <td>True</td>\n      <td>True</td>\n      <td>True</td>\n    </tr>\n    <tr>\n      <th>144</th>\n      <td>00368131-8e10-441d-b08e-e44789cf968a</td>\n      <td>-10587.69</td>\n      <td>17.0</td>\n      <td>10587.69</td>\n      <td>105.9</td>\n      <td>mario.crespo@yahoo.com</td>\n      <td>2k</td>\n      <td>True</td>\n      <td>True</td>\n      <td>True</td>\n    </tr>\n    <tr>\n      <th>162</th>\n      <td>003bd08f-9ebe-4069-97da-e539f3b70e52</td>\n      <td>-3840.06</td>\n      <td>13.0</td>\n      <td>3840.06</td>\n      <td>38.4</td>\n      <td>jorge.garcia0310@hotmail.com</td>\n      <td>2k</td>\n      <td>True</td>\n      <td>True</td>\n      <td>True</td>\n    </tr>\n    <tr>\n      <th>197</th>\n      <td>004c10bb-9f0e-4072-93a7-7eb9be6eff07</td>\n      <td>-6586.20</td>\n      <td>12.0</td>\n      <td>6387.60</td>\n      <td>63.9</td>\n      <td>inutaliz18@gmail.com</td>\n      <td>2k</td>\n      <td>True</td>\n      <td>True</td>\n      <td>True</td>\n    </tr>\n    <tr>\n      <th>200</th>\n      <td>004d85d8-8926-4d00-8c68-4758422961ea</td>\n      <td>-6349.99</td>\n      <td>32.0</td>\n      <td>6349.99</td>\n      <td>63.5</td>\n      <td>juanjesusxicotencal@gmail.com</td>\n      <td>2k</td>\n      <td>True</td>\n      <td>True</td>\n      <td>True</td>\n    </tr>\n    <tr>\n      <th>209</th>\n      <td>00525c5a-a041-4777-a0fc-84bf799cc19a</td>\n      <td>-2595.90</td>\n      <td>11.0</td>\n      <td>2595.90</td>\n      <td>26.0</td>\n      <td>jiga3761@gmail.com</td>\n      <td>2k_or_10p</td>\n      <td>False</td>\n      <td>False</td>\n      <td>True</td>\n    </tr>\n    <tr>\n      <th>228</th>\n      <td>005de852-ea10-425f-925d-b57b3cd8684c</td>\n      <td>-12616.56</td>\n      <td>16.0</td>\n      <td>12616.56</td>\n      <td>126.2</td>\n      <td>lauro_927@hotmail.com</td>\n      <td>2k_or_10p</td>\n      <td>False</td>\n      <td>False</td>\n      <td>True</td>\n    </tr>\n    <tr>\n      <th>232</th>\n      <td>005ecfeb-be15-4968-89f9-52baae6809e2</td>\n      <td>-3592.40</td>\n      <td>15.0</td>\n      <td>3592.40</td>\n      <td>35.9</td>\n      <td>bejmurillo@gmail.com</td>\n      <td>2k_or_10p</td>\n      <td>True</td>\n      <td>True</td>\n      <td>True</td>\n    </tr>\n    <tr>\n      <th>234</th>\n      <td>005f5afe-3655-45f3-b3e1-f83b77b4739b</td>\n      <td>-10668.12</td>\n      <td>36.0</td>\n      <td>10668.12</td>\n      <td>106.7</td>\n      <td>brenda.romeropedregon@gmail.com</td>\n      <td>2k_or_10p</td>\n      <td>True</td>\n      <td>True</td>\n      <td>True</td>\n    </tr>\n    <tr>\n      <th>257</th>\n      <td>0065a689-dd54-4502-ac76-277906f89e1f</td>\n      <td>-1790.89</td>\n      <td>12.0</td>\n      <td>1790.89</td>\n      <td>17.9</td>\n      <td>diazelena5172@gmail.com</td>\n      <td>10p</td>\n      <td>True</td>\n      <td>True</td>\n      <td>True</td>\n    </tr>\n    <tr>\n      <th>269</th>\n      <td>006ab65e-8570-4646-97ff-76e4721d4994</td>\n      <td>-1006.87</td>\n      <td>17.0</td>\n      <td>1006.87</td>\n      <td>10.1</td>\n      <td>11vkjavier@gmail.com</td>\n      <td>10p</td>\n      <td>True</td>\n      <td>True</td>\n      <td>True</td>\n    </tr>\n    <tr>\n      <th>275</th>\n      <td>006ca787-8793-4fec-8a5b-7bc3b65d658f</td>\n      <td>-988.79</td>\n      <td>50.0</td>\n      <td>952.14</td>\n      <td>9.5</td>\n      <td>NaN</td>\n      <td>10P</td>\n      <td>False</td>\n      <td>False</td>\n      <td>True</td>\n    </tr>\n    <tr>\n      <th>277</th>\n      <td>006d6508-5bad-4a89-a231-c8f97c12babc</td>\n      <td>-2043.50</td>\n      <td>13.0</td>\n      <td>2023.50</td>\n      <td>20.2</td>\n      <td>guevaraag_33@hotmail.com</td>\n      <td>2k</td>\n      <td>True</td>\n      <td>True</td>\n      <td>True</td>\n    </tr>\n    <tr>\n      <th>315</th>\n      <td>0079ff74-36c5-4f4f-ba4e-b6cfe596dc8b</td>\n      <td>-3735.01</td>\n      <td>14.0</td>\n      <td>3594.01</td>\n      <td>35.9</td>\n      <td>azahel.0z29@gmail.com</td>\n      <td>2k</td>\n      <td>True</td>\n      <td>True</td>\n      <td>True</td>\n    </tr>\n    <tr>\n      <th>326</th>\n      <td>007f5b64-e7ce-4b70-bf46-fa325b047e5b</td>\n      <td>-5538.07</td>\n      <td>47.0</td>\n      <td>5538.07</td>\n      <td>55.4</td>\n      <td>vperezlizarraga@yahoo.com</td>\n      <td>2k_or_10p</td>\n      <td>True</td>\n      <td>True</td>\n      <td>True</td>\n    </tr>\n    <tr>\n      <th>335</th>\n      <td>00838d00-7055-4611-bf0d-7cf303ccdc86</td>\n      <td>-2966.67</td>\n      <td>22.0</td>\n      <td>2966.67</td>\n      <td>29.7</td>\n      <td>americamedina0105@gmail.com</td>\n      <td>2k_or_10p</td>\n      <td>False</td>\n      <td>False</td>\n      <td>True</td>\n    </tr>\n  </tbody>\n</table>\n</div>"
     },
     "execution_count": 76,
     "metadata": {},
     "output_type": "execute_result"
    }
   ],
   "source": [
    "nov_cashback[nov_cashback.Payment_filter].head(25)"
   ],
   "metadata": {
    "collapsed": false
   }
  },
  {
   "cell_type": "code",
   "execution_count": 77,
   "outputs": [],
   "source": [
    "nov_cashback.to_clipboard()"
   ],
   "metadata": {
    "collapsed": false
   }
  },
  {
   "cell_type": "code",
   "execution_count": null,
   "outputs": [],
   "source": [],
   "metadata": {
    "collapsed": false
   }
  }
 ],
 "metadata": {
  "kernelspec": {
   "display_name": "Python 3",
   "language": "python",
   "name": "python3"
  },
  "language_info": {
   "codemirror_mode": {
    "name": "ipython",
    "version": 2
   },
   "file_extension": ".py",
   "mimetype": "text/x-python",
   "name": "python",
   "nbconvert_exporter": "python",
   "pygments_lexer": "ipython2",
   "version": "2.7.6"
  }
 },
 "nbformat": 4,
 "nbformat_minor": 0
}
