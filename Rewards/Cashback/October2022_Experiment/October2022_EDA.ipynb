{
 "cells": [
  {
   "cell_type": "code",
   "execution_count": 2,
   "metadata": {
    "collapsed": true
   },
   "outputs": [],
   "source": [
    "import gspread\n",
    "from oauth2client.service_account import ServiceAccountCredentials\n",
    "import gspread_dataframe as gd\n",
    "import pandas as pd"
   ]
  },
  {
   "cell_type": "markdown",
   "source": [
    "### Raw Cashback File"
   ],
   "metadata": {
    "collapsed": false
   }
  },
  {
   "cell_type": "code",
   "execution_count": 3,
   "outputs": [],
   "source": [
    "# Read input files\n",
    "raw_october = pd.read_csv('../Cashback_Payments/Raw_October.csv')"
   ],
   "metadata": {
    "collapsed": false
   }
  },
  {
   "cell_type": "markdown",
   "source": [
    "### Cohorts Info"
   ],
   "metadata": {
    "collapsed": false
   }
  },
  {
   "cell_type": "code",
   "execution_count": 4,
   "outputs": [],
   "source": [
    "cohorts_info = pd.read_csv('Cohorts.csv')"
   ],
   "metadata": {
    "collapsed": false
   }
  },
  {
   "cell_type": "code",
   "execution_count": 5,
   "outputs": [
    {
     "data": {
      "text/plain": "                       email                            klarUserId  \\\n0  albertorh1999@hotmail.com  a712e4ed-350d-46f7-bed8-c8aa84b6fbe0   \n1          ntryf8e@gmail.com  52e251db-ad35-4d18-8997-0a9a426dd7c5   \n2       interunerm@gmail.com  009dd382-1a8f-443f-bec8-a161365655bc   \n3       oz11113333@gmail.com  8accbc3a-07d4-4ee2-97f2-008b930c658b   \n4   ruizlopezdavid@gmail.com  9ff30ca5-b210-4d0c-b677-84db3008b50e   \n5       jr10.angel@gmail.com  8adc19e4-92b3-435c-ac31-6edc209f5203   \n6        yhwh89rfc@gmail.com  be9012f7-0a41-4e37-aa21-d5439634d142   \n7       e.ribera26@gmail.com  3ecd1fcd-679c-4e2c-99eb-87e9c2487101   \n8  rigomercado1954@gmail.com  73e733ee-2a7b-4201-820d-6234959a2bc6   \n9         reyes.diana@tec.mx  d75c71aa-3a59-4eba-916b-2caaa6868533   \n\n  Cashback_type  Opt_in_Cashback_October Full cohort op-int?  \n0            2K                        1         2K1     YES  \n1     2K_or_10P                        0  2K_or_10P0     YES  \n2           10P                        0        10P0      NO  \n3            2K                        1         2K1     YES  \n4     2K_or_10P                        0  2K_or_10P0     YES  \n5     2K_or_10P                        0  2K_or_10P0     YES  \n6            2K                        1         2K1     YES  \n7            2K                        1         2K1     YES  \n8           10P                        0        10P0      NO  \n9           10P                        0        10P0      NO  ",
      "text/html": "<div>\n<style scoped>\n    .dataframe tbody tr th:only-of-type {\n        vertical-align: middle;\n    }\n\n    .dataframe tbody tr th {\n        vertical-align: top;\n    }\n\n    .dataframe thead th {\n        text-align: right;\n    }\n</style>\n<table border=\"1\" class=\"dataframe\">\n  <thead>\n    <tr style=\"text-align: right;\">\n      <th></th>\n      <th>email</th>\n      <th>klarUserId</th>\n      <th>Cashback_type</th>\n      <th>Opt_in_Cashback_October</th>\n      <th>Full cohort</th>\n      <th>op-int?</th>\n    </tr>\n  </thead>\n  <tbody>\n    <tr>\n      <th>0</th>\n      <td>albertorh1999@hotmail.com</td>\n      <td>a712e4ed-350d-46f7-bed8-c8aa84b6fbe0</td>\n      <td>2K</td>\n      <td>1</td>\n      <td>2K1</td>\n      <td>YES</td>\n    </tr>\n    <tr>\n      <th>1</th>\n      <td>ntryf8e@gmail.com</td>\n      <td>52e251db-ad35-4d18-8997-0a9a426dd7c5</td>\n      <td>2K_or_10P</td>\n      <td>0</td>\n      <td>2K_or_10P0</td>\n      <td>YES</td>\n    </tr>\n    <tr>\n      <th>2</th>\n      <td>interunerm@gmail.com</td>\n      <td>009dd382-1a8f-443f-bec8-a161365655bc</td>\n      <td>10P</td>\n      <td>0</td>\n      <td>10P0</td>\n      <td>NO</td>\n    </tr>\n    <tr>\n      <th>3</th>\n      <td>oz11113333@gmail.com</td>\n      <td>8accbc3a-07d4-4ee2-97f2-008b930c658b</td>\n      <td>2K</td>\n      <td>1</td>\n      <td>2K1</td>\n      <td>YES</td>\n    </tr>\n    <tr>\n      <th>4</th>\n      <td>ruizlopezdavid@gmail.com</td>\n      <td>9ff30ca5-b210-4d0c-b677-84db3008b50e</td>\n      <td>2K_or_10P</td>\n      <td>0</td>\n      <td>2K_or_10P0</td>\n      <td>YES</td>\n    </tr>\n    <tr>\n      <th>5</th>\n      <td>jr10.angel@gmail.com</td>\n      <td>8adc19e4-92b3-435c-ac31-6edc209f5203</td>\n      <td>2K_or_10P</td>\n      <td>0</td>\n      <td>2K_or_10P0</td>\n      <td>YES</td>\n    </tr>\n    <tr>\n      <th>6</th>\n      <td>yhwh89rfc@gmail.com</td>\n      <td>be9012f7-0a41-4e37-aa21-d5439634d142</td>\n      <td>2K</td>\n      <td>1</td>\n      <td>2K1</td>\n      <td>YES</td>\n    </tr>\n    <tr>\n      <th>7</th>\n      <td>e.ribera26@gmail.com</td>\n      <td>3ecd1fcd-679c-4e2c-99eb-87e9c2487101</td>\n      <td>2K</td>\n      <td>1</td>\n      <td>2K1</td>\n      <td>YES</td>\n    </tr>\n    <tr>\n      <th>8</th>\n      <td>rigomercado1954@gmail.com</td>\n      <td>73e733ee-2a7b-4201-820d-6234959a2bc6</td>\n      <td>10P</td>\n      <td>0</td>\n      <td>10P0</td>\n      <td>NO</td>\n    </tr>\n    <tr>\n      <th>9</th>\n      <td>reyes.diana@tec.mx</td>\n      <td>d75c71aa-3a59-4eba-916b-2caaa6868533</td>\n      <td>10P</td>\n      <td>0</td>\n      <td>10P0</td>\n      <td>NO</td>\n    </tr>\n  </tbody>\n</table>\n</div>"
     },
     "execution_count": 5,
     "metadata": {},
     "output_type": "execute_result"
    }
   ],
   "source": [
    "cohorts_info.head(10)"
   ],
   "metadata": {
    "collapsed": false
   }
  },
  {
   "cell_type": "code",
   "execution_count": 6,
   "outputs": [
    {
     "data": {
      "text/plain": "Empty DataFrame\nColumns: [email, klarUserId, Cashback_type, Opt_in_Cashback_October, Full cohort, op-int?]\nIndex: []",
      "text/html": "<div>\n<style scoped>\n    .dataframe tbody tr th:only-of-type {\n        vertical-align: middle;\n    }\n\n    .dataframe tbody tr th {\n        vertical-align: top;\n    }\n\n    .dataframe thead th {\n        text-align: right;\n    }\n</style>\n<table border=\"1\" class=\"dataframe\">\n  <thead>\n    <tr style=\"text-align: right;\">\n      <th></th>\n      <th>email</th>\n      <th>klarUserId</th>\n      <th>Cashback_type</th>\n      <th>Opt_in_Cashback_October</th>\n      <th>Full cohort</th>\n      <th>op-int?</th>\n    </tr>\n  </thead>\n  <tbody>\n  </tbody>\n</table>\n</div>"
     },
     "execution_count": 6,
     "metadata": {},
     "output_type": "execute_result"
    }
   ],
   "source": [
    "# Delete users without user_id\n",
    "cohorts_info = cohorts_info[~cohorts_info.klarUserId.isna()]\n",
    "cohorts_info[cohorts_info.klarUserId.duplicated()]"
   ],
   "metadata": {
    "collapsed": false
   }
  },
  {
   "cell_type": "code",
   "execution_count": 7,
   "outputs": [
    {
     "data": {
      "text/plain": "Index(['email', 'klarUserId', 'Cashback_type', 'Opt_in_Cashback_October',\n       'Full cohort', 'op-int?'],\n      dtype='object')"
     },
     "execution_count": 7,
     "metadata": {},
     "output_type": "execute_result"
    }
   ],
   "source": [
    "cohorts_info.columns"
   ],
   "metadata": {
    "collapsed": false
   }
  },
  {
   "cell_type": "code",
   "execution_count": 8,
   "outputs": [],
   "source": [
    "# Needed columns\n",
    "cohorts_info_clean = cohorts_info[['email','klarUserId', 'Cashback_type', 'op-int?']]\n",
    "# Rename columns\n",
    "cohorts_info_clean.columns = ['email','user_id', 'cashback_type', 'needed_opt_in']"
   ],
   "metadata": {
    "collapsed": false
   }
  },
  {
   "cell_type": "code",
   "execution_count": 9,
   "outputs": [
    {
     "name": "stderr",
     "output_type": "stream",
     "text": [
      "/var/folders/b_/lql2bh7s2797fh2q6lw2ttdh0000gn/T/ipykernel_29786/942361096.py:2: SettingWithCopyWarning: \n",
      "A value is trying to be set on a copy of a slice from a DataFrame.\n",
      "Try using .loc[row_indexer,col_indexer] = value instead\n",
      "\n",
      "See the caveats in the documentation: https://pandas.pydata.org/pandas-docs/stable/user_guide/indexing.html#returning-a-view-versus-a-copy\n",
      "  cohorts_info_clean.needed_opt_in = cohorts_info_clean.needed_opt_in.map({'YES':True, 'NO':False})\n"
     ]
    }
   ],
   "source": [
    "# Remap op-int column\n",
    "cohorts_info_clean.needed_opt_in = cohorts_info_clean.needed_opt_in.map({'YES':True, 'NO':False})"
   ],
   "metadata": {
    "collapsed": false
   }
  },
  {
   "cell_type": "code",
   "execution_count": 10,
   "outputs": [
    {
     "data": {
      "text/plain": "                               email                               user_id  \\\n0          albertorh1999@hotmail.com  a712e4ed-350d-46f7-bed8-c8aa84b6fbe0   \n1                  ntryf8e@gmail.com  52e251db-ad35-4d18-8997-0a9a426dd7c5   \n2               interunerm@gmail.com  009dd382-1a8f-443f-bec8-a161365655bc   \n3               oz11113333@gmail.com  8accbc3a-07d4-4ee2-97f2-008b930c658b   \n4           ruizlopezdavid@gmail.com  9ff30ca5-b210-4d0c-b677-84db3008b50e   \n...                              ...                                   ...   \n475139  torresfloriberto43@gmail.com  a991f055-28af-4f42-85c6-800704404040   \n475140     cristinarzl2107@gmail.com  9bd8614b-cf58-40bd-9d77-1fc125716686   \n475141        ruizeumir_76@yahoo.com  df35a0e6-dcde-468c-9e3d-d701c55a9909   \n475142  arthurbeckham.2099@gmail.com  b8cab4f7-bf09-45b9-9328-e51887cb4b51   \n475143           cacaxtlso@gmail.com  b908f419-1731-4efe-bdc3-2e197090f775   \n\n       cashback_type  needed_opt_in  \n0                 2K           True  \n1          2K_or_10P           True  \n2                10P          False  \n3                 2K           True  \n4          2K_or_10P           True  \n...              ...            ...  \n475139     2K_or_10P           True  \n475140            2K           True  \n475141           10P          False  \n475142     2K_or_10P           True  \n475143            2K           True  \n\n[475124 rows x 4 columns]",
      "text/html": "<div>\n<style scoped>\n    .dataframe tbody tr th:only-of-type {\n        vertical-align: middle;\n    }\n\n    .dataframe tbody tr th {\n        vertical-align: top;\n    }\n\n    .dataframe thead th {\n        text-align: right;\n    }\n</style>\n<table border=\"1\" class=\"dataframe\">\n  <thead>\n    <tr style=\"text-align: right;\">\n      <th></th>\n      <th>email</th>\n      <th>user_id</th>\n      <th>cashback_type</th>\n      <th>needed_opt_in</th>\n    </tr>\n  </thead>\n  <tbody>\n    <tr>\n      <th>0</th>\n      <td>albertorh1999@hotmail.com</td>\n      <td>a712e4ed-350d-46f7-bed8-c8aa84b6fbe0</td>\n      <td>2K</td>\n      <td>True</td>\n    </tr>\n    <tr>\n      <th>1</th>\n      <td>ntryf8e@gmail.com</td>\n      <td>52e251db-ad35-4d18-8997-0a9a426dd7c5</td>\n      <td>2K_or_10P</td>\n      <td>True</td>\n    </tr>\n    <tr>\n      <th>2</th>\n      <td>interunerm@gmail.com</td>\n      <td>009dd382-1a8f-443f-bec8-a161365655bc</td>\n      <td>10P</td>\n      <td>False</td>\n    </tr>\n    <tr>\n      <th>3</th>\n      <td>oz11113333@gmail.com</td>\n      <td>8accbc3a-07d4-4ee2-97f2-008b930c658b</td>\n      <td>2K</td>\n      <td>True</td>\n    </tr>\n    <tr>\n      <th>4</th>\n      <td>ruizlopezdavid@gmail.com</td>\n      <td>9ff30ca5-b210-4d0c-b677-84db3008b50e</td>\n      <td>2K_or_10P</td>\n      <td>True</td>\n    </tr>\n    <tr>\n      <th>...</th>\n      <td>...</td>\n      <td>...</td>\n      <td>...</td>\n      <td>...</td>\n    </tr>\n    <tr>\n      <th>475139</th>\n      <td>torresfloriberto43@gmail.com</td>\n      <td>a991f055-28af-4f42-85c6-800704404040</td>\n      <td>2K_or_10P</td>\n      <td>True</td>\n    </tr>\n    <tr>\n      <th>475140</th>\n      <td>cristinarzl2107@gmail.com</td>\n      <td>9bd8614b-cf58-40bd-9d77-1fc125716686</td>\n      <td>2K</td>\n      <td>True</td>\n    </tr>\n    <tr>\n      <th>475141</th>\n      <td>ruizeumir_76@yahoo.com</td>\n      <td>df35a0e6-dcde-468c-9e3d-d701c55a9909</td>\n      <td>10P</td>\n      <td>False</td>\n    </tr>\n    <tr>\n      <th>475142</th>\n      <td>arthurbeckham.2099@gmail.com</td>\n      <td>b8cab4f7-bf09-45b9-9328-e51887cb4b51</td>\n      <td>2K_or_10P</td>\n      <td>True</td>\n    </tr>\n    <tr>\n      <th>475143</th>\n      <td>cacaxtlso@gmail.com</td>\n      <td>b908f419-1731-4efe-bdc3-2e197090f775</td>\n      <td>2K</td>\n      <td>True</td>\n    </tr>\n  </tbody>\n</table>\n<p>475124 rows × 4 columns</p>\n</div>"
     },
     "execution_count": 10,
     "metadata": {},
     "output_type": "execute_result"
    }
   ],
   "source": [
    "cohorts_info_clean"
   ],
   "metadata": {
    "collapsed": false
   }
  },
  {
   "cell_type": "code",
   "execution_count": 11,
   "outputs": [
    {
     "data": {
      "text/plain": "2K_or_10P    190045\n2K           189980\n10P           95099\nName: cashback_type, dtype: int64"
     },
     "execution_count": 11,
     "metadata": {},
     "output_type": "execute_result"
    }
   ],
   "source": [
    "# Cohorts segments\n",
    "cohorts_info_clean.cashback_type.value_counts()"
   ],
   "metadata": {
    "collapsed": false
   }
  },
  {
   "cell_type": "markdown",
   "source": [
    "### Opt-in Info"
   ],
   "metadata": {
    "collapsed": false
   }
  },
  {
   "cell_type": "code",
   "execution_count": 12,
   "outputs": [],
   "source": [
    "opt_in_info = pd.read_csv('Opt-In.csv')"
   ],
   "metadata": {
    "collapsed": false
   }
  },
  {
   "cell_type": "code",
   "execution_count": 13,
   "outputs": [
    {
     "data": {
      "text/plain": "       Submission Date                        email  \\\n0  2022-10-17 10:06:23          cacaxtlso@gmail.com   \n1  2022-10-22 15:44:13  albertstrong007@hotmail.com   \n2  2022-10-22 15:44:13  victorpezglez1985@gmail.com   \n3  2022-10-22 15:44:14          samu17976@gmail.com   \n4  2022-10-22 15:44:16     black_day696@hotmail.com   \n5  2022-10-22 15:44:22         thelmi88@hotmail.com   \n6  2022-10-22 15:44:29           diazavalos@msn.com   \n7  2022-10-22 15:44:30          alfsova28@gmail.com   \n8  2022-10-22 15:44:32           topsjavi@gmail.com   \n9  2022-10-22 15:44:36   reyessantiago220@gmail.com   \n\n                                 source            Nombre           Apellido  \\\n0  b908f419-1731-4efe-bdc3-2e197090f775               ddd               scho   \n1  5177f6bc-790b-44c0-9fca-020a7f220cb1      Luis Alberto  Ramírez Rodríguez   \n2  b9e75169-9c1e-42d7-97d6-8c8e887d31f1   Victor Emmanuel     Perez gonzalez   \n3  66b62548-938b-48bd-b48b-32c34ce60647            Samuel              Gomez   \n4  e97e2eaf-f498-4c87-9b01-0f5107ae7ad5           GUSTAVO     CORSI BAUTISTA   \n5  406bfc41-fbf7-4c06-8414-1a3747cbbb04           Carmela   Calderón Jiménez   \n6  b39a6d84-0321-4f44-97d8-c9757204b8be           Claudia        Díaz Avalos   \n7  4b388626-4488-4d41-9292-9bb4e2426bb3           Alfonso               Soto   \n8  1007836b-1cac-459c-aaed-609079be6819  Francisco Javier      Flores Castro   \n9  12d1d84c-95a7-4210-ae91-4a9317b722e3           Agustín     Santiago Reyes   \n\n                IP  \n0  187.190.154.251  \n1    189.159.58.51  \n2  189.203.205.234  \n3  189.217.216.200  \n4  187.135.158.185  \n5    189.188.50.18  \n6  189.172.152.161  \n7   187.131.24.142  \n8  189.145.142.234  \n9     200.63.40.52  ",
      "text/html": "<div>\n<style scoped>\n    .dataframe tbody tr th:only-of-type {\n        vertical-align: middle;\n    }\n\n    .dataframe tbody tr th {\n        vertical-align: top;\n    }\n\n    .dataframe thead th {\n        text-align: right;\n    }\n</style>\n<table border=\"1\" class=\"dataframe\">\n  <thead>\n    <tr style=\"text-align: right;\">\n      <th></th>\n      <th>Submission Date</th>\n      <th>email</th>\n      <th>source</th>\n      <th>Nombre</th>\n      <th>Apellido</th>\n      <th>IP</th>\n    </tr>\n  </thead>\n  <tbody>\n    <tr>\n      <th>0</th>\n      <td>2022-10-17 10:06:23</td>\n      <td>cacaxtlso@gmail.com</td>\n      <td>b908f419-1731-4efe-bdc3-2e197090f775</td>\n      <td>ddd</td>\n      <td>scho</td>\n      <td>187.190.154.251</td>\n    </tr>\n    <tr>\n      <th>1</th>\n      <td>2022-10-22 15:44:13</td>\n      <td>albertstrong007@hotmail.com</td>\n      <td>5177f6bc-790b-44c0-9fca-020a7f220cb1</td>\n      <td>Luis Alberto</td>\n      <td>Ramírez Rodríguez</td>\n      <td>189.159.58.51</td>\n    </tr>\n    <tr>\n      <th>2</th>\n      <td>2022-10-22 15:44:13</td>\n      <td>victorpezglez1985@gmail.com</td>\n      <td>b9e75169-9c1e-42d7-97d6-8c8e887d31f1</td>\n      <td>Victor Emmanuel</td>\n      <td>Perez gonzalez</td>\n      <td>189.203.205.234</td>\n    </tr>\n    <tr>\n      <th>3</th>\n      <td>2022-10-22 15:44:14</td>\n      <td>samu17976@gmail.com</td>\n      <td>66b62548-938b-48bd-b48b-32c34ce60647</td>\n      <td>Samuel</td>\n      <td>Gomez</td>\n      <td>189.217.216.200</td>\n    </tr>\n    <tr>\n      <th>4</th>\n      <td>2022-10-22 15:44:16</td>\n      <td>black_day696@hotmail.com</td>\n      <td>e97e2eaf-f498-4c87-9b01-0f5107ae7ad5</td>\n      <td>GUSTAVO</td>\n      <td>CORSI BAUTISTA</td>\n      <td>187.135.158.185</td>\n    </tr>\n    <tr>\n      <th>5</th>\n      <td>2022-10-22 15:44:22</td>\n      <td>thelmi88@hotmail.com</td>\n      <td>406bfc41-fbf7-4c06-8414-1a3747cbbb04</td>\n      <td>Carmela</td>\n      <td>Calderón Jiménez</td>\n      <td>189.188.50.18</td>\n    </tr>\n    <tr>\n      <th>6</th>\n      <td>2022-10-22 15:44:29</td>\n      <td>diazavalos@msn.com</td>\n      <td>b39a6d84-0321-4f44-97d8-c9757204b8be</td>\n      <td>Claudia</td>\n      <td>Díaz Avalos</td>\n      <td>189.172.152.161</td>\n    </tr>\n    <tr>\n      <th>7</th>\n      <td>2022-10-22 15:44:30</td>\n      <td>alfsova28@gmail.com</td>\n      <td>4b388626-4488-4d41-9292-9bb4e2426bb3</td>\n      <td>Alfonso</td>\n      <td>Soto</td>\n      <td>187.131.24.142</td>\n    </tr>\n    <tr>\n      <th>8</th>\n      <td>2022-10-22 15:44:32</td>\n      <td>topsjavi@gmail.com</td>\n      <td>1007836b-1cac-459c-aaed-609079be6819</td>\n      <td>Francisco Javier</td>\n      <td>Flores Castro</td>\n      <td>189.145.142.234</td>\n    </tr>\n    <tr>\n      <th>9</th>\n      <td>2022-10-22 15:44:36</td>\n      <td>reyessantiago220@gmail.com</td>\n      <td>12d1d84c-95a7-4210-ae91-4a9317b722e3</td>\n      <td>Agustín</td>\n      <td>Santiago Reyes</td>\n      <td>200.63.40.52</td>\n    </tr>\n  </tbody>\n</table>\n</div>"
     },
     "execution_count": 13,
     "metadata": {},
     "output_type": "execute_result"
    }
   ],
   "source": [
    "opt_in_info.head(10)"
   ],
   "metadata": {
    "collapsed": false
   }
  },
  {
   "cell_type": "code",
   "execution_count": 14,
   "outputs": [],
   "source": [
    "# EDA optIn\n",
    "opt_in_info = opt_in_info[['source']]\n",
    "opt_in_info.columns = ['user_id']\n",
    "opt_in_info = pd.DataFrame(opt_in_info.user_id.drop_duplicates(), columns = ['user_id'])\n",
    "opt_in_info['optIn'] = True"
   ],
   "metadata": {
    "collapsed": false
   }
  },
  {
   "cell_type": "code",
   "execution_count": 15,
   "outputs": [
    {
     "data": {
      "text/plain": "(31221, 2)"
     },
     "execution_count": 15,
     "metadata": {},
     "output_type": "execute_result"
    }
   ],
   "source": [
    "opt_in_info.shape"
   ],
   "metadata": {
    "collapsed": false
   }
  },
  {
   "cell_type": "markdown",
   "source": [
    "# Cashback Calculation"
   ],
   "metadata": {
    "collapsed": false
   }
  },
  {
   "cell_type": "code",
   "execution_count": 16,
   "outputs": [],
   "source": [
    "cashback_october = raw_october.copy()"
   ],
   "metadata": {
    "collapsed": false
   }
  },
  {
   "cell_type": "code",
   "execution_count": 17,
   "outputs": [
    {
     "data": {
      "text/plain": "Index(['user_id', 'ArcusAdjustAmount', 'GalileoAdjustAmount',\n       'ArcusPurchaseAmount', 'GalileoPurchaseAmount', 'ArcusAdjustNum',\n       'GalileoAdjustNum', 'ArcusPurchaseNum', 'GalileoPurchaseNum'],\n      dtype='object')"
     },
     "execution_count": 17,
     "metadata": {},
     "output_type": "execute_result"
    }
   ],
   "source": [
    "cashback_october.columns"
   ],
   "metadata": {
    "collapsed": false
   }
  },
  {
   "cell_type": "code",
   "execution_count": 18,
   "outputs": [],
   "source": [
    "# Total purchases\n",
    "cashback_october['total_purchases'] = cashback_october.ArcusPurchaseNum + cashback_october.GalileoPurchaseNum\n",
    "# Total amount Purchases\n",
    "cashback_october['amount_purch'] = cashback_october.GalileoPurchaseAmount + cashback_october.ArcusPurchaseAmount\n",
    "# Calculate the right amount of spend for each user\n",
    "cashback_october['cashback_amount'] = -1 * cashback_october.amount_purch - cashback_october.GalileoAdjustAmount - - cashback_october.ArcusAdjustAmount\n",
    "# Calculate the cashback\n",
    "cashback_october['cashback'] = cashback_october.cashback_amount * 0.01\n",
    "# Top the cashback for max 1000\n",
    "cashback_october['cashback'] = cashback_october['cashback'].apply(lambda x: 1000 if x > 1000 else round(x, 1))"
   ],
   "metadata": {
    "collapsed": false
   }
  },
  {
   "cell_type": "markdown",
   "source": [
    "#### Clean DataFrame"
   ],
   "metadata": {
    "collapsed": false
   }
  },
  {
   "cell_type": "code",
   "execution_count": 19,
   "outputs": [],
   "source": [
    "oct_cashback = cashback_october[['user_id', 'amount_purch', 'total_purchases', 'cashback_amount', 'cashback']]"
   ],
   "metadata": {
    "collapsed": false
   }
  },
  {
   "cell_type": "code",
   "execution_count": 20,
   "outputs": [],
   "source": [
    "# Add the segment info\n",
    "oct_cashback = pd.merge(oct_cashback, cohorts_info_clean, on='user_id', how='left')\n",
    "# Add optIn responses\n",
    "oct_cashback = pd.merge(oct_cashback, opt_in_info, on='user_id', how='left')\n",
    "# Filter the less than 1\n",
    "oct_cashback = oct_cashback[oct_cashback['cashback'] >= 1]"
   ],
   "metadata": {
    "collapsed": false
   }
  },
  {
   "cell_type": "code",
   "execution_count": 21,
   "outputs": [
    {
     "name": "stderr",
     "output_type": "stream",
     "text": [
      "/var/folders/b_/lql2bh7s2797fh2q6lw2ttdh0000gn/T/ipykernel_29786/227707460.py:2: UserWarning: Pandas doesn't allow columns to be created via a new attribute name - see https://pandas.pydata.org/pandas-docs/stable/indexing.html#attribute-access\n",
      "  oct_cashback.Segment = oct_cashback.cashback_type.fillna('10P')\n"
     ]
    }
   ],
   "source": [
    "# Fill users not in experiment\n",
    "oct_cashback.cashback_type = oct_cashback.cashback_type.fillna('10P')\n",
    "# Fill users with no required OptIn\n",
    "oct_cashback.needed_opt_in = oct_cashback.needed_opt_in.fillna(False)\n",
    "# Fill users with no OptIn\n",
    "oct_cashback.optIn = oct_cashback.optIn.fillna(False)"
   ],
   "metadata": {
    "collapsed": false
   }
  },
  {
   "cell_type": "code",
   "execution_count": 22,
   "outputs": [
    {
     "data": {
      "text/plain": "                                 user_id  amount_purch  total_purchases  \\\n0   000048a5-6eb8-464a-ba04-9860337841d2       -300.00              3.0   \n1   00007e60-e21e-4616-81b4-4afae84713ee       -739.00              6.0   \n2   000096ca-40b4-4de0-8b71-6f16939af17f       -308.00              4.0   \n3   0000a054-8132-416b-8cf1-d4c6443bf8ce      -2716.90              8.0   \n7   0000f477-d13d-4acb-a6c4-b30e6145ba03      -2077.88             13.0   \n9   0001fec2-2153-4ba8-a510-c5be80c8c973       -128.00              2.0   \n10  0002325b-5c34-4e23-89d4-e289b52b1ab7       -135.65              1.0   \n11  00024ed7-05c1-4421-ae51-0a4d1cd4ecd0       -200.00              2.0   \n12  0002f190-5527-4220-9b92-955bfc498869       -250.00              3.0   \n13  0002f1c2-58f4-4870-99c6-d3a5fac8c939       -278.00              2.0   \n\n    cashback_amount  cashback                         email cashback_type  \\\n0            300.00       3.0          lizgaliher@gmail.com            2K   \n1            739.00       7.4        maurochrivas@gmail.com     2K_or_10P   \n2            308.00       3.1      marychuy1971@hotmail.com           10P   \n3           2716.90      27.2  frineegarciamendez@gmail.com     2K_or_10P   \n7           2077.88      20.8          osvalfermg@gmail.com     2K_or_10P   \n9            128.00       1.3      samuelmolina1a@gmail.com            2K   \n10           135.65       1.4       monsesangster@gmail.com            2K   \n11           200.00       2.0  arq.jandresve.2019@gmail.com            2K   \n12           250.00       2.5         kaja.sofi15@gmail.com            2K   \n13           278.00       2.8    jareth.rortega10@gmail.com           10P   \n\n    needed_opt_in  optIn  \n0            True  False  \n1            True  False  \n2           False  False  \n3            True  False  \n7            True   True  \n9            True   True  \n10           True  False  \n11           True  False  \n12           True  False  \n13          False  False  ",
      "text/html": "<div>\n<style scoped>\n    .dataframe tbody tr th:only-of-type {\n        vertical-align: middle;\n    }\n\n    .dataframe tbody tr th {\n        vertical-align: top;\n    }\n\n    .dataframe thead th {\n        text-align: right;\n    }\n</style>\n<table border=\"1\" class=\"dataframe\">\n  <thead>\n    <tr style=\"text-align: right;\">\n      <th></th>\n      <th>user_id</th>\n      <th>amount_purch</th>\n      <th>total_purchases</th>\n      <th>cashback_amount</th>\n      <th>cashback</th>\n      <th>email</th>\n      <th>cashback_type</th>\n      <th>needed_opt_in</th>\n      <th>optIn</th>\n    </tr>\n  </thead>\n  <tbody>\n    <tr>\n      <th>0</th>\n      <td>000048a5-6eb8-464a-ba04-9860337841d2</td>\n      <td>-300.00</td>\n      <td>3.0</td>\n      <td>300.00</td>\n      <td>3.0</td>\n      <td>lizgaliher@gmail.com</td>\n      <td>2K</td>\n      <td>True</td>\n      <td>False</td>\n    </tr>\n    <tr>\n      <th>1</th>\n      <td>00007e60-e21e-4616-81b4-4afae84713ee</td>\n      <td>-739.00</td>\n      <td>6.0</td>\n      <td>739.00</td>\n      <td>7.4</td>\n      <td>maurochrivas@gmail.com</td>\n      <td>2K_or_10P</td>\n      <td>True</td>\n      <td>False</td>\n    </tr>\n    <tr>\n      <th>2</th>\n      <td>000096ca-40b4-4de0-8b71-6f16939af17f</td>\n      <td>-308.00</td>\n      <td>4.0</td>\n      <td>308.00</td>\n      <td>3.1</td>\n      <td>marychuy1971@hotmail.com</td>\n      <td>10P</td>\n      <td>False</td>\n      <td>False</td>\n    </tr>\n    <tr>\n      <th>3</th>\n      <td>0000a054-8132-416b-8cf1-d4c6443bf8ce</td>\n      <td>-2716.90</td>\n      <td>8.0</td>\n      <td>2716.90</td>\n      <td>27.2</td>\n      <td>frineegarciamendez@gmail.com</td>\n      <td>2K_or_10P</td>\n      <td>True</td>\n      <td>False</td>\n    </tr>\n    <tr>\n      <th>7</th>\n      <td>0000f477-d13d-4acb-a6c4-b30e6145ba03</td>\n      <td>-2077.88</td>\n      <td>13.0</td>\n      <td>2077.88</td>\n      <td>20.8</td>\n      <td>osvalfermg@gmail.com</td>\n      <td>2K_or_10P</td>\n      <td>True</td>\n      <td>True</td>\n    </tr>\n    <tr>\n      <th>9</th>\n      <td>0001fec2-2153-4ba8-a510-c5be80c8c973</td>\n      <td>-128.00</td>\n      <td>2.0</td>\n      <td>128.00</td>\n      <td>1.3</td>\n      <td>samuelmolina1a@gmail.com</td>\n      <td>2K</td>\n      <td>True</td>\n      <td>True</td>\n    </tr>\n    <tr>\n      <th>10</th>\n      <td>0002325b-5c34-4e23-89d4-e289b52b1ab7</td>\n      <td>-135.65</td>\n      <td>1.0</td>\n      <td>135.65</td>\n      <td>1.4</td>\n      <td>monsesangster@gmail.com</td>\n      <td>2K</td>\n      <td>True</td>\n      <td>False</td>\n    </tr>\n    <tr>\n      <th>11</th>\n      <td>00024ed7-05c1-4421-ae51-0a4d1cd4ecd0</td>\n      <td>-200.00</td>\n      <td>2.0</td>\n      <td>200.00</td>\n      <td>2.0</td>\n      <td>arq.jandresve.2019@gmail.com</td>\n      <td>2K</td>\n      <td>True</td>\n      <td>False</td>\n    </tr>\n    <tr>\n      <th>12</th>\n      <td>0002f190-5527-4220-9b92-955bfc498869</td>\n      <td>-250.00</td>\n      <td>3.0</td>\n      <td>250.00</td>\n      <td>2.5</td>\n      <td>kaja.sofi15@gmail.com</td>\n      <td>2K</td>\n      <td>True</td>\n      <td>False</td>\n    </tr>\n    <tr>\n      <th>13</th>\n      <td>0002f1c2-58f4-4870-99c6-d3a5fac8c939</td>\n      <td>-278.00</td>\n      <td>2.0</td>\n      <td>278.00</td>\n      <td>2.8</td>\n      <td>jareth.rortega10@gmail.com</td>\n      <td>10P</td>\n      <td>False</td>\n      <td>False</td>\n    </tr>\n  </tbody>\n</table>\n</div>"
     },
     "execution_count": 22,
     "metadata": {},
     "output_type": "execute_result"
    }
   ],
   "source": [
    "oct_cashback.head(10)"
   ],
   "metadata": {
    "collapsed": false
   }
  },
  {
   "cell_type": "markdown",
   "source": [
    "### Payment filter"
   ],
   "metadata": {
    "collapsed": false
   }
  },
  {
   "cell_type": "code",
   "execution_count": 23,
   "outputs": [],
   "source": [
    "# Filter for payment\n",
    "oct_cashback['Payment_filter'] = oct_cashback.apply(lambda x:\n",
    "                                                    ( ( (True if x.cashback_amount >= 2000 else False) if x.cashback_type == '2K' else ( (True if x.cashback_amount >= 2000 or x.total_purchases > 9 else False) if x.cashback_type == '2K_or_10P' else (True if x.total_purchases > 9 else False) ) )\n",
    "                                                      if x.optIn else False)\n",
    "                                                    if x.needed_opt_in else\n",
    "                                                    ( (True if x.cashback_amount >= 2000 else False) if x.cashback_type == '2K' else ( (True if x.cashback_amount >= 2000 or x.total_purchases > 9 else False) if x.cashback_type == '2K_or_10P' else (True if x.total_purchases > 9 else False) ) )\n",
    "                                                    , axis=1)\n"
   ],
   "metadata": {
    "collapsed": false
   }
  },
  {
   "cell_type": "code",
   "execution_count": 24,
   "outputs": [
    {
     "data": {
      "text/plain": "                                     user_id  amount_purch  total_purchases  \\\n0       000048a5-6eb8-464a-ba04-9860337841d2       -300.00              3.0   \n1       00007e60-e21e-4616-81b4-4afae84713ee       -739.00              6.0   \n2       000096ca-40b4-4de0-8b71-6f16939af17f       -308.00              4.0   \n3       0000a054-8132-416b-8cf1-d4c6443bf8ce      -2716.90              8.0   \n7       0000f477-d13d-4acb-a6c4-b30e6145ba03      -2077.88             13.0   \n...                                      ...           ...              ...   \n197754  fffd510d-47ee-4fff-b20c-bf7712ee1b3d      -1503.78              9.0   \n197755  fffe3b68-aae4-4669-bc01-8de21c1a8184      -1745.90              6.0   \n197756  fffe9ec7-6879-4a34-b9db-14c86223830d       -699.00              1.0   \n197757  ffff5229-917d-4595-9bb5-8283d4ab8d7b      -9539.49              3.0   \n197759  ffff698c-d2c2-446a-a8d1-7d2597141a88       -345.00              6.0   \n\n        cashback_amount  cashback                          email  \\\n0                300.00       3.0           lizgaliher@gmail.com   \n1                739.00       7.4         maurochrivas@gmail.com   \n2                308.00       3.1       marychuy1971@hotmail.com   \n3               2716.90      27.2   frineegarciamendez@gmail.com   \n7               2077.88      20.8           osvalfermg@gmail.com   \n...                 ...       ...                            ...   \n197754          1503.78      15.0            mompala90@gmail.com   \n197755          1745.90      17.5     angelandroabarca@gmail.com   \n197756           699.00       7.0                            NaN   \n197757          9539.49      95.4     euni2199martinez@gmail.com   \n197759           345.00       3.5  victormanuelhdsceri@gmail.com   \n\n       cashback_type  needed_opt_in  optIn  Payment_filter  \n0                 2K           True  False           False  \n1          2K_or_10P           True  False           False  \n2                10P          False  False           False  \n3          2K_or_10P           True  False           False  \n7          2K_or_10P           True   True            True  \n...              ...            ...    ...             ...  \n197754     2K_or_10P           True  False           False  \n197755            2K           True  False           False  \n197756           NaN          False  False           False  \n197757           10P          False  False           False  \n197759           10P           True  False           False  \n\n[162032 rows x 10 columns]",
      "text/html": "<div>\n<style scoped>\n    .dataframe tbody tr th:only-of-type {\n        vertical-align: middle;\n    }\n\n    .dataframe tbody tr th {\n        vertical-align: top;\n    }\n\n    .dataframe thead th {\n        text-align: right;\n    }\n</style>\n<table border=\"1\" class=\"dataframe\">\n  <thead>\n    <tr style=\"text-align: right;\">\n      <th></th>\n      <th>user_id</th>\n      <th>amount_purch</th>\n      <th>total_purchases</th>\n      <th>cashback_amount</th>\n      <th>cashback</th>\n      <th>email</th>\n      <th>cashback_type</th>\n      <th>needed_opt_in</th>\n      <th>optIn</th>\n      <th>Payment_filter</th>\n    </tr>\n  </thead>\n  <tbody>\n    <tr>\n      <th>0</th>\n      <td>000048a5-6eb8-464a-ba04-9860337841d2</td>\n      <td>-300.00</td>\n      <td>3.0</td>\n      <td>300.00</td>\n      <td>3.0</td>\n      <td>lizgaliher@gmail.com</td>\n      <td>2K</td>\n      <td>True</td>\n      <td>False</td>\n      <td>False</td>\n    </tr>\n    <tr>\n      <th>1</th>\n      <td>00007e60-e21e-4616-81b4-4afae84713ee</td>\n      <td>-739.00</td>\n      <td>6.0</td>\n      <td>739.00</td>\n      <td>7.4</td>\n      <td>maurochrivas@gmail.com</td>\n      <td>2K_or_10P</td>\n      <td>True</td>\n      <td>False</td>\n      <td>False</td>\n    </tr>\n    <tr>\n      <th>2</th>\n      <td>000096ca-40b4-4de0-8b71-6f16939af17f</td>\n      <td>-308.00</td>\n      <td>4.0</td>\n      <td>308.00</td>\n      <td>3.1</td>\n      <td>marychuy1971@hotmail.com</td>\n      <td>10P</td>\n      <td>False</td>\n      <td>False</td>\n      <td>False</td>\n    </tr>\n    <tr>\n      <th>3</th>\n      <td>0000a054-8132-416b-8cf1-d4c6443bf8ce</td>\n      <td>-2716.90</td>\n      <td>8.0</td>\n      <td>2716.90</td>\n      <td>27.2</td>\n      <td>frineegarciamendez@gmail.com</td>\n      <td>2K_or_10P</td>\n      <td>True</td>\n      <td>False</td>\n      <td>False</td>\n    </tr>\n    <tr>\n      <th>7</th>\n      <td>0000f477-d13d-4acb-a6c4-b30e6145ba03</td>\n      <td>-2077.88</td>\n      <td>13.0</td>\n      <td>2077.88</td>\n      <td>20.8</td>\n      <td>osvalfermg@gmail.com</td>\n      <td>2K_or_10P</td>\n      <td>True</td>\n      <td>True</td>\n      <td>True</td>\n    </tr>\n    <tr>\n      <th>...</th>\n      <td>...</td>\n      <td>...</td>\n      <td>...</td>\n      <td>...</td>\n      <td>...</td>\n      <td>...</td>\n      <td>...</td>\n      <td>...</td>\n      <td>...</td>\n      <td>...</td>\n    </tr>\n    <tr>\n      <th>197754</th>\n      <td>fffd510d-47ee-4fff-b20c-bf7712ee1b3d</td>\n      <td>-1503.78</td>\n      <td>9.0</td>\n      <td>1503.78</td>\n      <td>15.0</td>\n      <td>mompala90@gmail.com</td>\n      <td>2K_or_10P</td>\n      <td>True</td>\n      <td>False</td>\n      <td>False</td>\n    </tr>\n    <tr>\n      <th>197755</th>\n      <td>fffe3b68-aae4-4669-bc01-8de21c1a8184</td>\n      <td>-1745.90</td>\n      <td>6.0</td>\n      <td>1745.90</td>\n      <td>17.5</td>\n      <td>angelandroabarca@gmail.com</td>\n      <td>2K</td>\n      <td>True</td>\n      <td>False</td>\n      <td>False</td>\n    </tr>\n    <tr>\n      <th>197756</th>\n      <td>fffe9ec7-6879-4a34-b9db-14c86223830d</td>\n      <td>-699.00</td>\n      <td>1.0</td>\n      <td>699.00</td>\n      <td>7.0</td>\n      <td>NaN</td>\n      <td>NaN</td>\n      <td>False</td>\n      <td>False</td>\n      <td>False</td>\n    </tr>\n    <tr>\n      <th>197757</th>\n      <td>ffff5229-917d-4595-9bb5-8283d4ab8d7b</td>\n      <td>-9539.49</td>\n      <td>3.0</td>\n      <td>9539.49</td>\n      <td>95.4</td>\n      <td>euni2199martinez@gmail.com</td>\n      <td>10P</td>\n      <td>False</td>\n      <td>False</td>\n      <td>False</td>\n    </tr>\n    <tr>\n      <th>197759</th>\n      <td>ffff698c-d2c2-446a-a8d1-7d2597141a88</td>\n      <td>-345.00</td>\n      <td>6.0</td>\n      <td>345.00</td>\n      <td>3.5</td>\n      <td>victormanuelhdsceri@gmail.com</td>\n      <td>10P</td>\n      <td>True</td>\n      <td>False</td>\n      <td>False</td>\n    </tr>\n  </tbody>\n</table>\n<p>162032 rows × 10 columns</p>\n</div>"
     },
     "execution_count": 24,
     "metadata": {},
     "output_type": "execute_result"
    }
   ],
   "source": [
    "oct_cashback"
   ],
   "metadata": {
    "collapsed": false
   }
  },
  {
   "cell_type": "markdown",
   "source": [
    "### Cashback to pay"
   ],
   "metadata": {
    "collapsed": false
   }
  },
  {
   "cell_type": "code",
   "execution_count": 25,
   "outputs": [
    {
     "data": {
      "text/plain": "1008378.8999999999"
     },
     "execution_count": 25,
     "metadata": {},
     "output_type": "execute_result"
    }
   ],
   "source": [
    "oct_cashback[oct_cashback.Payment_filter]['cashback'].sum()"
   ],
   "metadata": {
    "collapsed": false
   }
  },
  {
   "cell_type": "markdown",
   "source": [
    "# DB Export"
   ],
   "metadata": {
    "collapsed": false
   }
  },
  {
   "cell_type": "code",
   "execution_count": 27,
   "outputs": [],
   "source": [
    "oct_cashback.drop('email', axis=1).to_csv('../Cashback_Payments/October.csv')"
   ],
   "metadata": {
    "collapsed": false
   }
  },
  {
   "cell_type": "code",
   "execution_count": 28,
   "outputs": [
    {
     "data": {
      "text/plain": "(162032, 10)"
     },
     "execution_count": 28,
     "metadata": {},
     "output_type": "execute_result"
    }
   ],
   "source": [
    "oct_cashback.shape"
   ],
   "metadata": {
    "collapsed": false
   }
  },
  {
   "cell_type": "code",
   "execution_count": null,
   "outputs": [],
   "source": [],
   "metadata": {
    "collapsed": false
   }
  }
 ],
 "metadata": {
  "kernelspec": {
   "display_name": "Python 3",
   "language": "python",
   "name": "python3"
  },
  "language_info": {
   "codemirror_mode": {
    "name": "ipython",
    "version": 2
   },
   "file_extension": ".py",
   "mimetype": "text/x-python",
   "name": "python",
   "nbconvert_exporter": "python",
   "pygments_lexer": "ipython2",
   "version": "2.7.6"
  }
 },
 "nbformat": 4,
 "nbformat_minor": 0
}
