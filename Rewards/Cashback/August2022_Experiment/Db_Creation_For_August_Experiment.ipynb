{
 "cells": [
  {
   "cell_type": "code",
   "execution_count": 1,
   "metadata": {
    "collapsed": true,
    "pycharm": {
     "name": "#%%\n"
    }
   },
   "outputs": [],
   "source": [
    "import pandas as pd\n",
    "import zipfile\n",
    "\n",
    "# Read the zip\n",
    "zf = zipfile.ZipFile('C:/Users/gabri/Downloads/Cashback_Redefinition.zip')"
   ]
  },
  {
   "cell_type": "markdown",
   "source": [
    "#See all files in the directory"
   ],
   "metadata": {
    "collapsed": false
   }
  },
  {
   "cell_type": "code",
   "execution_count": 2,
   "outputs": [
    {
     "data": {
      "text/plain": "['Cashback Redefinition/RewardsCashback redefinition - Test 2 Treatment 1k 1_ Segment.csv',\n 'Cashback Redefinition/RewardsCashback redefinition - Test 1 Opt in Segment.csv',\n 'Cashback Redefinition/RewardsCashback redefinition - Test 2 Treatment 5p 1_ Segment.csv',\n 'Cashback Redefinition/RewardsCashback redefinition - Test 2 Treatment 2k 1_ Segment.csv',\n 'Cashback Redefinition/RewardsCashback redefinition - Test 2 Control Segment.csv',\n 'Cashback Redefinition/RewardsCashback redefinition - Test 2 Treatment 2k $20 Segment.csv',\n 'Cashback Redefinition/RewardsCashback redefinition - Test 2 Treatment 8p 1_ Segment.csv',\n 'Cashback Redefinition/RewardsCashback redefinition - Normal.csv']"
     },
     "execution_count": 2,
     "metadata": {},
     "output_type": "execute_result"
    }
   ],
   "source": [
    "zf.namelist()"
   ],
   "metadata": {
    "collapsed": false,
    "pycharm": {
     "name": "#%%\n"
    }
   }
  },
  {
   "cell_type": "code",
   "execution_count": 4,
   "outputs": [
    {
     "data": {
      "text/plain": "['Test 2 Treatment 1k 1_ Segment',\n 'Test 1 Opt in Segment',\n 'Test 2 Treatment 5p 1_ Segment',\n 'Test 2 Treatment 2k 1_ Segment',\n 'Test 2 Control Segment',\n 'Test 2 Treatment 2k $20 Segment',\n 'Test 2 Treatment 8p 1_ Segment',\n 'Normal']"
     },
     "execution_count": 4,
     "metadata": {},
     "output_type": "execute_result"
    }
   ],
   "source": [
    "list_cohorts = [x.split('Cashback Redefinition/RewardsCashback redefinition - ')[1].split('.csv')[0] for x in zf.namelist()]\n",
    "\n",
    "list_cohorts"
   ],
   "metadata": {
    "collapsed": false,
    "pycharm": {
     "name": "#%%\n"
    }
   }
  },
  {
   "cell_type": "code",
   "execution_count": 5,
   "outputs": [
    {
     "data": {
      "text/plain": "                                 id  created_at  \\\n0  2b519d55b6c786eab671024d637e7ad8  1579927939   \n1  2e430e1aa43a16bd147ddc1a7c10e977  1579966566   \n2  b4547071ddbd41a9a1444f94d1e1467a  1580255992   \n3  3524290fd5bb890e4620f40318415f48  1580362025   \n4  26c985709bb4e136cb0ad51b80919af2  1581108065   \n\n                           email                            klarUserId  \\\n0          wellsixine9@gmail.com  38aefbd9-49b3-4483-aa74-fcf9d54786fe   \n1      agustinzuriel@hotmail.com  3b43993f-9f83-4ccf-9d8d-5f06f8d8e7a4   \n2  stefysalmeron110591@gmail.com  1ec05135-2efe-44d3-8e1a-f11c890166b4   \n3        aleganador123@gmail.com  ace85cfd-9ecb-4332-9f01-17431f529d9f   \n4  fabiancarvajalacolt@gmail.com  2566ea91-1acf-4358-a40a-e64b7bbf3e59   \n\n  unsubscribed  _segment:1150 _segment:1150_RFC3339  \n0          NaN     1659100017  2022-07-29T13:06:57Z  \n1          NaN     1659100017  2022-07-29T13:06:57Z  \n2          NaN     1659100017  2022-07-29T13:06:57Z  \n3          NaN     1659100017  2022-07-29T13:06:57Z  \n4          NaN     1659100017  2022-07-29T13:06:57Z  ",
      "text/html": "<div>\n<style scoped>\n    .dataframe tbody tr th:only-of-type {\n        vertical-align: middle;\n    }\n\n    .dataframe tbody tr th {\n        vertical-align: top;\n    }\n\n    .dataframe thead th {\n        text-align: right;\n    }\n</style>\n<table border=\"1\" class=\"dataframe\">\n  <thead>\n    <tr style=\"text-align: right;\">\n      <th></th>\n      <th>id</th>\n      <th>created_at</th>\n      <th>email</th>\n      <th>klarUserId</th>\n      <th>unsubscribed</th>\n      <th>_segment:1150</th>\n      <th>_segment:1150_RFC3339</th>\n    </tr>\n  </thead>\n  <tbody>\n    <tr>\n      <th>0</th>\n      <td>2b519d55b6c786eab671024d637e7ad8</td>\n      <td>1579927939</td>\n      <td>wellsixine9@gmail.com</td>\n      <td>38aefbd9-49b3-4483-aa74-fcf9d54786fe</td>\n      <td>NaN</td>\n      <td>1659100017</td>\n      <td>2022-07-29T13:06:57Z</td>\n    </tr>\n    <tr>\n      <th>1</th>\n      <td>2e430e1aa43a16bd147ddc1a7c10e977</td>\n      <td>1579966566</td>\n      <td>agustinzuriel@hotmail.com</td>\n      <td>3b43993f-9f83-4ccf-9d8d-5f06f8d8e7a4</td>\n      <td>NaN</td>\n      <td>1659100017</td>\n      <td>2022-07-29T13:06:57Z</td>\n    </tr>\n    <tr>\n      <th>2</th>\n      <td>b4547071ddbd41a9a1444f94d1e1467a</td>\n      <td>1580255992</td>\n      <td>stefysalmeron110591@gmail.com</td>\n      <td>1ec05135-2efe-44d3-8e1a-f11c890166b4</td>\n      <td>NaN</td>\n      <td>1659100017</td>\n      <td>2022-07-29T13:06:57Z</td>\n    </tr>\n    <tr>\n      <th>3</th>\n      <td>3524290fd5bb890e4620f40318415f48</td>\n      <td>1580362025</td>\n      <td>aleganador123@gmail.com</td>\n      <td>ace85cfd-9ecb-4332-9f01-17431f529d9f</td>\n      <td>NaN</td>\n      <td>1659100017</td>\n      <td>2022-07-29T13:06:57Z</td>\n    </tr>\n    <tr>\n      <th>4</th>\n      <td>26c985709bb4e136cb0ad51b80919af2</td>\n      <td>1581108065</td>\n      <td>fabiancarvajalacolt@gmail.com</td>\n      <td>2566ea91-1acf-4358-a40a-e64b7bbf3e59</td>\n      <td>NaN</td>\n      <td>1659100017</td>\n      <td>2022-07-29T13:06:57Z</td>\n    </tr>\n  </tbody>\n</table>\n</div>"
     },
     "execution_count": 5,
     "metadata": {},
     "output_type": "execute_result"
    }
   ],
   "source": [
    "df = pd.read_csv(zf.open(zf.namelist()[0]))\n",
    "\n",
    "df.head()"
   ],
   "metadata": {
    "collapsed": false,
    "pycharm": {
     "name": "#%%\n"
    }
   }
  },
  {
   "cell_type": "code",
   "execution_count": 8,
   "outputs": [
    {
     "name": "stdout",
     "output_type": "stream",
     "text": [
      "Test 2 Treatment 1k 1_ Segment\n",
      "999\n",
      "Test 1 Opt in Segment\n",
      "1000\n",
      "Test 2 Treatment 5p 1_ Segment\n",
      "999\n",
      "Test 2 Treatment 2k 1_ Segment\n",
      "999\n",
      "Test 2 Control Segment\n",
      "500\n",
      "Test 2 Treatment 2k $20 Segment\n",
      "999\n",
      "Test 2 Treatment 8p 1_ Segment\n",
      "1000\n",
      "Normal\n",
      "999\n"
     ]
    }
   ],
   "source": [
    "user_df = pd.DataFrame()\n",
    "for idx, segment in enumerate(zf.namelist()):\n",
    "    aux = pd.read_csv(zf.open(segment))\n",
    "    aux['segment'] = list_cohorts[idx]\n",
    "    print(list_cohorts[idx])\n",
    "    print(aux.shape[0])\n",
    "    user_df = pd.concat([user_df,aux])"
   ],
   "metadata": {
    "collapsed": false,
    "pycharm": {
     "name": "#%%\n"
    }
   }
  },
  {
   "cell_type": "code",
   "execution_count": 10,
   "outputs": [],
   "source": [
    "user_df = user_df[['klarUserId', 'segment']]\n",
    "user_df.columns = ['user_id','segment']"
   ],
   "metadata": {
    "collapsed": false,
    "pycharm": {
     "name": "#%%\n"
    }
   }
  },
  {
   "cell_type": "code",
   "execution_count": 13,
   "outputs": [
    {
     "data": {
      "text/plain": "Test 1 Opt in Segment              1000\nTest 2 Treatment 8p 1_ Segment     1000\nTest 2 Treatment 1k 1_ Segment      999\nTest 2 Treatment 5p 1_ Segment      999\nTest 2 Treatment 2k 1_ Segment      999\nTest 2 Treatment 2k $20 Segment     999\nNormal                              999\nTest 2 Control Segment              500\nName: segment, dtype: int64"
     },
     "execution_count": 13,
     "metadata": {},
     "output_type": "execute_result"
    }
   ],
   "source": [
    "user_df.segment.value_counts()"
   ],
   "metadata": {
    "collapsed": false,
    "pycharm": {
     "name": "#%%\n"
    }
   }
  },
  {
   "cell_type": "code",
   "execution_count": 14,
   "outputs": [],
   "source": [
    "user_df.to_pickle(\"./Experiment_August_DB.pkl\")"
   ],
   "metadata": {
    "collapsed": false,
    "pycharm": {
     "name": "#%%\n"
    }
   }
  }
 ],
 "metadata": {
  "kernelspec": {
   "display_name": "Python 3",
   "language": "python",
   "name": "python3"
  },
  "language_info": {
   "codemirror_mode": {
    "name": "ipython",
    "version": 2
   },
   "file_extension": ".py",
   "mimetype": "text/x-python",
   "name": "python",
   "nbconvert_exporter": "python",
   "pygments_lexer": "ipython2",
   "version": "2.7.6"
  }
 },
 "nbformat": 4,
 "nbformat_minor": 0
}