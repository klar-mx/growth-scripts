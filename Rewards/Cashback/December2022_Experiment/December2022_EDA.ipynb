{
 "cells": [
  {
   "cell_type": "code",
   "execution_count": 16,
   "metadata": {
    "collapsed": true
   },
   "outputs": [],
   "source": [
    "import pandas as pd\n",
    "from sqlalchemy import create_engine\n",
    "import sqlalchemy\n",
    "import gspread\n",
    "from oauth2client.service_account import ServiceAccountCredentials\n",
    "import gspread_dataframe as gd"
   ]
  },
  {
   "cell_type": "code",
   "execution_count": 3,
   "outputs": [],
   "source": [
    "# Redshift connection\n",
    "f = open('/Users/gabrielreynoso/Documents/Queries/db_klarprod_connection.txt', 'r')\n",
    "postgres_str = f.read()\n",
    "f.close()\n",
    "cnx = create_engine(postgres_str)"
   ],
   "metadata": {
    "collapsed": false
   }
  },
  {
   "cell_type": "markdown",
   "source": [
    "### Output Directory"
   ],
   "metadata": {
    "collapsed": false
   }
  },
  {
   "cell_type": "code",
   "execution_count": 5,
   "outputs": [],
   "source": [
    "output_directory = '../Cashback_Payments/December_WO_CCK.csv'"
   ],
   "metadata": {
    "collapsed": false
   }
  },
  {
   "cell_type": "markdown",
   "source": [
    "## Cohort Info"
   ],
   "metadata": {
    "collapsed": false
   }
  },
  {
   "cell_type": "code",
   "execution_count": 41,
   "outputs": [],
   "source": [
    "cohort_query = '''\n",
    "select\n",
    "    distinct klar_user_id as user_id,\n",
    "    case\n",
    "        when segment_name like '%- 10p cohort' then '10p'\n",
    "        when segment_name like '%3k%' then '3k'\n",
    "        when segment_name like '%control%' then '10p'\n",
    "        when segment_name like '%2k cohort%' then '2k'\n",
    "        when segment_name like '%2k or 10p%' then '2k_or_10p'\n",
    "    end as cashback_type,\n",
    "    case\n",
    "        when segment_name like '%control%' then 0\n",
    "            else 1 end as needed_opt_in\n",
    "from is_customer_io.segments as s\n",
    "where segment_id in (1521,1522,1523,1524,1525)\n",
    "and user_id is not null;\n",
    "'''"
   ],
   "metadata": {
    "collapsed": false
   }
  },
  {
   "cell_type": "code",
   "execution_count": 42,
   "outputs": [],
   "source": [
    "cohorts_info = pd.read_sql_query(sqlalchemy.text(cohort_query),cnx)"
   ],
   "metadata": {
    "collapsed": false
   }
  },
  {
   "cell_type": "code",
   "execution_count": 43,
   "outputs": [
    {
     "data": {
      "text/plain": "                                user_id cashback_type  needed_opt_in\n0  00001c85-e714-46f5-bb81-9164d49362bf           10p              0\n1  0000c7fc-474c-45f5-aef5-58554e6c713b           10p              0\n2  000173c7-995e-43f7-98da-306a2469712c     2k_or_10p              1\n3  0002f190-5527-4220-9b92-955bfc498869           10p              1\n4  0003e36f-092e-47f7-8842-b915afd24168            2k              1",
      "text/html": "<div>\n<style scoped>\n    .dataframe tbody tr th:only-of-type {\n        vertical-align: middle;\n    }\n\n    .dataframe tbody tr th {\n        vertical-align: top;\n    }\n\n    .dataframe thead th {\n        text-align: right;\n    }\n</style>\n<table border=\"1\" class=\"dataframe\">\n  <thead>\n    <tr style=\"text-align: right;\">\n      <th></th>\n      <th>user_id</th>\n      <th>cashback_type</th>\n      <th>needed_opt_in</th>\n    </tr>\n  </thead>\n  <tbody>\n    <tr>\n      <th>0</th>\n      <td>00001c85-e714-46f5-bb81-9164d49362bf</td>\n      <td>10p</td>\n      <td>0</td>\n    </tr>\n    <tr>\n      <th>1</th>\n      <td>0000c7fc-474c-45f5-aef5-58554e6c713b</td>\n      <td>10p</td>\n      <td>0</td>\n    </tr>\n    <tr>\n      <th>2</th>\n      <td>000173c7-995e-43f7-98da-306a2469712c</td>\n      <td>2k_or_10p</td>\n      <td>1</td>\n    </tr>\n    <tr>\n      <th>3</th>\n      <td>0002f190-5527-4220-9b92-955bfc498869</td>\n      <td>10p</td>\n      <td>1</td>\n    </tr>\n    <tr>\n      <th>4</th>\n      <td>0003e36f-092e-47f7-8842-b915afd24168</td>\n      <td>2k</td>\n      <td>1</td>\n    </tr>\n  </tbody>\n</table>\n</div>"
     },
     "execution_count": 43,
     "metadata": {},
     "output_type": "execute_result"
    }
   ],
   "source": [
    "cohorts_info.head(5)"
   ],
   "metadata": {
    "collapsed": false
   }
  },
  {
   "cell_type": "code",
   "execution_count": 36,
   "outputs": [
    {
     "data": {
      "text/plain": "Empty DataFrame\nColumns: [user_id, cashback_type, needed_opt_in]\nIndex: []",
      "text/html": "<div>\n<style scoped>\n    .dataframe tbody tr th:only-of-type {\n        vertical-align: middle;\n    }\n\n    .dataframe tbody tr th {\n        vertical-align: top;\n    }\n\n    .dataframe thead th {\n        text-align: right;\n    }\n</style>\n<table border=\"1\" class=\"dataframe\">\n  <thead>\n    <tr style=\"text-align: right;\">\n      <th></th>\n      <th>user_id</th>\n      <th>cashback_type</th>\n      <th>needed_opt_in</th>\n    </tr>\n  </thead>\n  <tbody>\n  </tbody>\n</table>\n</div>"
     },
     "execution_count": 36,
     "metadata": {},
     "output_type": "execute_result"
    }
   ],
   "source": [
    "# Duplicated check\n",
    "cohorts_info[cohorts_info.user_id.duplicated()]"
   ],
   "metadata": {
    "collapsed": false
   }
  },
  {
   "cell_type": "code",
   "execution_count": 44,
   "outputs": [
    {
     "data": {
      "text/plain": "Series([], Name: user_id, dtype: object)"
     },
     "execution_count": 44,
     "metadata": {},
     "output_type": "execute_result"
    }
   ],
   "source": [
    "# Duplicated for nulls in cashback_type\n",
    "cohorts_info[cohorts_info.cashback_type.isna()]['user_id']"
   ],
   "metadata": {
    "collapsed": false
   }
  },
  {
   "cell_type": "code",
   "execution_count": 45,
   "outputs": [],
   "source": [
    "# Remap op-int column\n",
    "cohorts_info.needed_opt_in = cohorts_info.needed_opt_in.map({1:True, 0:False})"
   ],
   "metadata": {
    "collapsed": false
   }
  },
  {
   "cell_type": "code",
   "execution_count": 46,
   "outputs": [
    {
     "data": {
      "text/plain": "10p          177543\n2k_or_10p    152721\n2k           127327\n3k            50659\nName: cashback_type, dtype: int64"
     },
     "execution_count": 46,
     "metadata": {},
     "output_type": "execute_result"
    }
   ],
   "source": [
    "# Cohorts segments\n",
    "cohorts_info.cashback_type.value_counts()"
   ],
   "metadata": {
    "collapsed": false
   }
  },
  {
   "cell_type": "markdown",
   "source": [
    "## Markdown Info"
   ],
   "metadata": {
    "collapsed": false
   }
  },
  {
   "cell_type": "code",
   "execution_count": 18,
   "outputs": [],
   "source": [
    "# Read and Load Credentials\n",
    "credentials = ServiceAccountCredentials.from_json_keyfile_name('/Users/gabrielreynoso/Documents/GoogleCredentials/gabo_credentials.json')\n",
    "gc = gspread.authorize(credentials)\n",
    "\n",
    "# Open the whole Google Sheet\n",
    "gsheet = gc.open(\"Benefits Registration December\")"
   ],
   "metadata": {
    "collapsed": false
   }
  },
  {
   "cell_type": "code",
   "execution_count": 20,
   "outputs": [],
   "source": [
    "# Read a worksheet into a Dataframe\n",
    "opt_in_info = pd.DataFrame(gsheet.worksheet(\"Form Responses\").get_all_records())"
   ],
   "metadata": {
    "collapsed": false
   }
  },
  {
   "cell_type": "code",
   "execution_count": 21,
   "outputs": [
    {
     "data": {
      "text/plain": "       Submission Date                       email  \\\n0  2022-12-06 19:37:45     shaniaroman95@gmail.com   \n1  2022-12-06 20:02:58       miguelvr264@gmail.com   \n2  2022-12-06 20:03:24       eveguzmanpl@gmail.com   \n3  2022-12-06 20:04:53         caritthoa@gmail.com   \n4  2022-12-06 20:05:38     serchnayarita@gmail.com   \n5  2022-12-06 20:07:02  fredyalmaraz0510@gmail.com   \n6  2022-12-06 20:07:36  fredyalmaraz0510@gmail.com   \n\n                                 source          Nombre         Apellido  \\\n0  cf6371f0-03e0-4535-a412-9377f9e620a3             ddd             scho   \n1  230be166-6252-4bc4-a56f-a9c771d043c6          Miguel       Villanueva   \n2  21df3d63-8a23-4e25-8e30-e00422aae795   Evelyn Yamila     Guzmán Pérez   \n3  1b49718b-594c-419f-b2c6-c91ccbdf847d  Norma Carolina  Aguirre Estevez   \n4  79df32d4-40ed-44c6-bf25-cc39069fa414          Sergio          Partida   \n5  9ba214f1-76df-40d2-b09a-1389b363c2c9           Fredy          Almaraz   \n6  9ba214f1-76df-40d2-b09a-1389b363c2c9           Fredy          Almaraz   \n\n                IP        Submission ID  \n0    201.168.3.242  5461826652421731232  \n1  201.162.232.240  5461841780425898227  \n2   201.123.158.64  5461842044689695386  \n3    189.147.99.24  5461842934291697889  \n4   200.68.167.102  5461843372014690058  \n5    200.63.41.174  5461844224713350263  \n6    200.63.41.174  5461844564714276989  ",
      "text/html": "<div>\n<style scoped>\n    .dataframe tbody tr th:only-of-type {\n        vertical-align: middle;\n    }\n\n    .dataframe tbody tr th {\n        vertical-align: top;\n    }\n\n    .dataframe thead th {\n        text-align: right;\n    }\n</style>\n<table border=\"1\" class=\"dataframe\">\n  <thead>\n    <tr style=\"text-align: right;\">\n      <th></th>\n      <th>Submission Date</th>\n      <th>email</th>\n      <th>source</th>\n      <th>Nombre</th>\n      <th>Apellido</th>\n      <th>IP</th>\n      <th>Submission ID</th>\n    </tr>\n  </thead>\n  <tbody>\n    <tr>\n      <th>0</th>\n      <td>2022-12-06 19:37:45</td>\n      <td>shaniaroman95@gmail.com</td>\n      <td>cf6371f0-03e0-4535-a412-9377f9e620a3</td>\n      <td>ddd</td>\n      <td>scho</td>\n      <td>201.168.3.242</td>\n      <td>5461826652421731232</td>\n    </tr>\n    <tr>\n      <th>1</th>\n      <td>2022-12-06 20:02:58</td>\n      <td>miguelvr264@gmail.com</td>\n      <td>230be166-6252-4bc4-a56f-a9c771d043c6</td>\n      <td>Miguel</td>\n      <td>Villanueva</td>\n      <td>201.162.232.240</td>\n      <td>5461841780425898227</td>\n    </tr>\n    <tr>\n      <th>2</th>\n      <td>2022-12-06 20:03:24</td>\n      <td>eveguzmanpl@gmail.com</td>\n      <td>21df3d63-8a23-4e25-8e30-e00422aae795</td>\n      <td>Evelyn Yamila</td>\n      <td>Guzmán Pérez</td>\n      <td>201.123.158.64</td>\n      <td>5461842044689695386</td>\n    </tr>\n    <tr>\n      <th>3</th>\n      <td>2022-12-06 20:04:53</td>\n      <td>caritthoa@gmail.com</td>\n      <td>1b49718b-594c-419f-b2c6-c91ccbdf847d</td>\n      <td>Norma Carolina</td>\n      <td>Aguirre Estevez</td>\n      <td>189.147.99.24</td>\n      <td>5461842934291697889</td>\n    </tr>\n    <tr>\n      <th>4</th>\n      <td>2022-12-06 20:05:38</td>\n      <td>serchnayarita@gmail.com</td>\n      <td>79df32d4-40ed-44c6-bf25-cc39069fa414</td>\n      <td>Sergio</td>\n      <td>Partida</td>\n      <td>200.68.167.102</td>\n      <td>5461843372014690058</td>\n    </tr>\n    <tr>\n      <th>5</th>\n      <td>2022-12-06 20:07:02</td>\n      <td>fredyalmaraz0510@gmail.com</td>\n      <td>9ba214f1-76df-40d2-b09a-1389b363c2c9</td>\n      <td>Fredy</td>\n      <td>Almaraz</td>\n      <td>200.63.41.174</td>\n      <td>5461844224713350263</td>\n    </tr>\n    <tr>\n      <th>6</th>\n      <td>2022-12-06 20:07:36</td>\n      <td>fredyalmaraz0510@gmail.com</td>\n      <td>9ba214f1-76df-40d2-b09a-1389b363c2c9</td>\n      <td>Fredy</td>\n      <td>Almaraz</td>\n      <td>200.63.41.174</td>\n      <td>5461844564714276989</td>\n    </tr>\n  </tbody>\n</table>\n</div>"
     },
     "execution_count": 21,
     "metadata": {},
     "output_type": "execute_result"
    }
   ],
   "source": [
    "opt_in_info.head(7)"
   ],
   "metadata": {
    "collapsed": false
   }
  },
  {
   "cell_type": "code",
   "execution_count": 22,
   "outputs": [],
   "source": [
    "# EDA optIn\n",
    "opt_in_info = opt_in_info[['source']]\n",
    "opt_in_info.columns = ['user_id']\n",
    "opt_in_info = pd.DataFrame(opt_in_info.user_id.drop_duplicates(), columns = ['user_id'])\n",
    "opt_in_info['optIn'] = True"
   ],
   "metadata": {
    "collapsed": false
   }
  },
  {
   "cell_type": "markdown",
   "source": [
    "## Cashback Calculation"
   ],
   "metadata": {
    "collapsed": false
   }
  },
  {
   "cell_type": "code",
   "execution_count": 53,
   "outputs": [],
   "source": [
    "cashback_december = pd.read_csv('../Cashback_Payments/Raw_WO_CCK_December.csv')"
   ],
   "metadata": {
    "collapsed": false
   }
  },
  {
   "cell_type": "code",
   "execution_count": 54,
   "outputs": [],
   "source": [
    "# Total purchases\n",
    "cashback_december['total_purchases'] = cashback_december.ArcusPurchaseNum + cashback_december.GalileoPurchaseNum\n",
    "# Total amount Purchases\n",
    "cashback_december['amount_purch'] = cashback_december.GalileoPurchaseAmount + cashback_december.ArcusPurchaseAmount\n",
    "# Calculate the right amount of spend for each user\n",
    "cashback_december['cashback_amount'] = -1 * cashback_december.amount_purch - cashback_december.GalileoAdjustAmount - - cashback_december.ArcusAdjustAmount\n",
    "# Calculate the cashback\n",
    "cashback_december['cashback'] = cashback_december.cashback_amount * 0.01\n",
    "# Top the cashback for max 1000\n",
    "cashback_december['cashback'] = cashback_december['cashback'].apply(lambda x: 1000 if x > 1000 else round(x, 1))"
   ],
   "metadata": {
    "collapsed": false
   }
  },
  {
   "cell_type": "code",
   "execution_count": 55,
   "outputs": [],
   "source": [
    "dec_cashback = cashback_december[['user_id', 'amount_purch', 'total_purchases', 'cashback_amount', 'cashback']]"
   ],
   "metadata": {
    "collapsed": false
   }
  },
  {
   "cell_type": "code",
   "execution_count": 56,
   "outputs": [],
   "source": [
    "# Add the segment info\n",
    "dec_cashback = pd.merge(dec_cashback, cohorts_info, on='user_id', how='left')\n",
    "# Add optIn responses\n",
    "dec_cashback = pd.merge(dec_cashback, opt_in_info, on='user_id', how='left')\n",
    "# Filter the less than 1\n",
    "dec_cashback = dec_cashback[dec_cashback['cashback'] >= 1]"
   ],
   "metadata": {
    "collapsed": false
   }
  },
  {
   "cell_type": "code",
   "execution_count": 57,
   "outputs": [],
   "source": [
    "# Fill users not in experiment\n",
    "dec_cashback.cashback_type = dec_cashback.cashback_type.fillna('10p')\n",
    "# Fill users with no required OptIn\n",
    "dec_cashback.needed_opt_in = dec_cashback.needed_opt_in.fillna(False)\n",
    "# Fill users with no OptIn\n",
    "dec_cashback.optIn = dec_cashback.optIn.fillna(False)"
   ],
   "metadata": {
    "collapsed": false
   }
  },
  {
   "cell_type": "code",
   "execution_count": 58,
   "outputs": [
    {
     "data": {
      "text/plain": "                                 user_id  amount_purch  total_purchases  \\\n1   00007e60-e21e-4616-81b4-4afae84713ee       -281.00              3.0   \n2   000096ca-40b4-4de0-8b71-6f16939af17f       -527.78              5.0   \n4   00017516-8f98-4f85-b58e-09b4fb9c2c3e       -250.00              1.0   \n5   0002325b-5c34-4e23-89d4-e289b52b1ab7       -750.84              4.0   \n6   00024ed7-05c1-4421-ae51-0a4d1cd4ecd0      -1860.45              1.0   \n9   0003455b-033d-48ee-80d2-77c05664c154       -697.45              3.0   \n10  00038557-6c50-4a9f-9cd8-c49a28987754      -2586.50             10.0   \n\n    cashback_amount  cashback cashback_type  needed_opt_in  optIn  \n1            281.00       2.8           10p           True  False  \n2            527.78       5.3           10p          False  False  \n4            250.00       2.5           10p          False  False  \n5            750.84       7.5           10p           True  False  \n6           1860.45      18.6     2k_or_10p           True  False  \n9            697.45       7.0     2k_or_10p           True  False  \n10          2586.50      25.9     2k_or_10p           True  False  ",
      "text/html": "<div>\n<style scoped>\n    .dataframe tbody tr th:only-of-type {\n        vertical-align: middle;\n    }\n\n    .dataframe tbody tr th {\n        vertical-align: top;\n    }\n\n    .dataframe thead th {\n        text-align: right;\n    }\n</style>\n<table border=\"1\" class=\"dataframe\">\n  <thead>\n    <tr style=\"text-align: right;\">\n      <th></th>\n      <th>user_id</th>\n      <th>amount_purch</th>\n      <th>total_purchases</th>\n      <th>cashback_amount</th>\n      <th>cashback</th>\n      <th>cashback_type</th>\n      <th>needed_opt_in</th>\n      <th>optIn</th>\n    </tr>\n  </thead>\n  <tbody>\n    <tr>\n      <th>1</th>\n      <td>00007e60-e21e-4616-81b4-4afae84713ee</td>\n      <td>-281.00</td>\n      <td>3.0</td>\n      <td>281.00</td>\n      <td>2.8</td>\n      <td>10p</td>\n      <td>True</td>\n      <td>False</td>\n    </tr>\n    <tr>\n      <th>2</th>\n      <td>000096ca-40b4-4de0-8b71-6f16939af17f</td>\n      <td>-527.78</td>\n      <td>5.0</td>\n      <td>527.78</td>\n      <td>5.3</td>\n      <td>10p</td>\n      <td>False</td>\n      <td>False</td>\n    </tr>\n    <tr>\n      <th>4</th>\n      <td>00017516-8f98-4f85-b58e-09b4fb9c2c3e</td>\n      <td>-250.00</td>\n      <td>1.0</td>\n      <td>250.00</td>\n      <td>2.5</td>\n      <td>10p</td>\n      <td>False</td>\n      <td>False</td>\n    </tr>\n    <tr>\n      <th>5</th>\n      <td>0002325b-5c34-4e23-89d4-e289b52b1ab7</td>\n      <td>-750.84</td>\n      <td>4.0</td>\n      <td>750.84</td>\n      <td>7.5</td>\n      <td>10p</td>\n      <td>True</td>\n      <td>False</td>\n    </tr>\n    <tr>\n      <th>6</th>\n      <td>00024ed7-05c1-4421-ae51-0a4d1cd4ecd0</td>\n      <td>-1860.45</td>\n      <td>1.0</td>\n      <td>1860.45</td>\n      <td>18.6</td>\n      <td>2k_or_10p</td>\n      <td>True</td>\n      <td>False</td>\n    </tr>\n    <tr>\n      <th>9</th>\n      <td>0003455b-033d-48ee-80d2-77c05664c154</td>\n      <td>-697.45</td>\n      <td>3.0</td>\n      <td>697.45</td>\n      <td>7.0</td>\n      <td>2k_or_10p</td>\n      <td>True</td>\n      <td>False</td>\n    </tr>\n    <tr>\n      <th>10</th>\n      <td>00038557-6c50-4a9f-9cd8-c49a28987754</td>\n      <td>-2586.50</td>\n      <td>10.0</td>\n      <td>2586.50</td>\n      <td>25.9</td>\n      <td>2k_or_10p</td>\n      <td>True</td>\n      <td>False</td>\n    </tr>\n  </tbody>\n</table>\n</div>"
     },
     "execution_count": 58,
     "metadata": {},
     "output_type": "execute_result"
    }
   ],
   "source": [
    "dec_cashback.head(7)"
   ],
   "metadata": {
    "collapsed": false
   }
  },
  {
   "cell_type": "markdown",
   "source": [
    "## Payment Filter"
   ],
   "metadata": {
    "collapsed": false
   }
  },
  {
   "cell_type": "code",
   "execution_count": 59,
   "outputs": [],
   "source": [
    "# Filter for payment\n",
    "dec_cashback['Payment_filter'] = dec_cashback.apply(lambda x:\n",
    "                                                    (\n",
    "                                                        (\n",
    "                                                            (True if x.cashback_amount >= 3000 else False)\n",
    "                                                            # Third Level Filter\n",
    "                                                            if x.cashback_type == '3k'\n",
    "                                                            else(\n",
    "                                                                (True if x.cashback_amount >= 2000 else False)\n",
    "                                                                # Fourth Level Filter\n",
    "                                                                if x.cashback_type == '2k'\n",
    "                                                                else\n",
    "                                                                    (\n",
    "                                                                        (True if x.cashback_amount >= 2000 or x.total_purchases > 9 else False)\n",
    "                                                                        # Fifth Level Filter\n",
    "                                                                        if x.cashback_type == '2k_or_10p'\n",
    "                                                                        else (True if x.total_purchases > 9 else False)\n",
    "                                                                    )\n",
    "                                                                )\n",
    "                                                        )\n",
    "                                                        # Second Level Filter\n",
    "                                                        if x.optIn else False\n",
    "                                                    )\n",
    "                                                    # First Level Filter\n",
    "                                                    if x.needed_opt_in\n",
    "                                                    else(\n",
    "                                                            (True if x.total_purchases > 9 else False)\n",
    "                                                        # Second Level Filter\n",
    "                                                        if x.cashback_type == '10p'\n",
    "                                                        else\n",
    "                                                            False\n",
    "                                                        )\n",
    "                                                    , axis=1)"
   ],
   "metadata": {
    "collapsed": false
   }
  },
  {
   "cell_type": "code",
   "execution_count": 61,
   "outputs": [
    {
     "data": {
      "text/plain": "                                  user_id  amount_purch  total_purchases  \\\n16   00057154-a204-4f63-9a27-f70bb9885dc8      -4248.33              7.0   \n38   00103496-0e0e-4e4d-a970-1366bb3485b5      -1271.86              6.0   \n40   00114f49-f903-4028-a100-a6c2abccb35d       -459.80              3.0   \n41   00126573-2ace-4c36-b24b-a8dba3b9e9b7      -9557.91             21.0   \n45   0014400b-0570-4d22-9c59-1e9c11ec94a4      -2477.08             16.0   \n54   0018aa72-d2bb-4069-91c5-2a0271165367       -913.70             12.0   \n72   001f4e2e-774e-481c-bbd7-2898fd0f69fa      -8723.10             39.0   \n75   00203315-5ecf-462d-a616-0ee0c27ff362      -2331.12              9.0   \n78   0021bdea-c63e-44a2-94ad-e8301938f83f     -15772.55             49.0   \n80   00227fd4-62ea-424f-acdf-6a6d8bc696ee     -17728.26             71.0   \n81   00228ae3-f794-408c-b494-74f0f40d4f36      -2050.97              8.0   \n84   002377bc-287d-433a-967f-ba631a361e5d      -1614.65              9.0   \n96   0029bf54-6846-450d-a768-0d9e9bb6731e      -1731.93              4.0   \n109  0030d5f5-5d57-4d65-b74b-4535e057dcf4    -104577.81             42.0   \n149  003e8533-2fa1-4da1-9692-c8d95aecbd05      -1709.00              9.0   \n181  004d85d8-8926-4d00-8c68-4758422961ea      -2291.09             19.0   \n198  00537b0f-63bc-4618-aba6-1d5f96746ca9       -149.00              1.0   \n212  005f5afe-3655-45f3-b3e1-f83b77b4739b      -1025.00              5.0   \n229  00659dfe-e2cc-4a66-94e9-19376d52bce9       -109.00              1.0   \n230  0065a689-dd54-4502-ac76-277906f89e1f      -2130.35             19.0   \n240  006a575f-e16b-4c02-b054-21d79ca930fd       -600.00              3.0   \n247  006b6739-5aab-463d-a361-44430f250357      -1508.89              5.0   \n253  006cd137-2d6a-43bb-81e7-057263e30431       -100.00              1.0   \n269  00745140-b24a-4a83-a26f-20caf1250f6e       -140.00              1.0   \n273  0074c997-bbb3-4e79-a708-4625df625338       -256.92              3.0   \n\n     cashback_amount  cashback cashback_type  needed_opt_in  optIn  \\\n16           4248.33      42.5            2k           True   True   \n38           1271.86      12.7            2k           True   True   \n40            459.80       4.6     2k_or_10p           True   True   \n41           9557.91      95.6            2k           True   True   \n45           2456.31      24.6            2k           True   True   \n54            913.70       9.1     2k_or_10p           True   True   \n72           8723.10      87.2           10p           True   True   \n75           2331.12      23.3           10p           True   True   \n78          15772.55     157.7            3k           True   True   \n80          17728.26     177.3     2k_or_10p           True   True   \n81           2050.97      20.5     2k_or_10p           True   True   \n84           1614.65      16.1            2k           True   True   \n96           1731.93      17.3           10p           True   True   \n109        104577.81    1000.0           10p           True   True   \n149          1709.00      17.1            2k           True   True   \n181          2291.09      22.9            3k           True   True   \n198           149.00       1.5           10p           True   True   \n212          1025.00      10.2            2k           True   True   \n229           109.00       1.1            2k           True   True   \n230          2130.35      21.3            3k           True   True   \n240           600.00       6.0     2k_or_10p           True   True   \n247          1508.89      15.1            2k           True   True   \n253           100.00       1.0            2k           True   True   \n269           140.00       1.4            3k           True   True   \n273           256.92       2.6     2k_or_10p           True   True   \n\n     Payment_filter  \n16             True  \n38            False  \n40            False  \n41             True  \n45             True  \n54             True  \n72            False  \n75            False  \n78             True  \n80             True  \n81             True  \n84            False  \n96            False  \n109           False  \n149           False  \n181           False  \n198           False  \n212           False  \n229           False  \n230           False  \n240           False  \n247           False  \n253           False  \n269           False  \n273           False  ",
      "text/html": "<div>\n<style scoped>\n    .dataframe tbody tr th:only-of-type {\n        vertical-align: middle;\n    }\n\n    .dataframe tbody tr th {\n        vertical-align: top;\n    }\n\n    .dataframe thead th {\n        text-align: right;\n    }\n</style>\n<table border=\"1\" class=\"dataframe\">\n  <thead>\n    <tr style=\"text-align: right;\">\n      <th></th>\n      <th>user_id</th>\n      <th>amount_purch</th>\n      <th>total_purchases</th>\n      <th>cashback_amount</th>\n      <th>cashback</th>\n      <th>cashback_type</th>\n      <th>needed_opt_in</th>\n      <th>optIn</th>\n      <th>Payment_filter</th>\n    </tr>\n  </thead>\n  <tbody>\n    <tr>\n      <th>16</th>\n      <td>00057154-a204-4f63-9a27-f70bb9885dc8</td>\n      <td>-4248.33</td>\n      <td>7.0</td>\n      <td>4248.33</td>\n      <td>42.5</td>\n      <td>2k</td>\n      <td>True</td>\n      <td>True</td>\n      <td>True</td>\n    </tr>\n    <tr>\n      <th>38</th>\n      <td>00103496-0e0e-4e4d-a970-1366bb3485b5</td>\n      <td>-1271.86</td>\n      <td>6.0</td>\n      <td>1271.86</td>\n      <td>12.7</td>\n      <td>2k</td>\n      <td>True</td>\n      <td>True</td>\n      <td>False</td>\n    </tr>\n    <tr>\n      <th>40</th>\n      <td>00114f49-f903-4028-a100-a6c2abccb35d</td>\n      <td>-459.80</td>\n      <td>3.0</td>\n      <td>459.80</td>\n      <td>4.6</td>\n      <td>2k_or_10p</td>\n      <td>True</td>\n      <td>True</td>\n      <td>False</td>\n    </tr>\n    <tr>\n      <th>41</th>\n      <td>00126573-2ace-4c36-b24b-a8dba3b9e9b7</td>\n      <td>-9557.91</td>\n      <td>21.0</td>\n      <td>9557.91</td>\n      <td>95.6</td>\n      <td>2k</td>\n      <td>True</td>\n      <td>True</td>\n      <td>True</td>\n    </tr>\n    <tr>\n      <th>45</th>\n      <td>0014400b-0570-4d22-9c59-1e9c11ec94a4</td>\n      <td>-2477.08</td>\n      <td>16.0</td>\n      <td>2456.31</td>\n      <td>24.6</td>\n      <td>2k</td>\n      <td>True</td>\n      <td>True</td>\n      <td>True</td>\n    </tr>\n    <tr>\n      <th>54</th>\n      <td>0018aa72-d2bb-4069-91c5-2a0271165367</td>\n      <td>-913.70</td>\n      <td>12.0</td>\n      <td>913.70</td>\n      <td>9.1</td>\n      <td>2k_or_10p</td>\n      <td>True</td>\n      <td>True</td>\n      <td>True</td>\n    </tr>\n    <tr>\n      <th>72</th>\n      <td>001f4e2e-774e-481c-bbd7-2898fd0f69fa</td>\n      <td>-8723.10</td>\n      <td>39.0</td>\n      <td>8723.10</td>\n      <td>87.2</td>\n      <td>10p</td>\n      <td>True</td>\n      <td>True</td>\n      <td>False</td>\n    </tr>\n    <tr>\n      <th>75</th>\n      <td>00203315-5ecf-462d-a616-0ee0c27ff362</td>\n      <td>-2331.12</td>\n      <td>9.0</td>\n      <td>2331.12</td>\n      <td>23.3</td>\n      <td>10p</td>\n      <td>True</td>\n      <td>True</td>\n      <td>False</td>\n    </tr>\n    <tr>\n      <th>78</th>\n      <td>0021bdea-c63e-44a2-94ad-e8301938f83f</td>\n      <td>-15772.55</td>\n      <td>49.0</td>\n      <td>15772.55</td>\n      <td>157.7</td>\n      <td>3k</td>\n      <td>True</td>\n      <td>True</td>\n      <td>True</td>\n    </tr>\n    <tr>\n      <th>80</th>\n      <td>00227fd4-62ea-424f-acdf-6a6d8bc696ee</td>\n      <td>-17728.26</td>\n      <td>71.0</td>\n      <td>17728.26</td>\n      <td>177.3</td>\n      <td>2k_or_10p</td>\n      <td>True</td>\n      <td>True</td>\n      <td>True</td>\n    </tr>\n    <tr>\n      <th>81</th>\n      <td>00228ae3-f794-408c-b494-74f0f40d4f36</td>\n      <td>-2050.97</td>\n      <td>8.0</td>\n      <td>2050.97</td>\n      <td>20.5</td>\n      <td>2k_or_10p</td>\n      <td>True</td>\n      <td>True</td>\n      <td>True</td>\n    </tr>\n    <tr>\n      <th>84</th>\n      <td>002377bc-287d-433a-967f-ba631a361e5d</td>\n      <td>-1614.65</td>\n      <td>9.0</td>\n      <td>1614.65</td>\n      <td>16.1</td>\n      <td>2k</td>\n      <td>True</td>\n      <td>True</td>\n      <td>False</td>\n    </tr>\n    <tr>\n      <th>96</th>\n      <td>0029bf54-6846-450d-a768-0d9e9bb6731e</td>\n      <td>-1731.93</td>\n      <td>4.0</td>\n      <td>1731.93</td>\n      <td>17.3</td>\n      <td>10p</td>\n      <td>True</td>\n      <td>True</td>\n      <td>False</td>\n    </tr>\n    <tr>\n      <th>109</th>\n      <td>0030d5f5-5d57-4d65-b74b-4535e057dcf4</td>\n      <td>-104577.81</td>\n      <td>42.0</td>\n      <td>104577.81</td>\n      <td>1000.0</td>\n      <td>10p</td>\n      <td>True</td>\n      <td>True</td>\n      <td>False</td>\n    </tr>\n    <tr>\n      <th>149</th>\n      <td>003e8533-2fa1-4da1-9692-c8d95aecbd05</td>\n      <td>-1709.00</td>\n      <td>9.0</td>\n      <td>1709.00</td>\n      <td>17.1</td>\n      <td>2k</td>\n      <td>True</td>\n      <td>True</td>\n      <td>False</td>\n    </tr>\n    <tr>\n      <th>181</th>\n      <td>004d85d8-8926-4d00-8c68-4758422961ea</td>\n      <td>-2291.09</td>\n      <td>19.0</td>\n      <td>2291.09</td>\n      <td>22.9</td>\n      <td>3k</td>\n      <td>True</td>\n      <td>True</td>\n      <td>False</td>\n    </tr>\n    <tr>\n      <th>198</th>\n      <td>00537b0f-63bc-4618-aba6-1d5f96746ca9</td>\n      <td>-149.00</td>\n      <td>1.0</td>\n      <td>149.00</td>\n      <td>1.5</td>\n      <td>10p</td>\n      <td>True</td>\n      <td>True</td>\n      <td>False</td>\n    </tr>\n    <tr>\n      <th>212</th>\n      <td>005f5afe-3655-45f3-b3e1-f83b77b4739b</td>\n      <td>-1025.00</td>\n      <td>5.0</td>\n      <td>1025.00</td>\n      <td>10.2</td>\n      <td>2k</td>\n      <td>True</td>\n      <td>True</td>\n      <td>False</td>\n    </tr>\n    <tr>\n      <th>229</th>\n      <td>00659dfe-e2cc-4a66-94e9-19376d52bce9</td>\n      <td>-109.00</td>\n      <td>1.0</td>\n      <td>109.00</td>\n      <td>1.1</td>\n      <td>2k</td>\n      <td>True</td>\n      <td>True</td>\n      <td>False</td>\n    </tr>\n    <tr>\n      <th>230</th>\n      <td>0065a689-dd54-4502-ac76-277906f89e1f</td>\n      <td>-2130.35</td>\n      <td>19.0</td>\n      <td>2130.35</td>\n      <td>21.3</td>\n      <td>3k</td>\n      <td>True</td>\n      <td>True</td>\n      <td>False</td>\n    </tr>\n    <tr>\n      <th>240</th>\n      <td>006a575f-e16b-4c02-b054-21d79ca930fd</td>\n      <td>-600.00</td>\n      <td>3.0</td>\n      <td>600.00</td>\n      <td>6.0</td>\n      <td>2k_or_10p</td>\n      <td>True</td>\n      <td>True</td>\n      <td>False</td>\n    </tr>\n    <tr>\n      <th>247</th>\n      <td>006b6739-5aab-463d-a361-44430f250357</td>\n      <td>-1508.89</td>\n      <td>5.0</td>\n      <td>1508.89</td>\n      <td>15.1</td>\n      <td>2k</td>\n      <td>True</td>\n      <td>True</td>\n      <td>False</td>\n    </tr>\n    <tr>\n      <th>253</th>\n      <td>006cd137-2d6a-43bb-81e7-057263e30431</td>\n      <td>-100.00</td>\n      <td>1.0</td>\n      <td>100.00</td>\n      <td>1.0</td>\n      <td>2k</td>\n      <td>True</td>\n      <td>True</td>\n      <td>False</td>\n    </tr>\n    <tr>\n      <th>269</th>\n      <td>00745140-b24a-4a83-a26f-20caf1250f6e</td>\n      <td>-140.00</td>\n      <td>1.0</td>\n      <td>140.00</td>\n      <td>1.4</td>\n      <td>3k</td>\n      <td>True</td>\n      <td>True</td>\n      <td>False</td>\n    </tr>\n    <tr>\n      <th>273</th>\n      <td>0074c997-bbb3-4e79-a708-4625df625338</td>\n      <td>-256.92</td>\n      <td>3.0</td>\n      <td>256.92</td>\n      <td>2.6</td>\n      <td>2k_or_10p</td>\n      <td>True</td>\n      <td>True</td>\n      <td>False</td>\n    </tr>\n  </tbody>\n</table>\n</div>"
     },
     "execution_count": 61,
     "metadata": {},
     "output_type": "execute_result"
    }
   ],
   "source": [
    "dec_cashback[dec_cashback.optIn].head(25)"
   ],
   "metadata": {
    "collapsed": false
   }
  },
  {
   "cell_type": "markdown",
   "source": [
    "## Cashback to pay"
   ],
   "metadata": {
    "collapsed": false
   }
  },
  {
   "cell_type": "code",
   "execution_count": 62,
   "outputs": [
    {
     "data": {
      "text/plain": "765203.1"
     },
     "execution_count": 62,
     "metadata": {},
     "output_type": "execute_result"
    }
   ],
   "source": [
    "dec_cashback[dec_cashback.Payment_filter]['cashback'].sum()"
   ],
   "metadata": {
    "collapsed": false
   }
  },
  {
   "cell_type": "code",
   "execution_count": 63,
   "outputs": [],
   "source": [
    "dec_cashback.to_csv(output_directory, index = False)"
   ],
   "metadata": {
    "collapsed": false
   }
  },
  {
   "cell_type": "code",
   "execution_count": null,
   "outputs": [],
   "source": [],
   "metadata": {
    "collapsed": false
   }
  }
 ],
 "metadata": {
  "kernelspec": {
   "display_name": "Python 3",
   "language": "python",
   "name": "python3"
  },
  "language_info": {
   "codemirror_mode": {
    "name": "ipython",
    "version": 2
   },
   "file_extension": ".py",
   "mimetype": "text/x-python",
   "name": "python",
   "nbconvert_exporter": "python",
   "pygments_lexer": "ipython2",
   "version": "2.7.6"
  }
 },
 "nbformat": 4,
 "nbformat_minor": 0
}
