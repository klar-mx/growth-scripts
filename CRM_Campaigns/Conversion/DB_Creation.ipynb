{
 "cells": [
  {
   "cell_type": "code",
   "execution_count": 1,
   "metadata": {
    "collapsed": true
   },
   "outputs": [],
   "source": [
    "import pandas as pd\n",
    "import os\n",
    "\n",
    "pickles = [x for x in os.listdir('./Data') if 'pkl' in x]\n",
    "\n",
    "months = [x.split('.pkl')[0] for x in pickles]"
   ]
  },
  {
   "cell_type": "code",
   "execution_count": 205,
   "outputs": [
    {
     "data": {
      "text/plain": "                                user_id                 segment Payment  \\\n0  75795a6d-78d2-4730-907f-f94bed06561a  CSU+1T no 1P - control     NaN   \n1  1f956253-dddc-46db-903c-c11fbe7c6076  CSU+1T no 1P - control     NaN   \n2  02735387-2b8b-41ca-8313-75f6b5409e9a  CSU+1T no 1P - control     NaN   \n3  d544f5a2-73da-4f26-834b-fde0c87c5a23  CSU+1T no 1P - control     NaN   \n4  ce1580fb-d139-4703-80eb-c5f727bb3d69  CSU+1T no 1P - control     NaN   \n\n         month principal_segment sub_segment type_segment  \n0  October2021    CSU + 1T no 1P        <NA>            C  \n1  October2021    CSU + 1T no 1P        <NA>            C  \n2  October2021    CSU + 1T no 1P        <NA>            C  \n3  October2021    CSU + 1T no 1P        <NA>            C  \n4  October2021    CSU + 1T no 1P        <NA>            C  ",
      "text/html": "<div>\n<style scoped>\n    .dataframe tbody tr th:only-of-type {\n        vertical-align: middle;\n    }\n\n    .dataframe tbody tr th {\n        vertical-align: top;\n    }\n\n    .dataframe thead th {\n        text-align: right;\n    }\n</style>\n<table border=\"1\" class=\"dataframe\">\n  <thead>\n    <tr style=\"text-align: right;\">\n      <th></th>\n      <th>user_id</th>\n      <th>segment</th>\n      <th>Payment</th>\n      <th>month</th>\n      <th>principal_segment</th>\n      <th>sub_segment</th>\n      <th>type_segment</th>\n    </tr>\n  </thead>\n  <tbody>\n    <tr>\n      <th>0</th>\n      <td>75795a6d-78d2-4730-907f-f94bed06561a</td>\n      <td>CSU+1T no 1P - control</td>\n      <td>NaN</td>\n      <td>October2021</td>\n      <td>CSU + 1T no 1P</td>\n      <td>&lt;NA&gt;</td>\n      <td>C</td>\n    </tr>\n    <tr>\n      <th>1</th>\n      <td>1f956253-dddc-46db-903c-c11fbe7c6076</td>\n      <td>CSU+1T no 1P - control</td>\n      <td>NaN</td>\n      <td>October2021</td>\n      <td>CSU + 1T no 1P</td>\n      <td>&lt;NA&gt;</td>\n      <td>C</td>\n    </tr>\n    <tr>\n      <th>2</th>\n      <td>02735387-2b8b-41ca-8313-75f6b5409e9a</td>\n      <td>CSU+1T no 1P - control</td>\n      <td>NaN</td>\n      <td>October2021</td>\n      <td>CSU + 1T no 1P</td>\n      <td>&lt;NA&gt;</td>\n      <td>C</td>\n    </tr>\n    <tr>\n      <th>3</th>\n      <td>d544f5a2-73da-4f26-834b-fde0c87c5a23</td>\n      <td>CSU+1T no 1P - control</td>\n      <td>NaN</td>\n      <td>October2021</td>\n      <td>CSU + 1T no 1P</td>\n      <td>&lt;NA&gt;</td>\n      <td>C</td>\n    </tr>\n    <tr>\n      <th>4</th>\n      <td>ce1580fb-d139-4703-80eb-c5f727bb3d69</td>\n      <td>CSU+1T no 1P - control</td>\n      <td>NaN</td>\n      <td>October2021</td>\n      <td>CSU + 1T no 1P</td>\n      <td>&lt;NA&gt;</td>\n      <td>C</td>\n    </tr>\n  </tbody>\n</table>\n</div>"
     },
     "execution_count": 205,
     "metadata": {},
     "output_type": "execute_result"
    }
   ],
   "source": [
    "i = 9\n",
    "\n",
    "month = pd.read_pickle('./Data/' + pickles[i])\n",
    "month.head()"
   ],
   "metadata": {
    "collapsed": false,
    "pycharm": {
     "name": "#%%\n"
    }
   }
  },
  {
   "cell_type": "code",
   "execution_count": 180,
   "outputs": [
    {
     "data": {
      "text/plain": "75795a6d-78d2-4730-907f-f94bed06561a    1\n03a11e43-73d0-4cad-9151-c5b838a6bc62    1\nf63a76c7-99ea-4ea5-8d6e-38215bebf554    1\n979b340e-b728-4733-90d3-99781fb48b5a    1\n85d8c545-231d-4b66-8fbe-8097768c0c6d    1\n                                       ..\n700c605f-a735-4e4b-bdf6-70994d2cb9fa    1\nb6853f19-de11-4d96-b147-7550c2dfe313    1\n78476075-ebe5-4fda-91e2-3788b1a1666e    1\na3603ae2-c520-4b47-8dc4-0141e36d0102    1\n48cb4f70-4897-4691-8b96-a0916af06bae    1\nName: user_id, Length: 531008, dtype: int64"
     },
     "execution_count": 180,
     "metadata": {},
     "output_type": "execute_result"
    }
   ],
   "source": [
    "month.user_id.value_counts()"
   ],
   "metadata": {
    "collapsed": false,
    "pycharm": {
     "name": "#%%\n"
    }
   }
  },
  {
   "cell_type": "code",
   "execution_count": 181,
   "outputs": [
    {
     "data": {
      "text/plain": "                                user_id                             segment  \\\n0  75795a6d-78d2-4730-907f-f94bed06561a  CSU+1T no 1P - control_October2021   \n1  1f956253-dddc-46db-903c-c11fbe7c6076  CSU+1T no 1P - control_October2021   \n2  02735387-2b8b-41ca-8313-75f6b5409e9a  CSU+1T no 1P - control_October2021   \n3  d544f5a2-73da-4f26-834b-fde0c87c5a23  CSU+1T no 1P - control_October2021   \n4  ce1580fb-d139-4703-80eb-c5f727bb3d69  CSU+1T no 1P - control_October2021   \n\n  Payment  \n0     NaN  \n1     NaN  \n2     NaN  \n3     NaN  \n4     NaN  ",
      "text/html": "<div>\n<style scoped>\n    .dataframe tbody tr th:only-of-type {\n        vertical-align: middle;\n    }\n\n    .dataframe tbody tr th {\n        vertical-align: top;\n    }\n\n    .dataframe thead th {\n        text-align: right;\n    }\n</style>\n<table border=\"1\" class=\"dataframe\">\n  <thead>\n    <tr style=\"text-align: right;\">\n      <th></th>\n      <th>user_id</th>\n      <th>segment</th>\n      <th>Payment</th>\n    </tr>\n  </thead>\n  <tbody>\n    <tr>\n      <th>0</th>\n      <td>75795a6d-78d2-4730-907f-f94bed06561a</td>\n      <td>CSU+1T no 1P - control_October2021</td>\n      <td>NaN</td>\n    </tr>\n    <tr>\n      <th>1</th>\n      <td>1f956253-dddc-46db-903c-c11fbe7c6076</td>\n      <td>CSU+1T no 1P - control_October2021</td>\n      <td>NaN</td>\n    </tr>\n    <tr>\n      <th>2</th>\n      <td>02735387-2b8b-41ca-8313-75f6b5409e9a</td>\n      <td>CSU+1T no 1P - control_October2021</td>\n      <td>NaN</td>\n    </tr>\n    <tr>\n      <th>3</th>\n      <td>d544f5a2-73da-4f26-834b-fde0c87c5a23</td>\n      <td>CSU+1T no 1P - control_October2021</td>\n      <td>NaN</td>\n    </tr>\n    <tr>\n      <th>4</th>\n      <td>ce1580fb-d139-4703-80eb-c5f727bb3d69</td>\n      <td>CSU+1T no 1P - control_October2021</td>\n      <td>NaN</td>\n    </tr>\n  </tbody>\n</table>\n</div>"
     },
     "execution_count": 181,
     "metadata": {},
     "output_type": "execute_result"
    }
   ],
   "source": [
    "month = month[month.user_id != 0]\n",
    "month = month.drop_duplicates('user_id')\n",
    "month.head()"
   ],
   "metadata": {
    "collapsed": false,
    "pycharm": {
     "name": "#%%\n"
    }
   }
  },
  {
   "cell_type": "code",
   "execution_count": 182,
   "outputs": [
    {
     "data": {
      "text/plain": "CSU no 1P and 1T - 300_October2021      301455\nCSU+1T no 1P - 300_October2021           70873\nCSU no 1P and 1T - contr_October2021     43070\nCSU no 1P and 1T - 400_October2021       42882\nCSU no 1P and 1T - 200_October2021       42806\nCSU+1T no 1P - 200_October2021           10140\nCSU+1T no 1P - control_October2021        9988\nCSU+1T no 1P - 400_October2021            9794\nName: segment, dtype: int64"
     },
     "execution_count": 182,
     "metadata": {},
     "output_type": "execute_result"
    }
   ],
   "source": [
    "month.segment.value_counts()"
   ],
   "metadata": {
    "collapsed": false,
    "pycharm": {
     "name": "#%%\n"
    }
   }
  },
  {
   "cell_type": "code",
   "execution_count": 183,
   "outputs": [],
   "source": [
    "month['month']  = month.segment.apply(lambda x: x.split('_')[1])\n",
    "\n",
    "month.segment  = month.segment.apply(lambda x: x.split('_')[0])"
   ],
   "metadata": {
    "collapsed": false,
    "pycharm": {
     "name": "#%%\n"
    }
   }
  },
  {
   "cell_type": "code",
   "execution_count": 184,
   "outputs": [
    {
     "data": {
      "text/plain": "                                user_id                 segment Payment  \\\n0  75795a6d-78d2-4730-907f-f94bed06561a  CSU+1T no 1P - control     NaN   \n1  1f956253-dddc-46db-903c-c11fbe7c6076  CSU+1T no 1P - control     NaN   \n2  02735387-2b8b-41ca-8313-75f6b5409e9a  CSU+1T no 1P - control     NaN   \n3  d544f5a2-73da-4f26-834b-fde0c87c5a23  CSU+1T no 1P - control     NaN   \n4  ce1580fb-d139-4703-80eb-c5f727bb3d69  CSU+1T no 1P - control     NaN   \n\n         month  \n0  October2021  \n1  October2021  \n2  October2021  \n3  October2021  \n4  October2021  ",
      "text/html": "<div>\n<style scoped>\n    .dataframe tbody tr th:only-of-type {\n        vertical-align: middle;\n    }\n\n    .dataframe tbody tr th {\n        vertical-align: top;\n    }\n\n    .dataframe thead th {\n        text-align: right;\n    }\n</style>\n<table border=\"1\" class=\"dataframe\">\n  <thead>\n    <tr style=\"text-align: right;\">\n      <th></th>\n      <th>user_id</th>\n      <th>segment</th>\n      <th>Payment</th>\n      <th>month</th>\n    </tr>\n  </thead>\n  <tbody>\n    <tr>\n      <th>0</th>\n      <td>75795a6d-78d2-4730-907f-f94bed06561a</td>\n      <td>CSU+1T no 1P - control</td>\n      <td>NaN</td>\n      <td>October2021</td>\n    </tr>\n    <tr>\n      <th>1</th>\n      <td>1f956253-dddc-46db-903c-c11fbe7c6076</td>\n      <td>CSU+1T no 1P - control</td>\n      <td>NaN</td>\n      <td>October2021</td>\n    </tr>\n    <tr>\n      <th>2</th>\n      <td>02735387-2b8b-41ca-8313-75f6b5409e9a</td>\n      <td>CSU+1T no 1P - control</td>\n      <td>NaN</td>\n      <td>October2021</td>\n    </tr>\n    <tr>\n      <th>3</th>\n      <td>d544f5a2-73da-4f26-834b-fde0c87c5a23</td>\n      <td>CSU+1T no 1P - control</td>\n      <td>NaN</td>\n      <td>October2021</td>\n    </tr>\n    <tr>\n      <th>4</th>\n      <td>ce1580fb-d139-4703-80eb-c5f727bb3d69</td>\n      <td>CSU+1T no 1P - control</td>\n      <td>NaN</td>\n      <td>October2021</td>\n    </tr>\n  </tbody>\n</table>\n</div>"
     },
     "execution_count": 184,
     "metadata": {},
     "output_type": "execute_result"
    }
   ],
   "source": [
    "month.head()"
   ],
   "metadata": {
    "collapsed": false,
    "pycharm": {
     "name": "#%%\n"
    }
   }
  },
  {
   "cell_type": "code",
   "execution_count": 185,
   "outputs": [
    {
     "data": {
      "text/plain": "October2021    531008\nName: month, dtype: int64"
     },
     "execution_count": 185,
     "metadata": {},
     "output_type": "execute_result"
    }
   ],
   "source": [
    "month.month.value_counts()"
   ],
   "metadata": {
    "collapsed": false,
    "pycharm": {
     "name": "#%%\n"
    }
   }
  },
  {
   "cell_type": "markdown",
   "source": [
    "SEGMENTS"
   ],
   "metadata": {
    "collapsed": false
   }
  },
  {
   "cell_type": "code",
   "execution_count": 186,
   "outputs": [
    {
     "data": {
      "text/plain": "CSU no 1P and 1T - 300      301455\nCSU+1T no 1P - 300           70873\nCSU no 1P and 1T - contr     43070\nCSU no 1P and 1T - 400       42882\nCSU no 1P and 1T - 200       42806\nCSU+1T no 1P - 200           10140\nCSU+1T no 1P - control        9988\nCSU+1T no 1P - 400            9794\nName: segment, dtype: int64"
     },
     "execution_count": 186,
     "metadata": {},
     "output_type": "execute_result"
    }
   ],
   "source": [
    "month.segment.value_counts()\n"
   ],
   "metadata": {
    "collapsed": false,
    "pycharm": {
     "name": "#%%\n"
    }
   }
  },
  {
   "cell_type": "markdown",
   "source": [
    "PRINCIPAL SEGMENT"
   ],
   "metadata": {
    "collapsed": false
   }
  },
  {
   "cell_type": "code",
   "execution_count": 195,
   "outputs": [],
   "source": [
    "month['principal_segment'] = month.segment.apply(lambda x: x.split(' - ')[0])\n",
    "# month['principal_segment'] = month.segment.apply(lambda x: x.split(' - ')[0] if len(x.split(' - ')) > 1 else 'No CSU')"
   ],
   "metadata": {
    "collapsed": false,
    "pycharm": {
     "name": "#%%\n"
    }
   }
  },
  {
   "cell_type": "code",
   "execution_count": 198,
   "outputs": [
    {
     "data": {
      "text/plain": "CSU no 1T nor 1P    430213\nCSU + 1T no 1P      100795\nName: principal_segment, dtype: int64"
     },
     "execution_count": 198,
     "metadata": {},
     "output_type": "execute_result"
    }
   ],
   "source": [
    "month.principal_segment.value_counts()"
   ],
   "metadata": {
    "collapsed": false,
    "pycharm": {
     "name": "#%%\n"
    }
   }
  },
  {
   "cell_type": "code",
   "execution_count": 197,
   "outputs": [],
   "source": [
    "principal_segments = {'CSU no 1P and 1T': 'CSU no 1T nor 1P', 'CSU+1T no 1P':'CSU + 1T no 1P', 'No CSU':'No CSU'}\n",
    "month.principal_segment = month.principal_segment.map(principal_segments)"
   ],
   "metadata": {
    "collapsed": false,
    "pycharm": {
     "name": "#%%\n"
    }
   }
  },
  {
   "cell_type": "markdown",
   "source": [
    "SUB SEGMENT"
   ],
   "metadata": {
    "collapsed": false
   }
  },
  {
   "cell_type": "code",
   "execution_count": 199,
   "outputs": [],
   "source": [
    "# month['sub_segment'] = month.segment.apply(lambda x: x.split(' - ')[1].split(' ')[1] if x.split(' - ')[1] not in ['Control', 'Treatment $300'] else pd.NA)\n",
    "# month['sub_segment'] = month.segment.apply(lambda x: x.split(' - ')[1].split(' ')[0] if len(x.split(' - ')) > 1 else pd.NA)\n",
    "month['sub_segment'] = month.segment.apply(lambda x: x.split(' - ')[1] if x.split(' - ')[1] not in ['contr', 'control'] else pd.NA)"
   ],
   "metadata": {
    "collapsed": false,
    "pycharm": {
     "name": "#%%\n"
    }
   }
  },
  {
   "cell_type": "code",
   "execution_count": 200,
   "outputs": [
    {
     "data": {
      "text/plain": "300    372328\n200     52946\n400     52676\nName: sub_segment, dtype: int64"
     },
     "execution_count": 200,
     "metadata": {},
     "output_type": "execute_result"
    }
   ],
   "source": [
    "month.sub_segment.value_counts()"
   ],
   "metadata": {
    "collapsed": false,
    "pycharm": {
     "name": "#%%\n"
    }
   }
  },
  {
   "cell_type": "markdown",
   "source": [
    "TYPE SEGMENT"
   ],
   "metadata": {
    "collapsed": false
   }
  },
  {
   "cell_type": "code",
   "execution_count": 201,
   "outputs": [],
   "source": [
    "# month['type_segment'] = month.segment.apply(lambda x: x.split(' - ')[1].split(' ')[0] if x.split(' - ')[1] not in ['Control', 'Treatment $300'] else ('C' if x.split(' - ')[1] == 'Control' else 'T'))\n",
    "# month['type_segment'] = month.segment.apply(lambda x: x.split(' - ')[1].split(' ')[1] if len(x.split(' - ')) > 1 else ('C' if x.split(' ')[2] == 'control' else 'T'))\n",
    "# month['type_segment'] = month.segment.apply(lambda x: (x.split(' - ')[1].split(' ')[1] if x.split(' - ')[1].split(' ')[1] in ['C','T'] else 'T') if len(x.split(' - ')) > 1 else ('C' if x.split(' ')[2] == 'control' else 'T'))\n",
    "month['type_segment'] = month.segment.apply(lambda x: 'C' if x.split(' - ')[1] in ['contr', 'control'] else 'T')"
   ],
   "metadata": {
    "collapsed": false,
    "pycharm": {
     "name": "#%%\n"
    }
   }
  },
  {
   "cell_type": "code",
   "execution_count": 202,
   "outputs": [
    {
     "data": {
      "text/plain": "T    477950\nC     53058\nName: type_segment, dtype: int64"
     },
     "execution_count": 202,
     "metadata": {},
     "output_type": "execute_result"
    }
   ],
   "source": [
    "month.type_segment.value_counts()"
   ],
   "metadata": {
    "collapsed": false,
    "pycharm": {
     "name": "#%%\n"
    }
   }
  },
  {
   "cell_type": "code",
   "execution_count": 203,
   "outputs": [
    {
     "data": {
      "text/plain": "                                 user_id                 segment Payment  \\\n0   75795a6d-78d2-4730-907f-f94bed06561a  CSU+1T no 1P - control     NaN   \n1   1f956253-dddc-46db-903c-c11fbe7c6076  CSU+1T no 1P - control     NaN   \n2   02735387-2b8b-41ca-8313-75f6b5409e9a  CSU+1T no 1P - control     NaN   \n3   d544f5a2-73da-4f26-834b-fde0c87c5a23  CSU+1T no 1P - control     NaN   \n4   ce1580fb-d139-4703-80eb-c5f727bb3d69  CSU+1T no 1P - control     NaN   \n5   8899e6f4-a633-4f72-8909-4b2b994fbf07  CSU+1T no 1P - control     NaN   \n6   99b2c776-d6b8-4d60-bdaf-ec5c02349bb5  CSU+1T no 1P - control     NaN   \n7   4a0d8338-3c64-4be6-b19c-58290ac3a2ee  CSU+1T no 1P - control     NaN   \n8   ddcbe2c5-7f2d-4acd-a34e-8b6bb6fdd100  CSU+1T no 1P - control     NaN   \n9   a47fec81-2e13-445a-a206-80f019ecaafe  CSU+1T no 1P - control     NaN   \n10  1e2dda8b-310b-41a3-bb85-524199f47ded  CSU+1T no 1P - control     NaN   \n11  6b87533c-4ef7-4475-bc98-824e5832b6d1  CSU+1T no 1P - control     NaN   \n12  15705d29-0177-4e09-93ff-5b55d3fef99f  CSU+1T no 1P - control     NaN   \n13  f0b0be9b-893c-4102-8d80-d27cc3497f9a  CSU+1T no 1P - control     NaN   \n14  c1b5e553-6afc-4d05-839e-ee950105b4e6  CSU+1T no 1P - control     NaN   \n15  7715addf-2b79-491a-b69a-0daf141ff56f  CSU+1T no 1P - control     NaN   \n16  95acbd93-8a74-45a6-bc7e-92d901db43f6  CSU+1T no 1P - control     NaN   \n17  a5a97076-9042-4535-908a-5a32671ee924  CSU+1T no 1P - control     NaN   \n18  dda79fde-04e1-464d-94a4-5a2526fd0efb  CSU+1T no 1P - control     NaN   \n19  2dae9d06-796f-495b-98f7-08cc3689531f  CSU+1T no 1P - control     NaN   \n\n          month principal_segment sub_segment type_segment  \n0   October2021    CSU + 1T no 1P        <NA>            C  \n1   October2021    CSU + 1T no 1P        <NA>            C  \n2   October2021    CSU + 1T no 1P        <NA>            C  \n3   October2021    CSU + 1T no 1P        <NA>            C  \n4   October2021    CSU + 1T no 1P        <NA>            C  \n5   October2021    CSU + 1T no 1P        <NA>            C  \n6   October2021    CSU + 1T no 1P        <NA>            C  \n7   October2021    CSU + 1T no 1P        <NA>            C  \n8   October2021    CSU + 1T no 1P        <NA>            C  \n9   October2021    CSU + 1T no 1P        <NA>            C  \n10  October2021    CSU + 1T no 1P        <NA>            C  \n11  October2021    CSU + 1T no 1P        <NA>            C  \n12  October2021    CSU + 1T no 1P        <NA>            C  \n13  October2021    CSU + 1T no 1P        <NA>            C  \n14  October2021    CSU + 1T no 1P        <NA>            C  \n15  October2021    CSU + 1T no 1P        <NA>            C  \n16  October2021    CSU + 1T no 1P        <NA>            C  \n17  October2021    CSU + 1T no 1P        <NA>            C  \n18  October2021    CSU + 1T no 1P        <NA>            C  \n19  October2021    CSU + 1T no 1P        <NA>            C  ",
      "text/html": "<div>\n<style scoped>\n    .dataframe tbody tr th:only-of-type {\n        vertical-align: middle;\n    }\n\n    .dataframe tbody tr th {\n        vertical-align: top;\n    }\n\n    .dataframe thead th {\n        text-align: right;\n    }\n</style>\n<table border=\"1\" class=\"dataframe\">\n  <thead>\n    <tr style=\"text-align: right;\">\n      <th></th>\n      <th>user_id</th>\n      <th>segment</th>\n      <th>Payment</th>\n      <th>month</th>\n      <th>principal_segment</th>\n      <th>sub_segment</th>\n      <th>type_segment</th>\n    </tr>\n  </thead>\n  <tbody>\n    <tr>\n      <th>0</th>\n      <td>75795a6d-78d2-4730-907f-f94bed06561a</td>\n      <td>CSU+1T no 1P - control</td>\n      <td>NaN</td>\n      <td>October2021</td>\n      <td>CSU + 1T no 1P</td>\n      <td>&lt;NA&gt;</td>\n      <td>C</td>\n    </tr>\n    <tr>\n      <th>1</th>\n      <td>1f956253-dddc-46db-903c-c11fbe7c6076</td>\n      <td>CSU+1T no 1P - control</td>\n      <td>NaN</td>\n      <td>October2021</td>\n      <td>CSU + 1T no 1P</td>\n      <td>&lt;NA&gt;</td>\n      <td>C</td>\n    </tr>\n    <tr>\n      <th>2</th>\n      <td>02735387-2b8b-41ca-8313-75f6b5409e9a</td>\n      <td>CSU+1T no 1P - control</td>\n      <td>NaN</td>\n      <td>October2021</td>\n      <td>CSU + 1T no 1P</td>\n      <td>&lt;NA&gt;</td>\n      <td>C</td>\n    </tr>\n    <tr>\n      <th>3</th>\n      <td>d544f5a2-73da-4f26-834b-fde0c87c5a23</td>\n      <td>CSU+1T no 1P - control</td>\n      <td>NaN</td>\n      <td>October2021</td>\n      <td>CSU + 1T no 1P</td>\n      <td>&lt;NA&gt;</td>\n      <td>C</td>\n    </tr>\n    <tr>\n      <th>4</th>\n      <td>ce1580fb-d139-4703-80eb-c5f727bb3d69</td>\n      <td>CSU+1T no 1P - control</td>\n      <td>NaN</td>\n      <td>October2021</td>\n      <td>CSU + 1T no 1P</td>\n      <td>&lt;NA&gt;</td>\n      <td>C</td>\n    </tr>\n    <tr>\n      <th>5</th>\n      <td>8899e6f4-a633-4f72-8909-4b2b994fbf07</td>\n      <td>CSU+1T no 1P - control</td>\n      <td>NaN</td>\n      <td>October2021</td>\n      <td>CSU + 1T no 1P</td>\n      <td>&lt;NA&gt;</td>\n      <td>C</td>\n    </tr>\n    <tr>\n      <th>6</th>\n      <td>99b2c776-d6b8-4d60-bdaf-ec5c02349bb5</td>\n      <td>CSU+1T no 1P - control</td>\n      <td>NaN</td>\n      <td>October2021</td>\n      <td>CSU + 1T no 1P</td>\n      <td>&lt;NA&gt;</td>\n      <td>C</td>\n    </tr>\n    <tr>\n      <th>7</th>\n      <td>4a0d8338-3c64-4be6-b19c-58290ac3a2ee</td>\n      <td>CSU+1T no 1P - control</td>\n      <td>NaN</td>\n      <td>October2021</td>\n      <td>CSU + 1T no 1P</td>\n      <td>&lt;NA&gt;</td>\n      <td>C</td>\n    </tr>\n    <tr>\n      <th>8</th>\n      <td>ddcbe2c5-7f2d-4acd-a34e-8b6bb6fdd100</td>\n      <td>CSU+1T no 1P - control</td>\n      <td>NaN</td>\n      <td>October2021</td>\n      <td>CSU + 1T no 1P</td>\n      <td>&lt;NA&gt;</td>\n      <td>C</td>\n    </tr>\n    <tr>\n      <th>9</th>\n      <td>a47fec81-2e13-445a-a206-80f019ecaafe</td>\n      <td>CSU+1T no 1P - control</td>\n      <td>NaN</td>\n      <td>October2021</td>\n      <td>CSU + 1T no 1P</td>\n      <td>&lt;NA&gt;</td>\n      <td>C</td>\n    </tr>\n    <tr>\n      <th>10</th>\n      <td>1e2dda8b-310b-41a3-bb85-524199f47ded</td>\n      <td>CSU+1T no 1P - control</td>\n      <td>NaN</td>\n      <td>October2021</td>\n      <td>CSU + 1T no 1P</td>\n      <td>&lt;NA&gt;</td>\n      <td>C</td>\n    </tr>\n    <tr>\n      <th>11</th>\n      <td>6b87533c-4ef7-4475-bc98-824e5832b6d1</td>\n      <td>CSU+1T no 1P - control</td>\n      <td>NaN</td>\n      <td>October2021</td>\n      <td>CSU + 1T no 1P</td>\n      <td>&lt;NA&gt;</td>\n      <td>C</td>\n    </tr>\n    <tr>\n      <th>12</th>\n      <td>15705d29-0177-4e09-93ff-5b55d3fef99f</td>\n      <td>CSU+1T no 1P - control</td>\n      <td>NaN</td>\n      <td>October2021</td>\n      <td>CSU + 1T no 1P</td>\n      <td>&lt;NA&gt;</td>\n      <td>C</td>\n    </tr>\n    <tr>\n      <th>13</th>\n      <td>f0b0be9b-893c-4102-8d80-d27cc3497f9a</td>\n      <td>CSU+1T no 1P - control</td>\n      <td>NaN</td>\n      <td>October2021</td>\n      <td>CSU + 1T no 1P</td>\n      <td>&lt;NA&gt;</td>\n      <td>C</td>\n    </tr>\n    <tr>\n      <th>14</th>\n      <td>c1b5e553-6afc-4d05-839e-ee950105b4e6</td>\n      <td>CSU+1T no 1P - control</td>\n      <td>NaN</td>\n      <td>October2021</td>\n      <td>CSU + 1T no 1P</td>\n      <td>&lt;NA&gt;</td>\n      <td>C</td>\n    </tr>\n    <tr>\n      <th>15</th>\n      <td>7715addf-2b79-491a-b69a-0daf141ff56f</td>\n      <td>CSU+1T no 1P - control</td>\n      <td>NaN</td>\n      <td>October2021</td>\n      <td>CSU + 1T no 1P</td>\n      <td>&lt;NA&gt;</td>\n      <td>C</td>\n    </tr>\n    <tr>\n      <th>16</th>\n      <td>95acbd93-8a74-45a6-bc7e-92d901db43f6</td>\n      <td>CSU+1T no 1P - control</td>\n      <td>NaN</td>\n      <td>October2021</td>\n      <td>CSU + 1T no 1P</td>\n      <td>&lt;NA&gt;</td>\n      <td>C</td>\n    </tr>\n    <tr>\n      <th>17</th>\n      <td>a5a97076-9042-4535-908a-5a32671ee924</td>\n      <td>CSU+1T no 1P - control</td>\n      <td>NaN</td>\n      <td>October2021</td>\n      <td>CSU + 1T no 1P</td>\n      <td>&lt;NA&gt;</td>\n      <td>C</td>\n    </tr>\n    <tr>\n      <th>18</th>\n      <td>dda79fde-04e1-464d-94a4-5a2526fd0efb</td>\n      <td>CSU+1T no 1P - control</td>\n      <td>NaN</td>\n      <td>October2021</td>\n      <td>CSU + 1T no 1P</td>\n      <td>&lt;NA&gt;</td>\n      <td>C</td>\n    </tr>\n    <tr>\n      <th>19</th>\n      <td>2dae9d06-796f-495b-98f7-08cc3689531f</td>\n      <td>CSU+1T no 1P - control</td>\n      <td>NaN</td>\n      <td>October2021</td>\n      <td>CSU + 1T no 1P</td>\n      <td>&lt;NA&gt;</td>\n      <td>C</td>\n    </tr>\n  </tbody>\n</table>\n</div>"
     },
     "execution_count": 203,
     "metadata": {},
     "output_type": "execute_result"
    }
   ],
   "source": [
    "month.head(20)"
   ],
   "metadata": {
    "collapsed": false,
    "pycharm": {
     "name": "#%%\n"
    }
   }
  },
  {
   "cell_type": "code",
   "execution_count": 204,
   "outputs": [],
   "source": [
    "\n",
    "month.to_pickle('./Data/' + pickles[i])\n",
    "\n"
   ],
   "metadata": {
    "collapsed": false,
    "pycharm": {
     "name": "#%%\n"
    }
   }
  }
 ],
 "metadata": {
  "kernelspec": {
   "display_name": "Python 3",
   "language": "python",
   "name": "python3"
  },
  "language_info": {
   "codemirror_mode": {
    "name": "ipython",
    "version": 2
   },
   "file_extension": ".py",
   "mimetype": "text/x-python",
   "name": "python",
   "nbconvert_exporter": "python",
   "pygments_lexer": "ipython2",
   "version": "2.7.6"
  }
 },
 "nbformat": 4,
 "nbformat_minor": 0
}